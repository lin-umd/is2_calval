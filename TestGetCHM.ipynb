{
 "cells": [
  {
   "cell_type": "code",
   "execution_count": 1,
   "id": "abb8588c-bfae-4d25-83f9-d9b8774590b5",
   "metadata": {},
   "outputs": [
    {
     "name": "stdout",
     "output_type": "stream",
     "text": [
      "3650\n",
      "Total als site names: 511\n",
      "Example folder name: /gpfs/data1/vclgp/data/gedi/imported/asia/nagano_japan_full/\n"
     ]
    }
   ],
   "source": [
    "# guide to generate CHM from lastools.\n",
    "# http://wiki.awf.forst.uni-goettingen.de/wiki/index.php/Canopy_Height_Model_based_on_Airborne_Laserscanning_using_LAStools\n",
    "# \n",
    "# get all sites \n",
    "import glob\n",
    "# Define the path\n",
    "path = '/gpfs/data1/vclgp/data/gedi/imported/*/*/'\n",
    "# Get folder names\n",
    "folder_names = glob.glob(path)\n",
    "print(len(folder_names))\n",
    "# Filter out folders containing 'clipped'\n",
    "folder_sites = [n for n in folder_names if 'clipped' not in n]\n",
    "print(\"Total als site names:\", len(folder_sites))\n",
    "print(\"Example folder name:\", folder_sites[1])"
   ]
  },
  {
   "cell_type": "code",
   "execution_count": 28,
   "id": "aa90d1ef-0018-4349-af90-ae830c3a24e9",
   "metadata": {},
   "outputs": [
    {
     "data": {
      "text/plain": [
       "'/gpfs/data1/vclgp/data/gedi/imported/usa/plumasnf_20180707/LAZ_ground/plumasnf_20180707_-108000_191000_seamless_0000000.laz'"
      ]
     },
     "execution_count": 28,
     "metadata": {},
     "output_type": "execute_result"
    }
   ],
   "source": [
    "# example site \n",
    "all_laz = glob.glob('/gpfs/data1/vclgp/data/gedi/imported/usa/plumasnf_20180707/LAZ_ground/*.laz')\n",
    "all_laz[3]"
   ]
  },
  {
   "cell_type": "code",
   "execution_count": 29,
   "id": "49b51a81-952a-42af-b2a9-3e5d5757101e",
   "metadata": {},
   "outputs": [],
   "source": [
    "# laz to las file \n",
    "# \n",
    "import os\n",
    "laz_path = all_laz[3]\n",
    "region = laz_path.split('/')[7]\n",
    "name = laz_path.split('/')[8]\n",
    "las_out = '/gpfs/data1/vclgp/xiongl/ProjectIS2CalVal/data/las/' + region + '/' + name"
   ]
  },
  {
   "cell_type": "code",
   "execution_count": 6,
   "id": "02bdc547-c836-474c-82cd-a6edb2220e8c",
   "metadata": {},
   "outputs": [
    {
     "data": {
      "text/plain": [
       "'/gpfs/data1/vclgp/xiongl/ProjectIS2CalVal/data/las/usa/plumasnf_20180707'"
      ]
     },
     "execution_count": 6,
     "metadata": {},
     "output_type": "execute_result"
    }
   ],
   "source": [
    "os.system(f'wine $LASTOOLS/las2las.exe -i {laz_path} -odir {las_out} -olas')"
   ]
  },
  {
   "cell_type": "code",
   "execution_count": 30,
   "id": "865960d8-d7e3-41c9-ab80-02804de9b477",
   "metadata": {},
   "outputs": [
    {
     "data": {
      "text/plain": [
       "'/gpfs/data1/vclgp/xiongl/ProjectIS2CalVal/data/las_norm/usa/plumasnf_20180707'"
      ]
     },
     "execution_count": 30,
     "metadata": {},
     "output_type": "execute_result"
    }
   ],
   "source": [
    "norm_out = las_out.replace('/las/', '/las_norm/')\n",
    "norm_out"
   ]
  },
  {
   "cell_type": "code",
   "execution_count": 10,
   "id": "7646142e-ece5-4758-93bf-5c2649d18a97",
   "metadata": {},
   "outputs": [],
   "source": [
    "os.makedirs(norm_out, exist_ok=True)"
   ]
  },
  {
   "cell_type": "code",
   "execution_count": 12,
   "id": "e9f37e8f-dc65-4588-9b4c-d7cd3b82f4b5",
   "metadata": {},
   "outputs": [
    {
     "name": "stderr",
     "output_type": "stream",
     "text": [
      "WARNING: your license will expire in 3 days.\n",
      "done with '/gpfs/data1/vclgp/xiongl/ProjectIS2CalVal/data/las_norm/usa/plumasnf_20180707\\plumasnf_20180707_-52000_198000_seamless_0000000.laz'. total time 23.352 sec.\n"
     ]
    },
    {
     "data": {
      "text/plain": [
       "0"
      ]
     },
     "execution_count": 12,
     "metadata": {},
     "output_type": "execute_result"
    }
   ],
   "source": [
    "os.system(f'wine $LASTOOLS/lasheight.exe -drop_above 150 -drop_below -3  -replace_z -i {las_out}/*.las -odir {norm_out} -olaz')"
   ]
  },
  {
   "cell_type": "code",
   "execution_count": 31,
   "id": "4a6d9539-0ac4-432f-b0ee-6e3a916ae34c",
   "metadata": {},
   "outputs": [
    {
     "name": "stderr",
     "output_type": "stream",
     "text": [
      "WARNING: your license will expire in 3 days.\n",
      "first pass. reading 10276461 points to count ground points ... \n",
      "took 4.636 sec. counted 2539352 ground points.\n",
      "second pass. triangulating 2539352 ground points ...\n",
      "took 8.863 sec. triangulated 2539352 points.\n",
      "third pass. computing heights for 7737109 points ...\n",
      "dropped 26  of 10276461 points\n",
      "done with '/gpfs/data1/vclgp/xiongl/ProjectIS2CalVal/data/las_norm/usa/plumasnf_20180707\\plumasnf_20180707_-108000_191000_seamless_0000000.laz'. total time 28.562 sec.\n"
     ]
    },
    {
     "data": {
      "text/plain": [
       "0"
      ]
     },
     "execution_count": 31,
     "metadata": {},
     "output_type": "execute_result"
    }
   ],
   "source": [
    "# direclty read \n",
    "os.system(f'wine $LASTOOLS/lasheight.exe -drop_above 150 -drop_below -3  -replace_z -i {all_laz[3]} -odir {norm_out} -olaz -v')"
   ]
  },
  {
   "cell_type": "code",
   "execution_count": 13,
   "id": "921a2a5b-20d0-4899-a6d4-d7ba7ca3cf2e",
   "metadata": {},
   "outputs": [],
   "source": [
    "chm_path = '/gpfs/data1/vclgp/xiongl/ProjectIS2CalVal/result_chm/' + region + '/' + name\n",
    "os.makedirs(chm_path, exist_ok=True)"
   ]
  },
  {
   "cell_type": "code",
   "execution_count": 32,
   "id": "c89d971d-f75d-4065-9dbc-6ef4d23febfb",
   "metadata": {},
   "outputs": [
    {
     "name": "stderr",
     "output_type": "stream",
     "text": [
      "duplicate_points 19285\n",
      "duplicate_points 24659\n",
      "WARNING: your license will expire in 3 days.\n"
     ]
    },
    {
     "data": {
      "text/plain": [
       "0"
      ]
     },
     "execution_count": 32,
     "metadata": {},
     "output_type": "execute_result"
    }
   ],
   "source": [
    "# get dem \n",
    "os.system(f'wine $LASTOOLS/blast2dem.exe  -i {norm_out}/*.laz -odir {chm_path} -otif ')"
   ]
  },
  {
   "cell_type": "code",
   "execution_count": 139,
   "id": "e40935f8-d2e3-4cd6-a5a2-fa831088307a",
   "metadata": {},
   "outputs": [
    {
     "name": "stdout",
     "output_type": "stream",
     "text": [
      "13182\n"
     ]
    }
   ],
   "source": [
    "# plot chm\n",
    "tif= glob.glob(chm_path+ '/*.tif')\n",
    "print(len(tif))"
   ]
  },
  {
   "cell_type": "code",
   "execution_count": null,
   "id": "3b3fb88e-3cfd-46d2-93d5-53d2193d4465",
   "metadata": {},
   "outputs": [],
   "source": []
  },
  {
   "cell_type": "code",
   "execution_count": 143,
   "id": "f1b3d107-d820-4ec9-bdeb-1a92190db8f0",
   "metadata": {
    "scrolled": true
   },
   "outputs": [],
   "source": [
    "# remove bad tifs. \n",
    "bad = []\n",
    "for t in tif:\n",
    "    size_in_bytes = os.path.getsize(t)\n",
    "    # Convert bytes to kilobytes\n",
    "    size_in_kb  = size_in_bytes / 1024\n",
    "    if size_in_kb < 1:\n",
    "        #print(t)\n",
    "        bad.append(t)\n",
    "        os.remove(t)"
   ]
  },
  {
   "cell_type": "code",
   "execution_count": 142,
   "id": "bc43206b-e2c0-45ab-a0db-8e5afe6be414",
   "metadata": {},
   "outputs": [
    {
     "name": "stdout",
     "output_type": "stream",
     "text": [
      "2295\n"
     ]
    },
    {
     "data": {
      "text/plain": [
       "'/gpfs/data1/vclgp/xiongl/ProjectIS2CalVal/result_chm/usa/plumasnf_20180707/plumasnf_20180707_-28000_205000_seamless_0000002.tif'"
      ]
     },
     "execution_count": 142,
     "metadata": {},
     "output_type": "execute_result"
    }
   ],
   "source": [
    "print(len(bad))\n",
    "bad[1]"
   ]
  },
  {
   "cell_type": "code",
   "execution_count": 153,
   "id": "dfc24ff4-5ebc-4072-bc3c-07b781d73214",
   "metadata": {},
   "outputs": [
    {
     "name": "stdout",
     "output_type": "stream",
     "text": [
      "file /gpfs/data1/vclgp/xiongl/ProjectIS2CalVal/result/chm_v1/plumasnf_20180707_wgs84.tif, p5 0.0 , p95 20.364999294281006\n"
     ]
    },
    {
     "data": {
      "image/png": "[encoded data removed]",
      "text/plain": [
       "<Figure size 800x400 with 2 Axes>"
      ]
     },
     "metadata": {},
     "output_type": "display_data"
    }
   ],
   "source": [
    "import rasterio\n",
    "import numpy as np\n",
    "import matplotlib.pyplot as plt\n",
    "c= tif[2010]\n",
    "c= '/gpfs/data1/vclgp/xiongl/ProjectIS2CalVal/result/chm_v1/plumasnf_20180707_wgs84.tif'\n",
    "dataset = rasterio.open(c)\n",
    "band1 = dataset.read(1)\n",
    "data = band1[~np.isnan(band1)]\n",
    "data = data[data != -9999]\n",
    "if len(data) < 1: \n",
    "    print('No data in this file', c)\n",
    "p5 = np.percentile(data, 5)\n",
    "p95 = np.percentile(data, 95)\n",
    "print(f'file {c}, p5 {p5} , p95 {p95}')\n",
    "plt.figure(figsize=(8, 4))  # Adjust the width and height as desired\n",
    "plt.imshow(band1, cmap='rainbow' , vmin = 0, vmax = 35)\n",
    "cbar = plt.colorbar(fraction=0.022, pad=0.04)\n",
    "plt.show()"
   ]
  },
  {
   "cell_type": "code",
   "execution_count": null,
   "id": "684fa653-059e-4adc-a73f-da8eb34d98d9",
   "metadata": {},
   "outputs": [],
   "source": []
  },
  {
   "cell_type": "markdown",
   "id": "0328ca5b-a286-4e23-923c-4b9f8584adf9",
   "metadata": {},
   "source": [
    "# get 1km tiles list"
   ]
  },
  {
   "cell_type": "code",
   "execution_count": 2,
   "id": "5e7cc599-c832-412d-9554-9819bf1974d4",
   "metadata": {},
   "outputs": [],
   "source": [
    "import os\n",
    "os.environ['USE_PYGEOS'] = '0'\n",
    "import geopandas"
   ]
  },
  {
   "cell_type": "code",
   "execution_count": 4,
   "id": "05f9fd34-51dc-4048-9e33-61440e2cb2f7",
   "metadata": {},
   "outputs": [
    {
     "name": "stdout",
     "output_type": "stream",
     "text": [
      "       region           name     area_ha   epsg  \\\n",
      "0         usa        usda_me   39.509840  26919   \n",
      "1         usa        usda_me   74.565161  26919   \n",
      "2         usa        usda_me   33.698329  26919   \n",
      "3         usa        usda_me   59.362166  26919   \n",
      "4         usa        usda_me   25.889235  26919   \n",
      "...       ...            ...         ...    ...   \n",
      "353703    usa  neon_niwo2019  919.415684  32613   \n",
      "353704    usa  neon_niwo2019  195.803013  32613   \n",
      "353705    usa  neon_niwo2019   12.865431  32613   \n",
      "353706    usa  neon_niwo2019  790.140257  32613   \n",
      "353707    usa  neon_niwo2019  358.981628  32613   \n",
      "\n",
      "                                                 geometry  \\\n",
      "0       POLYGON ((-69.91152 46.61153, -69.90748 46.611...   \n",
      "1       POLYGON ((-69.25080 46.05870, -69.24307 46.058...   \n",
      "2       POLYGON ((-69.38241 46.02053, -69.37891 46.020...   \n",
      "3       POLYGON ((-69.31656 45.60490, -69.31036 45.604...   \n",
      "4       POLYGON ((-70.22245 45.79862, -70.21976 45.798...   \n",
      "...                                                   ...   \n",
      "353703  POLYGON ((-105.60839 39.99417, -105.59331 39.9...   \n",
      "353704  POLYGON ((-105.51874 40.01304, -105.50603 40.0...   \n",
      "353705  POLYGON ((-105.54652 40.07922, -105.53920 40.0...   \n",
      "353706  POLYGON ((-105.61182 39.98177, -105.59620 39.9...   \n",
      "353707  POLYGON ((-105.58341 40.01315, -105.57162 40.0...   \n",
      "\n",
      "                                                     file  \n",
      "0                            usa_usda_me_me_47_43.parquet  \n",
      "1                           usa_usda_me_me_91_146.parquet  \n",
      "2                           usa_usda_me_me_84_153.parquet  \n",
      "3                           usa_usda_me_me_87_230.parquet  \n",
      "4                           usa_usda_me_me_29_193.parquet  \n",
      "...                                                   ...  \n",
      "353703  usa_neon_niwo2019_NEON_D13_NIWO_DP1_L017-1_201...  \n",
      "353704  usa_neon_niwo2019_NEON_D13_NIWO_DP1_L045-1_201...  \n",
      "353705  usa_neon_niwo2019_NEON_D13_NIWO_DP1_L035-1_201...  \n",
      "353706  usa_neon_niwo2019_NEON_D13_NIWO_DP1_L016-1_201...  \n",
      "353707  usa_neon_niwo2019_NEON_D13_NIWO_DP1_L025-1_201...  \n",
      "\n",
      "[353708 rows x 6 columns]\n"
     ]
    }
   ],
   "source": [
    "gdf = geopandas.read_parquet('../data/all_sites_20240703.parquet')\n",
    "print(gdf)"
   ]
  },
  {
   "cell_type": "code",
   "execution_count": null,
   "id": "7cbfbe3e-298a-4ecb-9c17-75dc79362b83",
   "metadata": {},
   "outputs": [],
   "source": []
  }
 ],
 "metadata": {
  "kernelspec": {
   "display_name": "Python 3 (ipykernel)",
   "language": "python",
   "name": "python3"
  },
  "language_info": {
   "codemirror_mode": {
    "name": "ipython",
    "version": 3
   },
   "file_extension": ".py",
   "mimetype": "text/x-python",
   "name": "python",
   "nbconvert_exporter": "python",
   "pygments_lexer": "ipython3",
   "version": "3.11.4"
  }
 },
 "nbformat": 4,
 "nbformat_minor": 5
}
