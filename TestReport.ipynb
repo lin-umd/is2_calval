{
 "cells": [
  {
   "cell_type": "code",
   "execution_count": 26,
   "id": "5869ba62-01b9-4911-a8dd-bc7e09707c63",
   "metadata": {},
   "outputs": [],
   "source": [
    "from PIL import Image, ImageDraw, ImageFont\n",
    "from reportlab.pdfgen import canvas\n",
    "\n",
    "def image_2_pdf(image_path, output_pdf_path, text):\n",
    "    # Open the JPEG image\n",
    "    image = Image.open(image_path)\n",
    "\n",
    "    # Create a drawing object\n",
    "    draw = ImageDraw.Draw(image)\n",
    "  \n",
    "    font_color = (0, 0, 255)  # white color\n",
    "    myFont = ImageFont.truetype('FreeMono.ttf', 80)\n",
    "    # Add text to the image\n",
    "    draw.text((1000, 80), text, font= myFont, fill=font_color)\n",
    "    # Save the modified image\n",
    "    image.save('/gpfs/data1/vclgp/xiongl/ProjectIS2CalVal/result/is2_calval_metrics/tmp.jpeg')\n",
    "    # Create a PDF file\n",
    "    pdf = canvas.Canvas(output_pdf_path)\n",
    "    # Set the PDF dimensions based on the image size\n",
    "    pdf.setPageSize((image.width, image.height))\n",
    "\n",
    "    # Draw the image on the PDF\n",
    "    pdf.drawInlineImage('/gpfs/data1/vclgp/xiongl/ProjectIS2CalVal/result/is2_calval_metrics/tmp.jpeg', 0, 0, width=image.width, height=image.height)\n",
    "\n",
    "    # Save the PDF\n",
    "    pdf.save()"
   ]
  },
  {
   "cell_type": "code",
   "execution_count": 18,
   "id": "17a99139-b3c6-415b-b2c4-093db23fe141",
   "metadata": {},
   "outputs": [],
   "source": [
    "import glob\n",
    "import os"
   ]
  },
  {
   "cell_type": "code",
   "execution_count": 27,
   "id": "3899d0d3-db1f-4584-8a7e-eb5e9e0c7f8f",
   "metadata": {},
   "outputs": [],
   "source": [
    "if __name__ == \"__main__\":\n",
    "    # Specify the input JPEG file, output image file, output PDF file, and text to be added\n",
    "    images = glob.glob('/gpfs/data1/vclgp/xiongl/ProjectIS2CalVal/result/is2_calval_metrics/*.jpeg')\n",
    "    for image in images:\n",
    "        output_pdf_path = image[:-4] + 'pdf'\n",
    "        text_to_add = os.path.basename(image)[:-5]\n",
    "        image_2_pdf(image, output_pdf_path, text_to_add)\n",
    "        #print(f\"Conversion complete. PDF saved to {output_pdf_path}\")"
   ]
  },
  {
   "cell_type": "code",
   "execution_count": 1,
   "id": "a22ce54f-782e-4fc2-b6bc-1012e26c7c0c",
   "metadata": {},
   "outputs": [
    {
     "data": {
      "text/plain": [
       "144"
      ]
     },
     "execution_count": 1,
     "metadata": {},
     "output_type": "execute_result"
    }
   ],
   "source": [
    "VALID_SITES = ['amani','csir_agincourt', 'csir_dnyala', 'csir_ireagh', 'csir_justicia', 'csir_venetia', 'csir_welverdient', 'drc_ghent_field_32635', \n",
    "               'drc_ghent_field_32733', 'drc_ghent_field_32734', 'gsfc_mozambique', 'jpl_lope', 'jpl_rabi', 'tanzania_wwf_germany', 'khaoyai_thailand', \n",
    "               'chowilla', 'credo', 'karawatha', 'litchfield', 'rushworth_forests', 'tern_alice_mulga', 'tern_robson_whole', 'costarica_laselva2019', \n",
    "               'skidmore_bayerischer', 'zofin_180607', 'spain_exts1', 'spain_exts2', 'spain_exts3', 'spain_exts4', 'spain_leonposada', 'spain_leon1', \n",
    "               'spain_leon2', 'spain_leon3', 'jpl_borneo_004', 'jpl_borneo_013', 'jpl_borneo_040', 'jpl_borneo_119', 'jpl_borneo_144', 'chave_paracou', \n",
    "               'embrapa_brazil_2020_and_a01', 'embrapa_brazil_2020_bon_a01', 'embrapa_brazil_2020_cau_a01', 'embrapa_brazil_2020_duc_a01', \n",
    "               'embrapa_brazil_2020_hum_a01', 'embrapa_brazil_2020_par_a01', 'embrapa_brazil_2020_rib_a01', 'embrapa_brazil_2020_tal_a01',\n",
    "               'embrapa_brazil_2020_tan_a01', 'embrapa_brazil_2020_tap_a01', 'embrapa_brazil_2020_tap_a04', 'walkerfire_20191007', \n",
    "               'neon_abby2018', 'neon_abby2019', 'neon_abby2021', 'neon_bart2018', 'neon_bart2019', 'neon_blan2019', 'neon_blan2021', \n",
    "               'neon_clbj2018', 'neon_clbj2019', 'neon_clbj2021', 'neon_clbj2021', 'neon_dela2018', 'neon_dela2019', 'neon_dela2021', \n",
    "               'neon_dsny2018', 'neon_dsny2021', 'neon_grsm2018', 'neon_grsm2021', 'neon_guan2018', 'neon_harv2018', 'neon_harv2019', \n",
    "               'neon_jerc2019', 'neon_jerc2021', 'neon_jorn2018', 'neon_jorn2019', 'neon_jorn2021', 'neon_konz2019', 'neon_konz2020', \n",
    "               'neon_leno2018', 'neon_leno2019', 'neon_leno2021', 'neon_mlbs2018', 'neon_mlbs2021', 'neon_moab2018', 'neon_moab2021', \n",
    "               'neon_niwo2019', 'neon_niwo2020', 'neon_nogp2021', 'neon_onaq2019', 'neon_onaq2021', 'neon_osbs2018', 'neon_osbs2019', \n",
    "               'neon_osbs2021', 'neon_puum2020', 'neon_rmnp2018', 'neon_rmnp2020', 'neon_scbi2019', 'neon_scbi2021', 'neon_serc2019', \n",
    "               'neon_serc2021', 'neon_sjer2019', 'neon_soap2018', 'neon_soap2019', 'neon_soap2021', 'neon_srer2019', 'neon_srer2021', \n",
    "               'neon_stei2019', 'neon_stei2020', 'neon_ster2021', 'neon_tall2018', 'neon_tall2019', 'neon_tall2021', 'neon_teak2021', \n",
    "               'neon_ukfs2018', 'neon_ukfs2019', 'neon_ukfs2020', 'neon_unde2019', 'neon_unde2020', 'neon_wood2021', 'neon_wref2019', \n",
    "               'neon_wref2021', 'neon_yell2018', 'neon_yell2019', 'neon_yell2020', \n",
    "               'neon_blan2022', 'neon_clbj2022', 'neon_grsm2022', 'neon_moab2022', 'neon_onaq2022', 'neon_rmnp2022', 'neon_serc2022', \n",
    "               'neon_stei2022', 'neon_steicheq2022', 'neon_ster2022', 'neon_unde2022', 'inpe_brazil31983', 'inpe_brazil31981', \n",
    "               'inpe_brazil31979', 'inpe_brazil31976', 'inpe_brazil31975', 'inpe_brazil31973', 'inpe_brazil31974', 'inpe_brazil31978']\n",
    "len(VALID_SITES)"
   ]
  },
  {
   "cell_type": "code",
   "execution_count": 6,
   "id": "de919568-e3ae-400b-9a69-ddc5b3ce3b6d",
   "metadata": {},
   "outputs": [
    {
     "data": {
      "text/plain": [
       "'africa_drc_ghent_field_32733'"
      ]
     },
     "execution_count": 6,
     "metadata": {},
     "output_type": "execute_result"
    }
   ],
   "source": [
    "# get result list \n",
    "import os\n",
    "folder_path = '/gpfs/data1/vclgp/xiongl/ProjectIS2CalVal/result/is2_calval_metrics'\n",
    "jpeg_files = [f for f in os.listdir(folder_path) if f.lower().endswith('.jpg') or f.lower().endswith('.jpeg')]\n",
    "jpeg_files [1][:-5]"
   ]
  },
  {
   "cell_type": "code",
   "execution_count": 7,
   "id": "87f49533-58e8-4bdc-b48b-c928175f7046",
   "metadata": {},
   "outputs": [],
   "source": [
    "res = []\n",
    "for site in VALID_SITES:\n",
    "    flag_done = 0\n",
    "    for f in jpeg_files:\n",
    "        if site in f:\n",
    "            flag_done = 1\n",
    "            break\n",
    "    if flag_done == 0:\n",
    "        res.append(site)"
   ]
  },
  {
   "cell_type": "code",
   "execution_count": 9,
   "id": "3f6112d0-f893-4118-aace-cca1b491c145",
   "metadata": {},
   "outputs": [
    {
     "name": "stdout",
     "output_type": "stream",
     "text": [
      "['amani', 'gsfc_mozambique', 'jpl_lope', 'tanzania_wwf_germany', 'khaoyai_thailand', 'zofin_180607', 'spain_exts1', 'spain_exts2', 'spain_exts3', 'spain_leon1', 'spain_leon2', 'embrapa_brazil_2020_and_a01', 'neon_bart2018', 'neon_bart2019', 'neon_blan2019', 'neon_blan2021', 'neon_scbi2019', 'neon_scbi2021', 'neon_unde2019', 'neon_blan2022', 'neon_clbj2022', 'neon_grsm2022', 'neon_moab2022', 'neon_onaq2022', 'neon_rmnp2022', 'neon_serc2022', 'neon_stei2022', 'neon_steicheq2022', 'neon_ster2022', 'neon_unde2022', 'inpe_brazil31983', 'inpe_brazil31981', 'inpe_brazil31979', 'inpe_brazil31976', 'inpe_brazil31975', 'inpe_brazil31973', 'inpe_brazil31974', 'inpe_brazil31978']\n"
     ]
    }
   ],
   "source": [
    "print(res)"
   ]
  },
  {
   "cell_type": "code",
   "execution_count": 11,
   "id": "f2da0ae6-ce14-4dc0-9088-6109f0ace9a6",
   "metadata": {},
   "outputs": [],
   "source": [
    "# check if in projected als sites \n",
    "\n",
    "folder_path = '/gpfs/data1/vclgp/xiongl/ProjectIS2CalVal/result/is2_projected_als'\n",
    "is2_project_files = [f for f in os.listdir(folder_path) ]"
   ]
  },
  {
   "cell_type": "code",
   "execution_count": 13,
   "id": "7bce0de0-b7cd-4685-850e-e136210329c5",
   "metadata": {},
   "outputs": [
    {
     "name": "stdout",
     "output_type": "stream",
     "text": [
      "africa_amani.parquet\n",
      "africa_gsfc_mozambique.parquet\n",
      "africa_jpl_lope.parquet\n",
      "africa_tanzania_wwf_germany.parquet\n",
      "asia_khaoyai_thailand.parquet\n",
      "europe_zofin_180607.parquet\n",
      "europe_spain_exts1.parquet\n",
      "europe_spain_exts2.parquet\n",
      "europe_spain_exts3.parquet\n",
      "europe_spain_leon1.parquet\n",
      "europe_spain_leon2.parquet\n",
      "southamerica_embrapa_brazil_2020_and_a01.parquet\n",
      "usa_neon_bart2018.parquet\n",
      "usa_neon_bart2019.parquet\n",
      "usa_neon_blan2019.parquet\n",
      "usa_neon_blan2021.parquet\n",
      "usa_neon_scbi2019.parquet\n",
      "usa_neon_scbi2021.parquet\n",
      "usa_neon_unde2019.parquet\n",
      "usa_neon_blan2022.parquet\n",
      "usa_neon_clbj2022.parquet\n",
      "usa_neon_grsm2022.parquet\n",
      "usa_neon_moab2022.parquet\n",
      "usa_neon_onaq2022.parquet\n",
      "usa_neon_rmnp2022.parquet\n",
      "usa_neon_serc2022.parquet\n",
      "usa_neon_stei2022.parquet\n",
      "usa_neon_steicheq2022.parquet\n",
      "usa_neon_ster2022.parquet\n",
      "usa_neon_unde2022.parquet\n",
      "southamerica_inpe_brazil31983.parquet\n",
      "southamerica_inpe_brazil31981.parquet\n",
      "southamerica_inpe_brazil31979.parquet\n",
      "southamerica_inpe_brazil31976.parquet\n",
      "southamerica_inpe_brazil31975.parquet\n",
      "southamerica_inpe_brazil31973.parquet\n",
      "southamerica_inpe_brazil31974.parquet\n",
      "southamerica_inpe_brazil31978.parquet\n"
     ]
    }
   ],
   "source": [
    "for site in res:\n",
    "    flag_have = 0\n",
    "    for f in is2_project_files:\n",
    "        if site in f:\n",
    "            print(f)\n",
    "            flag_have = 1\n",
    "            break\n",
    "    if flag_have == 0:\n",
    "        print(site)"
   ]
  },
  {
   "cell_type": "code",
   "execution_count": 14,
   "id": "12e671f1-1244-432a-b3f9-37b9ab36404c",
   "metadata": {},
   "outputs": [],
   "source": [
    "# check als extraction result \n",
    "# yes, it is right"
   ]
  },
  {
   "cell_type": "code",
   "execution_count": 15,
   "id": "c1e9da30-f5c6-45e5-b5ee-42ea4308164d",
   "metadata": {},
   "outputs": [],
   "source": [
    "# check als metrics \n",
    "import glob\n",
    "files = glob.glob('/gpfs/data1/vclgp/xiongl/ProjectIS2CalVal/result_als_stat/*.parquet')"
   ]
  },
  {
   "cell_type": "code",
   "execution_count": 16,
   "id": "1d8406a5-0fe3-4501-9589-d6e10c7a5309",
   "metadata": {},
   "outputs": [],
   "source": [
    "import pandas as pd\n",
    "df = pd.read_parquet(files[1000])"
   ]
  },
  {
   "cell_type": "code",
   "execution_count": 18,
   "id": "5bca248b-ffab-41ce-ba4f-04385b6a87ee",
   "metadata": {},
   "outputs": [
    {
     "data": {
      "text/plain": [
       "array(['als_rh0', 'als_rh1', 'als_rh2', 'als_rh3', 'als_rh4', 'als_rh5',\n",
       "       'als_rh6', 'als_rh7', 'als_rh8', 'als_rh9', 'als_rh10', 'als_rh11',\n",
       "       'als_rh12', 'als_rh13', 'als_rh14', 'als_rh15', 'als_rh16',\n",
       "       'als_rh17', 'als_rh18', 'als_rh19', 'als_rh20', 'als_rh21',\n",
       "       'als_rh22', 'als_rh23', 'als_rh24', 'als_rh25', 'als_rh26',\n",
       "       'als_rh27', 'als_rh28', 'als_rh29', 'als_rh30', 'als_rh31',\n",
       "       'als_rh32', 'als_rh33', 'als_rh34', 'als_rh35', 'als_rh36',\n",
       "       'als_rh37', 'als_rh38', 'als_rh39', 'als_rh40', 'als_rh41',\n",
       "       'als_rh42', 'als_rh43', 'als_rh44', 'als_rh45', 'als_rh46',\n",
       "       'als_rh47', 'als_rh48', 'als_rh49', 'als_rh50', 'als_rh51',\n",
       "       'als_rh52', 'als_rh53', 'als_rh54', 'als_rh55', 'als_rh56',\n",
       "       'als_rh57', 'als_rh58', 'als_rh59', 'als_rh60', 'als_rh61',\n",
       "       'als_rh62', 'als_rh63', 'als_rh64', 'als_rh65', 'als_rh66',\n",
       "       'als_rh67', 'als_rh68', 'als_rh69', 'als_rh70', 'als_rh71',\n",
       "       'als_rh72', 'als_rh73', 'als_rh74', 'als_rh75', 'als_rh76',\n",
       "       'als_rh77', 'als_rh78', 'als_rh79', 'als_rh80', 'als_rh81',\n",
       "       'als_rh82', 'als_rh83', 'als_rh84', 'als_rh85', 'als_rh86',\n",
       "       'als_rh87', 'als_rh88', 'als_rh89', 'als_rh90', 'als_rh91',\n",
       "       'als_rh92', 'als_rh93', 'als_rh94', 'als_rh95', 'als_rh96',\n",
       "       'als_rh97', 'als_rh98', 'als_rh99', 'als_rh100', 'z_ground',\n",
       "       'ground_q0', 'ground_q25', 'ground_q50', 'ground_q75',\n",
       "       'ground_q100', 'als_slope_degrees', 'land_segments/longitude_20m',\n",
       "       'land_segments/latitude_20m', 'land_segments/delta_time'],\n",
       "      dtype=object)"
      ]
     },
     "execution_count": 18,
     "metadata": {},
     "output_type": "execute_result"
    }
   ],
   "source": [
    "df.columns.values"
   ]
  },
  {
   "cell_type": "code",
   "execution_count": 1,
   "id": "d17de406-a772-4414-bd5b-45d0e04392ab",
   "metadata": {},
   "outputs": [],
   "source": [
    "# test index \n",
    "import pandas as pd\n",
    "sites =pd.read_parquet('../data/all_sites_20231218.parquet')"
   ]
  },
  {
   "cell_type": "code",
   "execution_count": 3,
   "id": "4a176be7-ef82-43b4-893f-37f914e7b61e",
   "metadata": {},
   "outputs": [],
   "source": [
    "todo=['amani', 'gsfc_mozambique', 'jpl_lope', \n",
    "      'tanzania_wwf_germany', 'khaoyai_thailand', \n",
    "      'zofin_180607', 'spain_exts1', 'spain_exts2', 'spain_exts3', \n",
    "      'spain_leon1', 'spain_leon2', 'embrapa_brazil_2020_and_a01', \n",
    "      'neon_bart2018', 'neon_bart2019', 'neon_blan2019', 'neon_blan2021', \n",
    "      'neon_scbi2019', 'neon_scbi2021', 'neon_unde2019', 'neon_blan2022', \n",
    "      'neon_clbj2022', 'neon_grsm2022', 'neon_moab2022', 'neon_onaq2022', \n",
    "      'neon_rmnp2022', 'neon_serc2022', 'neon_stei2022', 'neon_steicheq2022',\n",
    "      'neon_ster2022', 'neon_unde2022', 'inpe_brazil31983', 'inpe_brazil31981',\n",
    "      'inpe_brazil31979', 'inpe_brazil31976', 'inpe_brazil31975', \n",
    "      'inpe_brazil31973', 'inpe_brazil31974', 'inpe_brazil31978']"
   ]
  },
  {
   "cell_type": "code",
   "execution_count": 11,
   "id": "3611244a-c001-487f-991c-ef2861b6a9c4",
   "metadata": {},
   "outputs": [],
   "source": [
    "import PyPDF2\n",
    "def merge_pdfs(filepaths, output_filepath):\n",
    "    # Create a PDF merger object\n",
    "    pdf_merger = PyPDF2.PdfMerger()\n",
    "\n",
    "    # Iterate through each PDF file and append it to the merger\n",
    "    for filepath in filepaths:\n",
    "        with open(filepath, 'rb') as pdf_file:\n",
    "            pdf_merger.append(pdf_file)\n",
    "\n",
    "    # Write the merged PDF to the output file\n",
    "    with open(output_filepath, 'wb') as output_file:\n",
    "        pdf_merger.write(output_file)"
   ]
  },
  {
   "cell_type": "code",
   "execution_count": 12,
   "id": "a1f05c6b-4255-4bb5-8d5d-7a658fcfa07b",
   "metadata": {},
   "outputs": [],
   "source": [
    "import glob\n",
    "pdf_files_to_merge = glob.glob('/gpfs/data1/vclgp/xiongl/ProjectIS2CalVal/result/is2_calval_metrics/*.pdf')\n",
    "\n",
    "# Output file name for the merged PDF\n",
    "output_pdf_file = 'merged_output.pdf'\n",
    "\n",
    "# Call the merge_pdfs function\n",
    "merge_pdfs(pdf_files_to_merge, output_pdf_file)"
   ]
  },
  {
   "cell_type": "code",
   "execution_count": 13,
   "id": "89f8d1b1-05f4-4192-b77a-7b3c06fb256a",
   "metadata": {},
   "outputs": [
    {
     "data": {
      "text/plain": [
       "array([3, 4, 5, 5, 5, 5])"
      ]
     },
     "execution_count": 13,
     "metadata": {},
     "output_type": "execute_result"
    }
   ],
   "source": [
    "import numpy as np\n",
    "np.searchsorted([1,2,3,4,5], [4,5,6,7,8,9], side='left')"
   ]
  },
  {
   "cell_type": "code",
   "execution_count": 11,
   "id": "c7337626-5158-4c84-9fba-041b43fc9506",
   "metadata": {},
   "outputs": [
    {
     "name": "stdout",
     "output_type": "stream",
     "text": [
      "[3 4 5]\n",
      "[False False  True  True  True]\n"
     ]
    },
    {
     "data": {
      "text/plain": [
       "array([3, 4, 5])"
      ]
     },
     "execution_count": 11,
     "metadata": {},
     "output_type": "execute_result"
    }
   ],
   "source": [
    "import numpy as np\n",
    "\n",
    "# Example arrays\n",
    "array1 = np.array([1, 2, 3, 4, 5])\n",
    "array2 = np.array([3, 4, 5, 6, 7])\n",
    "\n",
    "# Find the common elements\n",
    "common_elements = np.intersect1d(array1, array2)\n",
    "\n",
    "# Display the common elements\n",
    "print(common_elements)\n",
    "import numpy as np\n",
    "\n",
    "# Check if each element of array1 is in common\n",
    "is_in_array1 = np.in1d(array1, common_elements)\n",
    "\n",
    "# Display the result\n",
    "print(is_in_array1)\n",
    "array1[is_in_array1]\n"
   ]
  },
  {
   "cell_type": "code",
   "execution_count": null,
   "id": "768ff8d3-ea3d-47fd-994e-8111a04bfdab",
   "metadata": {},
   "outputs": [],
   "source": []
  }
 ],
 "metadata": {
  "kernelspec": {
   "display_name": "Python 3 (ipykernel)",
   "language": "python",
   "name": "python3"
  },
  "language_info": {
   "codemirror_mode": {
    "name": "ipython",
    "version": 3
   },
   "file_extension": ".py",
   "mimetype": "text/x-python",
   "name": "python",
   "nbconvert_exporter": "python",
   "pygments_lexer": "ipython3",
   "version": "3.11.4"
  }
 },
 "nbformat": 4,
 "nbformat_minor": 5
}
