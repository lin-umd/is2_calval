{
 "cells": [
  {
   "cell_type": "code",
   "execution_count": 3,
   "id": "288b34ce-6d05-46f1-ab25-6ec1c32ceaaa",
   "metadata": {},
   "outputs": [],
   "source": [
    "# convert laz to las\n",
    "import geopandas as gpd"
   ]
  },
  {
   "cell_type": "code",
   "execution_count": 2,
   "id": "10e15937-6506-48c5-8533-5a020a70d6f6",
   "metadata": {},
   "outputs": [],
   "source": [
    "# activate lastool environment"
   ]
  },
  {
   "cell_type": "code",
   "execution_count": null,
   "id": "d4e2335e-23f3-45c9-af45-32810a18369b",
   "metadata": {},
   "outputs": [],
   "source": [
    "VALID_SITES = ['amani','csir_agincourt', 'csir_dnyala', 'csir_ireagh', 'csir_justicia', 'csir_venetia', 'csir_welverdient', 'drc_ghent_field_32635', \n",
    "               'drc_ghent_field_32733', 'drc_ghent_field_32734', 'gsfc_mozambique', 'jpl_lope', 'jpl_rabi', 'tanzania_wwf_germany', 'khaoyai_thailand', \n",
    "               'chowilla', 'credo', 'karawatha', 'litchfield', 'rushworth_forests', 'tern_alice_mulga', 'tern_robson_whole', 'costarica_laselva2019', \n",
    "               'skidmore_bayerischer', 'zofin_180607', 'spain_exts1', 'spain_exts2', 'spain_exts3', 'spain_exts4', 'spain_leonposada', 'spain_leon1', \n",
    "               'spain_leon2', 'spain_leon3', 'jpl_borneo_004', 'jpl_borneo_013', 'jpl_borneo_040', 'jpl_borneo_119', 'jpl_borneo_144', 'chave_paracou', \n",
    "               'embrapa_brazil_2020_and_a01', 'embrapa_brazil_2020_bon_a01', 'embrapa_brazil_2020_cau_a01', 'embrapa_brazil_2020_duc_a01', \n",
    "               'embrapa_brazil_2020_hum_a01', 'embrapa_brazil_2020_par_a01', 'embrapa_brazil_2020_rib_a01', 'embrapa_brazil_2020_tal_a01',\n",
    "               'embrapa_brazil_2020_tan_a01', 'embrapa_brazil_2020_tap_a01', 'embrapa_brazil_2020_tap_a04', 'walkerfire_20191007', \n",
    "               'neon_abby2018', 'neon_abby2019', 'neon_abby2021', 'neon_bart2018', 'neon_bart2019', 'neon_blan2019', 'neon_blan2021', \n",
    "               'neon_clbj2018', 'neon_clbj2019', 'neon_clbj2021', 'neon_clbj2021', 'neon_dela2018', 'neon_dela2019', 'neon_dela2021', \n",
    "               'neon_dsny2018', 'neon_dsny2021', 'neon_grsm2018', 'neon_grsm2021', 'neon_guan2018', 'neon_harv2018', 'neon_harv2019', \n",
    "               'neon_jerc2019', 'neon_jerc2021', 'neon_jorn2018', 'neon_jorn2019', 'neon_jorn2021', 'neon_konz2019', 'neon_konz2020', \n",
    "               'neon_leno2018', 'neon_leno2019', 'neon_leno2021', 'neon_mlbs2018', 'neon_mlbs2021', 'neon_moab2018', 'neon_moab2021', \n",
    "               'neon_niwo2019', 'neon_niwo2020', 'neon_nogp2021', 'neon_onaq2019', 'neon_onaq2021', 'neon_osbs2018', 'neon_osbs2019', \n",
    "               'neon_osbs2021', 'neon_puum2020', 'neon_rmnp2018', 'neon_rmnp2020', 'neon_scbi2019', 'neon_scbi2021', 'neon_serc2019', \n",
    "               'neon_serc2021', 'neon_sjer2019', 'neon_soap2018', 'neon_soap2019', 'neon_soap2021', 'neon_srer2019', 'neon_srer2021', \n",
    "               'neon_stei2019', 'neon_stei2020', 'neon_ster2021', 'neon_tall2018', 'neon_tall2019', 'neon_tall2021', 'neon_teak2021', \n",
    "               'neon_ukfs2018', 'neon_ukfs2019', 'neon_ukfs2020', 'neon_unde2019', 'neon_unde2020', 'neon_wood2021', 'neon_wref2019', \n",
    "               'neon_wref2021', 'neon_yell2018', 'neon_yell2019', 'neon_yell2020', \n",
    "               'neon_blan2022', 'neon_clbj2022', 'neon_grsm2022', 'neon_moab2022', 'neon_onaq2022', 'neon_rmnp2022', 'neon_serc2022', \n",
    "               'neon_stei2022', 'neon_steicheq2022', 'neon_ster2022', 'neon_unde2022', 'inpe_brazil31983', 'inpe_brazil31981', \n",
    "               'inpe_brazil31979', 'inpe_brazil31976', 'inpe_brazil31975', 'inpe_brazil31973', 'inpe_brazil31974', 'inpe_brazil31978', \n",
    "               'csir_limpopo','jrsrp_ilcp2015_wholeq6']"
   ]
  },
  {
   "cell_type": "code",
   "execution_count": 4,
   "id": "ce8a1272-c140-4880-807b-e0f00d188f3a",
   "metadata": {},
   "outputs": [],
   "source": [
    "CALVAL_SITES = \"/gpfs/data1/vclgp/xiongl/ProjectIS2CalVal/data/calval_sites_20250721.parquet\" \n",
    "gdf_als = gpd.read_parquet(CALVAL_SITES)"
   ]
  },
  {
   "cell_type": "code",
   "execution_count": 5,
   "id": "3241836e-0847-4bf7-96af-872741d5bfb7",
   "metadata": {},
   "outputs": [
    {
     "data": {
      "text/html": [
       "<div>\n",
       "<style scoped>\n",
       "    .dataframe tbody tr th:only-of-type {\n",
       "        vertical-align: middle;\n",
       "    }\n",
       "\n",
       "    .dataframe tbody tr th {\n",
       "        vertical-align: top;\n",
       "    }\n",
       "\n",
       "    .dataframe thead th {\n",
       "        text-align: right;\n",
       "    }\n",
       "</style>\n",
       "<table border=\"1\" class=\"dataframe\">\n",
       "  <thead>\n",
       "    <tr style=\"text-align: right;\">\n",
       "      <th></th>\n",
       "      <th>region</th>\n",
       "      <th>name</th>\n",
       "      <th>area_ha</th>\n",
       "      <th>epsg</th>\n",
       "      <th>geometry</th>\n",
       "    </tr>\n",
       "  </thead>\n",
       "  <tbody>\n",
       "    <tr>\n",
       "      <th>2</th>\n",
       "      <td>australia</td>\n",
       "      <td>tern_robson_whole</td>\n",
       "      <td>3428.721642</td>\n",
       "      <td>28355</td>\n",
       "      <td>POLYGON ((145.62333 -17.12994, 145.61720 -17.1...</td>\n",
       "    </tr>\n",
       "    <tr>\n",
       "      <th>3</th>\n",
       "      <td>seasia</td>\n",
       "      <td>jpl_borneo_013</td>\n",
       "      <td>3829.727945</td>\n",
       "      <td>32750</td>\n",
       "      <td>POLYGON ((114.46872 -2.15843, 114.46872 -2.158...</td>\n",
       "    </tr>\n",
       "    <tr>\n",
       "      <th>5</th>\n",
       "      <td>australia</td>\n",
       "      <td>litchfield</td>\n",
       "      <td>2619.714151</td>\n",
       "      <td>28352</td>\n",
       "      <td>MULTIPOLYGON (((130.76650 -13.18500, 130.76643...</td>\n",
       "    </tr>\n",
       "    <tr>\n",
       "      <th>8</th>\n",
       "      <td>usa</td>\n",
       "      <td>neon_leno2019</td>\n",
       "      <td>16114.909258</td>\n",
       "      <td>32616</td>\n",
       "      <td>POLYGON ((-88.25040 31.82899, -88.25039 31.828...</td>\n",
       "    </tr>\n",
       "    <tr>\n",
       "      <th>16</th>\n",
       "      <td>usa</td>\n",
       "      <td>neon_stei2019</td>\n",
       "      <td>14466.831413</td>\n",
       "      <td>32616</td>\n",
       "      <td>MULTIPOLYGON (((-89.48059 45.44158, -89.48059 ...</td>\n",
       "    </tr>\n",
       "  </tbody>\n",
       "</table>\n",
       "</div>"
      ],
      "text/plain": [
       "       region               name       area_ha   epsg  \\\n",
       "2   australia  tern_robson_whole   3428.721642  28355   \n",
       "3      seasia     jpl_borneo_013   3829.727945  32750   \n",
       "5   australia         litchfield   2619.714151  28352   \n",
       "8         usa      neon_leno2019  16114.909258  32616   \n",
       "16        usa      neon_stei2019  14466.831413  32616   \n",
       "\n",
       "                                             geometry  \n",
       "2   POLYGON ((145.62333 -17.12994, 145.61720 -17.1...  \n",
       "3   POLYGON ((114.46872 -2.15843, 114.46872 -2.158...  \n",
       "5   MULTIPOLYGON (((130.76650 -13.18500, 130.76643...  \n",
       "8   POLYGON ((-88.25040 31.82899, -88.25039 31.828...  \n",
       "16  MULTIPOLYGON (((-89.48059 45.44158, -89.48059 ...  "
      ]
     },
     "execution_count": 5,
     "metadata": {},
     "output_type": "execute_result"
    }
   ],
   "source": [
    "gdf_als.head()"
   ]
  },
  {
   "cell_type": "code",
   "execution_count": 7,
   "id": "e10e4d17-67b7-4d59-a601-749eba8a2b0f",
   "metadata": {},
   "outputs": [],
   "source": [
    "LAZ_PATH = '/gpfs/data1/vclgp/data/gedi/imported'\n",
    "import glob"
   ]
  },
  {
   "cell_type": "code",
   "execution_count": 14,
   "id": "852ffd3b-469d-4000-b3f3-f621bbcc09c9",
   "metadata": {},
   "outputs": [],
   "source": [
    "all_laz=[]\n",
    "for row in gdf_als.itertuples(index=True):\n",
    "    lazs = glob.glob(LAZ_PATH + '/' + row.region + '/' + row.name + '/LAZ_ground/*.laz')\n",
    "    all_laz.extend(lazs)"
   ]
  },
  {
   "cell_type": "code",
   "execution_count": 16,
   "id": "5879ad54-b009-43ba-980f-0ed31e726f92",
   "metadata": {},
   "outputs": [
    {
     "data": {
      "text/plain": [
       "61427"
      ]
     },
     "execution_count": 16,
     "metadata": {},
     "output_type": "execute_result"
    }
   ],
   "source": [
    "len(all_laz)"
   ]
  },
  {
   "cell_type": "code",
   "execution_count": 17,
   "id": "fc9251fe-e30a-4b09-8f8a-24726e2de91f",
   "metadata": {},
   "outputs": [],
   "source": [
    "with open(\"../data/calval_laz_list.txt\", \"w\") as f:\n",
    "    for item in all_laz:\n",
    "        f.write(f\"{item}\\n\")"
   ]
  },
  {
   "cell_type": "code",
   "execution_count": 18,
   "id": "d3e05ceb-a4a0-4580-b0f8-573bf8f4f624",
   "metadata": {},
   "outputs": [],
   "source": [
    "f  = '/gpfs/data1/vclgp/xiongl/ProjectIS2CalVal/result/is2_projected_als/southamerica_inpe_brazil31976.parquet'"
   ]
  },
  {
   "cell_type": "code",
   "execution_count": 22,
   "id": "f8ea3cb5-ca7f-46d1-bed1-7640381d9261",
   "metadata": {},
   "outputs": [],
   "source": [
    "import geopandas as gpd\n",
    "gdf_als = gpd.read_parquet(f)"
   ]
  },
  {
   "cell_type": "code",
   "execution_count": 33,
   "id": "0c9c6276-499d-4cbd-bbb9-1be89515aefa",
   "metadata": {},
   "outputs": [
    {
     "data": {
      "text/html": [
       "<div>\n",
       "<style scoped>\n",
       "    .dataframe tbody tr th:only-of-type {\n",
       "        vertical-align: middle;\n",
       "    }\n",
       "\n",
       "    .dataframe tbody tr th {\n",
       "        vertical-align: top;\n",
       "    }\n",
       "\n",
       "    .dataframe thead th {\n",
       "        text-align: right;\n",
       "    }\n",
       "</style>\n",
       "<table border=\"1\" class=\"dataframe\">\n",
       "  <thead>\n",
       "    <tr style=\"text-align: right;\">\n",
       "      <th></th>\n",
       "      <th>region</th>\n",
       "      <th>name</th>\n",
       "      <th>area_ha</th>\n",
       "      <th>epsg</th>\n",
       "      <th>geometry</th>\n",
       "      <th>file</th>\n",
       "    </tr>\n",
       "  </thead>\n",
       "  <tbody>\n",
       "    <tr>\n",
       "      <th>0</th>\n",
       "      <td>southamerica</td>\n",
       "      <td>inpe_brazil31976</td>\n",
       "      <td>4.005227e+02</td>\n",
       "      <td>31976</td>\n",
       "      <td>POLYGON ((367187.880 285289.960, 369454.458 28...</td>\n",
       "      <td>southamerica_inpe_brazil31976_NP_T-0480_000000...</td>\n",
       "    </tr>\n",
       "    <tr>\n",
       "      <th>1</th>\n",
       "      <td>southamerica</td>\n",
       "      <td>inpe_brazil31976</td>\n",
       "      <td>3.056888e+02</td>\n",
       "      <td>31976</td>\n",
       "      <td>POLYGON ((350620.060 -10162.110, 352027.132 -1...</td>\n",
       "      <td>southamerica_inpe_brazil31976_NP_T-0132_000000...</td>\n",
       "    </tr>\n",
       "    <tr>\n",
       "      <th>2</th>\n",
       "      <td>southamerica</td>\n",
       "      <td>inpe_brazil31976</td>\n",
       "      <td>3.482325e+02</td>\n",
       "      <td>31976</td>\n",
       "      <td>POLYGON ((192542.400 221225.310, 194763.809 22...</td>\n",
       "      <td>southamerica_inpe_brazil31976_NP_T-0446_000000...</td>\n",
       "    </tr>\n",
       "    <tr>\n",
       "      <th>3</th>\n",
       "      <td>southamerica</td>\n",
       "      <td>inpe_brazil31976</td>\n",
       "      <td>3.212375e+02</td>\n",
       "      <td>31976</td>\n",
       "      <td>POLYGON ((374545.500 280530.830, 376555.848 28...</td>\n",
       "      <td>southamerica_inpe_brazil31976_NP_T-0480_000000...</td>\n",
       "    </tr>\n",
       "    <tr>\n",
       "      <th>4</th>\n",
       "      <td>southamerica</td>\n",
       "      <td>inpe_brazil31976</td>\n",
       "      <td>1.417150e-02</td>\n",
       "      <td>31976</td>\n",
       "      <td>POLYGON ((483636.820 226092.240, 483645.148 22...</td>\n",
       "      <td>southamerica_inpe_brazil31976_NP_T-0589_000000...</td>\n",
       "    </tr>\n",
       "    <tr>\n",
       "      <th>...</th>\n",
       "      <td>...</td>\n",
       "      <td>...</td>\n",
       "      <td>...</td>\n",
       "      <td>...</td>\n",
       "      <td>...</td>\n",
       "      <td>...</td>\n",
       "    </tr>\n",
       "    <tr>\n",
       "      <th>191</th>\n",
       "      <td>southamerica</td>\n",
       "      <td>inpe_brazil31976</td>\n",
       "      <td>2.765373e+02</td>\n",
       "      <td>31976</td>\n",
       "      <td>POLYGON ((361855.090 208834.730, 363183.882 20...</td>\n",
       "      <td>southamerica_inpe_brazil31976_NP_T-0122_000000...</td>\n",
       "    </tr>\n",
       "    <tr>\n",
       "      <th>192</th>\n",
       "      <td>southamerica</td>\n",
       "      <td>inpe_brazil31976</td>\n",
       "      <td>2.671485e+02</td>\n",
       "      <td>31976</td>\n",
       "      <td>POLYGON ((434015.350 101447.800, 435211.173 10...</td>\n",
       "      <td>southamerica_inpe_brazil31976_NP_T-0126_000000...</td>\n",
       "    </tr>\n",
       "    <tr>\n",
       "      <th>193</th>\n",
       "      <td>southamerica</td>\n",
       "      <td>inpe_brazil31976</td>\n",
       "      <td>6.013189e-08</td>\n",
       "      <td>31976</td>\n",
       "      <td>POLYGON ((467183.710 226329.110, 467183.740 22...</td>\n",
       "      <td>southamerica_inpe_brazil31976_NP_T-0123_000000...</td>\n",
       "    </tr>\n",
       "    <tr>\n",
       "      <th>194</th>\n",
       "      <td>southamerica</td>\n",
       "      <td>inpe_brazil31976</td>\n",
       "      <td>1.738290e+02</td>\n",
       "      <td>31976</td>\n",
       "      <td>POLYGON ((499438.150 95957.240, 501631.403 959...</td>\n",
       "      <td>southamerica_inpe_brazil31976_NP_T-0615_000000...</td>\n",
       "    </tr>\n",
       "    <tr>\n",
       "      <th>195</th>\n",
       "      <td>southamerica</td>\n",
       "      <td>inpe_brazil31976</td>\n",
       "      <td>3.789275e-05</td>\n",
       "      <td>31976</td>\n",
       "      <td>POLYGON ((183725.750 182757.310, 183726.299 18...</td>\n",
       "      <td>southamerica_inpe_brazil31976_NP_T-0465_000000...</td>\n",
       "    </tr>\n",
       "  </tbody>\n",
       "</table>\n",
       "<p>194 rows × 6 columns</p>\n",
       "</div>"
      ],
      "text/plain": [
       "           region              name       area_ha   epsg  \\\n",
       "0    southamerica  inpe_brazil31976  4.005227e+02  31976   \n",
       "1    southamerica  inpe_brazil31976  3.056888e+02  31976   \n",
       "2    southamerica  inpe_brazil31976  3.482325e+02  31976   \n",
       "3    southamerica  inpe_brazil31976  3.212375e+02  31976   \n",
       "4    southamerica  inpe_brazil31976  1.417150e-02  31976   \n",
       "..            ...               ...           ...    ...   \n",
       "191  southamerica  inpe_brazil31976  2.765373e+02  31976   \n",
       "192  southamerica  inpe_brazil31976  2.671485e+02  31976   \n",
       "193  southamerica  inpe_brazil31976  6.013189e-08  31976   \n",
       "194  southamerica  inpe_brazil31976  1.738290e+02  31976   \n",
       "195  southamerica  inpe_brazil31976  3.789275e-05  31976   \n",
       "\n",
       "                                              geometry  \\\n",
       "0    POLYGON ((367187.880 285289.960, 369454.458 28...   \n",
       "1    POLYGON ((350620.060 -10162.110, 352027.132 -1...   \n",
       "2    POLYGON ((192542.400 221225.310, 194763.809 22...   \n",
       "3    POLYGON ((374545.500 280530.830, 376555.848 28...   \n",
       "4    POLYGON ((483636.820 226092.240, 483645.148 22...   \n",
       "..                                                 ...   \n",
       "191  POLYGON ((361855.090 208834.730, 363183.882 20...   \n",
       "192  POLYGON ((434015.350 101447.800, 435211.173 10...   \n",
       "193  POLYGON ((467183.710 226329.110, 467183.740 22...   \n",
       "194  POLYGON ((499438.150 95957.240, 501631.403 959...   \n",
       "195  POLYGON ((183725.750 182757.310, 183726.299 18...   \n",
       "\n",
       "                                                  file  \n",
       "0    southamerica_inpe_brazil31976_NP_T-0480_000000...  \n",
       "1    southamerica_inpe_brazil31976_NP_T-0132_000000...  \n",
       "2    southamerica_inpe_brazil31976_NP_T-0446_000000...  \n",
       "3    southamerica_inpe_brazil31976_NP_T-0480_000000...  \n",
       "4    southamerica_inpe_brazil31976_NP_T-0589_000000...  \n",
       "..                                                 ...  \n",
       "191  southamerica_inpe_brazil31976_NP_T-0122_000000...  \n",
       "192  southamerica_inpe_brazil31976_NP_T-0126_000000...  \n",
       "193  southamerica_inpe_brazil31976_NP_T-0123_000000...  \n",
       "194  southamerica_inpe_brazil31976_NP_T-0615_000000...  \n",
       "195  southamerica_inpe_brazil31976_NP_T-0465_000000...  \n",
       "\n",
       "[194 rows x 6 columns]"
      ]
     },
     "execution_count": 33,
     "metadata": {},
     "output_type": "execute_result"
    }
   ],
   "source": [
    "laz_project = gpd.read_parquet(\"/gpfs/data1/vclgp/xiongl/ProjectIS2CalVal/data/bounds_project/southamerica_inpe_brazil31976.parquet\")# wgs84_coordinates. every laz = one row.\n",
    "epsg = int(laz_project.iloc[0]['epsg'])\n",
    "laz_project = laz_project.to_crs(epsg)# projected\n",
    "laz_project "
   ]
  },
  {
   "cell_type": "code",
   "execution_count": 49,
   "id": "031b1b13-ec3c-4f09-8afd-54e043323559",
   "metadata": {},
   "outputs": [],
   "source": [
    "import math\n",
    "import numpy as np\n",
    "import pandas as pd\n",
    "for t in gdf_als['root_file'].unique(): \n",
    "    t_df = gdf_als[gdf_als['root_file'] == t]\n",
    "    for b in  t_df['root_beam'].unique():\n",
    "        b_t_df = t_df[t_df['root_beam'] == b]\n",
    "        segment_footprints_list = []\n",
    "        for index_20m, row_20m in b_t_df.iterrows():\n",
    "                segment_footprints_list.append(get_footprint(row_20m['e'], row_20m['n'], row_20m['orientation']))\n",
    "        segment_footprints = pd.concat(segment_footprints_list, ignore_index=True)\n",
    "        foots = gpd.GeoSeries(gpd.points_from_xy(segment_footprints.e, segment_footprints.n))\n",
    "        idx = laz_project.sindex.query(foots.unary_union , predicate=\"intersects\")  # spatial index query\n",
    "        break"
   ]
  },
  {
   "cell_type": "code",
   "execution_count": 25,
   "id": "a45ef502-6014-424f-a04d-a77c6ade560c",
   "metadata": {},
   "outputs": [],
   "source": [
    "def get_footprint(e, n, slope):\n",
    "    theta = math.atan(slope)\n",
    "    data = np.arange(-14, 15)  # -14 to 14\n",
    "\n",
    "    e_array = e + data * 0.7 * math.cos(theta)\n",
    "    n_array = n + data * 0.7 * math.sin(theta)\n",
    "\n",
    "    # Round coordinates to 6 decimals as floats\n",
    "    e_array = np.round(e_array, 6)\n",
    "    n_array = np.round(n_array, 6)\n",
    "\n",
    "    footprints = pd.DataFrame({'e': e_array, 'n': n_array})\n",
    "    return footprints  # floats rounded to 6 decimals"
   ]
  },
  {
   "cell_type": "code",
   "execution_count": 50,
   "id": "174a0cb6-fefd-4152-be9d-ac326b3981f1",
   "metadata": {},
   "outputs": [
    {
     "data": {
      "text/plain": [
       "array([9])"
      ]
     },
     "execution_count": 50,
     "metadata": {},
     "output_type": "execute_result"
    }
   ],
   "source": [
    "idx"
   ]
  },
  {
   "cell_type": "code",
   "execution_count": 53,
   "id": "e264b08e-b83a-4ac5-ae70-18a09ae92690",
   "metadata": {},
   "outputs": [
    {
     "data": {
      "text/plain": [
       "array(['southamerica_inpe_brazil31976_NP_T-0605_0000005.parquet'],\n",
       "      dtype=object)"
      ]
     },
     "execution_count": 53,
     "metadata": {},
     "output_type": "execute_result"
    }
   ],
   "source": [
    "laz_project.iloc[idx]['file'].unique()"
   ]
  },
  {
   "cell_type": "code",
   "execution_count": null,
   "id": "03b92e77-fc84-4110-a7b3-6c41702acb57",
   "metadata": {},
   "outputs": [],
   "source": []
  }
 ],
 "metadata": {
  "kernelspec": {
   "display_name": "Python 3 (ipykernel)",
   "language": "python",
   "name": "python3"
  },
  "language_info": {
   "codemirror_mode": {
    "name": "ipython",
    "version": 3
   },
   "file_extension": ".py",
   "mimetype": "text/x-python",
   "name": "python",
   "nbconvert_exporter": "python",
   "pygments_lexer": "ipython3",
   "version": "3.10.4"
  }
 },
 "nbformat": 4,
 "nbformat_minor": 5
}
