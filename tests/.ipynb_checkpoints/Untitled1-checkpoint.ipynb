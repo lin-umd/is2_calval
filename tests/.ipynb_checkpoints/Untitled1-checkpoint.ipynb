{
 "cells": [
  {
   "cell_type": "code",
   "execution_count": 1,
   "id": "b78f4c84-4329-4d73-b47d-cc5bfd1a9bc1",
   "metadata": {},
   "outputs": [],
   "source": [
    "# test query function"
   ]
  },
  {
   "cell_type": "code",
   "execution_count": 2,
   "id": "ca1e98ea-7a70-4eb1-99b4-7c49aa2d242e",
   "metadata": {},
   "outputs": [
    {
     "name": "stdout",
     "output_type": "stream",
     "text": [
      "-rw-rw----+ 1 xiongl xiongl 2.7M Jul 22 00:54 /gpfs/data1/vclgp/xiongl/ProjectIS2CalVal/result/is2_projected_als/usa_neon_yell2018.parquet\n"
     ]
    }
   ],
   "source": [
    "ls /gpfs/data1/vclgp/xiongl/ProjectIS2CalVal/result/is2_projected_als/usa_neon_yell2018.parquet -lhS"
   ]
  },
  {
   "cell_type": "code",
   "execution_count": 3,
   "id": "b06c1652-ca08-4e9f-9a08-0d5519c78b6c",
   "metadata": {},
   "outputs": [],
   "source": [
    "import geopandas as gpd"
   ]
  },
  {
   "cell_type": "code",
   "execution_count": 4,
   "id": "4ae146ef-b0b3-4060-bb5d-348b2efecbcb",
   "metadata": {},
   "outputs": [],
   "source": [
    "gdf_als = gpd.read_parquet('/gpfs/data1/vclgp/xiongl/ProjectIS2CalVal/result/is2_projected_als/usa_neon_yell2018.parquet')"
   ]
  },
  {
   "cell_type": "code",
   "execution_count": 5,
   "id": "6c07f3d9-545f-4985-9d1b-815126c301cf",
   "metadata": {},
   "outputs": [
    {
     "name": "stdout",
     "output_type": "stream",
     "text": [
      "/gpfs/data1/vclgp/xiongl/ProjectIS2CalVal/data/bounds_project/usa_neon_yell2018.parquet\n"
     ]
    }
   ],
   "source": [
    "ls /gpfs/data1/vclgp/xiongl/ProjectIS2CalVal/data/bounds_project/usa_neon_yell2018*"
   ]
  },
  {
   "cell_type": "code",
   "execution_count": 6,
   "id": "ab041462-c45d-4fee-a6eb-480d8ab7ab09",
   "metadata": {},
   "outputs": [],
   "source": [
    "laz_project = gpd.read_parquet('/gpfs/data1/vclgp/xiongl/ProjectIS2CalVal/data/bounds_project/usa_neon_yell2018.parquet')\n",
    "epsg = int(laz_project.iloc[0]['epsg'])\n",
    "laz_project = laz_project.to_crs(epsg)# projected"
   ]
  },
  {
   "cell_type": "code",
   "execution_count": 7,
   "id": "7f121fd0-056f-450e-ab0a-1cd1606dc12f",
   "metadata": {},
   "outputs": [
    {
     "data": {
      "text/html": [
       "<div>\n",
       "<style scoped>\n",
       "    .dataframe tbody tr th:only-of-type {\n",
       "        vertical-align: middle;\n",
       "    }\n",
       "\n",
       "    .dataframe tbody tr th {\n",
       "        vertical-align: top;\n",
       "    }\n",
       "\n",
       "    .dataframe thead th {\n",
       "        text-align: right;\n",
       "    }\n",
       "</style>\n",
       "<table border=\"1\" class=\"dataframe\">\n",
       "  <thead>\n",
       "    <tr style=\"text-align: right;\">\n",
       "      <th></th>\n",
       "      <th>region</th>\n",
       "      <th>name</th>\n",
       "      <th>area_ha</th>\n",
       "      <th>epsg</th>\n",
       "      <th>geometry</th>\n",
       "      <th>file</th>\n",
       "    </tr>\n",
       "  </thead>\n",
       "  <tbody>\n",
       "    <tr>\n",
       "      <th>1485</th>\n",
       "      <td>usa</td>\n",
       "      <td>neon_yell2018</td>\n",
       "      <td>987.108782</td>\n",
       "      <td>32612</td>\n",
       "      <td>POLYGON ((532703.492 4966924.091, 534309.409 4...</td>\n",
       "      <td>usa_neon_yell2018_NEON_D12_YELL_DP1_L027-2_201...</td>\n",
       "    </tr>\n",
       "    <tr>\n",
       "      <th>1486</th>\n",
       "      <td>usa</td>\n",
       "      <td>neon_yell2018</td>\n",
       "      <td>506.619433</td>\n",
       "      <td>32612</td>\n",
       "      <td>POLYGON ((535885.174 4977371.636, 537104.793 4...</td>\n",
       "      <td>usa_neon_yell2018_NEON_D12_YELL_DP1_L037-2_201...</td>\n",
       "    </tr>\n",
       "    <tr>\n",
       "      <th>1487</th>\n",
       "      <td>usa</td>\n",
       "      <td>neon_yell2018</td>\n",
       "      <td>725.071261</td>\n",
       "      <td>32612</td>\n",
       "      <td>POLYGON ((534063.804 4975271.833, 535811.701 4...</td>\n",
       "      <td>usa_neon_yell2018_NEON_D12_YELL_DP1_L032-2_201...</td>\n",
       "    </tr>\n",
       "    <tr>\n",
       "      <th>1488</th>\n",
       "      <td>usa</td>\n",
       "      <td>neon_yell2018</td>\n",
       "      <td>1658.551283</td>\n",
       "      <td>32612</td>\n",
       "      <td>POLYGON ((537836.190 4975280.938, 539828.711 4...</td>\n",
       "      <td>usa_neon_yell2018_NEON_D12_YELL_DP1_L046-2_201...</td>\n",
       "    </tr>\n",
       "    <tr>\n",
       "      <th>1489</th>\n",
       "      <td>usa</td>\n",
       "      <td>neon_yell2018</td>\n",
       "      <td>266.196599</td>\n",
       "      <td>32612</td>\n",
       "      <td>POLYGON ((540898.434 4977384.144, 542184.121 4...</td>\n",
       "      <td>usa_neon_yell2018_NEON_D12_YELL_DP1_L056-1_201...</td>\n",
       "    </tr>\n",
       "  </tbody>\n",
       "</table>\n",
       "</div>"
      ],
      "text/plain": [
       "     region           name      area_ha   epsg  \\\n",
       "1485    usa  neon_yell2018   987.108782  32612   \n",
       "1486    usa  neon_yell2018   506.619433  32612   \n",
       "1487    usa  neon_yell2018   725.071261  32612   \n",
       "1488    usa  neon_yell2018  1658.551283  32612   \n",
       "1489    usa  neon_yell2018   266.196599  32612   \n",
       "\n",
       "                                               geometry  \\\n",
       "1485  POLYGON ((532703.492 4966924.091, 534309.409 4...   \n",
       "1486  POLYGON ((535885.174 4977371.636, 537104.793 4...   \n",
       "1487  POLYGON ((534063.804 4975271.833, 535811.701 4...   \n",
       "1488  POLYGON ((537836.190 4975280.938, 539828.711 4...   \n",
       "1489  POLYGON ((540898.434 4977384.144, 542184.121 4...   \n",
       "\n",
       "                                                   file  \n",
       "1485  usa_neon_yell2018_NEON_D12_YELL_DP1_L027-2_201...  \n",
       "1486  usa_neon_yell2018_NEON_D12_YELL_DP1_L037-2_201...  \n",
       "1487  usa_neon_yell2018_NEON_D12_YELL_DP1_L032-2_201...  \n",
       "1488  usa_neon_yell2018_NEON_D12_YELL_DP1_L046-2_201...  \n",
       "1489  usa_neon_yell2018_NEON_D12_YELL_DP1_L056-1_201...  "
      ]
     },
     "execution_count": 7,
     "metadata": {},
     "output_type": "execute_result"
    }
   ],
   "source": [
    "laz_project.tail()"
   ]
  },
  {
   "cell_type": "code",
   "execution_count": 14,
   "id": "f0513bac-119e-4f42-9975-5e48811a3385",
   "metadata": {},
   "outputs": [],
   "source": [
    "import math\n",
    "import numpy as np\n",
    "def get_rectangle(e = 570766.020196, n = 5.075631e+06, orient = -9.315458):\n",
    "        orient_rad = math.atan(orient)   # orient = delta_y/delta_x\n",
    "        # Half of the rectangle dimensions\n",
    "        half_length = 10  # half of the length (20/2)\n",
    "        half_width = 6.5  # half of the width (13/2)\n",
    "        x_coords = [e + half_length * np.cos(orient_rad) - half_width * np.sin(orient_rad),\n",
    "                    e + half_length * np.cos(orient_rad) + half_width * np.sin(orient_rad),\n",
    "                    e - half_length * np.cos(orient_rad) + half_width * np.sin(orient_rad),\n",
    "                    e - half_length * np.cos(orient_rad) - half_width * np.sin(orient_rad),\n",
    "                    e + half_length * np.cos(orient_rad) - half_width * np.sin(orient_rad)]\n",
    "        \n",
    "        y_coords = [n + half_length * np.sin(orient_rad) + half_width * np.cos(orient_rad),\n",
    "                    n + half_length * np.sin(orient_rad) - half_width * np.cos(orient_rad),\n",
    "                    n - half_length * np.sin(orient_rad) - half_width * np.cos(orient_rad),\n",
    "                    n - half_length * np.sin(orient_rad) + half_width * np.cos(orient_rad),\n",
    "                    n + half_length * np.sin(orient_rad) + half_width * np.cos(orient_rad)]\n",
    "        rectangle = Polygon(zip(x_coords, y_coords))\n",
    "        return rectangle"
   ]
  },
  {
   "cell_type": "code",
   "execution_count": 15,
   "id": "a31b6a01-bd6a-408c-a434-16b02dde07ef",
   "metadata": {},
   "outputs": [],
   "source": [
    "import os\n",
    "import pandas as pd \n",
    "from shapely.geometry import Point, Polygon\n",
    "os.environ['USE_PYGEOS'] = '0'\n",
    "from shapely.geometry import Point\n",
    "for t in gdf_als['root_file'].unique(): \n",
    "        t_df = gdf_als[gdf_als['root_file'] == t]\n",
    "        for b in  t_df['root_beam'].unique():\n",
    "            b_t_df = t_df[t_df['root_beam'] == b]\n",
    "            for index, row in  b_t_df.iterrows(): \n",
    "                rec_20m_13m = get_rectangle(row['e'], row['n'], row['orientation']) \n",
    "                idx = laz_project.sindex.query(rec_20m_13m)\n",
    "                files_list = laz_project.iloc[idx]['file'].unique()\n",
    "                break"
   ]
  },
  {
   "cell_type": "code",
   "execution_count": 25,
   "id": "0e59105c-c56a-4776-b7f9-1a1db98a9336",
   "metadata": {},
   "outputs": [
    {
     "data": {
      "image/svg+xml": [
       "<svg xmlns=\"http://www.w3.org/2000/svg\" xmlns:xlink=\"http://www.w3.org/1999/xlink\" width=\"100.0\" height=\"100.0\" viewBox=\"535250.1504230732 4981242.13242928 16.236358480062336 22.65394023247063\" preserveAspectRatio=\"xMinYMin meet\"><g transform=\"matrix(1,0,0,-1,0,9962506.918798793)\"><path fill-rule=\"evenodd\" fill=\"#66cc99\" stroke=\"#555555\" stroke-width=\"0.45307880464941264\" opacity=\"0.6\" d=\"M 535265.5477467299,4981244.01143366 L 535252.5894110604,4981242.971464104 L 535250.9894578966,4981262.907365133 L 535263.947793566,4981263.947334689 L 535265.5477467299,4981244.01143366 z\" /></g></svg>"
      ],
      "text/plain": [
       "<shapely.geometry.polygon.Polygon at 0x2b6e4af36590>"
      ]
     },
     "execution_count": 25,
     "metadata": {},
     "output_type": "execute_result"
    }
   ],
   "source": [
    "rec_20m_13m"
   ]
  },
  {
   "cell_type": "code",
   "execution_count": 16,
   "id": "cacfffa1-be56-4e4a-b060-53221a7636f8",
   "metadata": {},
   "outputs": [
    {
     "data": {
      "text/plain": [
       "['/gpfs/data1/vclgp/data/gedi/imported/usa/neon_yell2018/LAZ_ground/NEON_D12_YELL_DP1_L034-2_2018070414_unclassified_point_cloud_0000010.laz',\n",
       " '/gpfs/data1/vclgp/data/gedi/imported/usa/neon_yell2018/LAZ_ground/NEON_D12_YELL_DP1_L034-3_2018072014_unclassified_point_cloud_0000010.laz',\n",
       " '/gpfs/data1/vclgp/data/gedi/imported/usa/neon_yell2018/LAZ_ground/NEON_D12_YELL_DP1_L034-1_2018062714_unclassified_point_cloud_0000011.laz',\n",
       " '/gpfs/data1/vclgp/data/gedi/imported/usa/neon_yell2018/LAZ_ground/NEON_D12_YELL_DP1_L036-3_2018072014_unclassified_point_cloud_0000004.laz',\n",
       " '/gpfs/data1/vclgp/data/gedi/imported/usa/neon_yell2018/LAZ_ground/NEON_D12_YELL_DP1_L036-2_2018070414_unclassified_point_cloud_0000004.laz',\n",
       " '/gpfs/data1/vclgp/data/gedi/imported/usa/neon_yell2018/LAZ_ground/NEON_D12_YELL_DP1_L036-1_2018062714_unclassified_point_cloud_0000004.laz',\n",
       " '/gpfs/data1/vclgp/data/gedi/imported/usa/neon_yell2018/LAZ_ground/NEON_D12_YELL_DP1_L035-4_2018072014_unclassified_point_cloud_0000007.laz',\n",
       " '/gpfs/data1/vclgp/data/gedi/imported/usa/neon_yell2018/LAZ_ground/NEON_D12_YELL_DP1_L035-2_2018070414_unclassified_point_cloud_0000006.laz',\n",
       " '/gpfs/data1/vclgp/data/gedi/imported/usa/neon_yell2018/LAZ_ground/NEON_D12_YELL_DP1_L035-1_2018062714_unclassified_point_cloud_0000006.laz',\n",
       " '/gpfs/data1/vclgp/data/gedi/imported/usa/neon_yell2018/LAZ_ground/NEON_D12_YELL_DP1_L037-3_2018072014_unclassified_point_cloud_0000001.laz',\n",
       " '/gpfs/data1/vclgp/data/gedi/imported/usa/neon_yell2018/LAZ_ground/NEON_D12_YELL_DP1_L033-2_2018072014_unclassified_point_cloud_0000013.laz',\n",
       " '/gpfs/data1/vclgp/data/gedi/imported/usa/neon_yell2018/LAZ_ground/NEON_D12_YELL_DP1_L033-1_2018070414_unclassified_point_cloud_0000012.laz',\n",
       " '/gpfs/data1/vclgp/data/gedi/imported/usa/neon_yell2018/LAZ_ground/NEON_D12_YELL_DP1_L030-1_2018070414_unclassified_point_cloud_0000011.laz',\n",
       " '/gpfs/data1/vclgp/data/gedi/imported/usa/neon_yell2018/LAZ_ground/NEON_D12_YELL_DP1_L030-2_2018072014_unclassified_point_cloud_0000011.laz',\n",
       " '/gpfs/data1/vclgp/data/gedi/imported/usa/neon_yell2018/LAZ_ground/NEON_D12_YELL_DP1_L033-2_2018072014_unclassified_point_cloud_0000012.laz',\n",
       " '/gpfs/data1/vclgp/data/gedi/imported/usa/neon_yell2018/LAZ_ground/NEON_D12_YELL_DP1_L031-1_2018070414_unclassified_point_cloud_0000010.laz',\n",
       " '/gpfs/data1/vclgp/data/gedi/imported/usa/neon_yell2018/LAZ_ground/NEON_D12_YELL_DP1_L034-3_2018072014_unclassified_point_cloud_0000009.laz',\n",
       " '/gpfs/data1/vclgp/data/gedi/imported/usa/neon_yell2018/LAZ_ground/NEON_D12_YELL_DP1_L031-2_2018072014_unclassified_point_cloud_0000012.laz',\n",
       " '/gpfs/data1/vclgp/data/gedi/imported/usa/neon_yell2018/LAZ_ground/NEON_D12_YELL_DP1_L035-4_2018072014_unclassified_point_cloud_0000006.laz',\n",
       " '/gpfs/data1/vclgp/data/gedi/imported/usa/neon_yell2018/LAZ_ground/NEON_D12_YELL_DP1_L032-2_2018072014_unclassified_point_cloud_0000012.laz',\n",
       " '/gpfs/data1/vclgp/data/gedi/imported/usa/neon_yell2018/LAZ_ground/NEON_D12_YELL_DP1_L032-2_2018072014_unclassified_point_cloud_0000011.laz',\n",
       " '/gpfs/data1/vclgp/data/gedi/imported/usa/neon_yell2018/LAZ_ground/NEON_D12_YELL_DP1_L033-1_2018070414_unclassified_point_cloud_0000011.laz',\n",
       " '/gpfs/data1/vclgp/data/gedi/imported/usa/neon_yell2018/LAZ_ground/NEON_D12_YELL_DP1_L030-1_2018070414_unclassified_point_cloud_0000012.laz',\n",
       " '/gpfs/data1/vclgp/data/gedi/imported/usa/neon_yell2018/LAZ_ground/NEON_D12_YELL_DP1_L029-2_2018072014_unclassified_point_cloud_0000013.laz',\n",
       " '/gpfs/data1/vclgp/data/gedi/imported/usa/neon_yell2018/LAZ_ground/NEON_D12_YELL_DP1_L030-2_2018072014_unclassified_point_cloud_0000012.laz',\n",
       " '/gpfs/data1/vclgp/data/gedi/imported/usa/neon_yell2018/LAZ_ground/NEON_D12_YELL_DP1_L034-1_2018062714_unclassified_point_cloud_0000010.laz',\n",
       " '/gpfs/data1/vclgp/data/gedi/imported/usa/neon_yell2018/LAZ_ground/NEON_D12_YELL_DP1_L031-2_2018072014_unclassified_point_cloud_0000013.laz',\n",
       " '/gpfs/data1/vclgp/data/gedi/imported/usa/neon_yell2018/LAZ_ground/NEON_D12_YELL_DP1_L032-1_2018070414_unclassified_point_cloud_0000012.laz',\n",
       " '/gpfs/data1/vclgp/data/gedi/imported/usa/neon_yell2018/LAZ_ground/NEON_D12_YELL_DP1_L031-1_2018070414_unclassified_point_cloud_0000011.laz']"
      ]
     },
     "execution_count": 16,
     "metadata": {},
     "output_type": "execute_result"
    }
   ],
   "source": [
    "region='usa'\n",
    "name='neon_yell2018'\n",
    "laz_list = []\n",
    "laz_PATH = '/gpfs/data1/vclgp/data/gedi/imported'\n",
    "for f in files_list:\n",
    "    bs = f.replace(region+'_'+name + '_', '').replace('.parquet' , '.laz')\n",
    "    bs_laz_path = laz_PATH + '/' + region + '/' + name + '/LAZ_ground/' + bs\n",
    "    laz_list.append(bs_laz_path)\n",
    "laz_list"
   ]
  },
  {
   "cell_type": "code",
   "execution_count": 29,
   "id": "125b9308-15f9-4046-aad5-0e9de8a76008",
   "metadata": {},
   "outputs": [],
   "source": [
    "import laspy\n",
    "import numpy as np\n",
    "import geopandas as gpd\n",
    "from shapely.geometry import Point\n",
    "\n"
   ]
  },
  {
   "cell_type": "code",
   "execution_count": 30,
   "id": "63cdccd9-0cca-482b-83f2-a42f2d84df26",
   "metadata": {},
   "outputs": [],
   "source": []
  },
  {
   "cell_type": "code",
   "execution_count": 39,
   "id": "8f516225-2a2a-4618-9e7b-c728c5dc19d5",
   "metadata": {},
   "outputs": [],
   "source": [
    "from matplotlib.path import Path\n"
   ]
  },
  {
   "cell_type": "code",
   "execution_count": 40,
   "id": "f0c694b8-44c3-45d2-9419-80ef75c5dd9f",
   "metadata": {},
   "outputs": [],
   "source": []
  },
  {
   "cell_type": "code",
   "execution_count": 41,
   "id": "e308663e-1580-4fa1-9a7f-2ff91267c72b",
   "metadata": {},
   "outputs": [],
   "source": []
  },
  {
   "cell_type": "code",
   "execution_count": 43,
   "id": "a8e71c24-91df-4aaf-b880-797d85f0e065",
   "metadata": {},
   "outputs": [
    {
     "data": {
      "text/plain": [
       "<ScaleAwarePointRecord(fmt: <PointFormat(1, 0 bytes of extra dims)>, len: 747, point size: 28)>"
      ]
     },
     "execution_count": 43,
     "metadata": {},
     "output_type": "execute_result"
    }
   ],
   "source": []
  },
  {
   "cell_type": "code",
   "execution_count": 83,
   "id": "64319d82-944f-4164-a8dc-fee53a986402",
   "metadata": {},
   "outputs": [],
   "source": [
    "def clip_las_by_polygon(laz_path, polygon):\n",
    "    las = laspy.read(laz_path)\n",
    "    x = las.x\n",
    "    y = las.y\n",
    "    poly_path = Path(rec_20m_13m.exterior.coords)\n",
    "    points = np.column_stack((x, y))  # shape (N, 2)\n",
    "    mask = poly_path.contains_points(points)\n",
    "    clipped = laspy.create(point_format=las.header.point_format, file_version=las.header.version)\n",
    "    clipped.points = las.points[mask]\n",
    "    \n",
    "    return clipped"
   ]
  },
  {
   "cell_type": "code",
   "execution_count": 84,
   "id": "818452ef-169d-41e5-8d04-5c1c59536ed3",
   "metadata": {},
   "outputs": [],
   "source": [
    "c1 = clip_las_by_polygon(laz_list[1],rec_20m_13m)"
   ]
  },
  {
   "cell_type": "code",
   "execution_count": 85,
   "id": "55a2202c-cf14-4789-90de-a7eb4596df7b",
   "metadata": {},
   "outputs": [
    {
     "data": {
      "text/plain": [
       "<LasData(1.3, point fmt: <PointFormat(1, 0 bytes of extra dims)>, 747 points, 0 vlrs)>"
      ]
     },
     "execution_count": 85,
     "metadata": {},
     "output_type": "execute_result"
    }
   ],
   "source": [
    "c1"
   ]
  },
  {
   "cell_type": "code",
   "execution_count": 122,
   "id": "d5d02135-2270-4b6c-9481-f391128dbc1d",
   "metadata": {},
   "outputs": [],
   "source": [
    "def merge_clipped_las(laz_files, rectangle):\n",
    "    xyz_all = []\n",
    "    ground_xyz_all = []\n",
    "    for laz_path in laz_files:\n",
    "        try:\n",
    "            las = laspy.read(laz_path)\n",
    "            x = las.x\n",
    "            y = las.y\n",
    "            poly_path = Path(rectangle.exterior.coords)\n",
    "            points = np.column_stack((x, y))  # shape (N, 2)\n",
    "            mask = poly_path.contains_points(points)\n",
    "            clipped = laspy.create(point_format=las.header.point_format, file_version=las.header.version)\n",
    "            clipped.points = las.points[mask]\n",
    "            ground_xyz = clipped.xyz[clipped.classification == 2]\n",
    "            xyz = clipped.xyz\n",
    "            if len(clipped) > 0:\n",
    "                xyz_all.append(xyz)\n",
    "                ground_xyz_all.append(ground_xyz)\n",
    "                print(f\"Clipped {len(clipped)} points from {os.path.basename(laz_path)}\")\n",
    "            else:\n",
    "                print(f\"No points in {os.path.basename(laz_path)} inside polygon\")\n",
    "            del las\n",
    "        except Exception as e:\n",
    "            print(f\"Error reading {laz_path}: {e}\")\n",
    "    if not xyz_all:\n",
    "        print(\"No points found in any file. Output not written.\")\n",
    "    return np.concatenate(xyz_all, axis=0), np.concatenate(ground_xyz_all, axis=0)"
   ]
  },
  {
   "cell_type": "code",
   "execution_count": 120,
   "id": "7a31ee92-d569-4a86-94a4-b1e52d69e176",
   "metadata": {},
   "outputs": [
    {
     "data": {
      "text/plain": [
       "array([[5.35263453e+05, 4.98126382e+06, 1.92521300e+03],\n",
       "       [5.35261785e+05, 4.98126348e+06, 1.92513900e+03],\n",
       "       [5.35262408e+05, 4.98126336e+06, 1.92504500e+03],\n",
       "       ...,\n",
       "       [5.35262902e+05, 4.98124401e+06, 1.92240800e+03],\n",
       "       [5.35262246e+05, 4.98124383e+06, 1.92238500e+03],\n",
       "       [5.35264946e+05, 4.98124398e+06, 1.92259600e+03]])"
      ]
     },
     "execution_count": 120,
     "metadata": {},
     "output_type": "execute_result"
    }
   ],
   "source": []
  },
  {
   "cell_type": "code",
   "execution_count": 123,
   "id": "6648d447-1123-40f0-8f52-5fe14a3b7eab",
   "metadata": {},
   "outputs": [],
   "source": [
    "g = np.concatenate(ground_xyz_all, axis=0)"
   ]
  },
  {
   "cell_type": "code",
   "execution_count": 124,
   "id": "ab42edb6-88e4-4dd0-bd33-a5c8e9139b21",
   "metadata": {},
   "outputs": [
    {
     "data": {
      "text/plain": [
       "array([[5.35263453e+05, 4.98126382e+06, 1.92521300e+03],\n",
       "       [5.35261785e+05, 4.98126348e+06, 1.92513900e+03],\n",
       "       [5.35262408e+05, 4.98126336e+06, 1.92504500e+03],\n",
       "       ...,\n",
       "       [5.35262902e+05, 4.98124401e+06, 1.92240800e+03],\n",
       "       [5.35262246e+05, 4.98124383e+06, 1.92238500e+03],\n",
       "       [5.35264946e+05, 4.98124398e+06, 1.92259600e+03]])"
      ]
     },
     "execution_count": 124,
     "metadata": {},
     "output_type": "execute_result"
    }
   ],
   "source": [
    "g"
   ]
  },
  {
   "cell_type": "code",
   "execution_count": 127,
   "id": "5b9be30b-ad30-4a54-9984-5f097cf8f336",
   "metadata": {},
   "outputs": [],
   "source": [
    "import numpy as np\n",
    "\n",
    "def calculate_slope_from_points(xyz_ground):\n",
    "    # Extract coordinates\n",
    "    X = xyz_ground[:, 0]\n",
    "    Y = xyz_ground[:, 1]\n",
    "    Z = xyz_ground[:, 2]\n",
    "\n",
    "    # Build design matrix for plane fit: z = a*x + b*y + c\n",
    "    A = np.c_[X, Y, np.ones(X.shape)]\n",
    "\n",
    "    # Solve for plane coefficients [a, b, c] via least squares\n",
    "    coeff, _, _, _ = np.linalg.lstsq(A, Z, rcond=None)  # coeff = [a, b, c]\n",
    "\n",
    "    a, b, _ = coeff\n",
    "\n",
    "    # Plane normal vector = [-a, -b, 1]\n",
    "    normal = np.array([-a, -b, 1])\n",
    "    normal /= np.linalg.norm(normal)\n",
    "\n",
    "    # Slope = angle between normal and vertical axis (0,0,1)\n",
    "    slope_rad = np.arccos(np.dot(normal, [0, 0, 1]))\n",
    "    slope_deg = np.degrees(slope_rad)\n",
    "\n",
    "    return slope_deg"
   ]
  },
  {
   "cell_type": "code",
   "execution_count": 128,
   "id": "c593d0c0-3e7d-457c-9a18-2b4ae44b36ad",
   "metadata": {},
   "outputs": [
    {
     "data": {
      "text/plain": [
       "2.0171682464143577"
      ]
     },
     "execution_count": 128,
     "metadata": {},
     "output_type": "execute_result"
    }
   ],
   "source": [
    "calculate_slope_from_points(g)"
   ]
  },
  {
   "cell_type": "code",
   "execution_count": 143,
   "id": "40c1d87d-782e-4f34-b767-6183d6796296",
   "metadata": {},
   "outputs": [],
   "source": [
    "df  = pd.read_parquet('/gpfs/data1/vclgp/xiongl/ProjectIS2CalVal/result/result_als_stat/usa/neon_puum2020/df_ATL08_20221025153935_05331707_006_01_gt1r.parquet')"
   ]
  },
  {
   "cell_type": "code",
   "execution_count": 145,
   "id": "ba6f24a4-86f4-4777-a478-af23f0d0900d",
   "metadata": {},
   "outputs": [
    {
     "data": {
      "text/plain": [
       "315"
      ]
     },
     "execution_count": 145,
     "metadata": {},
     "output_type": "execute_result"
    }
   ],
   "source": [
    "len(df)"
   ]
  },
  {
   "cell_type": "code",
   "execution_count": 147,
   "id": "3e23478e-aaa4-419a-ab2f-3a228fb1df27",
   "metadata": {},
   "outputs": [
    {
     "data": {
      "text/plain": [
       "<AxesSubplot:>"
      ]
     },
     "execution_count": 147,
     "metadata": {},
     "output_type": "execute_result"
    },
    {
     "data": {
      "image/png": "[encoded data removed]",
      "text/plain": [
       "<Figure size 432x288 with 1 Axes>"
      ]
     },
     "metadata": {
      "needs_background": "light"
     },
     "output_type": "display_data"
    }
   ],
   "source": [
    "df.als_rh98.hist()"
   ]
  },
  {
   "cell_type": "code",
   "execution_count": 151,
   "id": "c0e1d2db-0bd8-4767-9807-26587de38da7",
   "metadata": {},
   "outputs": [],
   "source": [
    "a,b = (None, None)"
   ]
  },
  {
   "cell_type": "code",
   "execution_count": 154,
   "id": "1b873682-2102-4ade-9638-8d5746d40e36",
   "metadata": {},
   "outputs": [
    {
     "name": "stdout",
     "output_type": "stream",
     "text": [
      "skip\n"
     ]
    }
   ],
   "source": [
    "if not a: print('skip')"
   ]
  },
  {
   "cell_type": "code",
   "execution_count": 160,
   "id": "7a0dd6d3-8540-4500-90be-104202154635",
   "metadata": {},
   "outputs": [],
   "source": [
    "import geopandas as gpd\n",
    "s = pd.read_parquet('/gpfs/data1/vclgp/xiongl/ProjectIS2CalVal/result/result_als_stat/usa/neon_puum2020/df_ATL08_20221025153935_05331707_006_01_gt1r.parquet')"
   ]
  },
  {
   "cell_type": "code",
   "execution_count": 165,
   "id": "60da1ee7-8680-433a-abc0-a31c54f181d8",
   "metadata": {},
   "outputs": [],
   "source": [
    "t = pd.read_parquet('/gpfs/data1/vclgp/xiongl/ProjectIS2CalVal/result/simV3/usa/neon_niwo2020/rh_ATL08_20221124224239_09961702_006_01_gt3l.parquet')"
   ]
  },
  {
   "cell_type": "code",
   "execution_count": null,
   "id": "7c50d7d7-59e0-4f8d-902b-4f8aba4ac2e8",
   "metadata": {},
   "outputs": [],
   "source": []
  },
  {
   "cell_type": "code",
   "execution_count": 167,
   "id": "ed1d2e8b-04d8-48e5-88d8-edac9a97bc89",
   "metadata": {},
   "outputs": [],
   "source": [
    "VALID_SITES = ['amani','csir_agincourt', 'csir_dnyala', 'csir_ireagh', 'csir_justicia', 'csir_venetia', 'csir_welverdient', 'drc_ghent_field_32635', \n",
    "               'drc_ghent_field_32733', 'drc_ghent_field_32734', 'gsfc_mozambique', 'jpl_lope', 'jpl_rabi', 'tanzania_wwf_germany', 'khaoyai_thailand', \n",
    "               'chowilla', 'credo', 'karawatha', 'litchfield', 'rushworth_forests', 'tern_alice_mulga', 'tern_robson_whole', 'costarica_laselva2019', \n",
    "               'skidmore_bayerischer', 'zofin_180607', 'spain_exts1', 'spain_exts2', 'spain_exts3', 'spain_exts4', 'spain_leonposada', 'spain_leon1', \n",
    "               'spain_leon2', 'spain_leon3', 'jpl_borneo_004', 'jpl_borneo_013', 'jpl_borneo_040', 'jpl_borneo_119', 'jpl_borneo_144', 'chave_paracou', \n",
    "               'embrapa_brazil_2020_and_a01', 'embrapa_brazil_2020_bon_a01', 'embrapa_brazil_2020_cau_a01', 'embrapa_brazil_2020_duc_a01', \n",
    "               'embrapa_brazil_2020_hum_a01', 'embrapa_brazil_2020_par_a01', 'embrapa_brazil_2020_rib_a01', 'embrapa_brazil_2020_tal_a01',\n",
    "               'embrapa_brazil_2020_tan_a01', 'embrapa_brazil_2020_tap_a01', 'embrapa_brazil_2020_tap_a04', 'walkerfire_20191007', \n",
    "               'neon_abby2018', 'neon_abby2019', 'neon_abby2021', 'neon_bart2018', 'neon_bart2019', 'neon_blan2019', 'neon_blan2021', \n",
    "               'neon_clbj2018', 'neon_clbj2019', 'neon_clbj2021', 'neon_clbj2021', 'neon_dela2018', 'neon_dela2019', 'neon_dela2021', \n",
    "               'neon_dsny2018', 'neon_dsny2021', 'neon_grsm2018', 'neon_grsm2021', 'neon_guan2018', 'neon_harv2018', 'neon_harv2019', \n",
    "               'neon_jerc2019', 'neon_jerc2021', 'neon_jorn2018', 'neon_jorn2019', 'neon_jorn2021', 'neon_konz2019', 'neon_konz2020', \n",
    "               'neon_leno2018', 'neon_leno2019', 'neon_leno2021', 'neon_mlbs2018', 'neon_mlbs2021', 'neon_moab2018', 'neon_moab2021', \n",
    "               'neon_niwo2019', 'neon_niwo2020', 'neon_nogp2021', 'neon_onaq2019', 'neon_onaq2021', 'neon_osbs2018', 'neon_osbs2019', \n",
    "               'neon_osbs2021', 'neon_puum2020', 'neon_rmnp2018', 'neon_rmnp2020', 'neon_scbi2019', 'neon_scbi2021', 'neon_serc2019', \n",
    "               'neon_serc2021', 'neon_sjer2019', 'neon_soap2018', 'neon_soap2019', 'neon_soap2021', 'neon_srer2019', 'neon_srer2021', \n",
    "               'neon_stei2019', 'neon_stei2020', 'neon_ster2021', 'neon_tall2018', 'neon_tall2019', 'neon_tall2021', 'neon_teak2021', \n",
    "               'neon_ukfs2018', 'neon_ukfs2019', 'neon_ukfs2020', 'neon_unde2019', 'neon_unde2020', 'neon_wood2021', 'neon_wref2019', \n",
    "               'neon_wref2021', 'neon_yell2018', 'neon_yell2019', 'neon_yell2020', \n",
    "               'neon_blan2022', 'neon_clbj2022', 'neon_grsm2022', 'neon_moab2022', 'neon_onaq2022', 'neon_rmnp2022', 'neon_serc2022', \n",
    "               'neon_stei2022', 'neon_steicheq2022', 'neon_ster2022', 'neon_unde2022', 'inpe_brazil31983', 'inpe_brazil31981', \n",
    "               'inpe_brazil31979', 'inpe_brazil31976', 'inpe_brazil31975', 'inpe_brazil31973', 'inpe_brazil31974', 'inpe_brazil31978', \n",
    "               'csir_limpopo','jrsrp_ilcp2015_wholeq6']"
   ]
  },
  {
   "cell_type": "code",
   "execution_count": 168,
   "id": "e177e0b2-4f8f-4915-bef3-700ab77be727",
   "metadata": {},
   "outputs": [
    {
     "data": {
      "text/plain": [
       "146"
      ]
     },
     "execution_count": 168,
     "metadata": {},
     "output_type": "execute_result"
    }
   ],
   "source": [
    "len(VALID_SITES)"
   ]
  },
  {
   "cell_type": "code",
   "execution_count": 170,
   "id": "9fa6cebe-4aa6-420a-98bc-fdc6f920648d",
   "metadata": {},
   "outputs": [],
   "source": [
    "with open(\"/gpfs/data1/vclgp/xiongl/cluster/cluster04/valid_als_sites.txt\", \"w\") as f:\n",
    "    for site in VALID_SITES[:10]:\n",
    "        f.write(site + \"\\n\")\n",
    "with open(\"/gpfs/data1/vclgp/xiongl/cluster/cluster07/valid_als_sites.txt\", \"w\") as f:\n",
    "    for site in VALID_SITES[10:40]:\n",
    "        f.write(site + \"\\n\")\n",
    "with open(\"/gpfs/data1/vclgp/xiongl/cluster/cluster08/valid_als_sites.txt\", \"w\") as f:\n",
    "    for site in VALID_SITES[40:70]:\n",
    "        f.write(site + \"\\n\")\n",
    "with open(\"/gpfs/data1/vclgp/xiongl/cluster/cluster13/valid_als_sites.txt\", \"w\") as f:\n",
    "    for site in VALID_SITES[70:100]:\n",
    "        f.write(site + \"\\n\")\n",
    "with open(\"/gpfs/data1/vclgp/xiongl/cluster/cluster14/valid_als_sites.txt\", \"w\") as f:\n",
    "    for site in VALID_SITES[100:130]:\n",
    "        f.write(site + \"\\n\")\n",
    "with open(\"/gpfs/data1/vclgp/xiongl/cluster/clusterx1/valid_als_sites.txt\", \"w\") as f:\n",
    "    for site in VALID_SITES[130:135]:\n",
    "        f.write(site + \"\\n\")\n",
    "with open(\"/gpfs/data1/vclgp/xiongl/cluster/clusterx2/valid_als_sites.txt\", \"w\") as f:\n",
    "    for site in VALID_SITES[135:140]:\n",
    "        f.write(site + \"\\n\")\n",
    "with open(\"/gpfs/data1/vclgp/xiongl/cluster/clusterx3/valid_als_sites.txt\", \"w\") as f:\n",
    "    for site in VALID_SITES[140:]:\n",
    "        f.write(site + \"\\n\")"
   ]
  },
  {
   "cell_type": "code",
   "execution_count": 174,
   "id": "0c8447dc-807b-49d7-ae3b-874d174de110",
   "metadata": {},
   "outputs": [],
   "source": [
    "# prepare commands\n",
    "cmd = \"python /gpfs/data1/vclgp/xiongl/ProjectIS2CalVal/is2_calval/src/is2_simulation_20m.py --file valid_als_sites.txt --sim --metric --prepare\"\n",
    "with open(\"/gpfs/data1/vclgp/xiongl/cluster/cluster04/is2sim.sh\", \"w\") as f:\n",
    "        f.write(cmd + ' --workers 16   ')\n",
    "with open(\"/gpfs/data1/vclgp/xiongl/cluster/cluster07/is2sim.sh\", \"w\") as f:\n",
    "        f.write(cmd + ' --workers 35   ')\n",
    "with open(\"/gpfs/data1/vclgp/xiongl/cluster/cluster08/is2sim.sh\", \"w\") as f:\n",
    "        f.write(cmd + ' --workers 35   ')\n",
    "with open(\"/gpfs/data1/vclgp/xiongl/cluster/cluster13/is2sim.sh\", \"w\") as f:\n",
    "        f.write(cmd + ' --workers 35   ')\n",
    "with open(\"/gpfs/data1/vclgp/xiongl/cluster/cluster14/is2sim.sh\", \"w\") as f:\n",
    "        f.write(cmd + ' --workers 35   ')\n",
    "with open(\"/gpfs/data1/vclgp/xiongl/cluster/clusterx1/is2sim.sh\", \"w\") as f:\n",
    "        f.write(cmd + ' --workers 7   ')\n",
    "with open(\"/gpfs/data1/vclgp/xiongl/cluster/clusterx2/is2sim.sh\", \"w\") as f:\n",
    "        f.write(cmd + ' --workers 7   ')\n",
    "with open(\"/gpfs/data1/vclgp/xiongl/cluster/clusterx3/is2sim.sh\", \"w\") as f:\n",
    "        f.write(cmd + ' --workers 7   ')"
   ]
  },
  {
   "cell_type": "code",
   "execution_count": null,
   "id": "326af6a2-9935-44cd-9901-8f8aba9c4547",
   "metadata": {},
   "outputs": [],
   "source": []
  }
 ],
 "metadata": {
  "kernelspec": {
   "display_name": "Python 3 (ipykernel)",
   "language": "python",
   "name": "python3"
  },
  "language_info": {
   "codemirror_mode": {
    "name": "ipython",
    "version": 3
   },
   "file_extension": ".py",
   "mimetype": "text/x-python",
   "name": "python",
   "nbconvert_exporter": "python",
   "pygments_lexer": "ipython3",
   "version": "3.10.4"
  }
 },
 "nbformat": 4,
 "nbformat_minor": 5
}
