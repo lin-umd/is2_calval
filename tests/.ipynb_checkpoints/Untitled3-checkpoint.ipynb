{
 "cells": [
  {
   "cell_type": "code",
   "execution_count": 2,
   "id": "f70f447e-2ccd-4a09-8ab2-aa15e936555e",
   "metadata": {},
   "outputs": [],
   "source": [
    "# test gediRat how long to run ? "
   ]
  },
  {
   "cell_type": "code",
   "execution_count": 4,
   "id": "6a909508-d3d6-483a-8a87-a205bd6b91d7",
   "metadata": {},
   "outputs": [],
   "source": [
    "# foot prints in file\n",
    "file = \"/gpfs/data1/vclgp/xiongl/ProjectIS2CalVal/result/simV3/europe/skidmore_bayerischer/coordinates_ATL08_20200729193212_05260806_006_01_gt2l.txt\""
   ]
  },
  {
   "cell_type": "code",
   "execution_count": 9,
   "id": "67c44be7-1e49-4079-a6d9-febcf62a36f8",
   "metadata": {},
   "outputs": [
    {
     "data": {
      "text/plain": [
       "'/gpfs/data1/vclgp/xiongl/ProjectIS2CalVal/result/simV3/europe/skidmore_bayerischer/alslist_ATL08_20200729193212_05260806_006_01_gt2l.txt'"
      ]
     },
     "execution_count": 9,
     "metadata": {},
     "output_type": "execute_result"
    }
   ],
   "source": [
    "# asl in file \n",
    "als  = file.replace('coordinates','alslist')\n",
    "als"
   ]
  },
  {
   "cell_type": "code",
   "execution_count": 10,
   "id": "c4767beb-205d-419d-8f9f-fda65512e978",
   "metadata": {},
   "outputs": [],
   "source": [
    "coor_test = '/gpfs/data1/vclgp/xiongl/ProjectIS2CalVal/tmp/coor.txt'\n",
    "out_w  = '/gpfs/data1/vclgp/xiongl/ProjectIS2CalVal/tmp/test.h5'"
   ]
  },
  {
   "cell_type": "code",
   "execution_count": 16,
   "id": "1d6d9fdb-d0bc-4454-a4f3-4ef648bfeaf2",
   "metadata": {},
   "outputs": [],
   "source": [
    "# simulate one \n",
    "Pulse_PATH = '/gpfs/data1/vclgp/xiongl/ProjectIS2CalVal/data/20190821.gt1l.pulse'\n",
    "cmd = f\"time gediRat -fSigma 2.75 -readPulse {Pulse_PATH} -inList {als} -listCoord {coor_test}  -output {out_w } -hdf  -ground\""
   ]
  },
  {
   "cell_type": "code",
   "execution_count": 17,
   "id": "4e5daf9e-f708-4fb3-91c7-42b3c6c2e06d",
   "metadata": {},
   "outputs": [
    {
     "data": {
      "text/plain": [
       "'time gediRat -fSigma 2.75 -readPulse /gpfs/data1/vclgp/xiongl/ProjectIS2CalVal/data/20190821.gt1l.pulse -inList /gpfs/data1/vclgp/xiongl/ProjectIS2CalVal/result/simV3/europe/skidmore_bayerischer/alslist_ATL08_20200729193212_05260806_006_01_gt2l.txt -listCoord /gpfs/data1/vclgp/xiongl/ProjectIS2CalVal/tmp/coor.txt  -output /gpfs/data1/vclgp/xiongl/ProjectIS2CalVal/tmp/test.h5 -hdf  -ground'"
      ]
     },
     "execution_count": 17,
     "metadata": {},
     "output_type": "execute_result"
    }
   ],
   "source": [
    "cmd"
   ]
  },
  {
   "cell_type": "markdown",
   "id": "b2f1f344-11a6-4feb-b898-e7273ee638a4",
   "metadata": {},
   "source": [
    "# 5k footprints test "
   ]
  },
  {
   "cell_type": "markdown",
   "id": "8b63d7ea-4fa8-461d-9c81-2c443145529e",
   "metadata": {},
   "source": [
    "### take time \n",
    "### real    24m16.391s\n",
    "### user    23m31.851s\n",
    "### sys     0m6.934s "
   ]
  },
  {
   "cell_type": "code",
   "execution_count": 22,
   "id": "0d3720bc-323a-42de-8d2d-f1e56622ad5d",
   "metadata": {},
   "outputs": [
    {
     "data": {
      "text/plain": [
       "'\\n5000 footprints.\\n# 5m diameter --> 400 points \\n# float32\\t12 bytes\\t~23 MB\\n# float64\\t24 bytes\\t~46 MB\\n'"
      ]
     },
     "execution_count": 22,
     "metadata": {},
     "output_type": "execute_result"
    }
   ],
   "source": [
    "'''\n",
    "5000 footprints.\n",
    "# 5m diameter --> 400 points \n",
    "# float32\t12 bytes\t~23 MB\n",
    "# float64\t24 bytes\t~46 MB\n",
    "'''"
   ]
  },
  {
   "cell_type": "code",
   "execution_count": 33,
   "id": "a3ed9ae0-b7dc-4d87-8839-c2c7be7c69e4",
   "metadata": {},
   "outputs": [],
   "source": [
    "#Waveforms written to /gpfs/data1/vclgp/xiongl/ProjectIS2CalVal/result/splitV3/wave_ATL08_20220213041638_08081402_006_01_gt1l_4.h5\n",
    "#real    4m46.276s"
   ]
  },
  {
   "cell_type": "markdown",
   "id": "bd22ae97-e3fd-4400-9cbd-a89808db4ce7",
   "metadata": {},
   "source": [
    "# gediRat considers all the loaded ALS files to find the points that fall within the footprint area."
   ]
  },
  {
   "cell_type": "code",
   "execution_count": 26,
   "id": "4c79094a-1cb4-42bd-bda4-c544c3393a9c",
   "metadata": {},
   "outputs": [],
   "source": [
    "import pandas as pd\n",
    "df_1 = pd.read_parquet('/gpfs/data1/vclgp/xiongl/ProjectIS2CalVal/result/result_als_stat/southamerica/inpe_brazil31981/df_ATL08_20220919104428_13671608_006_01_gt2r.parquet')"
   ]
  },
  {
   "cell_type": "code",
   "execution_count": 31,
   "id": "937daf2b-045d-4e23-9c5b-ddf8b5ece6d0",
   "metadata": {},
   "outputs": [
    {
     "data": {
      "text/plain": [
       "0    26.7874\n",
       "Name: als_rh98, dtype: float64"
      ]
     },
     "execution_count": 31,
     "metadata": {},
     "output_type": "execute_result"
    }
   ],
   "source": [
    "df_1.als_rh98"
   ]
  },
  {
   "cell_type": "code",
   "execution_count": 35,
   "id": "928c6a4a-4935-4c98-9b7f-b7c5c51d1330",
   "metadata": {},
   "outputs": [],
   "source": [
    "# Waveforms written to /gpfs/data1/vclgp/xiongl/ProjectIS2CalVal/result/splitV3/wave_ATL08_20211227185523_00841406_006_01_gt2l_01.h5\n",
    "\n",
    "# real    15m19.509s\n",
    "# user    14m57.108s\n",
    "# sys     0m3.684s"
   ]
  },
  {
   "cell_type": "code",
   "execution_count": 36,
   "id": "b88cdd5e-f7e7-463e-b110-fe28ec46b2dc",
   "metadata": {},
   "outputs": [
    {
     "name": "stdout",
     "output_type": "stream",
     "text": [
      "read all coordintes.txt files\n"
     ]
    }
   ],
   "source": [
    "import glob,os\n",
    "import pandas as pd\n",
    "import shutil\n",
    "\n",
    "output_dir =    '/gpfs/data1/vclgp/xiongl/ProjectIS2CalVal/result'\n",
    "simV3_dir = output_dir + '/simV3'\n",
    "print('read all coordintes.txt files')\n",
    "files = glob.glob(simV3_dir +\"/europe/skidmore_bayerischer/coordinates_*.txt\")\n",
    "# Build the data list using a list comprehension\n",
    "data = [\n",
    "    {\n",
    "        'file': file,\n",
    "        'footprint_count': sum(1 for _ in open(file, 'r')),\n",
    "        'region': os.path.basename(os.path.dirname(os.path.dirname(file))),  # Extract region\n",
    "        'name': os.path.basename(os.path.dirname(file))  # Extract name\n",
    "    }\n",
    "    for file in files\n",
    "]"
   ]
  },
  {
   "cell_type": "code",
   "execution_count": 54,
   "id": "bc739070-e383-4c66-91a5-ff7f783d4df9",
   "metadata": {},
   "outputs": [],
   "source": [
    "import re\n",
    "import geopandas as gpd\n",
    "f = '/gpfs/data1/vclgp/xiongl/ProjectIS2CalVal/result/simV3/europe/skidmore_bayerischer/df_ATL08_20220213041638_08081402_006_01_gt1l.parquet'\n",
    "df = gpd.read_parquet(f)"
   ]
  },
  {
   "cell_type": "code",
   "execution_count": 55,
   "id": "d83edc99-8768-4e98-98b9-2d020e407aac",
   "metadata": {},
   "outputs": [
    {
     "data": {
      "text/plain": [
       "4"
      ]
     },
     "execution_count": 55,
     "metadata": {},
     "output_type": "execute_result"
    }
   ],
   "source": [
    "(len(df) + 199) // 200"
   ]
  },
  {
   "cell_type": "code",
   "execution_count": 52,
   "id": "7a3bb4c5-6627-4d53-a5b4-cead4eb2d08b",
   "metadata": {},
   "outputs": [
    {
     "data": {
      "text/plain": [
       "1"
      ]
     },
     "execution_count": 52,
     "metadata": {},
     "output_type": "execute_result"
    }
   ],
   "source": [
    "(5 + 199) // 200"
   ]
  },
  {
   "cell_type": "code",
   "execution_count": 60,
   "id": "4581c073-677d-412c-87d0-c20d0bb6b28b",
   "metadata": {},
   "outputs": [
    {
     "name": "stdout",
     "output_type": "stream",
     "text": [
      "394238.1448572084\n"
     ]
    }
   ],
   "source": [
    "for row in df.itertuples(index=True):\n",
    "    print(row.e)\n",
    "    break"
   ]
  },
  {
   "cell_type": "code",
   "execution_count": 63,
   "id": "b9d3f639-6ef0-4501-a5cd-8a35081cd6b0",
   "metadata": {},
   "outputs": [],
   "source": [
    "# check if coordinates are in order ?\n",
    "f = '/gpfs/data1/vclgp/xiongl/ProjectIS2CalVal/result/splitV3/usa/neon_grsm2018/coordinates_ATL08_20230128061946_05911806_006_01_gt3r_2.txt'"
   ]
  },
  {
   "cell_type": "code",
   "execution_count": 64,
   "id": "368da9e2-2d9c-4fd7-8a96-0dafad789971",
   "metadata": {},
   "outputs": [
    {
     "name": "stdout",
     "output_type": "stream",
     "text": [
      "                  X             Y\n",
      "0     275668.400014  3.941511e+06\n",
      "1     275668.491124  3.941512e+06\n",
      "2     275668.582233  3.941513e+06\n",
      "3     275668.673342  3.941513e+06\n",
      "4     275668.764452  3.941514e+06\n",
      "...             ...           ...\n",
      "5595  276291.371912  3.946020e+06\n",
      "5596  276291.463022  3.946021e+06\n",
      "5597  276291.554131  3.946021e+06\n",
      "5598  276291.645240  3.946022e+06\n",
      "5599  276291.736350  3.946023e+06\n",
      "\n",
      "[5600 rows x 2 columns]\n"
     ]
    }
   ],
   "source": [
    "import pandas as pd\n",
    "\n",
    "# Read the coordinates file into a DataFrame\n",
    "df = pd.read_csv(f, sep=' ', header=None, names=['X', 'Y'])\n",
    "\n",
    "# Sort the DataFrame by the second column (Y)\n",
    "df_sorted = df.sort_values(by='Y')\n",
    "\n",
    "# Print or save the sorted data\n",
    "print(df_sorted)\n",
    "\n",
    "# Save the sorted data back to a file if needed\n",
    "#df_sorted.to_csv('sorted_coordinates.txt', sep=' ', header=False, index=False)"
   ]
  },
  {
   "cell_type": "code",
   "execution_count": 65,
   "id": "57239758-d2db-4328-b276-9a97ee7ef06d",
   "metadata": {},
   "outputs": [
    {
     "data": {
      "text/html": [
       "<div>\n",
       "<style scoped>\n",
       "    .dataframe tbody tr th:only-of-type {\n",
       "        vertical-align: middle;\n",
       "    }\n",
       "\n",
       "    .dataframe tbody tr th {\n",
       "        vertical-align: top;\n",
       "    }\n",
       "\n",
       "    .dataframe thead th {\n",
       "        text-align: right;\n",
       "    }\n",
       "</style>\n",
       "<table border=\"1\" class=\"dataframe\">\n",
       "  <thead>\n",
       "    <tr style=\"text-align: right;\">\n",
       "      <th></th>\n",
       "      <th>X</th>\n",
       "      <th>Y</th>\n",
       "    </tr>\n",
       "  </thead>\n",
       "  <tbody>\n",
       "    <tr>\n",
       "      <th>0</th>\n",
       "      <td>275668.400014</td>\n",
       "      <td>3.941511e+06</td>\n",
       "    </tr>\n",
       "    <tr>\n",
       "      <th>1</th>\n",
       "      <td>275668.491124</td>\n",
       "      <td>3.941512e+06</td>\n",
       "    </tr>\n",
       "    <tr>\n",
       "      <th>2</th>\n",
       "      <td>275668.582233</td>\n",
       "      <td>3.941513e+06</td>\n",
       "    </tr>\n",
       "    <tr>\n",
       "      <th>3</th>\n",
       "      <td>275668.673342</td>\n",
       "      <td>3.941513e+06</td>\n",
       "    </tr>\n",
       "    <tr>\n",
       "      <th>4</th>\n",
       "      <td>275668.764452</td>\n",
       "      <td>3.941514e+06</td>\n",
       "    </tr>\n",
       "    <tr>\n",
       "      <th>...</th>\n",
       "      <td>...</td>\n",
       "      <td>...</td>\n",
       "    </tr>\n",
       "    <tr>\n",
       "      <th>5595</th>\n",
       "      <td>276291.371912</td>\n",
       "      <td>3.946020e+06</td>\n",
       "    </tr>\n",
       "    <tr>\n",
       "      <th>5596</th>\n",
       "      <td>276291.463022</td>\n",
       "      <td>3.946021e+06</td>\n",
       "    </tr>\n",
       "    <tr>\n",
       "      <th>5597</th>\n",
       "      <td>276291.554131</td>\n",
       "      <td>3.946021e+06</td>\n",
       "    </tr>\n",
       "    <tr>\n",
       "      <th>5598</th>\n",
       "      <td>276291.645240</td>\n",
       "      <td>3.946022e+06</td>\n",
       "    </tr>\n",
       "    <tr>\n",
       "      <th>5599</th>\n",
       "      <td>276291.736350</td>\n",
       "      <td>3.946023e+06</td>\n",
       "    </tr>\n",
       "  </tbody>\n",
       "</table>\n",
       "<p>5600 rows × 2 columns</p>\n",
       "</div>"
      ],
      "text/plain": [
       "                  X             Y\n",
       "0     275668.400014  3.941511e+06\n",
       "1     275668.491124  3.941512e+06\n",
       "2     275668.582233  3.941513e+06\n",
       "3     275668.673342  3.941513e+06\n",
       "4     275668.764452  3.941514e+06\n",
       "...             ...           ...\n",
       "5595  276291.371912  3.946020e+06\n",
       "5596  276291.463022  3.946021e+06\n",
       "5597  276291.554131  3.946021e+06\n",
       "5598  276291.645240  3.946022e+06\n",
       "5599  276291.736350  3.946023e+06\n",
       "\n",
       "[5600 rows x 2 columns]"
      ]
     },
     "execution_count": 65,
     "metadata": {},
     "output_type": "execute_result"
    }
   ],
   "source": [
    "df"
   ]
  },
  {
   "cell_type": "code",
   "execution_count": 67,
   "id": "9b30cebd-a694-4bef-af64-abd61976324d",
   "metadata": {},
   "outputs": [
    {
     "data": {
      "text/plain": [
       "'/gpfs/data1/vclgp/xiongl/ProjectIS2CalVal/result/splitV3/usa/neon_rmnp2022/wave_ATL08_20210826083909_09731206_006_01_gt1r'"
      ]
     },
     "execution_count": 67,
     "metadata": {},
     "output_type": "execute_result"
    }
   ],
   "source": [
    "'/gpfs/data1/vclgp/xiongl/ProjectIS2CalVal/result/splitV3/usa/neon_rmnp2022/wave_ATL08_20210826083909_09731206_006_01_gt1r.h5'[:-3]"
   ]
  },
  {
   "cell_type": "code",
   "execution_count": 77,
   "id": "415a40fb-f6a1-407c-ac5e-34887e5ff04c",
   "metadata": {},
   "outputs": [],
   "source": [
    "files = ['/gpfs/data1/vclgp/xiongl/ProjectIS2CalVal/tmp/special/coordinates_ATL08_20220113163740_03421408_006_01_gt3l_1.txt']"
   ]
  },
  {
   "cell_type": "code",
   "execution_count": 78,
   "id": "b4c28632-2072-40b0-bee8-150c1faf3383",
   "metadata": {},
   "outputs": [],
   "source": [
    "data = [\n",
    "    {\n",
    "        'file': file,\n",
    "        'footprint_count': sum(1 for _ in open(file, 'r')),\n",
    "        'region': os.path.basename(os.path.dirname(os.path.dirname(file))),  # Extract region\n",
    "        'name': os.path.basename(os.path.dirname(file))  # Extract name\n",
    "    }\n",
    "    for file in files\n",
    "]"
   ]
  },
  {
   "cell_type": "code",
   "execution_count": 79,
   "id": "037eb3aa-0782-4aef-847d-e49eb2c2e3d2",
   "metadata": {},
   "outputs": [],
   "source": [
    "df = pd.DataFrame(data)"
   ]
  },
  {
   "cell_type": "code",
   "execution_count": 80,
   "id": "2ca6a46e-9c34-406d-be4e-2aa7f30b40d7",
   "metadata": {},
   "outputs": [
    {
     "data": {
      "text/html": [
       "<div>\n",
       "<style scoped>\n",
       "    .dataframe tbody tr th:only-of-type {\n",
       "        vertical-align: middle;\n",
       "    }\n",
       "\n",
       "    .dataframe tbody tr th {\n",
       "        vertical-align: top;\n",
       "    }\n",
       "\n",
       "    .dataframe thead th {\n",
       "        text-align: right;\n",
       "    }\n",
       "</style>\n",
       "<table border=\"1\" class=\"dataframe\">\n",
       "  <thead>\n",
       "    <tr style=\"text-align: right;\">\n",
       "      <th></th>\n",
       "      <th>file</th>\n",
       "      <th>footprint_count</th>\n",
       "      <th>region</th>\n",
       "      <th>name</th>\n",
       "    </tr>\n",
       "  </thead>\n",
       "  <tbody>\n",
       "    <tr>\n",
       "      <th>0</th>\n",
       "      <td>/gpfs/data1/vclgp/xiongl/ProjectIS2CalVal/tmp/...</td>\n",
       "      <td>5600</td>\n",
       "      <td>tmp</td>\n",
       "      <td>special</td>\n",
       "    </tr>\n",
       "  </tbody>\n",
       "</table>\n",
       "</div>"
      ],
      "text/plain": [
       "                                                file  footprint_count region  \\\n",
       "0  /gpfs/data1/vclgp/xiongl/ProjectIS2CalVal/tmp/...             5600    tmp   \n",
       "\n",
       "      name  \n",
       "0  special  "
      ]
     },
     "execution_count": 80,
     "metadata": {},
     "output_type": "execute_result"
    }
   ],
   "source": [
    "df"
   ]
  },
  {
   "cell_type": "code",
   "execution_count": 83,
   "id": "8367d775-938c-4041-985c-923a16aabb43",
   "metadata": {},
   "outputs": [
    {
     "name": "stdout",
     "output_type": "stream",
     "text": [
      "Saved /gpfs/data1/vclgp/xiongl/ProjectIS2CalVal/tmp/special/coordinates_ATL08_20220113163740_03421408_006_01_gt3l_1_1.txt\n",
      "Saved /gpfs/data1/vclgp/xiongl/ProjectIS2CalVal/tmp/special/coordinates_ATL08_20220113163740_03421408_006_01_gt3l_1_2.txt\n",
      "Saved /gpfs/data1/vclgp/xiongl/ProjectIS2CalVal/tmp/special/coordinates_ATL08_20220113163740_03421408_006_01_gt3l_1_3.txt\n",
      "Saved /gpfs/data1/vclgp/xiongl/ProjectIS2CalVal/tmp/special/coordinates_ATL08_20220113163740_03421408_006_01_gt3l_1_4.txt\n",
      "Saved /gpfs/data1/vclgp/xiongl/ProjectIS2CalVal/tmp/special/coordinates_ATL08_20220113163740_03421408_006_01_gt3l_1_5.txt\n"
     ]
    }
   ],
   "source": [
    "out_path='/gpfs/data1/vclgp/xiongl/ProjectIS2CalVal/tmp/special'\n",
    "for row in df.itertuples():\n",
    "    with open(row.file, 'r') as infile:\n",
    "        lines = infile.readlines()\n",
    "    chunk_size = 1120\n",
    "    basename = os.path.basename(row.file)\n",
    "    for i in range(0, len(lines), chunk_size):\n",
    "        chunk = lines[i:i + chunk_size]\n",
    "        output_file = f\"{out_path}/{basename[:-4]}_{i // chunk_size + 1}.txt\"\n",
    "        with open(output_file, 'w') as outfile: # overwrite?\n",
    "            outfile.writelines(chunk)\n",
    "        print(f\"Saved {output_file}\")"
   ]
  },
  {
   "cell_type": "code",
   "execution_count": null,
   "id": "4f9e14e5-0267-47f1-bbb5-46498f1f8dc8",
   "metadata": {},
   "outputs": [],
   "source": [
    "# file 3 problem ?"
   ]
  },
  {
   "cell_type": "code",
   "execution_count": null,
   "id": "47724f2a-4a31-4de3-afa1-3329c8cfcd86",
   "metadata": {},
   "outputs": [],
   "source": [
    "# start from ? 332192.722359 7275946.176754\n",
    "# end from ? 332196.963004 7275993.61109"
   ]
  },
  {
   "cell_type": "code",
   "execution_count": 99,
   "id": "bb21f09b-902f-4a20-a121-d381168ae0b9",
   "metadata": {},
   "outputs": [],
   "source": [
    "files = glob.glob('/gpfs/data1/vclgp/xiongl/ProjectIS2CalVal/result/splitV3/*/*/coor*gt*_*_*.txt')"
   ]
  },
  {
   "cell_type": "code",
   "execution_count": 100,
   "id": "8ae86aa9-adaa-4286-8dd9-cfd88e4e8c21",
   "metadata": {},
   "outputs": [
    {
     "data": {
      "text/plain": [
       "0"
      ]
     },
     "execution_count": 100,
     "metadata": {},
     "output_type": "execute_result"
    }
   ],
   "source": [
    "len(files)"
   ]
  },
  {
   "cell_type": "code",
   "execution_count": null,
   "id": "2a497e2f-50b5-485c-9b03-1ce7238023b2",
   "metadata": {},
   "outputs": [],
   "source": []
  },
  {
   "cell_type": "code",
   "execution_count": null,
   "id": "ce75de71-7a2e-48b4-9108-62b60bf18803",
   "metadata": {},
   "outputs": [],
   "source": []
  }
 ],
 "metadata": {
  "kernelspec": {
   "display_name": "Python 3 (ipykernel)",
   "language": "python",
   "name": "python3"
  },
  "language_info": {
   "codemirror_mode": {
    "name": "ipython",
    "version": 3
   },
   "file_extension": ".py",
   "mimetype": "text/x-python",
   "name": "python",
   "nbconvert_exporter": "python",
   "pygments_lexer": "ipython3",
   "version": "3.10.4"
  }
 },
 "nbformat": 4,
 "nbformat_minor": 5
}
