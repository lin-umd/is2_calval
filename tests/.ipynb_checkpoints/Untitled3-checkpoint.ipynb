{
 "cells": [
  {
   "cell_type": "code",
   "execution_count": 2,
   "id": "f70f447e-2ccd-4a09-8ab2-aa15e936555e",
   "metadata": {},
   "outputs": [],
   "source": [
    "# test gediRat how long to run ? "
   ]
  },
  {
   "cell_type": "code",
   "execution_count": 4,
   "id": "6a909508-d3d6-483a-8a87-a205bd6b91d7",
   "metadata": {},
   "outputs": [],
   "source": [
    "# foot prints in file\n",
    "file = \"/gpfs/data1/vclgp/xiongl/ProjectIS2CalVal/result/simV3/europe/skidmore_bayerischer/coordinates_ATL08_20200729193212_05260806_006_01_gt2l.txt\""
   ]
  },
  {
   "cell_type": "code",
   "execution_count": 9,
   "id": "67c44be7-1e49-4079-a6d9-febcf62a36f8",
   "metadata": {},
   "outputs": [
    {
     "data": {
      "text/plain": [
       "'/gpfs/data1/vclgp/xiongl/ProjectIS2CalVal/result/simV3/europe/skidmore_bayerischer/alslist_ATL08_20200729193212_05260806_006_01_gt2l.txt'"
      ]
     },
     "execution_count": 9,
     "metadata": {},
     "output_type": "execute_result"
    }
   ],
   "source": [
    "# asl in file \n",
    "als  = file.replace('coordinates','alslist')\n",
    "als"
   ]
  },
  {
   "cell_type": "code",
   "execution_count": 10,
   "id": "c4767beb-205d-419d-8f9f-fda65512e978",
   "metadata": {},
   "outputs": [],
   "source": [
    "coor_test = '/gpfs/data1/vclgp/xiongl/ProjectIS2CalVal/tmp/coor.txt'\n",
    "out_w  = '/gpfs/data1/vclgp/xiongl/ProjectIS2CalVal/tmp/test.h5'"
   ]
  },
  {
   "cell_type": "code",
   "execution_count": 16,
   "id": "1d6d9fdb-d0bc-4454-a4f3-4ef648bfeaf2",
   "metadata": {},
   "outputs": [],
   "source": [
    "# simulate one \n",
    "Pulse_PATH = '/gpfs/data1/vclgp/xiongl/ProjectIS2CalVal/data/20190821.gt1l.pulse'\n",
    "cmd = f\"time gediRat -fSigma 2.75 -readPulse {Pulse_PATH} -inList {als} -listCoord {coor_test}  -output {out_w } -hdf  -ground\""
   ]
  },
  {
   "cell_type": "code",
   "execution_count": 17,
   "id": "4e5daf9e-f708-4fb3-91c7-42b3c6c2e06d",
   "metadata": {},
   "outputs": [
    {
     "data": {
      "text/plain": [
       "'time gediRat -fSigma 2.75 -readPulse /gpfs/data1/vclgp/xiongl/ProjectIS2CalVal/data/20190821.gt1l.pulse -inList /gpfs/data1/vclgp/xiongl/ProjectIS2CalVal/result/simV3/europe/skidmore_bayerischer/alslist_ATL08_20200729193212_05260806_006_01_gt2l.txt -listCoord /gpfs/data1/vclgp/xiongl/ProjectIS2CalVal/tmp/coor.txt  -output /gpfs/data1/vclgp/xiongl/ProjectIS2CalVal/tmp/test.h5 -hdf  -ground'"
      ]
     },
     "execution_count": 17,
     "metadata": {},
     "output_type": "execute_result"
    }
   ],
   "source": [
    "cmd"
   ]
  },
  {
   "cell_type": "markdown",
   "id": "b2f1f344-11a6-4feb-b898-e7273ee638a4",
   "metadata": {},
   "source": [
    "# 5k footprints test "
   ]
  },
  {
   "cell_type": "markdown",
   "id": "8b63d7ea-4fa8-461d-9c81-2c443145529e",
   "metadata": {},
   "source": [
    "### take time \n",
    "### real    24m16.391s\n",
    "### user    23m31.851s\n",
    "### sys     0m6.934s "
   ]
  },
  {
   "cell_type": "code",
   "execution_count": 22,
   "id": "0d3720bc-323a-42de-8d2d-f1e56622ad5d",
   "metadata": {},
   "outputs": [
    {
     "data": {
      "text/plain": [
       "'\\n5000 footprints.\\n# 5m diameter --> 400 points \\n# float32\\t12 bytes\\t~23 MB\\n# float64\\t24 bytes\\t~46 MB\\n'"
      ]
     },
     "execution_count": 22,
     "metadata": {},
     "output_type": "execute_result"
    }
   ],
   "source": [
    "'''\n",
    "5000 footprints.\n",
    "# 5m diameter --> 400 points \n",
    "# float32\t12 bytes\t~23 MB\n",
    "# float64\t24 bytes\t~46 MB\n",
    "'''"
   ]
  },
  {
   "cell_type": "code",
   "execution_count": 33,
   "id": "a3ed9ae0-b7dc-4d87-8839-c2c7be7c69e4",
   "metadata": {},
   "outputs": [],
   "source": [
    "#Waveforms written to /gpfs/data1/vclgp/xiongl/ProjectIS2CalVal/result/splitV3/wave_ATL08_20220213041638_08081402_006_01_gt1l_4.h5\n",
    "#real    4m46.276s"
   ]
  },
  {
   "cell_type": "markdown",
   "id": "bd22ae97-e3fd-4400-9cbd-a89808db4ce7",
   "metadata": {},
   "source": [
    "# gediRat considers all the loaded ALS files to find the points that fall within the footprint area."
   ]
  },
  {
   "cell_type": "code",
   "execution_count": 26,
   "id": "4c79094a-1cb4-42bd-bda4-c544c3393a9c",
   "metadata": {},
   "outputs": [],
   "source": [
    "import pandas as pd\n",
    "df_1 = pd.read_parquet('/gpfs/data1/vclgp/xiongl/ProjectIS2CalVal/result/result_als_stat/southamerica/inpe_brazil31981/df_ATL08_20220919104428_13671608_006_01_gt2r.parquet')"
   ]
  },
  {
   "cell_type": "code",
   "execution_count": 31,
   "id": "937daf2b-045d-4e23-9c5b-ddf8b5ece6d0",
   "metadata": {},
   "outputs": [
    {
     "data": {
      "text/plain": [
       "0    26.7874\n",
       "Name: als_rh98, dtype: float64"
      ]
     },
     "execution_count": 31,
     "metadata": {},
     "output_type": "execute_result"
    }
   ],
   "source": [
    "df_1.als_rh98"
   ]
  },
  {
   "cell_type": "code",
   "execution_count": 35,
   "id": "928c6a4a-4935-4c98-9b7f-b7c5c51d1330",
   "metadata": {},
   "outputs": [],
   "source": [
    "# Waveforms written to /gpfs/data1/vclgp/xiongl/ProjectIS2CalVal/result/splitV3/wave_ATL08_20211227185523_00841406_006_01_gt2l_01.h5\n",
    "\n",
    "# real    15m19.509s\n",
    "# user    14m57.108s\n",
    "# sys     0m3.684s"
   ]
  },
  {
   "cell_type": "code",
   "execution_count": null,
   "id": "b88cdd5e-f7e7-463e-b110-fe28ec46b2dc",
   "metadata": {},
   "outputs": [],
   "source": []
  }
 ],
 "metadata": {
  "kernelspec": {
   "display_name": "Python 3 (ipykernel)",
   "language": "python",
   "name": "python3"
  },
  "language_info": {
   "codemirror_mode": {
    "name": "ipython",
    "version": 3
   },
   "file_extension": ".py",
   "mimetype": "text/x-python",
   "name": "python",
   "nbconvert_exporter": "python",
   "pygments_lexer": "ipython3",
   "version": "3.10.4"
  }
 },
 "nbformat": 4,
 "nbformat_minor": 5
}
