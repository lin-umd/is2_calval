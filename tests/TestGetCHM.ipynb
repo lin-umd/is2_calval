{
 "cells": [
  {
   "cell_type": "code",
   "execution_count": 1,
   "id": "abb8588c-bfae-4d25-83f9-d9b8774590b5",
   "metadata": {},
   "outputs": [
    {
     "name": "stdout",
     "output_type": "stream",
     "text": [
      "3650\n",
      "Total als site names: 511\n",
      "Example folder name: /gpfs/data1/vclgp/data/gedi/imported/asia/nagano_japan_full/\n"
     ]
    }
   ],
   "source": [
    "# guide to generate CHM from lastools.\n",
    "# http://wiki.awf.forst.uni-goettingen.de/wiki/index.php/Canopy_Height_Model_based_on_Airborne_Laserscanning_using_LAStools\n",
    "# \n",
    "# get all sites \n",
    "import glob\n",
    "# Define the path\n",
    "path = '/gpfs/data1/vclgp/data/gedi/imported/*/*/'\n",
    "# Get folder names\n",
    "folder_names = glob.glob(path)\n",
    "print(len(folder_names))\n",
    "# Filter out folders containing 'clipped'\n",
    "folder_sites = [n for n in folder_names if 'clipped' not in n]\n",
    "print(\"Total als site names:\", len(folder_sites))\n",
    "print(\"Example folder name:\", folder_sites[1])"
   ]
  },
  {
   "cell_type": "code",
   "execution_count": 28,
   "id": "aa90d1ef-0018-4349-af90-ae830c3a24e9",
   "metadata": {},
   "outputs": [
    {
     "data": {
      "text/plain": [
       "'/gpfs/data1/vclgp/data/gedi/imported/usa/plumasnf_20180707/LAZ_ground/plumasnf_20180707_-108000_191000_seamless_0000000.laz'"
      ]
     },
     "execution_count": 28,
     "metadata": {},
     "output_type": "execute_result"
    }
   ],
   "source": [
    "# example site \n",
    "all_laz = glob.glob('/gpfs/data1/vclgp/data/gedi/imported/usa/plumasnf_20180707/LAZ_ground/*.laz')\n",
    "all_laz[3]"
   ]
  },
  {
   "cell_type": "code",
   "execution_count": 29,
   "id": "49b51a81-952a-42af-b2a9-3e5d5757101e",
   "metadata": {},
   "outputs": [],
   "source": [
    "# laz to las file \n",
    "# \n",
    "import os\n",
    "laz_path = all_laz[3]\n",
    "region = laz_path.split('/')[7]\n",
    "name = laz_path.split('/')[8]\n",
    "las_out = '/gpfs/data1/vclgp/xiongl/ProjectIS2CalVal/data/las/' + region + '/' + name"
   ]
  },
  {
   "cell_type": "code",
   "execution_count": 6,
   "id": "02bdc547-c836-474c-82cd-a6edb2220e8c",
   "metadata": {},
   "outputs": [
    {
     "data": {
      "text/plain": [
       "'/gpfs/data1/vclgp/xiongl/ProjectIS2CalVal/data/las/usa/plumasnf_20180707'"
      ]
     },
     "execution_count": 6,
     "metadata": {},
     "output_type": "execute_result"
    }
   ],
   "source": [
    "os.system(f'wine $LASTOOLS/las2las.exe -i {laz_path} -odir {las_out} -olas')"
   ]
  },
  {
   "cell_type": "code",
   "execution_count": 30,
   "id": "865960d8-d7e3-41c9-ab80-02804de9b477",
   "metadata": {},
   "outputs": [
    {
     "data": {
      "text/plain": [
       "'/gpfs/data1/vclgp/xiongl/ProjectIS2CalVal/data/las_norm/usa/plumasnf_20180707'"
      ]
     },
     "execution_count": 30,
     "metadata": {},
     "output_type": "execute_result"
    }
   ],
   "source": [
    "norm_out = las_out.replace('/las/', '/las_norm/')\n",
    "norm_out"
   ]
  },
  {
   "cell_type": "code",
   "execution_count": 10,
   "id": "7646142e-ece5-4758-93bf-5c2649d18a97",
   "metadata": {},
   "outputs": [],
   "source": [
    "os.makedirs(norm_out, exist_ok=True)"
   ]
  },
  {
   "cell_type": "code",
   "execution_count": 12,
   "id": "e9f37e8f-dc65-4588-9b4c-d7cd3b82f4b5",
   "metadata": {},
   "outputs": [
    {
     "name": "stderr",
     "output_type": "stream",
     "text": [
      "WARNING: your license will expire in 3 days.\n",
      "done with '/gpfs/data1/vclgp/xiongl/ProjectIS2CalVal/data/las_norm/usa/plumasnf_20180707\\plumasnf_20180707_-52000_198000_seamless_0000000.laz'. total time 23.352 sec.\n"
     ]
    },
    {
     "data": {
      "text/plain": [
       "0"
      ]
     },
     "execution_count": 12,
     "metadata": {},
     "output_type": "execute_result"
    }
   ],
   "source": [
    "os.system(f'wine $LASTOOLS/lasheight.exe -drop_above 150 -drop_below -3  -replace_z -i {las_out}/*.las -odir {norm_out} -olaz')"
   ]
  },
  {
   "cell_type": "code",
   "execution_count": 31,
   "id": "4a6d9539-0ac4-432f-b0ee-6e3a916ae34c",
   "metadata": {},
   "outputs": [
    {
     "name": "stderr",
     "output_type": "stream",
     "text": [
      "WARNING: your license will expire in 3 days.\n",
      "first pass. reading 10276461 points to count ground points ... \n",
      "took 4.636 sec. counted 2539352 ground points.\n",
      "second pass. triangulating 2539352 ground points ...\n",
      "took 8.863 sec. triangulated 2539352 points.\n",
      "third pass. computing heights for 7737109 points ...\n",
      "dropped 26  of 10276461 points\n",
      "done with '/gpfs/data1/vclgp/xiongl/ProjectIS2CalVal/data/las_norm/usa/plumasnf_20180707\\plumasnf_20180707_-108000_191000_seamless_0000000.laz'. total time 28.562 sec.\n"
     ]
    },
    {
     "data": {
      "text/plain": [
       "0"
      ]
     },
     "execution_count": 31,
     "metadata": {},
     "output_type": "execute_result"
    }
   ],
   "source": [
    "# direclty read \n",
    "os.system(f'wine $LASTOOLS/lasheight.exe -drop_above 150 -drop_below -3  -replace_z -i {all_laz[3]} -odir {norm_out} -olaz -v')"
   ]
  },
  {
   "cell_type": "code",
   "execution_count": 13,
   "id": "921a2a5b-20d0-4899-a6d4-d7ba7ca3cf2e",
   "metadata": {},
   "outputs": [],
   "source": [
    "chm_path = '/gpfs/data1/vclgp/xiongl/ProjectIS2CalVal/result_chm/' + region + '/' + name\n",
    "os.makedirs(chm_path, exist_ok=True)"
   ]
  },
  {
   "cell_type": "code",
   "execution_count": 32,
   "id": "c89d971d-f75d-4065-9dbc-6ef4d23febfb",
   "metadata": {},
   "outputs": [
    {
     "name": "stderr",
     "output_type": "stream",
     "text": [
      "duplicate_points 19285\n",
      "duplicate_points 24659\n",
      "WARNING: your license will expire in 3 days.\n"
     ]
    },
    {
     "data": {
      "text/plain": [
       "0"
      ]
     },
     "execution_count": 32,
     "metadata": {},
     "output_type": "execute_result"
    }
   ],
   "source": [
    "# get dem \n",
    "os.system(f'wine $LASTOOLS/blast2dem.exe  -i {norm_out}/*.laz -odir {chm_path} -otif ')"
   ]
  },
  {
   "cell_type": "code",
   "execution_count": 139,
   "id": "e40935f8-d2e3-4cd6-a5a2-fa831088307a",
   "metadata": {},
   "outputs": [
    {
     "name": "stdout",
     "output_type": "stream",
     "text": [
      "13182\n"
     ]
    }
   ],
   "source": [
    "# plot chm\n",
    "tif= glob.glob(chm_path+ '/*.tif')\n",
    "print(len(tif))"
   ]
  },
  {
   "cell_type": "code",
   "execution_count": null,
   "id": "3b3fb88e-3cfd-46d2-93d5-53d2193d4465",
   "metadata": {},
   "outputs": [],
   "source": []
  },
  {
   "cell_type": "code",
   "execution_count": 143,
   "id": "f1b3d107-d820-4ec9-bdeb-1a92190db8f0",
   "metadata": {
    "scrolled": true
   },
   "outputs": [],
   "source": [
    "# remove bad tifs. \n",
    "bad = []\n",
    "for t in tif:\n",
    "    size_in_bytes = os.path.getsize(t)\n",
    "    # Convert bytes to kilobytes\n",
    "    size_in_kb  = size_in_bytes / 1024\n",
    "    if size_in_kb < 1:\n",
    "        #print(t)\n",
    "        bad.append(t)\n",
    "        os.remove(t)"
   ]
  },
  {
   "cell_type": "code",
   "execution_count": 142,
   "id": "bc43206b-e2c0-45ab-a0db-8e5afe6be414",
   "metadata": {},
   "outputs": [
    {
     "name": "stdout",
     "output_type": "stream",
     "text": [
      "2295\n"
     ]
    },
    {
     "data": {
      "text/plain": [
       "'/gpfs/data1/vclgp/xiongl/ProjectIS2CalVal/result_chm/usa/plumasnf_20180707/plumasnf_20180707_-28000_205000_seamless_0000002.tif'"
      ]
     },
     "execution_count": 142,
     "metadata": {},
     "output_type": "execute_result"
    }
   ],
   "source": [
    "print(len(bad))\n",
    "bad[1]"
   ]
  },
  {
   "cell_type": "code",
   "execution_count": 153,
   "id": "dfc24ff4-5ebc-4072-bc3c-07b781d73214",
   "metadata": {},
   "outputs": [
    {
     "name": "stdout",
     "output_type": "stream",
     "text": [
      "file /gpfs/data1/vclgp/xiongl/ProjectIS2CalVal/result/chm_v1/plumasnf_20180707_wgs84.tif, p5 0.0 , p95 20.364999294281006\n"
     ]
    },
    {
     "data": {
      "image/png": "[encoded data removed]",
      "text/plain": [
       "<Figure size 800x400 with 2 Axes>"
      ]
     },
     "metadata": {},
     "output_type": "display_data"
    }
   ],
   "source": [
    "import rasterio\n",
    "import numpy as np\n",
    "import matplotlib.pyplot as plt\n",
    "c= tif[2010]\n",
    "c= '/gpfs/data1/vclgp/xiongl/ProjectIS2CalVal/result/chm_v1/plumasnf_20180707_wgs84.tif'\n",
    "dataset = rasterio.open(c)\n",
    "band1 = dataset.read(1)\n",
    "data = band1[~np.isnan(band1)]\n",
    "data = data[data != -9999]\n",
    "if len(data) < 1: \n",
    "    print('No data in this file', c)\n",
    "p5 = np.percentile(data, 5)\n",
    "p95 = np.percentile(data, 95)\n",
    "print(f'file {c}, p5 {p5} , p95 {p95}')\n",
    "plt.figure(figsize=(8, 4))  # Adjust the width and height as desired\n",
    "plt.imshow(band1, cmap='rainbow' , vmin = 0, vmax = 35)\n",
    "cbar = plt.colorbar(fraction=0.022, pad=0.04)\n",
    "plt.show()"
   ]
  },
  {
   "cell_type": "code",
   "execution_count": null,
   "id": "684fa653-059e-4adc-a73f-da8eb34d98d9",
   "metadata": {},
   "outputs": [],
   "source": []
  },
  {
   "cell_type": "markdown",
   "id": "0328ca5b-a286-4e23-923c-4b9f8584adf9",
   "metadata": {},
   "source": [
    "# get 1km tiles list"
   ]
  },
  {
   "cell_type": "code",
   "execution_count": 2,
   "id": "5e7cc599-c832-412d-9554-9819bf1974d4",
   "metadata": {},
   "outputs": [],
   "source": [
    "import os\n",
    "os.environ['USE_PYGEOS'] = '0'\n",
    "import geopandas"
   ]
  },
  {
   "cell_type": "code",
   "execution_count": 4,
   "id": "05f9fd34-51dc-4048-9e33-61440e2cb2f7",
   "metadata": {},
   "outputs": [
    {
     "name": "stdout",
     "output_type": "stream",
     "text": [
      "       region           name     area_ha   epsg  \\\n",
      "0         usa        usda_me   39.509840  26919   \n",
      "1         usa        usda_me   74.565161  26919   \n",
      "2         usa        usda_me   33.698329  26919   \n",
      "3         usa        usda_me   59.362166  26919   \n",
      "4         usa        usda_me   25.889235  26919   \n",
      "...       ...            ...         ...    ...   \n",
      "353703    usa  neon_niwo2019  919.415684  32613   \n",
      "353704    usa  neon_niwo2019  195.803013  32613   \n",
      "353705    usa  neon_niwo2019   12.865431  32613   \n",
      "353706    usa  neon_niwo2019  790.140257  32613   \n",
      "353707    usa  neon_niwo2019  358.981628  32613   \n",
      "\n",
      "                                                 geometry  \\\n",
      "0       POLYGON ((-69.91152 46.61153, -69.90748 46.611...   \n",
      "1       POLYGON ((-69.25080 46.05870, -69.24307 46.058...   \n",
      "2       POLYGON ((-69.38241 46.02053, -69.37891 46.020...   \n",
      "3       POLYGON ((-69.31656 45.60490, -69.31036 45.604...   \n",
      "4       POLYGON ((-70.22245 45.79862, -70.21976 45.798...   \n",
      "...                                                   ...   \n",
      "353703  POLYGON ((-105.60839 39.99417, -105.59331 39.9...   \n",
      "353704  POLYGON ((-105.51874 40.01304, -105.50603 40.0...   \n",
      "353705  POLYGON ((-105.54652 40.07922, -105.53920 40.0...   \n",
      "353706  POLYGON ((-105.61182 39.98177, -105.59620 39.9...   \n",
      "353707  POLYGON ((-105.58341 40.01315, -105.57162 40.0...   \n",
      "\n",
      "                                                     file  \n",
      "0                            usa_usda_me_me_47_43.parquet  \n",
      "1                           usa_usda_me_me_91_146.parquet  \n",
      "2                           usa_usda_me_me_84_153.parquet  \n",
      "3                           usa_usda_me_me_87_230.parquet  \n",
      "4                           usa_usda_me_me_29_193.parquet  \n",
      "...                                                   ...  \n",
      "353703  usa_neon_niwo2019_NEON_D13_NIWO_DP1_L017-1_201...  \n",
      "353704  usa_neon_niwo2019_NEON_D13_NIWO_DP1_L045-1_201...  \n",
      "353705  usa_neon_niwo2019_NEON_D13_NIWO_DP1_L035-1_201...  \n",
      "353706  usa_neon_niwo2019_NEON_D13_NIWO_DP1_L016-1_201...  \n",
      "353707  usa_neon_niwo2019_NEON_D13_NIWO_DP1_L025-1_201...  \n",
      "\n",
      "[353708 rows x 6 columns]\n"
     ]
    }
   ],
   "source": [
    "gdf = geopandas.read_parquet('../data/all_sites_20240703.parquet')\n",
    "print(gdf)"
   ]
  },
  {
   "cell_type": "code",
   "execution_count": 28,
   "id": "7cbfbe3e-298a-4ecb-9c17-75dc79362b83",
   "metadata": {},
   "outputs": [
    {
     "name": "stdout",
     "output_type": "stream",
     "text": [
      "\u001b[0m\u001b[01;34mchm_1km\u001b[0m/  \u001b[01;34mclassified\u001b[0m/  \u001b[01;34mlaz_1km\u001b[0m/  \u001b[01;34mlaz_500m\u001b[0m/  \u001b[01;34mnorm\u001b[0m/  \u001b[01;34mthin\u001b[0m/  \u001b[01;34mtile_gpkg\u001b[0m/\n"
     ]
    }
   ],
   "source": [
    "ls ../result/ease1km_tile/southamerica/inpe_brazil31973/"
   ]
  },
  {
   "cell_type": "code",
   "execution_count": 7,
   "id": "b36a3f53-4902-415d-bf60-39a87b82b590",
   "metadata": {},
   "outputs": [],
   "source": [
    "import rioxarray"
   ]
  },
  {
   "cell_type": "code",
   "execution_count": 27,
   "id": "cdbbb44b-6c9e-4aee-92e7-69f11e4de5fa",
   "metadata": {},
   "outputs": [
    {
     "data": {
      "text/plain": [
       "<matplotlib.collections.QuadMesh at 0x14e3586b2150>"
      ]
     },
     "execution_count": 27,
     "metadata": {},
     "output_type": "execute_result"
    },
    {
     "data": {
      "image/png": "[encoded data removed]",
      "text/plain": [
       "<Figure size 640x480 with 2 Axes>"
      ]
     },
     "metadata": {},
     "output_type": "display_data"
    }
   ],
   "source": [
    "xds = rioxarray.open_rasterio('../result/ease1km_tile/southamerica/inpe_brazil31973/chm_1km/X10888Y07214.tif')\n",
    "xds[0].plot(vmin=0, vmax=40)"
   ]
  },
  {
   "cell_type": "code",
   "execution_count": 34,
   "id": "296fab04-d2b9-4dc4-baed-7459b661e4c3",
   "metadata": {},
   "outputs": [],
   "source": [
    "df  =  xds[0].to_dataframe(name = 'h_als')"
   ]
  },
  {
   "cell_type": "code",
   "execution_count": 35,
   "id": "70bbc9ae-6f9b-4742-8066-5428257a2585",
   "metadata": {},
   "outputs": [
    {
     "data": {
      "text/html": [
       "<div>\n",
       "<style scoped>\n",
       "    .dataframe tbody tr th:only-of-type {\n",
       "        vertical-align: middle;\n",
       "    }\n",
       "\n",
       "    .dataframe tbody tr th {\n",
       "        vertical-align: top;\n",
       "    }\n",
       "\n",
       "    .dataframe thead th {\n",
       "        text-align: right;\n",
       "    }\n",
       "</style>\n",
       "<table border=\"1\" class=\"dataframe\">\n",
       "  <thead>\n",
       "    <tr style=\"text-align: right;\">\n",
       "      <th></th>\n",
       "      <th></th>\n",
       "      <th>band</th>\n",
       "      <th>spatial_ref</th>\n",
       "      <th>h_als</th>\n",
       "    </tr>\n",
       "    <tr>\n",
       "      <th>y</th>\n",
       "      <th>x</th>\n",
       "      <th></th>\n",
       "      <th></th>\n",
       "      <th></th>\n",
       "    </tr>\n",
       "  </thead>\n",
       "  <tbody>\n",
       "    <tr>\n",
       "      <th rowspan=\"6\" valign=\"top\">82437.5</th>\n",
       "      <th>716462.5</th>\n",
       "      <td>1</td>\n",
       "      <td>0</td>\n",
       "      <td>-9999.000000</td>\n",
       "    </tr>\n",
       "    <tr>\n",
       "      <th>716487.5</th>\n",
       "      <td>1</td>\n",
       "      <td>0</td>\n",
       "      <td>-9999.000000</td>\n",
       "    </tr>\n",
       "    <tr>\n",
       "      <th>716512.5</th>\n",
       "      <td>1</td>\n",
       "      <td>0</td>\n",
       "      <td>-9999.000000</td>\n",
       "    </tr>\n",
       "    <tr>\n",
       "      <th>716537.5</th>\n",
       "      <td>1</td>\n",
       "      <td>0</td>\n",
       "      <td>-9999.000000</td>\n",
       "    </tr>\n",
       "    <tr>\n",
       "      <th>716562.5</th>\n",
       "      <td>1</td>\n",
       "      <td>0</td>\n",
       "      <td>-9999.000000</td>\n",
       "    </tr>\n",
       "    <tr>\n",
       "      <th>716587.5</th>\n",
       "      <td>1</td>\n",
       "      <td>0</td>\n",
       "      <td>-9999.000000</td>\n",
       "    </tr>\n",
       "    <tr>\n",
       "      <th rowspan=\"6\" valign=\"top\">82412.5</th>\n",
       "      <th>716462.5</th>\n",
       "      <td>1</td>\n",
       "      <td>0</td>\n",
       "      <td>-9999.000000</td>\n",
       "    </tr>\n",
       "    <tr>\n",
       "      <th>716487.5</th>\n",
       "      <td>1</td>\n",
       "      <td>0</td>\n",
       "      <td>-9999.000000</td>\n",
       "    </tr>\n",
       "    <tr>\n",
       "      <th>716512.5</th>\n",
       "      <td>1</td>\n",
       "      <td>0</td>\n",
       "      <td>16.690001</td>\n",
       "    </tr>\n",
       "    <tr>\n",
       "      <th>716537.5</th>\n",
       "      <td>1</td>\n",
       "      <td>0</td>\n",
       "      <td>19.170000</td>\n",
       "    </tr>\n",
       "    <tr>\n",
       "      <th>716562.5</th>\n",
       "      <td>1</td>\n",
       "      <td>0</td>\n",
       "      <td>24.760000</td>\n",
       "    </tr>\n",
       "    <tr>\n",
       "      <th>716587.5</th>\n",
       "      <td>1</td>\n",
       "      <td>0</td>\n",
       "      <td>-9999.000000</td>\n",
       "    </tr>\n",
       "    <tr>\n",
       "      <th rowspan=\"6\" valign=\"top\">82387.5</th>\n",
       "      <th>716462.5</th>\n",
       "      <td>1</td>\n",
       "      <td>0</td>\n",
       "      <td>-9999.000000</td>\n",
       "    </tr>\n",
       "    <tr>\n",
       "      <th>716487.5</th>\n",
       "      <td>1</td>\n",
       "      <td>0</td>\n",
       "      <td>-9999.000000</td>\n",
       "    </tr>\n",
       "    <tr>\n",
       "      <th>716512.5</th>\n",
       "      <td>1</td>\n",
       "      <td>0</td>\n",
       "      <td>-9999.000000</td>\n",
       "    </tr>\n",
       "    <tr>\n",
       "      <th>716537.5</th>\n",
       "      <td>1</td>\n",
       "      <td>0</td>\n",
       "      <td>-9999.000000</td>\n",
       "    </tr>\n",
       "    <tr>\n",
       "      <th>716562.5</th>\n",
       "      <td>1</td>\n",
       "      <td>0</td>\n",
       "      <td>-9999.000000</td>\n",
       "    </tr>\n",
       "    <tr>\n",
       "      <th>716587.5</th>\n",
       "      <td>1</td>\n",
       "      <td>0</td>\n",
       "      <td>-9999.000000</td>\n",
       "    </tr>\n",
       "  </tbody>\n",
       "</table>\n",
       "</div>"
      ],
      "text/plain": [
       "                  band  spatial_ref        h_als\n",
       "y       x                                       \n",
       "82437.5 716462.5     1            0 -9999.000000\n",
       "        716487.5     1            0 -9999.000000\n",
       "        716512.5     1            0 -9999.000000\n",
       "        716537.5     1            0 -9999.000000\n",
       "        716562.5     1            0 -9999.000000\n",
       "        716587.5     1            0 -9999.000000\n",
       "82412.5 716462.5     1            0 -9999.000000\n",
       "        716487.5     1            0 -9999.000000\n",
       "        716512.5     1            0    16.690001\n",
       "        716537.5     1            0    19.170000\n",
       "        716562.5     1            0    24.760000\n",
       "        716587.5     1            0 -9999.000000\n",
       "82387.5 716462.5     1            0 -9999.000000\n",
       "        716487.5     1            0 -9999.000000\n",
       "        716512.5     1            0 -9999.000000\n",
       "        716537.5     1            0 -9999.000000\n",
       "        716562.5     1            0 -9999.000000\n",
       "        716587.5     1            0 -9999.000000"
      ]
     },
     "execution_count": 35,
     "metadata": {},
     "output_type": "execute_result"
    }
   ],
   "source": [
    "df"
   ]
  },
  {
   "cell_type": "code",
   "execution_count": 37,
   "id": "12dac5a8-8f7f-4524-9981-b0354fc7e517",
   "metadata": {},
   "outputs": [
    {
     "data": {
      "text/plain": [
       "band            1.000000\n",
       "spatial_ref     0.000000\n",
       "h_als          20.206667\n",
       "dtype: float64"
      ]
     },
     "execution_count": 37,
     "metadata": {},
     "output_type": "execute_result"
    }
   ],
   "source": [
    "df[(df != -9999).all(axis=1)].mean()"
   ]
  },
  {
   "cell_type": "markdown",
   "id": "ea3bc645-ea59-4a98-a16a-c1b81b2f59bb",
   "metadata": {},
   "source": [
    "# optimize code for chms "
   ]
  },
  {
   "cell_type": "code",
   "execution_count": 69,
   "id": "d8b68b8a-08d7-49fd-95fd-10e3bdaf0c84",
   "metadata": {},
   "outputs": [
    {
     "name": "stdout",
     "output_type": "stream",
     "text": [
      "118\n"
     ]
    }
   ],
   "source": [
    "ls -lh ../result/ease1km_tile/africa/jpl_rabi/thin/ | wc -l"
   ]
  },
  {
   "cell_type": "code",
   "execution_count": 80,
   "id": "0c252931-be13-4365-8077-1cf9c8e981cd",
   "metadata": {},
   "outputs": [],
   "source": [
    "import glob\n",
    "chms = glob.glob('/gpfs/data1/vclgp/xiongl/ProjectIS2CalVal/result/ease1km_tile/usa/neon_yell2020/chm_1km/*.tif')"
   ]
  },
  {
   "cell_type": "code",
   "execution_count": 81,
   "id": "db784186-1772-4394-b3b5-e03383c8bd8b",
   "metadata": {},
   "outputs": [
    {
     "data": {
      "text/plain": [
       "293"
      ]
     },
     "execution_count": 81,
     "metadata": {},
     "output_type": "execute_result"
    }
   ],
   "source": [
    "len(chms)"
   ]
  },
  {
   "cell_type": "code",
   "execution_count": 82,
   "id": "bcaf22ac-3238-47c9-96fa-4205c9912f5c",
   "metadata": {},
   "outputs": [],
   "source": [
    "import numpy as np\n",
    "result_1d = np.full(len(chms), -999, dtype=np.float32)"
   ]
  },
  {
   "cell_type": "code",
   "execution_count": 83,
   "id": "7ae8f907-5d81-44f1-9c3c-6c949d31c282",
   "metadata": {},
   "outputs": [],
   "source": [
    "for index, chm in enumerate(chms):\n",
    "    try:\n",
    "        xds = rioxarray.open_rasterio(chm)\n",
    "    except:\n",
    "        continue\n",
    "    df = xds[0].to_dataframe(name = 'h_als')\n",
    "    df_cleaned = df[~(df == -9999).any(axis=1)]\n",
    "    value = df_cleaned['h_als'].mean()\n",
    "    result_1d[index] = np.array([value])"
   ]
  },
  {
   "cell_type": "code",
   "execution_count": 85,
   "id": "8c0a59b2-2a1a-49a6-acbe-c6e762cb8df3",
   "metadata": {},
   "outputs": [
    {
     "data": {
      "text/plain": [
       "nan"
      ]
     },
     "execution_count": 85,
     "metadata": {},
     "output_type": "execute_result"
    }
   ],
   "source": [
    "np.mean(result_1d)"
   ]
  },
  {
   "cell_type": "code",
   "execution_count": 88,
   "id": "532a7f6a-78e4-4e8f-a242-c885c140e64f",
   "metadata": {},
   "outputs": [
    {
     "data": {
      "text/plain": [
       "2.282442"
      ]
     },
     "execution_count": 88,
     "metadata": {},
     "output_type": "execute_result"
    }
   ],
   "source": [
    "## update\n",
    "cleaned_arr = result_1d[~np.isnan(result_1d)]\n",
    "np.mean(cleaned_arr)"
   ]
  },
  {
   "cell_type": "code",
   "execution_count": 106,
   "id": "2ebb1d19-c326-4123-aef9-f1edcb19bccb",
   "metadata": {},
   "outputs": [
    {
     "data": {
      "text/plain": [
       "<matplotlib.collections.QuadMesh at 0x14e356e9b810>"
      ]
     },
     "execution_count": 106,
     "metadata": {},
     "output_type": "execute_result"
    },
    {
     "data": {
      "image/png": "[encoded data removed]",
      "text/plain": [
       "<Figure size 640x480 with 2 Axes>"
      ]
     },
     "metadata": {},
     "output_type": "display_data"
    }
   ],
   "source": [
    "xds = rioxarray.open_rasterio(chms[10])\n",
    "xds[0].plot(vmin=0, vmax=30)"
   ]
  },
  {
   "cell_type": "code",
   "execution_count": null,
   "id": "fdc0cf95-6241-440d-b3f4-faad7d1cea34",
   "metadata": {},
   "outputs": [],
   "source": []
  }
 ],
 "metadata": {
  "kernelspec": {
   "display_name": "Python 3 (ipykernel)",
   "language": "python",
   "name": "python3"
  },
  "language_info": {
   "codemirror_mode": {
    "name": "ipython",
    "version": 3
   },
   "file_extension": ".py",
   "mimetype": "text/x-python",
   "name": "python",
   "nbconvert_exporter": "python",
   "pygments_lexer": "ipython3",
   "version": "3.11.4"
  }
 },
 "nbformat": 4,
 "nbformat_minor": 5
}
