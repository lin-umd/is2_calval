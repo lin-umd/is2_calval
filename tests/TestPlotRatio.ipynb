{
 "cells": [
  {
   "cell_type": "code",
   "execution_count": 33,
   "id": "3effdf2d-dd81-489d-90de-485460bf095a",
   "metadata": {
    "editable": true,
    "slideshow": {
     "slide_type": ""
    },
    "tags": []
   },
   "outputs": [
    {
     "data": {
      "text/html": [
       "<div>\n",
       "<style scoped>\n",
       "    .dataframe tbody tr th:only-of-type {\n",
       "        vertical-align: middle;\n",
       "    }\n",
       "\n",
       "    .dataframe tbody tr th {\n",
       "        vertical-align: top;\n",
       "    }\n",
       "\n",
       "    .dataframe thead th {\n",
       "        text-align: right;\n",
       "    }\n",
       "</style>\n",
       "<table border=\"1\" class=\"dataframe\">\n",
       "  <thead>\n",
       "    <tr style=\"text-align: right;\">\n",
       "      <th></th>\n",
       "      <th>land_segments/canopy/h_canopy</th>\n",
       "      <th>land_segments/canopy/photon_rate_can</th>\n",
       "      <th>land_segments/terrain/photon_rate_te</th>\n",
       "      <th>land_segments/latitude</th>\n",
       "      <th>land_segments/longitude</th>\n",
       "      <th>orbit_info/sc_orient</th>\n",
       "      <th>root_beam</th>\n",
       "      <th>geometry</th>\n",
       "    </tr>\n",
       "  </thead>\n",
       "  <tbody>\n",
       "    <tr>\n",
       "      <th>0</th>\n",
       "      <td>25.901031</td>\n",
       "      <td>1.253968</td>\n",
       "      <td>0.079365</td>\n",
       "      <td>56.411655</td>\n",
       "      <td>12.957654</td>\n",
       "      <td>1</td>\n",
       "      <td>gt3r</td>\n",
       "      <td>POINT (12.95765 56.41166)</td>\n",
       "    </tr>\n",
       "    <tr>\n",
       "      <th>1</th>\n",
       "      <td>25.209274</td>\n",
       "      <td>1.339450</td>\n",
       "      <td>0.211009</td>\n",
       "      <td>56.411842</td>\n",
       "      <td>12.957786</td>\n",
       "      <td>1</td>\n",
       "      <td>gt3r</td>\n",
       "      <td>POINT (12.95779 56.41184)</td>\n",
       "    </tr>\n",
       "    <tr>\n",
       "      <th>2</th>\n",
       "      <td>21.438889</td>\n",
       "      <td>0.712121</td>\n",
       "      <td>0.583333</td>\n",
       "      <td>56.411888</td>\n",
       "      <td>12.951652</td>\n",
       "      <td>0</td>\n",
       "      <td>gt1l</td>\n",
       "      <td>POINT (12.95165 56.41189)</td>\n",
       "    </tr>\n",
       "    <tr>\n",
       "      <th>3</th>\n",
       "      <td>28.140991</td>\n",
       "      <td>0.761538</td>\n",
       "      <td>0.023077</td>\n",
       "      <td>56.412010</td>\n",
       "      <td>12.957584</td>\n",
       "      <td>1</td>\n",
       "      <td>gt3r</td>\n",
       "      <td>POINT (12.95758 56.41201)</td>\n",
       "    </tr>\n",
       "    <tr>\n",
       "      <th>4</th>\n",
       "      <td>20.353882</td>\n",
       "      <td>0.657143</td>\n",
       "      <td>1.466667</td>\n",
       "      <td>56.412209</td>\n",
       "      <td>12.955589</td>\n",
       "      <td>1</td>\n",
       "      <td>gt3r</td>\n",
       "      <td>POINT (12.95559 56.41221)</td>\n",
       "    </tr>\n",
       "  </tbody>\n",
       "</table>\n",
       "</div>"
      ],
      "text/plain": [
       "   land_segments/canopy/h_canopy  land_segments/canopy/photon_rate_can  \\\n",
       "0                      25.901031                              1.253968   \n",
       "1                      25.209274                              1.339450   \n",
       "2                      21.438889                              0.712121   \n",
       "3                      28.140991                              0.761538   \n",
       "4                      20.353882                              0.657143   \n",
       "\n",
       "   land_segments/terrain/photon_rate_te  land_segments/latitude  \\\n",
       "0                              0.079365               56.411655   \n",
       "1                              0.211009               56.411842   \n",
       "2                              0.583333               56.411888   \n",
       "3                              0.023077               56.412010   \n",
       "4                              1.466667               56.412209   \n",
       "\n",
       "   land_segments/longitude  orbit_info/sc_orient root_beam  \\\n",
       "0                12.957654                     1      gt3r   \n",
       "1                12.957786                     1      gt3r   \n",
       "2                12.951652                     0      gt1l   \n",
       "3                12.957584                     1      gt3r   \n",
       "4                12.955589                     1      gt3r   \n",
       "\n",
       "                    geometry  \n",
       "0  POINT (12.95765 56.41166)  \n",
       "1  POINT (12.95779 56.41184)  \n",
       "2  POINT (12.95165 56.41189)  \n",
       "3  POINT (12.95758 56.41201)  \n",
       "4  POINT (12.95559 56.41221)  "
      ]
     },
     "execution_count": 33,
     "metadata": {},
     "output_type": "execute_result"
    }
   ],
   "source": [
    "gdf_is2.head()"
   ]
  },
  {
   "cell_type": "code",
   "execution_count": 2,
   "id": "e5cbe0ca-78bb-4b98-9d8c-410c7ff4de26",
   "metadata": {},
   "outputs": [],
   "source": [
    "import geopandas as gpd\n",
    "gdf_is2 = gpd.read_parquet('../result/ratio_100m.parquet')"
   ]
  },
  {
   "cell_type": "code",
   "execution_count": 4,
   "id": "ec63e643-30cc-472f-991b-60cad6d2cd9f",
   "metadata": {
    "editable": true,
    "slideshow": {
     "slide_type": ""
    },
    "tags": []
   },
   "outputs": [
    {
     "name": "stdout",
     "output_type": "stream",
     "text": [
      "7250723 ['land_segments/canopy/h_canopy' 'land_segments/canopy/photon_rate_can'\n",
      " 'land_segments/terrain/photon_rate_te' 'land_segments/latitude'\n",
      " 'land_segments/longitude' 'orbit_info/sc_orient' 'root_beam' 'geometry']\n"
     ]
    }
   ],
   "source": [
    "print(len(gdf_is2), gdf_is2.columns.values)"
   ]
  },
  {
   "cell_type": "code",
   "execution_count": 5,
   "id": "bb06323d-d177-4f52-a1ab-cbc37e34c974",
   "metadata": {},
   "outputs": [
    {
     "data": {
      "text/plain": [
       "region                                                 europe\n",
       "name                                          spain_monfrague\n",
       "area_ha                                              11.80918\n",
       "epsg                                                    25830\n",
       "geometry    MULTIPOLYGON (((-6.054344961196315 39.86402954...\n",
       "Name: 100, dtype: object"
      ]
     },
     "execution_count": 5,
     "metadata": {},
     "output_type": "execute_result"
    }
   ],
   "source": [
    "# read als sites\n",
    "sites = gpd.read_parquet('../data/all_sites_20231218.parquet')\n",
    "sites.iloc[100]"
   ]
  },
  {
   "cell_type": "code",
   "execution_count": 28,
   "id": "c3b0f62f-b8d4-4817-8691-2a176851f542",
   "metadata": {},
   "outputs": [
    {
     "data": {
      "text/plain": [
       "453"
      ]
     },
     "execution_count": 28,
     "metadata": {},
     "output_type": "execute_result"
    }
   ],
   "source": []
  },
  {
   "cell_type": "code",
   "execution_count": 18,
   "id": "220a3584-968a-4e41-9e32-98e985c4127b",
   "metadata": {},
   "outputs": [
    {
     "data": {
      "text/plain": [
       "shapely.geometry.multipolygon.MultiPolygon"
      ]
     },
     "execution_count": 18,
     "metadata": {},
     "output_type": "execute_result"
    }
   ],
   "source": [
    "type(sites['geometry'].iloc[0])"
   ]
  },
  {
   "cell_type": "code",
   "execution_count": 15,
   "id": "9a6c5d8e-bcb6-48c6-8a17-ef80594c412f",
   "metadata": {
    "scrolled": true
   },
   "outputs": [
    {
     "data": {
      "text/html": [
       "<div>\n",
       "<style scoped>\n",
       "    .dataframe tbody tr th:only-of-type {\n",
       "        vertical-align: middle;\n",
       "    }\n",
       "\n",
       "    .dataframe tbody tr th {\n",
       "        vertical-align: top;\n",
       "    }\n",
       "\n",
       "    .dataframe thead th {\n",
       "        text-align: right;\n",
       "    }\n",
       "</style>\n",
       "<table border=\"1\" class=\"dataframe\">\n",
       "  <thead>\n",
       "    <tr style=\"text-align: right;\">\n",
       "      <th></th>\n",
       "      <th>land_segments/canopy/h_canopy</th>\n",
       "      <th>land_segments/canopy/photon_rate_can</th>\n",
       "      <th>land_segments/terrain/photon_rate_te</th>\n",
       "      <th>land_segments/latitude</th>\n",
       "      <th>land_segments/longitude</th>\n",
       "      <th>orbit_info/sc_orient</th>\n",
       "      <th>root_beam</th>\n",
       "      <th>geometry</th>\n",
       "    </tr>\n",
       "  </thead>\n",
       "  <tbody>\n",
       "    <tr>\n",
       "      <th>1827591</th>\n",
       "      <td>17.198364</td>\n",
       "      <td>1.014493</td>\n",
       "      <td>0.275362</td>\n",
       "      <td>45.316616</td>\n",
       "      <td>-70.218857</td>\n",
       "      <td>0</td>\n",
       "      <td>gt2l</td>\n",
       "      <td>POINT (-70.21886 45.31662)</td>\n",
       "    </tr>\n",
       "    <tr>\n",
       "      <th>1827585</th>\n",
       "      <td>17.128296</td>\n",
       "      <td>1.273585</td>\n",
       "      <td>0.433962</td>\n",
       "      <td>45.316917</td>\n",
       "      <td>-70.217529</td>\n",
       "      <td>0</td>\n",
       "      <td>gt3l</td>\n",
       "      <td>POINT (-70.21753 45.31692)</td>\n",
       "    </tr>\n",
       "    <tr>\n",
       "      <th>1827586</th>\n",
       "      <td>13.351685</td>\n",
       "      <td>1.062500</td>\n",
       "      <td>0.625000</td>\n",
       "      <td>45.317032</td>\n",
       "      <td>-70.216560</td>\n",
       "      <td>0</td>\n",
       "      <td>gt1l</td>\n",
       "      <td>POINT (-70.21656 45.31703)</td>\n",
       "    </tr>\n",
       "    <tr>\n",
       "      <th>1827592</th>\n",
       "      <td>19.279846</td>\n",
       "      <td>1.223022</td>\n",
       "      <td>0.179856</td>\n",
       "      <td>45.317513</td>\n",
       "      <td>-70.218979</td>\n",
       "      <td>0</td>\n",
       "      <td>gt2l</td>\n",
       "      <td>POINT (-70.21898 45.31751)</td>\n",
       "    </tr>\n",
       "    <tr>\n",
       "      <th>1827587</th>\n",
       "      <td>13.420715</td>\n",
       "      <td>1.342857</td>\n",
       "      <td>0.447619</td>\n",
       "      <td>45.317814</td>\n",
       "      <td>-70.217407</td>\n",
       "      <td>0</td>\n",
       "      <td>gt3l</td>\n",
       "      <td>POINT (-70.21741 45.31781)</td>\n",
       "    </tr>\n",
       "    <tr>\n",
       "      <th>...</th>\n",
       "      <td>...</td>\n",
       "      <td>...</td>\n",
       "      <td>...</td>\n",
       "      <td>...</td>\n",
       "      <td>...</td>\n",
       "      <td>...</td>\n",
       "      <td>...</td>\n",
       "      <td>...</td>\n",
       "    </tr>\n",
       "    <tr>\n",
       "      <th>3422504</th>\n",
       "      <td>12.264954</td>\n",
       "      <td>1.022059</td>\n",
       "      <td>0.088235</td>\n",
       "      <td>46.803226</td>\n",
       "      <td>-69.784676</td>\n",
       "      <td>0</td>\n",
       "      <td>gt1l</td>\n",
       "      <td>POINT (-69.78468 46.80323)</td>\n",
       "    </tr>\n",
       "    <tr>\n",
       "      <th>3422497</th>\n",
       "      <td>17.063446</td>\n",
       "      <td>1.169118</td>\n",
       "      <td>1.338235</td>\n",
       "      <td>46.801182</td>\n",
       "      <td>-69.778412</td>\n",
       "      <td>1</td>\n",
       "      <td>gt2r</td>\n",
       "      <td>POINT (-69.77841 46.80118)</td>\n",
       "    </tr>\n",
       "    <tr>\n",
       "      <th>3422501</th>\n",
       "      <td>22.799774</td>\n",
       "      <td>0.849206</td>\n",
       "      <td>0.650794</td>\n",
       "      <td>46.801983</td>\n",
       "      <td>-69.780479</td>\n",
       "      <td>0</td>\n",
       "      <td>gt3l</td>\n",
       "      <td>POINT (-69.78048 46.80198)</td>\n",
       "    </tr>\n",
       "    <tr>\n",
       "      <th>3422505</th>\n",
       "      <td>15.696167</td>\n",
       "      <td>0.711111</td>\n",
       "      <td>1.333333</td>\n",
       "      <td>46.802082</td>\n",
       "      <td>-69.778290</td>\n",
       "      <td>1</td>\n",
       "      <td>gt2r</td>\n",
       "      <td>POINT (-69.77829 46.80208)</td>\n",
       "    </tr>\n",
       "    <tr>\n",
       "      <th>3422503</th>\n",
       "      <td>18.713165</td>\n",
       "      <td>1.043103</td>\n",
       "      <td>0.474138</td>\n",
       "      <td>46.802879</td>\n",
       "      <td>-69.780586</td>\n",
       "      <td>0</td>\n",
       "      <td>gt3l</td>\n",
       "      <td>POINT (-69.78059 46.80288)</td>\n",
       "    </tr>\n",
       "  </tbody>\n",
       "</table>\n",
       "<p>47129 rows × 8 columns</p>\n",
       "</div>"
      ],
      "text/plain": [
       "         land_segments/canopy/h_canopy  land_segments/canopy/photon_rate_can  \\\n",
       "1827591                      17.198364                              1.014493   \n",
       "1827585                      17.128296                              1.273585   \n",
       "1827586                      13.351685                              1.062500   \n",
       "1827592                      19.279846                              1.223022   \n",
       "1827587                      13.420715                              1.342857   \n",
       "...                                ...                                   ...   \n",
       "3422504                      12.264954                              1.022059   \n",
       "3422497                      17.063446                              1.169118   \n",
       "3422501                      22.799774                              0.849206   \n",
       "3422505                      15.696167                              0.711111   \n",
       "3422503                      18.713165                              1.043103   \n",
       "\n",
       "         land_segments/terrain/photon_rate_te  land_segments/latitude  \\\n",
       "1827591                              0.275362               45.316616   \n",
       "1827585                              0.433962               45.316917   \n",
       "1827586                              0.625000               45.317032   \n",
       "1827592                              0.179856               45.317513   \n",
       "1827587                              0.447619               45.317814   \n",
       "...                                       ...                     ...   \n",
       "3422504                              0.088235               46.803226   \n",
       "3422497                              1.338235               46.801182   \n",
       "3422501                              0.650794               46.801983   \n",
       "3422505                              1.333333               46.802082   \n",
       "3422503                              0.474138               46.802879   \n",
       "\n",
       "         land_segments/longitude  orbit_info/sc_orient root_beam  \\\n",
       "1827591               -70.218857                     0      gt2l   \n",
       "1827585               -70.217529                     0      gt3l   \n",
       "1827586               -70.216560                     0      gt1l   \n",
       "1827592               -70.218979                     0      gt2l   \n",
       "1827587               -70.217407                     0      gt3l   \n",
       "...                          ...                   ...       ...   \n",
       "3422504               -69.784676                     0      gt1l   \n",
       "3422497               -69.778412                     1      gt2r   \n",
       "3422501               -69.780479                     0      gt3l   \n",
       "3422505               -69.778290                     1      gt2r   \n",
       "3422503               -69.780586                     0      gt3l   \n",
       "\n",
       "                           geometry  \n",
       "1827591  POINT (-70.21886 45.31662)  \n",
       "1827585  POINT (-70.21753 45.31692)  \n",
       "1827586  POINT (-70.21656 45.31703)  \n",
       "1827592  POINT (-70.21898 45.31751)  \n",
       "1827587  POINT (-70.21741 45.31781)  \n",
       "...                             ...  \n",
       "3422504  POINT (-69.78468 46.80323)  \n",
       "3422497  POINT (-69.77841 46.80118)  \n",
       "3422501  POINT (-69.78048 46.80198)  \n",
       "3422505  POINT (-69.77829 46.80208)  \n",
       "3422503  POINT (-69.78059 46.80288)  \n",
       "\n",
       "[47129 rows x 8 columns]"
      ]
     },
     "execution_count": 15,
     "metadata": {},
     "output_type": "execute_result"
    }
   ],
   "source": [
    "# Check which points intersect with the polygon\n",
    "#df_site = gdf_is2[gdf_is2['geometry'].intersects(sites['geometry'].iloc[0])] # too slow. \n",
    "gdf_is2 = gdf_is2.reset_index(drop=True)\n",
    "als_index = gdf_is2.sindex.query(sites['geometry'].iloc[0]) # super fast!!!!! # but only boundary box. \n",
    "is2_in_als = gdf_is2.loc[als_index] \n",
    "df_site = is2_in_als.clip(sites['geometry'].iloc[0])  # get points inside polygon.\n",
    "df_site = df_site[df_site['land_segments/terrain/photon_rate_te'] < 140]\n",
    "df_site"
   ]
  },
  {
   "cell_type": "code",
   "execution_count": 36,
   "id": "6bb35d80-d1c0-454d-99c3-a55400cbb07a",
   "metadata": {},
   "outputs": [
    {
     "name": "stdout",
     "output_type": "stream",
     "text": [
      "beam: gt3r\n",
      "         land_segments/canopy/h_canopy  land_segments/canopy/photon_rate_can  \\\n",
      "3840825                      29.299713                              1.169014   \n",
      "3840826                      31.312408                              1.285714   \n",
      "3840829                      26.341583                              1.250000   \n",
      "3840830                      28.313019                              1.322581   \n",
      "3840834                      32.557678                              1.380952   \n",
      "3840833                      31.569244                              1.024096   \n",
      "3840837                      31.504669                              1.080460   \n",
      "3840838                      34.375061                              1.189474   \n",
      "3840842                      29.658661                              1.214286   \n",
      "3840843                      32.848175                              1.277778   \n",
      "3840848                      30.324921                              1.452632   \n",
      "\n",
      "         land_segments/terrain/photon_rate_te  land_segments/latitude  \\\n",
      "3840825                              0.211268              -27.431658   \n",
      "3840826                              0.275510              -27.431646   \n",
      "3840829                              0.194444              -27.430759   \n",
      "3840830                              0.215054              -27.430750   \n",
      "3840834                              0.202381              -27.429850   \n",
      "3840833                              0.289157              -27.429863   \n",
      "3840837                              0.091954              -27.428963   \n",
      "3840838                              0.115789              -27.428951   \n",
      "3840842                              0.035714              -27.428066   \n",
      "3840843                              0.100000              -27.428053   \n",
      "3840848                              0.147368              -27.427156   \n",
      "\n",
      "         land_segments/longitude  orbit_info/sc_orient root_beam  \\\n",
      "3840825               152.830063                     1      gt1r   \n",
      "3840826               152.829926                     1      gt1r   \n",
      "3840829               152.830170                     1      gt1r   \n",
      "3840830               152.830032                     1      gt1r   \n",
      "3840834               152.830139                     1      gt1r   \n",
      "3840833               152.830261                     1      gt1r   \n",
      "3840837               152.830368                     1      gt1r   \n",
      "3840838               152.830231                     1      gt1r   \n",
      "3840842               152.830460                     1      gt1r   \n",
      "3840843               152.830338                     1      gt1r   \n",
      "3840848               152.830429                     1      gt1r   \n",
      "\n",
      "                            geometry  \n",
      "3840825  POINT (152.83006 -27.43166)  \n",
      "3840826  POINT (152.82993 -27.43165)  \n",
      "3840829  POINT (152.83017 -27.43076)  \n",
      "3840830  POINT (152.83003 -27.43075)  \n",
      "3840834  POINT (152.83014 -27.42985)  \n",
      "3840833  POINT (152.83026 -27.42986)  \n",
      "3840837  POINT (152.83037 -27.42896)  \n",
      "3840838  POINT (152.83023 -27.42895)  \n",
      "3840842  POINT (152.83046 -27.42807)  \n",
      "3840843  POINT (152.83034 -27.42805)  \n",
      "3840848  POINT (152.83043 -27.42716)  \n",
      "beam: gt3r\n",
      "         land_segments/canopy/h_canopy  land_segments/canopy/photon_rate_can  \\\n",
      "3840828                      36.088409                              1.172662   \n",
      "3840832                      33.392578                              1.021898   \n",
      "3840836                      36.164764                              0.814286   \n",
      "3840841                      37.476562                              1.071429   \n",
      "3840846                      38.307526                              1.063830   \n",
      "\n",
      "         land_segments/terrain/photon_rate_te  land_segments/latitude  \\\n",
      "3840828                              0.057554              -27.431124   \n",
      "3840832                              0.036496              -27.430225   \n",
      "3840836                              0.135714              -27.429327   \n",
      "3840841                              0.021429              -27.428429   \n",
      "3840846                              0.000000              -27.427530   \n",
      "\n",
      "         land_segments/longitude  orbit_info/sc_orient root_beam  \\\n",
      "3840828               152.830170                     0      gt2l   \n",
      "3840832               152.830276                     0      gt2l   \n",
      "3840836               152.830383                     0      gt2l   \n",
      "3840841               152.830475                     0      gt2l   \n",
      "3840846               152.830566                     0      gt2l   \n",
      "\n",
      "                            geometry  \n",
      "3840828  POINT (152.83017 -27.43112)  \n",
      "3840832  POINT (152.83028 -27.43023)  \n",
      "3840836  POINT (152.83038 -27.42933)  \n",
      "3840841  POINT (152.83047 -27.42843)  \n",
      "3840846  POINT (152.83057 -27.42753)  \n",
      "beam: gt3r\n",
      "         land_segments/canopy/h_canopy  land_segments/canopy/photon_rate_can  \\\n",
      "3840827                      29.323944                              0.816794   \n",
      "3840831                      33.335144                              0.869565   \n",
      "3840835                      38.978821                              0.933333   \n",
      "3840840                      35.037567                              1.111111   \n",
      "3840845                      36.342560                              0.794393   \n",
      "\n",
      "         land_segments/terrain/photon_rate_te  land_segments/latitude  \\\n",
      "3840827                              0.106870              -27.431540   \n",
      "3840831                              0.086957              -27.430641   \n",
      "3840835                              0.051852              -27.429743   \n",
      "3840840                              0.000000              -27.428844   \n",
      "3840845                              0.037383              -27.427946   \n",
      "\n",
      "         land_segments/longitude  orbit_info/sc_orient root_beam  \\\n",
      "3840827               152.828705                     1      gt3r   \n",
      "3840831               152.828812                     1      gt3r   \n",
      "3840835               152.828903                     1      gt3r   \n",
      "3840840               152.828995                     1      gt3r   \n",
      "3840845               152.829102                     1      gt3r   \n",
      "\n",
      "                            geometry  \n",
      "3840827  POINT (152.82870 -27.43154)  \n",
      "3840831  POINT (152.82881 -27.43064)  \n",
      "3840835  POINT (152.82890 -27.42974)  \n",
      "3840840  POINT (152.82899 -27.42884)  \n",
      "3840845  POINT (152.82910 -27.42795)  \n"
     ]
    }
   ],
   "source": [
    "\n",
    "# Group by the 'root_file' column\n",
    "grouped = df_site.groupby('root_beam')\n",
    "# Now you can iterate over each group or perform operations/aggregations on each group\n",
    "for beam, group in grouped:\n",
    "    print(\"beam:\", track)\n",
    "    print(group) "
   ]
  },
  {
   "cell_type": "code",
   "execution_count": 16,
   "id": "67a5aace-f828-4649-86b2-1bb989cee7ee",
   "metadata": {
    "editable": true,
    "slideshow": {
     "slide_type": ""
    },
    "tags": []
   },
   "outputs": [],
   "source": [
    "import matplotlib.pyplot as plt\n",
    "import os\n",
    "import numpy\n",
    "from pyproj import Transformer\n",
    "from scipy import stats\n",
    "from scipy import odr\n",
    "# Orthogonal distance regression\n",
    "# 正交方法能够同时考虑自变量和因变量的误差。\n",
    "import matplotlib.pyplot as plt\n",
    "import ipywidgets\n",
    "from gedipy import h5io,rsmooth\n",
    "def fit_model(rv,rg):\n",
    "    idx = (rv > 0) & (rg > 0)\n",
    "    tmp = odr.Data(rv[idx], rg[idx])\n",
    "    linear = odr.ODR(tmp, odr.unilinear, beta0=[-1.0,numpy.mean(rg[idx])])\n",
    "    result = linear.run()\n",
    "    rhog = result.beta[1]\n",
    "    rhov = -rhog / result.beta[0]\n",
    "    rhovg = -1 / result.beta[0]\n",
    "    pgap = 1 - rv / (rv + rg * rhovg)\n",
    "    p,p2 = stats.pearsonr(rv,rg)\n",
    "    return result.beta,p,pgap,rhovg\n",
    "\n",
    "\n",
    "def plot_model(rv,rg,beta,r,pgap,rhov_rhog,site,lim=None):\n",
    "    plt.rcParams.update({'font.size': 14})\n",
    "    fig,ax = plt.subplots(1, 1, figsize=(10,8))\n",
    "    s = ax.scatter(rv, rg, c=1-pgap, s=30, alpha=0.9, linewidth=0, vmin=0, vmax=1)\n",
    "    ax.set(xlabel=r'$R_{v}$', ylabel=r'$R_{g}$', xlim=lim, ylim=lim, title=site.upper())\n",
    "    xtmp = numpy.linspace(0,lim[1],num=2)\n",
    "    ax.plot(xtmp, beta[0]*xtmp + beta[1], color='black', linewidth=1)\n",
    "    ax.text(1.2, 1.7, r'$\\frac{\\rho_v}{\\rho_g}=%.02f}$'%rhov_rhog, fontsize=14)\n",
    "    ax.text(1.2, 1.5, r'$r^{2}=%.02f}$'%r**2, fontsize=14)\n",
    "    cbar = ax.figure.colorbar(s, ax=ax)\n",
    "    cbar.ax.set_ylabel('Canopy Cover', rotation=-90, va='bottom')        \n",
    "    fig.canvas.draw()\n",
    "    # Save the plot without displaying it\n",
    "    # Save the plot to a PDF file\n",
    "    fig.savefig('../result/ratioPlot/' + site + '.pdf', format='pdf', bbox_inches='tight')\n",
    "    # Optionally, you can close the figure if you don't want to display it at all\n",
    "    plt.close(fig)\n",
    "# Sample data\n",
    "rg = df_site['land_segments/terrain/photon_rate_te']\n",
    "rv = df_site['land_segments/canopy/photon_rate_can']\n",
    "site=sites['name'].iloc[20]\n",
    "beta,r,pgap,rhov_rhog = fit_model(rv,rg)\n",
    "plot_model(rv,rg,beta,r,pgap,rhov_rhog,site,lim=(0,2))"
   ]
  },
  {
   "cell_type": "code",
   "execution_count": 25,
   "id": "e74ef3c9-728f-45a3-985c-37f0cc9e4170",
   "metadata": {},
   "outputs": [
    {
     "name": "stdout",
     "output_type": "stream",
     "text": [
      "0\n",
      "1\n",
      "2\n",
      "3\n",
      "4\n",
      "5\n",
      "6\n",
      "7\n",
      "8\n",
      "9\n"
     ]
    }
   ],
   "source": [
    "# plot all\n",
    "gdf_is2 = gdf_is2.reset_index(drop=True)\n",
    "for index, row in sites[:10].iterrows():\n",
    "    print(index)\n",
    "    #print(row['geometry'])\n",
    "    als_index = gdf_is2.sindex.query(row['geometry']) # super fast!!!!! # but only boundary box. \n",
    "    is2_in_als = gdf_is2.loc[als_index] \n",
    "    df_site = is2_in_als.clip(row['geometry'])  # get points inside polygon.\n",
    "    df_site = df_site[df_site['land_segments/terrain/photon_rate_te'] < 140]\n",
    "    rg = df_site['land_segments/terrain/photon_rate_te']\n",
    "    rv = df_site['land_segments/canopy/photon_rate_can']\n",
    "    site=row['name']\n",
    "    beta,r,pgap,rhov_rhog = fit_model(rv,rg)\n",
    "    plot_model(rv,rg,beta,r,pgap,rhov_rhog,site,lim=(0,2))"
   ]
  },
  {
   "cell_type": "code",
   "execution_count": 27,
   "id": "6409b089-199e-4918-afd0-4815458abdf9",
   "metadata": {
    "editable": true,
    "slideshow": {
     "slide_type": ""
    },
    "tags": []
   },
   "outputs": [],
   "source": [
    "VALID_SITES = ['amani','csir_agincourt', 'csir_dnyala', 'csir_ireagh', 'csir_justicia', 'csir_venetia', 'csir_welverdient', 'drc_ghent_field_32635', \n",
    "               'drc_ghent_field_32733', 'drc_ghent_field_32734', 'gsfc_mozambique', 'jpl_lope', 'jpl_rabi', 'tanzania_wwf_germany', 'khaoyai_thailand', \n",
    "               'chowilla', 'credo', 'karawatha', 'litchfield', 'rushworth_forests', 'tern_alice_mulga', 'tern_robson_whole', 'costarica_laselva2019', \n",
    "               'skidmore_bayerischer', 'zofin_180607', 'spain_exts1', 'spain_exts2', 'spain_exts3', 'spain_exts4', 'spain_leonposada', 'spain_leon1', \n",
    "               'spain_leon2', 'spain_leon3', 'jpl_borneo_004', 'jpl_borneo_013', 'jpl_borneo_040', 'jpl_borneo_119', 'jpl_borneo_144', 'chave_paracou', \n",
    "               'embrapa_brazil_2020_and_a01', 'embrapa_brazil_2020_bon_a01', 'embrapa_brazil_2020_cau_a01', 'embrapa_brazil_2020_duc_a01', \n",
    "               'embrapa_brazil_2020_hum_a01', 'embrapa_brazil_2020_par_a01', 'embrapa_brazil_2020_rib_a01', 'embrapa_brazil_2020_tal_a01',\n",
    "               'embrapa_brazil_2020_tan_a01', 'embrapa_brazil_2020_tap_a01', 'embrapa_brazil_2020_tap_a04', 'walkerfire_20191007', \n",
    "               'neon_abby2018', 'neon_abby2019', 'neon_abby2021', 'neon_bart2018', 'neon_bart2019', 'neon_blan2019', 'neon_blan2021', \n",
    "               'neon_clbj2018', 'neon_clbj2019', 'neon_clbj2021', 'neon_clbj2021', 'neon_dela2018', 'neon_dela2019', 'neon_dela2021', \n",
    "               'neon_dsny2018', 'neon_dsny2021', 'neon_grsm2018', 'neon_grsm2021', 'neon_guan2018', 'neon_harv2018', 'neon_harv2019', \n",
    "               'neon_jerc2019', 'neon_jerc2021', 'neon_jorn2018', 'neon_jorn2019', 'neon_jorn2021', 'neon_konz2019', 'neon_konz2020', \n",
    "               'neon_leno2018', 'neon_leno2019', 'neon_leno2021', 'neon_mlbs2018', 'neon_mlbs2021', 'neon_moab2018', 'neon_moab2021', \n",
    "               'neon_niwo2019', 'neon_niwo2020', 'neon_nogp2021', 'neon_onaq2019', 'neon_onaq2021', 'neon_osbs2018', 'neon_osbs2019', \n",
    "               'neon_osbs2021', 'neon_puum2020', 'neon_rmnp2018', 'neon_rmnp2020', 'neon_scbi2019', 'neon_scbi2021', 'neon_serc2019', \n",
    "               'neon_serc2021', 'neon_sjer2019', 'neon_soap2018', 'neon_soap2019', 'neon_soap2021', 'neon_srer2019', 'neon_srer2021', \n",
    "               'neon_stei2019', 'neon_stei2020', 'neon_ster2021', 'neon_tall2018', 'neon_tall2019', 'neon_tall2021', 'neon_teak2021', \n",
    "               'neon_ukfs2018', 'neon_ukfs2019', 'neon_ukfs2020', 'neon_unde2019', 'neon_unde2020', 'neon_wood2021', 'neon_wref2019', \n",
    "               'neon_wref2021', 'neon_yell2018', 'neon_yell2019', 'neon_yell2020', \n",
    "               'neon_blan2022', 'neon_clbj2022', 'neon_grsm2022', 'neon_moab2022', 'neon_onaq2022', 'neon_rmnp2022', 'neon_serc2022', \n",
    "               'neon_stei2022', 'neon_steicheq2022', 'neon_ster2022', 'neon_unde2022', 'inpe_brazil31983', 'inpe_brazil31981', \n",
    "               'inpe_brazil31979', 'inpe_brazil31976', 'inpe_brazil31975', 'inpe_brazil31973', 'inpe_brazil31974', 'inpe_brazil31978',\n",
    "                'jrsrp_ilcp2015_wholeq6', 'csir_limpopo']"
   ]
  },
  {
   "cell_type": "code",
   "execution_count": 32,
   "id": "332ef23e-a94c-401c-8f6c-7b2b06c9d96d",
   "metadata": {},
   "outputs": [
    {
     "name": "stdout",
     "output_type": "stream",
     "text": [
      "# merge into a single pdf...\n"
     ]
    }
   ],
   "source": [
    "import glob\n",
    "import PyPDF2\n",
    "\n",
    "def merge_pdfs(filepaths, output_filepath):\n",
    "    # Create a PDF merger object\n",
    "    pdf_merger = PyPDF2.PdfMerger()\n",
    "\n",
    "    # Iterate through each PDF file and append it to the merger\n",
    "    for filepath in filepaths:\n",
    "        with open(filepath, 'rb') as pdf_file:\n",
    "            pdf_merger.append(pdf_file)\n",
    "\n",
    "    # Write the merged PDF to the output file\n",
    "    with open(output_filepath, 'wb') as output_file:\n",
    "        pdf_merger.write(output_file)\n",
    "print('# merge into a single pdf...')\n",
    "\n",
    "# Example usage:\n",
    "# List of PDF files to be merged\n",
    "pdf_files_to_merge = glob.glob('/gpfs/data1/vclgp/xiongl/ProjectIS2CalVal/result/ratioPlot/*.pdf')\n",
    "\n",
    "# get only valid sites \n",
    "# len(VALID_SITES)\n",
    "# usa_neon_clbj2022.jpeg\n",
    "valid_pdf=[]\n",
    "for f in pdf_files_to_merge:\n",
    "    base_name = os.path.basename(f)[:-4]\n",
    "    # usa_neon_clbj2022.jpeg \n",
    "    #split_strings = base_name.split('_')\n",
    "    #site1 = '_'.join(split_strings[1:])\n",
    "    if base_name in VALID_SITES:\n",
    "        #print(site1)\n",
    "        valid_pdf.append(f)\n",
    "valid_pdf = sorted(valid_pdf)\n",
    "# Output file name for the merged PDF\n",
    "output_pdf_file = '../report/valid_sites_rvrg_ratio_v20240206.pdf'\n",
    "# Call the merge_pdfs function\n",
    "merge_pdfs(valid_pdf, output_pdf_file)"
   ]
  },
  {
   "cell_type": "code",
   "execution_count": 37,
   "id": "56e8a709-888b-46d6-b990-faa07af09e51",
   "metadata": {
    "editable": true,
    "slideshow": {
     "slide_type": ""
    },
    "tags": []
   },
   "outputs": [
    {
     "data": {
      "text/plain": [
       "'r'"
      ]
     },
     "execution_count": 37,
     "metadata": {},
     "output_type": "execute_result"
    }
   ],
   "source": [
    "'gt1r'[-1]"
   ]
  },
  {
   "cell_type": "code",
   "execution_count": 40,
   "id": "b81b68ad-5b40-45d0-9ea9-82796943ec66",
   "metadata": {
    "editable": true,
    "slideshow": {
     "slide_type": ""
    },
    "tags": []
   },
   "outputs": [
    {
     "data": {
      "text/plain": [
       "array([[[0., 0.],\n",
       "        [0., 0.]],\n",
       "\n",
       "       [[0., 0.],\n",
       "        [0., 0.]],\n",
       "\n",
       "       [[0., 0.],\n",
       "        [0., 0.]]], dtype=float32)"
      ]
     },
     "execution_count": 40,
     "metadata": {},
     "output_type": "execute_result"
    }
   ],
   "source": [
    "numpy.zeros((3,2,2), dtype=numpy.float32)"
   ]
  },
  {
   "cell_type": "code",
   "execution_count": 44,
   "id": "cacafb02-8466-4ca8-8103-525fd2d087dc",
   "metadata": {},
   "outputs": [],
   "source": [
    "p = numpy.array([0.1, 0.6, 0.9, 0.8])\n",
    "n = numpy.array([10, 20, 30, 40])"
   ]
  },
  {
   "cell_type": "code",
   "execution_count": 68,
   "id": "a7ecfd3c-c7ea-4d18-b8bd-fa3e75aede30",
   "metadata": {
    "editable": true,
    "slideshow": {
     "slide_type": ""
    },
    "tags": []
   },
   "outputs": [
    {
     "data": {
      "text/plain": [
       "0"
      ]
     },
     "execution_count": 68,
     "metadata": {},
     "output_type": "execute_result"
    }
   ],
   "source": [
    "len(p[n == 5])"
   ]
  },
  {
   "cell_type": "code",
   "execution_count": 53,
   "id": "d8737767-3463-4900-926e-64c994a38419",
   "metadata": {
    "editable": true,
    "slideshow": {
     "slide_type": ""
    },
    "tags": []
   },
   "outputs": [
    {
     "data": {
      "text/plain": [
       "True"
      ]
     },
     "execution_count": 53,
     "metadata": {},
     "output_type": "execute_result"
    }
   ],
   "source": [
    "numpy.any(numpy.array([0, 0, 0, 1]))"
   ]
  },
  {
   "cell_type": "code",
   "execution_count": 58,
   "id": "433b33b5-9706-4f70-bc8e-d36dab4081c8",
   "metadata": {},
   "outputs": [
    {
     "data": {
      "text/plain": [
       "tuple"
      ]
     },
     "execution_count": 58,
     "metadata": {},
     "output_type": "execute_result"
    }
   ],
   "source": [
    "test = (1,2,3,2 )\n",
    "type(test)"
   ]
  },
  {
   "cell_type": "code",
   "execution_count": 60,
   "id": "b4be9bba-0b1d-4252-bc9e-4a55891c3a08",
   "metadata": {
    "editable": true,
    "slideshow": {
     "slide_type": ""
    },
    "tags": []
   },
   "outputs": [
    {
     "data": {
      "text/plain": [
       "array([[[-9999., -9999.],\n",
       "        [-9999., -9999.]],\n",
       "\n",
       "       [[-9999., -9999.],\n",
       "        [-9999., -9999.]],\n",
       "\n",
       "       [[-9999., -9999.],\n",
       "        [-9999., -9999.]]], dtype=float32)"
      ]
     },
     "execution_count": 60,
     "metadata": {},
     "output_type": "execute_result"
    }
   ],
   "source": [
    "output = numpy.full((3,2,2), -9999, dtype=numpy.float32)\n",
    "output"
   ]
  },
  {
   "cell_type": "code",
   "execution_count": 61,
   "id": "b8660c7c-d4f6-487b-8808-aa29707a1688",
   "metadata": {},
   "outputs": [
    {
     "data": {
      "text/plain": [
       "'atl'"
      ]
     },
     "execution_count": 61,
     "metadata": {},
     "output_type": "execute_result"
    }
   ],
   "source": [
    "'atl.h5'[:-3]"
   ]
  },
  {
   "cell_type": "code",
   "execution_count": 63,
   "id": "15b01822-4145-4db7-8900-676ee358f64d",
   "metadata": {
    "editable": true,
    "slideshow": {
     "slide_type": ""
    },
    "tags": []
   },
   "outputs": [
    {
     "data": {
      "text/plain": [
       "array([1, 4])"
      ]
     },
     "execution_count": 63,
     "metadata": {},
     "output_type": "execute_result"
    }
   ],
   "source": [
    "numpy.array([1,2]) * numpy.array([1,2])"
   ]
  },
  {
   "cell_type": "code",
   "execution_count": 72,
   "id": "59e7722b-3e21-4651-9999-25be115047e9",
   "metadata": {
    "editable": true,
    "slideshow": {
     "slide_type": ""
    },
    "tags": []
   },
   "outputs": [
    {
     "data": {
      "image/png": "[encoded data removed]",
      "text/plain": [
       "<Figure size 640x480 with 1 Axes>"
      ]
     },
     "metadata": {},
     "output_type": "display_data"
    },
    {
     "data": {
      "image/png": "[encoded data removed]",
      "text/plain": [
       "<Figure size 640x480 with 1 Axes>"
      ]
     },
     "metadata": {},
     "output_type": "display_data"
    }
   ],
   "source": [
    "import numpy as np\n",
    "import matplotlib.pyplot as plt\n",
    "\n",
    "# Step 2: Load or generate time-amplitude data\n",
    "# For example, let's generate a simple sine wave\n",
    "t = np.linspace(0, 1, 1000)  # Time vector from 0 to 1 second\n",
    "amplitude = np.sin(2 * np.pi * 5 * t)  # Sine wave with frequency of 5 Hz\n",
    "\n",
    "plt.plot(t, amplitude)\n",
    "plt.grid(True)\n",
    "plt.show()\n",
    "# Step 3: Perform FFT\n",
    "fft_result = np.fft.fft(amplitude)\n",
    "\n",
    "# Step 4: Compute frequency bins\n",
    "sampling_freq = 1000  # Sampling frequency (samples per second)\n",
    "freq_bins = np.fft.fftfreq(len(t), 1 / sampling_freq)\n",
    "\n",
    "# Step 5: Plot the results\n",
    "\n",
    "plt.plot(freq_bins, np.abs(fft_result))\n",
    "plt.title('Frequency Spectrum')\n",
    "plt.xlabel('Frequency (Hz)')\n",
    "plt.ylabel('Amplitude')\n",
    "plt.grid(True)\n",
    "plt.show()\n"
   ]
  },
  {
   "cell_type": "code",
   "execution_count": null,
   "id": "369c22a7-6faa-4bf5-80ba-86a1aa8d254e",
   "metadata": {
    "editable": true,
    "slideshow": {
     "slide_type": ""
    },
    "tags": []
   },
   "outputs": [],
   "source": []
  }
 ],
 "metadata": {
  "kernelspec": {
   "display_name": "Python 3 (ipykernel)",
   "language": "python",
   "name": "python3"
  },
  "language_info": {
   "codemirror_mode": {
    "name": "ipython",
    "version": 3
   },
   "file_extension": ".py",
   "mimetype": "text/x-python",
   "name": "python",
   "nbconvert_exporter": "python",
   "pygments_lexer": "ipython3",
   "version": "3.11.4"
  }
 },
 "nbformat": 4,
 "nbformat_minor": 5
}
