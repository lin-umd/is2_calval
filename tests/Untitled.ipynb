{
 "cells": [
  {
   "cell_type": "code",
   "execution_count": 19,
   "id": "9bc44e14-2a4d-4f66-9b69-2184796f8f12",
   "metadata": {},
   "outputs": [],
   "source": [
    "VALID_SITES = ['amani','csir_agincourt', 'csir_dnyala', 'csir_ireagh', 'csir_justicia', 'csir_venetia', 'csir_welverdient', 'drc_ghent_field_32635', \n",
    "               'drc_ghent_field_32733', 'drc_ghent_field_32734', 'gsfc_mozambique', 'jpl_lope', 'jpl_rabi', 'tanzania_wwf_germany', 'khaoyai_thailand', \n",
    "               'chowilla', 'credo', 'karawatha', 'litchfield', 'rushworth_forests', 'tern_alice_mulga', 'tern_robson_whole', 'costarica_laselva2019', \n",
    "               'skidmore_bayerischer', 'zofin_180607', 'spain_exts1', 'spain_exts2', 'spain_exts3', 'spain_exts4', 'spain_leonposada', 'spain_leon1', \n",
    "               'spain_leon2', 'spain_leon3', 'jpl_borneo_004', 'jpl_borneo_013', 'jpl_borneo_040', 'jpl_borneo_119', 'jpl_borneo_144', 'chave_paracou', \n",
    "               'embrapa_brazil_2020_and_a01', 'embrapa_brazil_2020_bon_a01', 'embrapa_brazil_2020_cau_a01', 'embrapa_brazil_2020_duc_a01', \n",
    "               'embrapa_brazil_2020_hum_a01', 'embrapa_brazil_2020_par_a01', 'embrapa_brazil_2020_rib_a01', 'embrapa_brazil_2020_tal_a01',\n",
    "               'embrapa_brazil_2020_tan_a01', 'embrapa_brazil_2020_tap_a01', 'embrapa_brazil_2020_tap_a04', 'walkerfire_20191007', \n",
    "               'neon_abby2018', 'neon_abby2019', 'neon_abby2021', 'neon_bart2018', 'neon_bart2019', 'neon_blan2019', 'neon_blan2021', \n",
    "               'neon_clbj2018', 'neon_clbj2019', 'neon_clbj2021', 'neon_clbj2022', 'neon_dela2018', 'neon_dela2019', 'neon_dela2021', \n",
    "               'neon_dsny2018', 'neon_dsny2021', 'neon_grsm2018', 'neon_grsm2021', 'neon_guan2018', 'neon_harv2018', 'neon_harv2019', \n",
    "               'neon_jerc2019', 'neon_jerc2021', 'neon_jorn2018', 'neon_jorn2019', 'neon_jorn2021', 'neon_konz2019', 'neon_konz2020', \n",
    "               'neon_leno2018', 'neon_leno2019', 'neon_leno2021', 'neon_mlbs2018', 'neon_mlbs2021', 'neon_moab2018', 'neon_moab2021', \n",
    "               'neon_niwo2019', 'neon_niwo2020', 'neon_nogp2021', 'neon_onaq2019', 'neon_onaq2021', 'neon_osbs2018', 'neon_osbs2019', \n",
    "               'neon_osbs2021', 'neon_puum2020', 'neon_rmnp2018', 'neon_rmnp2020', 'neon_scbi2019', 'neon_scbi2021', 'neon_serc2019', \n",
    "               'neon_serc2021', 'neon_sjer2019', 'neon_soap2018', 'neon_soap2019', 'neon_soap2021', 'neon_srer2019', 'neon_srer2021', \n",
    "               'neon_stei2019', 'neon_stei2020', 'neon_ster2021', 'neon_tall2018', 'neon_tall2019', 'neon_tall2021', 'neon_teak2021', \n",
    "               'neon_ukfs2018', 'neon_ukfs2019', 'neon_ukfs2020', 'neon_unde2019', 'neon_unde2020', 'neon_wood2021', 'neon_wref2019', \n",
    "               'neon_wref2021', 'neon_yell2018', 'neon_yell2019', 'neon_yell2020', \n",
    "               'neon_blan2022', 'neon_grsm2022', 'neon_moab2022', 'neon_onaq2022', 'neon_rmnp2022', 'neon_serc2022', \n",
    "               'neon_stei2022', 'neon_steicheq2022', 'neon_ster2022', 'neon_unde2022', 'inpe_brazil31983', 'inpe_brazil31981', \n",
    "               'inpe_brazil31979', 'inpe_brazil31976', 'inpe_brazil31975', 'inpe_brazil31973', 'inpe_brazil31974', 'inpe_brazil31978', \n",
    "               'csir_limpopo','jrsrp_ilcp2015_wholeq6']"
   ]
  },
  {
   "cell_type": "code",
   "execution_count": 20,
   "id": "9ecb2f90-d76d-42c3-8fe7-ad5b6651a04e",
   "metadata": {},
   "outputs": [
    {
     "data": {
      "text/plain": [
       "(145, 145)"
      ]
     },
     "execution_count": 20,
     "metadata": {},
     "output_type": "execute_result"
    }
   ],
   "source": [
    "len(VALID_SITES), len(set(VALID_SITES))"
   ]
  },
  {
   "cell_type": "code",
   "execution_count": 21,
   "id": "db6b284b-6f93-43c6-ac41-3ed32cfac4e5",
   "metadata": {},
   "outputs": [],
   "source": [
    "import geopandas  as gpd\n",
    "gdf =  gpd.read_parquet('/gpfs/data1/vclgp/xiongl/ProjectIS2CalVal/data/all_sites_20231218.parquet')"
   ]
  },
  {
   "cell_type": "code",
   "execution_count": 22,
   "id": "08bdc854-bf1b-4495-b236-4340e9821ba7",
   "metadata": {},
   "outputs": [
    {
     "data": {
      "text/html": [
       "<div>\n",
       "<style scoped>\n",
       "    .dataframe tbody tr th:only-of-type {\n",
       "        vertical-align: middle;\n",
       "    }\n",
       "\n",
       "    .dataframe tbody tr th {\n",
       "        vertical-align: top;\n",
       "    }\n",
       "\n",
       "    .dataframe thead th {\n",
       "        text-align: right;\n",
       "    }\n",
       "</style>\n",
       "<table border=\"1\" class=\"dataframe\">\n",
       "  <thead>\n",
       "    <tr style=\"text-align: right;\">\n",
       "      <th></th>\n",
       "      <th>region</th>\n",
       "      <th>name</th>\n",
       "      <th>area_ha</th>\n",
       "      <th>epsg</th>\n",
       "      <th>geometry</th>\n",
       "    </tr>\n",
       "  </thead>\n",
       "  <tbody>\n",
       "    <tr>\n",
       "      <th>0</th>\n",
       "      <td>usa</td>\n",
       "      <td>usda_me</td>\n",
       "      <td>562710.549007</td>\n",
       "      <td>26919</td>\n",
       "      <td>MULTIPOLYGON (((-70.48145 45.36351, -70.48145 ...</td>\n",
       "    </tr>\n",
       "    <tr>\n",
       "      <th>1</th>\n",
       "      <td>usa</td>\n",
       "      <td>plumasnf_20180707</td>\n",
       "      <td>861751.014503</td>\n",
       "      <td>3310</td>\n",
       "      <td>MULTIPOLYGON (((-121.56314 39.67990, -121.5631...</td>\n",
       "    </tr>\n",
       "    <tr>\n",
       "      <th>2</th>\n",
       "      <td>australia</td>\n",
       "      <td>tern_robson_whole</td>\n",
       "      <td>3428.721642</td>\n",
       "      <td>28355</td>\n",
       "      <td>POLYGON ((145.62333 -17.12994, 145.61720 -17.1...</td>\n",
       "    </tr>\n",
       "    <tr>\n",
       "      <th>3</th>\n",
       "      <td>seasia</td>\n",
       "      <td>jpl_borneo_013</td>\n",
       "      <td>3829.727945</td>\n",
       "      <td>32750</td>\n",
       "      <td>POLYGON ((114.46872 -2.15843, 114.46872 -2.158...</td>\n",
       "    </tr>\n",
       "    <tr>\n",
       "      <th>4</th>\n",
       "      <td>usa</td>\n",
       "      <td>stri_serc_Oct2011</td>\n",
       "      <td>1263.062788</td>\n",
       "      <td>32618</td>\n",
       "      <td>MULTIPOLYGON (((-76.56098 38.87436, -76.56098 ...</td>\n",
       "    </tr>\n",
       "  </tbody>\n",
       "</table>\n",
       "</div>"
      ],
      "text/plain": [
       "      region               name        area_ha   epsg  \\\n",
       "0        usa            usda_me  562710.549007  26919   \n",
       "1        usa  plumasnf_20180707  861751.014503   3310   \n",
       "2  australia  tern_robson_whole    3428.721642  28355   \n",
       "3     seasia     jpl_borneo_013    3829.727945  32750   \n",
       "4        usa  stri_serc_Oct2011    1263.062788  32618   \n",
       "\n",
       "                                            geometry  \n",
       "0  MULTIPOLYGON (((-70.48145 45.36351, -70.48145 ...  \n",
       "1  MULTIPOLYGON (((-121.56314 39.67990, -121.5631...  \n",
       "2  POLYGON ((145.62333 -17.12994, 145.61720 -17.1...  \n",
       "3  POLYGON ((114.46872 -2.15843, 114.46872 -2.158...  \n",
       "4  MULTIPOLYGON (((-76.56098 38.87436, -76.56098 ...  "
      ]
     },
     "execution_count": 22,
     "metadata": {},
     "output_type": "execute_result"
    }
   ],
   "source": [
    "gdf.head()"
   ]
  },
  {
   "cell_type": "code",
   "execution_count": 28,
   "id": "76919b92-d2d3-410b-97e8-20f97f814a09",
   "metadata": {},
   "outputs": [],
   "source": [
    "gdf = gdf.drop_duplicates(subset='name')"
   ]
  },
  {
   "cell_type": "code",
   "execution_count": 29,
   "id": "f075079c-c091-4e22-a25a-e9c7393c0c7e",
   "metadata": {},
   "outputs": [],
   "source": [
    "filtered_df = gdf[gdf['name'].isin(VALID_SITES)]"
   ]
  },
  {
   "cell_type": "code",
   "execution_count": 30,
   "id": "4e0d021d-89f5-472e-a143-f7d2abe263af",
   "metadata": {},
   "outputs": [
    {
     "data": {
      "text/html": [
       "<div>\n",
       "<style scoped>\n",
       "    .dataframe tbody tr th:only-of-type {\n",
       "        vertical-align: middle;\n",
       "    }\n",
       "\n",
       "    .dataframe tbody tr th {\n",
       "        vertical-align: top;\n",
       "    }\n",
       "\n",
       "    .dataframe thead th {\n",
       "        text-align: right;\n",
       "    }\n",
       "</style>\n",
       "<table border=\"1\" class=\"dataframe\">\n",
       "  <thead>\n",
       "    <tr style=\"text-align: right;\">\n",
       "      <th></th>\n",
       "      <th>region</th>\n",
       "      <th>name</th>\n",
       "      <th>area_ha</th>\n",
       "      <th>epsg</th>\n",
       "      <th>geometry</th>\n",
       "    </tr>\n",
       "  </thead>\n",
       "  <tbody>\n",
       "    <tr>\n",
       "      <th>2</th>\n",
       "      <td>australia</td>\n",
       "      <td>tern_robson_whole</td>\n",
       "      <td>3428.721642</td>\n",
       "      <td>28355</td>\n",
       "      <td>POLYGON ((145.62333 -17.12994, 145.61720 -17.1...</td>\n",
       "    </tr>\n",
       "    <tr>\n",
       "      <th>3</th>\n",
       "      <td>seasia</td>\n",
       "      <td>jpl_borneo_013</td>\n",
       "      <td>3829.727945</td>\n",
       "      <td>32750</td>\n",
       "      <td>POLYGON ((114.46872 -2.15843, 114.46872 -2.158...</td>\n",
       "    </tr>\n",
       "    <tr>\n",
       "      <th>5</th>\n",
       "      <td>australia</td>\n",
       "      <td>litchfield</td>\n",
       "      <td>2619.714151</td>\n",
       "      <td>28352</td>\n",
       "      <td>MULTIPOLYGON (((130.76650 -13.18500, 130.76643...</td>\n",
       "    </tr>\n",
       "    <tr>\n",
       "      <th>8</th>\n",
       "      <td>usa</td>\n",
       "      <td>neon_leno2019</td>\n",
       "      <td>16114.909258</td>\n",
       "      <td>32616</td>\n",
       "      <td>POLYGON ((-88.25040 31.82899, -88.25039 31.828...</td>\n",
       "    </tr>\n",
       "    <tr>\n",
       "      <th>16</th>\n",
       "      <td>usa</td>\n",
       "      <td>neon_stei2019</td>\n",
       "      <td>14466.831413</td>\n",
       "      <td>32616</td>\n",
       "      <td>MULTIPOLYGON (((-89.48059 45.44158, -89.48059 ...</td>\n",
       "    </tr>\n",
       "    <tr>\n",
       "      <th>...</th>\n",
       "      <td>...</td>\n",
       "      <td>...</td>\n",
       "      <td>...</td>\n",
       "      <td>...</td>\n",
       "      <td>...</td>\n",
       "    </tr>\n",
       "    <tr>\n",
       "      <th>441</th>\n",
       "      <td>usa</td>\n",
       "      <td>neon_wref2019</td>\n",
       "      <td>43309.300341</td>\n",
       "      <td>32610</td>\n",
       "      <td>MULTIPOLYGON (((-122.06173 45.79346, -122.0617...</td>\n",
       "    </tr>\n",
       "    <tr>\n",
       "      <th>442</th>\n",
       "      <td>usa</td>\n",
       "      <td>neon_mlbs2018</td>\n",
       "      <td>4459.101307</td>\n",
       "      <td>32617</td>\n",
       "      <td>MULTIPOLYGON (((-80.59788 37.32139, -80.59788 ...</td>\n",
       "    </tr>\n",
       "    <tr>\n",
       "      <th>449</th>\n",
       "      <td>africa</td>\n",
       "      <td>jpl_rabi</td>\n",
       "      <td>1204.011335</td>\n",
       "      <td>32732</td>\n",
       "      <td>POLYGON ((9.87509 -1.92717, 9.87115 -1.92717, ...</td>\n",
       "    </tr>\n",
       "    <tr>\n",
       "      <th>451</th>\n",
       "      <td>australia</td>\n",
       "      <td>tern_alice_mulga</td>\n",
       "      <td>5670.280434</td>\n",
       "      <td>28353</td>\n",
       "      <td>MULTIPOLYGON (((133.22268 -22.30508, 133.22268...</td>\n",
       "    </tr>\n",
       "    <tr>\n",
       "      <th>452</th>\n",
       "      <td>usa</td>\n",
       "      <td>neon_niwo2019</td>\n",
       "      <td>28440.583729</td>\n",
       "      <td>32613</td>\n",
       "      <td>POLYGON ((-105.65342 40.01806, -105.65342 40.0...</td>\n",
       "    </tr>\n",
       "  </tbody>\n",
       "</table>\n",
       "<p>145 rows × 5 columns</p>\n",
       "</div>"
      ],
      "text/plain": [
       "        region               name       area_ha   epsg  \\\n",
       "2    australia  tern_robson_whole   3428.721642  28355   \n",
       "3       seasia     jpl_borneo_013   3829.727945  32750   \n",
       "5    australia         litchfield   2619.714151  28352   \n",
       "8          usa      neon_leno2019  16114.909258  32616   \n",
       "16         usa      neon_stei2019  14466.831413  32616   \n",
       "..         ...                ...           ...    ...   \n",
       "441        usa      neon_wref2019  43309.300341  32610   \n",
       "442        usa      neon_mlbs2018   4459.101307  32617   \n",
       "449     africa           jpl_rabi   1204.011335  32732   \n",
       "451  australia   tern_alice_mulga   5670.280434  28353   \n",
       "452        usa      neon_niwo2019  28440.583729  32613   \n",
       "\n",
       "                                              geometry  \n",
       "2    POLYGON ((145.62333 -17.12994, 145.61720 -17.1...  \n",
       "3    POLYGON ((114.46872 -2.15843, 114.46872 -2.158...  \n",
       "5    MULTIPOLYGON (((130.76650 -13.18500, 130.76643...  \n",
       "8    POLYGON ((-88.25040 31.82899, -88.25039 31.828...  \n",
       "16   MULTIPOLYGON (((-89.48059 45.44158, -89.48059 ...  \n",
       "..                                                 ...  \n",
       "441  MULTIPOLYGON (((-122.06173 45.79346, -122.0617...  \n",
       "442  MULTIPOLYGON (((-80.59788 37.32139, -80.59788 ...  \n",
       "449  POLYGON ((9.87509 -1.92717, 9.87115 -1.92717, ...  \n",
       "451  MULTIPOLYGON (((133.22268 -22.30508, 133.22268...  \n",
       "452  POLYGON ((-105.65342 40.01806, -105.65342 40.0...  \n",
       "\n",
       "[145 rows x 5 columns]"
      ]
     },
     "execution_count": 30,
     "metadata": {},
     "output_type": "execute_result"
    }
   ],
   "source": [
    "filtered_df "
   ]
  },
  {
   "cell_type": "code",
   "execution_count": 31,
   "id": "5b7d42cc-642a-44a4-8120-1c28c27de5fb",
   "metadata": {},
   "outputs": [
    {
     "name": "stdout",
     "output_type": "stream",
     "text": [
      "Series([], Name: name, dtype: int64)\n"
     ]
    }
   ],
   "source": [
    "repeated_sites = filtered_df['name'].value_counts()\n",
    "repeated_sites = repeated_sites[repeated_sites > 1]\n",
    "print(repeated_sites)"
   ]
  },
  {
   "cell_type": "code",
   "execution_count": 32,
   "id": "e13c2fdb-0c67-40c5-9db9-d698ffea65a6",
   "metadata": {},
   "outputs": [
    {
     "name": "stderr",
     "output_type": "stream",
     "text": [
      "/tmp/ipykernel_146433/3142056477.py:1: UserWarning: this is an initial implementation of Parquet/Feather file support and associated metadata.  This is tracking version 0.1.0 of the metadata specification at https://github.com/geopandas/geo-arrow-spec\n",
      "\n",
      "This metadata specification does not yet make stability promises.  We do not yet recommend using this in a production setting unless you are able to rewrite your Parquet/Feather files.\n",
      "\n",
      "To further ignore this warning, you can do: \n",
      "import warnings; warnings.filterwarnings('ignore', message='.*initial implementation of Parquet.*')\n",
      "  filtered_df .to_parquet('/gpfs/data1/vclgp/xiongl/ProjectIS2CalVal/data/calval_sites_20250721.parquet')\n"
     ]
    }
   ],
   "source": [
    "filtered_df.to_parquet('/gpfs/data1/vclgp/xiongl/ProjectIS2CalVal/data/calval_sites_20250721.parquet')"
   ]
  },
  {
   "cell_type": "code",
   "execution_count": null,
   "id": "f1d452d5-8f8b-4741-8c5c-ac949fdd392f",
   "metadata": {},
   "outputs": [],
   "source": []
  }
 ],
 "metadata": {
  "kernelspec": {
   "display_name": "Python 3 (ipykernel)",
   "language": "python",
   "name": "python3"
  },
  "language_info": {
   "codemirror_mode": {
    "name": "ipython",
    "version": 3
   },
   "file_extension": ".py",
   "mimetype": "text/x-python",
   "name": "python",
   "nbconvert_exporter": "python",
   "pygments_lexer": "ipython3",
   "version": "3.10.4"
  }
 },
 "nbformat": 4,
 "nbformat_minor": 5
}
