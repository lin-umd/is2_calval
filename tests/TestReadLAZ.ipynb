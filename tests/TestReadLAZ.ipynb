{
 "cells": [
  {
   "cell_type": "code",
   "execution_count": 3,
   "id": "2ba5a127-74d2-4e51-a88a-2bece7088e25",
   "metadata": {},
   "outputs": [],
   "source": [
    "import numpy as np\n",
    "import laspy\n",
    "import glob"
   ]
  },
  {
   "cell_type": "code",
   "execution_count": 4,
   "id": "07ffb665-5b9d-4139-b560-91b4bda9a6ba",
   "metadata": {},
   "outputs": [],
   "source": [
    "files = glob.glob('/gpfs/data1/vclgp/xiongl/ProjectIS2CalVal/result/ease1km_tile/laz_1km/*.laz')"
   ]
  },
  {
   "cell_type": "code",
   "execution_count": 5,
   "id": "516faa84-49a1-4779-bb71-b76d53bb60e6",
   "metadata": {},
   "outputs": [],
   "source": [
    "las = laspy.read(files[20])"
   ]
  },
  {
   "cell_type": "code",
   "execution_count": 15,
   "id": "ecad36a1-7ed7-4af2-b13b-23e70504d7ed",
   "metadata": {},
   "outputs": [
    {
     "name": "stdout",
     "output_type": "stream",
     "text": [
      "lasinfo (171231) report for /gpfs/data1/vclgp/xiongl/ProjectIS2CalVal/result/ease1km_tile/laz_500m/X21073Y07971tile_1121000_9422000.laz\n",
      "reporting all LAS header entries:\n",
      "  file signature:             'LASF'\n",
      "  file source ID:             0\n",
      "  global_encoding:            0\n",
      "  project ID GUID data 1-4:   00000000-0000-0000-0000-000000000000\n",
      "  version major.minor:        1.2\n",
      "  system identifier:          'LAStools (c) by rapidlasso GmbH'\n",
      "  generating software:        'lastile (220107) academic'\n",
      "  file creation day/year:     93/2012\n",
      "  header size:                227\n",
      "  offset to point data:       323\n",
      "  number var. length records: 1\n",
      "  point data format:          1\n",
      "  point data record length:   28\n",
      "  number of point records:    7709107\n",
      "  number of points by return: 6202431 1362481 137763 6288 144\n",
      "  scale factor x y z:         0.01 0.01 0.01\n",
      "  offset x y z:               -0 -0 -0\n",
      "  min x y z:                  1121000.00 9422000.00 337.14\n",
      "  max x y z:                  1121499.99 9422393.73 1055.41\n",
      "variable length header record 1 of 1:\n",
      "  reserved             0\n",
      "  user ID              'LASF_Projection'\n",
      "  record ID            34735\n",
      "  length after header  40\n",
      "  description          'by LAStools of rapidlasso GmbH'\n",
      "    GeoKeyDirectoryTag version 1.1.0 number of keys 4\n",
      "      key 1024 tiff_tag_location 0 count 1 value_offset 1 - GTModelTypeGeoKey: ModelTypeProjected\n",
      "      key 3072 tiff_tag_location 0 count 1 value_offset 32736 - ProjectedCSTypeGeoKey: WGS 84 / UTM 36S\n",
      "      key 3076 tiff_tag_location 0 count 1 value_offset 9001 - ProjLinearUnitsGeoKey: Linear_Meter\n",
      "      key 4099 tiff_tag_location 0 count 1 value_offset 9001 - VerticalUnitsGeoKey: Linear_Meter\n",
      "the header is followed by 2 user-defined bytes\n",
      "LASzip compression (version 3.4r3 c2 50000): POINT10 2 GPSTIME11 2\n",
      "LAStiling (idx 12, lvl 2, sub 0, bbox 1.12e+06 9.421e+06 1.122e+06 9.423e+06)\n",
      "reporting minimum and maximum for all LAS point record entries ...\n",
      "  X           112100000  112149999\n",
      "  Y           942200000  942239373\n",
      "  Z               33714     105541\n",
      "  intensity           0        255\n",
      "  return_number       1          5\n",
      "  number_of_returns   1          5\n",
      "  edge_of_flight_line 0          1\n",
      "  scan_direction_flag 0          1\n",
      "  classification      1          2\n",
      "  scan_angle_rank   -24         17\n",
      "  user_data           1          2\n",
      "  point_source_ID    77        122\n",
      "  gps_time 23605.781148 464110.101786\n",
      "number of first returns:        6202431\n",
      "number of intermediate returns: 144220\n",
      "number of last returns:         6201189\n",
      "number of single returns:       4838733\n",
      "overview over number of returns of given pulse: 4838733 2450537 394524 24594 719 0 0\n",
      "histogram of classification of points:\n",
      "         5567489  unclassified (1)\n",
      "         2141618  ground (2)\n"
     ]
    }
   ],
   "source": [
    "!lasinfo /gpfs/data1/vclgp/xiongl/ProjectIS2CalVal/result/ease1km_tile/laz_500m/X21073Y07971tile_1121000_9422000.laz"
   ]
  },
  {
   "cell_type": "code",
   "execution_count": 14,
   "id": "5bff5a26-bccc-4392-8e16-92e4390a9ce4",
   "metadata": {},
   "outputs": [
    {
     "data": {
      "text/plain": [
       "<ScaleAwarePointRecord(fmt: <PointFormat(1, 0 bytes of extra dims)>, len: 49219298, point size: 28)>"
      ]
     },
     "execution_count": 14,
     "metadata": {},
     "output_type": "execute_result"
    }
   ],
   "source": [
    "las.points"
   ]
  },
  {
   "cell_type": "code",
   "execution_count": 10,
   "id": "592a89c1-ad15-4878-8cbc-273f7f9ab699",
   "metadata": {},
   "outputs": [
    {
     "data": {
      "text/plain": [
       "80193.1309822826"
      ]
     },
     "execution_count": 10,
     "metadata": {},
     "output_type": "execute_result"
    }
   ],
   "source": [
    "np.mean(las.Z)"
   ]
  },
  {
   "cell_type": "code",
   "execution_count": 13,
   "id": "43a65a2a-1582-4fad-a696-c401625e8d2c",
   "metadata": {},
   "outputs": [
    {
     "name": "stdout",
     "output_type": "stream",
     "text": [
      "[1 2]\n"
     ]
    }
   ],
   "source": [
    "print(np.unique(las.classification))"
   ]
  },
  {
   "cell_type": "code",
   "execution_count": null,
   "id": "59859df0-3beb-4f97-b15e-869de91a2eab",
   "metadata": {},
   "outputs": [],
   "source": []
  }
 ],
 "metadata": {
  "kernelspec": {
   "display_name": "Python 3 (ipykernel)",
   "language": "python",
   "name": "python3"
  },
  "language_info": {
   "codemirror_mode": {
    "name": "ipython",
    "version": 3
   },
   "file_extension": ".py",
   "mimetype": "text/x-python",
   "name": "python",
   "nbconvert_exporter": "python",
   "pygments_lexer": "ipython3",
   "version": "3.11.4"
  }
 },
 "nbformat": 4,
 "nbformat_minor": 5
}
