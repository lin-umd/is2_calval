{
 "cells": [
  {
   "cell_type": "code",
   "execution_count": null,
   "id": "0bd7814e-d0da-4ef4-9035-ed2bb7f74614",
   "metadata": {},
   "outputs": [],
   "source": [
    "library(\"lidR\")"
   ]
  },
  {
   "cell_type": "code",
   "execution_count": null,
   "id": "ecb9b99e-dc8c-424c-92fd-de455f3672bb",
   "metadata": {},
   "outputs": [],
   "source": [
    "# Load las file \n",
    "lasfile = '/gpfs/data1/vclgp/xiongl/ProjectIS2CalVal/data/las/seasia/jpl_borneo_119/features-3_l2d_s1c2_0000001.las'\n",
    "is2file = '/gpfs/data1/vclgp/xiongl/ProjectIS2CalVal/result/seasia/jpl_borneo_119/features-3_l2d_s1c2_0000001.csv'\n",
    "las <- readLAS(lasfile)\n",
    "las"
   ]
  },
  {
   "cell_type": "code",
   "execution_count": null,
   "id": "20265d85-d056-48c0-98cb-c3e17ab8cc01",
   "metadata": {},
   "outputs": [],
   "source": []
  },
  {
   "cell_type": "code",
   "execution_count": 35,
   "id": "4c8cb74c-17e7-4a38-b095-ede0e3a06c81",
   "metadata": {},
   "outputs": [
    {
     "data": {
      "text/plain": [
       "class       : LAScatalog (v1.1 format 1)\n",
       "extent      : 535450.5, 1176715, 2606822, 3405375 (xmin, xmax, ymin, ymax)\n",
       "coord. ref. : WGS 84 / UTM zone 12N \n",
       "area        : 2619.17 km²\n",
       "points      : 2.63 billion points\n",
       "density     : 1 points/m²\n",
       "density     : 0.7 pulses/m²\n",
       "num. files  : 186 "
      ]
     },
     "metadata": {},
     "output_type": "display_data"
    }
   ],
   "source": [
    "ctg"
   ]
  },
  {
   "cell_type": "code",
   "execution_count": 39,
   "id": "54f41a1d-770e-42e4-9c65-79662a0adcb5",
   "metadata": {},
   "outputs": [
    {
     "ename": "ERROR",
     "evalue": "Error: Not supported input geometry\n",
     "output_type": "error",
     "traceback": [
      "Error: Not supported input geometry\nTraceback:\n",
      "1. catalog_intersect(ctg, point)",
      "2. stop(\"Not supported input geometry\", call. = FALSE)"
     ]
    }
   ],
   "source": [
    "# get a IS2 footprint las \n",
    "#  Footprint size\t13 m \n",
    "# 536037.1671319372, 3213934.9484536108\n",
    "e1 = 536037.1671319372\n",
    "n1 = 3213934.9484536108\n",
    "# Load the sf package\n",
    "library(sf)\n",
    "point <- st_point(c(e1, n1))\n",
    "las_test = clip_circle(ctg, e1, n1 , 6.5)\n",
    "# ctg_new = catalog_intersect(ctg, point)\n",
    "# ctg_new"
   ]
  },
  {
   "cell_type": "code",
   "execution_count": null,
   "id": "f121fdfa-aefa-4908-b4d0-ac3c0f2b2aac",
   "metadata": {},
   "outputs": [],
   "source": []
  },
  {
   "cell_type": "code",
   "execution_count": null,
   "id": "a07e2f51-0e40-495a-9661-72c6789b9e2b",
   "metadata": {},
   "outputs": [],
   "source": []
  }
 ],
 "metadata": {
  "kernelspec": {
   "display_name": "R",
   "language": "R",
   "name": "ir"
  },
  "language_info": {
   "codemirror_mode": "r",
   "file_extension": ".r",
   "mimetype": "text/x-r-source",
   "name": "R",
   "pygments_lexer": "r",
   "version": "4.3.1"
  }
 },
 "nbformat": 4,
 "nbformat_minor": 5
}
