{
 "cells": [
  {
   "cell_type": "code",
   "execution_count": 21,
   "id": "d2fd88dd-e500-472f-854c-fee805949289",
   "metadata": {},
   "outputs": [],
   "source": [
    "import glob\n",
    "import geopandas as gpd"
   ]
  },
  {
   "cell_type": "code",
   "execution_count": 2,
   "id": "3b006ae0-854b-4343-aa88-6564af94f9ac",
   "metadata": {},
   "outputs": [],
   "source": [
    "files = glob.glob('/gpfs/data1/vclgp/xiongl/ProjectIS2CalVal/result/is2_projected_als/*.parquet')"
   ]
  },
  {
   "cell_type": "code",
   "execution_count": 19,
   "id": "362e8441-8076-4258-ad49-7d9d3804e513",
   "metadata": {},
   "outputs": [
    {
     "data": {
      "text/plain": [
       "'/gpfs/data1/vclgp/xiongl/ProjectIS2CalVal/result/is2_projected_als/usa_neon_heal2018.parquet'"
      ]
     },
     "execution_count": 19,
     "metadata": {},
     "output_type": "execute_result"
    }
   ],
   "source": [
    "files[66]"
   ]
  },
  {
   "cell_type": "code",
   "execution_count": 105,
   "id": "266d0fe1-8e6f-4a0f-9f2e-36ecb17f9e93",
   "metadata": {},
   "outputs": [],
   "source": [
    "gdf_als = gpd.read_parquet('/gpfs/data1/vclgp/xiongl/ProjectIS2CalVal/result/is2_projected_als/usa_neon_niwo2020.parquet')"
   ]
  },
  {
   "cell_type": "code",
   "execution_count": 106,
   "id": "bed34558-5143-40ca-b10e-cc83856f33f7",
   "metadata": {},
   "outputs": [
    {
     "data": {
      "text/plain": [
       "Index(['orbit_info/sc_orient', 'root_file', 'root_beam',\n",
       "       'land_segments/delta_time', 'land_segments/terrain/h_te_best_fit',\n",
       "       'land_segments/canopy/n_ca_photons', 'land_segments/night_flag',\n",
       "       'land_segments/solar_elevation',\n",
       "       'land_segments/canopy/h_canopy_uncertainty',\n",
       "       'land_segments/terrain/h_te_median',\n",
       "       'land_segments/terrain/h_te_uncertainty',\n",
       "       'land_segments/canopy/h_canopy_20m', 'land_segments/latitude',\n",
       "       'land_segments/longitude', 'land_segments/latitude_20m',\n",
       "       'land_segments/longitude_20m', 'geometry', 'e', 'n', 'orientation'],\n",
       "      dtype='object')"
      ]
     },
     "execution_count": 106,
     "metadata": {},
     "output_type": "execute_result"
    }
   ],
   "source": [
    "gdf_als.columns"
   ]
  },
  {
   "cell_type": "code",
   "execution_count": 161,
   "id": "ac0c1573-e9f5-4a53-b122-854a730b8069",
   "metadata": {},
   "outputs": [
    {
     "data": {
      "text/plain": [
       "orbit_info/sc_orient                                                                   1\n",
       "root_file                                        ATL08_20200229222416_09960602_006_01.h5\n",
       "root_beam                                                                           gt3l\n",
       "land_segments/delta_time                                                 68250457.618865\n",
       "land_segments/terrain/h_te_best_fit                                          3031.380127\n",
       "land_segments/canopy/n_ca_photons                                                    119\n",
       "land_segments/night_flag                                                               0\n",
       "land_segments/solar_elevation                                                  24.980873\n",
       "land_segments/canopy/h_canopy_uncertainty                                      59.697796\n",
       "land_segments/terrain/h_te_median                                            3030.156494\n",
       "land_segments/terrain/h_te_uncertainty                                         47.351238\n",
       "land_segments/canopy/h_canopy_20m                                              18.893555\n",
       "land_segments/latitude                                                         39.981209\n",
       "land_segments/longitude                                                      -105.569321\n",
       "land_segments/latitude_20m                                                      39.98085\n",
       "land_segments/longitude_20m                                                  -105.569283\n",
       "geometry                                     POINT (451392.5012640224 4425786.944320502)\n",
       "e                                                                          451392.501264\n",
       "n                                                                         4425786.944321\n",
       "orientation                                                                   -11.234121\n",
       "Name: 36752172, dtype: object"
      ]
     },
     "execution_count": 161,
     "metadata": {},
     "output_type": "execute_result"
    }
   ],
   "source": [
    "gdf_als.iloc[0]"
   ]
  },
  {
   "cell_type": "code",
   "execution_count": 107,
   "id": "7326b633-5f6e-4deb-ba41-af41c6832112",
   "metadata": {},
   "outputs": [],
   "source": [
    "tracks = gdf_als['root_file'].unique()"
   ]
  },
  {
   "cell_type": "code",
   "execution_count": 108,
   "id": "9194bcdf-d895-47cf-bdae-34049f9dbf02",
   "metadata": {},
   "outputs": [],
   "source": [
    "def get_footprint(e, n, slope): \n",
    "    theta = math.atan(slope)\n",
    "    data = np.arange(-14, 15) # -14 --14\n",
    "    e_array = e + data * 0.7*math.cos(theta)\n",
    "    n_array = n + data * 0.7*math.sin(theta)\n",
    "    e_array = [f'{round(e, 6):.6f}' for e in e_array] # round gediRat waveID is round to 6 decimals for sure.\n",
    "    n_array = [f'{round(e, 6):.6f}' for e in n_array] \n",
    "    footprints = pd.DataFrame({'e': e_array, 'n': n_array})\n",
    "    return footprints   # string now."
   ]
  },
  {
   "cell_type": "code",
   "execution_count": 203,
   "id": "0592ab8e-0eed-411b-aa3d-274d0c52affe",
   "metadata": {},
   "outputs": [],
   "source": [
    "import math\n",
    "import numpy as np\n",
    "import pandas as pd\n",
    "import os\n",
    "FOLDER_PROJ = '/gpfs/data1/vclgp/xiongl/ProjectIS2CalVal/result/is2_projected_als'\n",
    "LAS_PATH = '/gpfs/data1/vclgp/xiongl/ProjectIS2CalVal/data/las'\n",
    "LAZ_PATH = '/gpfs/data1/vclgp/data/gedi/imported'\n",
    "RES_PATH = '/gpfs/data1/vclgp/xiongl/ProjectIS2CalVal/result_simV2' # default output.\n",
    "Pulse_PATH = '/gpfs/data1/vclgp/xiongl/ProjectIS2CalVal/data/20190821.gt1l.pulse' # from Amy\n",
    "IS2_20M_FILE = '/gpfs/data1/vclgp/xiongl/ProjectIS2CalVal/result/is2_20m_cal_val_12262023.parquet'\n",
    "ALS_SITES = \"/gpfs/data1/vclgp/xiongl/ProjectIS2CalVal/data/all_sites_20231218.parquet\""
   ]
  },
  {
   "cell_type": "code",
   "execution_count": 225,
   "id": "d1256a2e-8a1e-4271-85a4-ab9660247501",
   "metadata": {},
   "outputs": [],
   "source": [
    "def project2track2beam(region, name, output=RES_PATH, lamda=0.5, ratiopvpg=1.5, overwrite_wave=False, overwrite_photon=False): \n",
    "    is2file='/gpfs/data1/vclgp/xiongl/ProjectIS2CalVal/result/is2_projected_als/'+region + '_' + name + '.parquet' \n",
    "    gdf_als = gpd.read_parquet(is2file)\n",
    "    laz_project = gpd.read_parquet('/gpfs/data1/vclgp/xiongl/ProjectIS2CalVal/data/bounds_project/' + region + '_' + name + '.parquet' )# wgs84\n",
    "    epsg = int(laz_project.iloc[0]['epsg'])\n",
    "    laz_project = laz_project.to_crs(epsg)# projected\n",
    "    res_out = output + '/' + region + '/' + name\n",
    "    os.makedirs( res_out, exist_ok = True)\n",
    "    for t in gdf_als['root_file'].unique(): \n",
    "        t_df = gdf_als[gdf_als['root_file'] == t]\n",
    "        for b in  t_df['root_beam'].unique():\n",
    "            b_t_df = t_df[t_df['root_beam'] == b]\n",
    "            print(t, b, len(b_t_df))\n",
    "            segment_footprints_list = []\n",
    "            for index_20m, row_20m in b_t_df.iterrows():\n",
    "                segment_footprints_list.append(get_footprint(row_20m['e'], row_20m['n'], row_20m['orientation']))\n",
    "            segment_footprints = pd.concat(segment_footprints_list, ignore_index=True)\n",
    "            foots = gpd.GeoSeries(gpd.points_from_xy(segment_footprints.e, segment_footprints.n))\n",
    "            idx = laz_project.sindex.query(foots)\n",
    "            out_coor = res_out+ '/coordinates_'+ t[:-3] + '_' + b + '.txt'####o\n",
    "            segment_footprints[['e', 'n']].to_csv(out_coor, sep=' ', header = False,  index = False)\n",
    "            # get laz, las file list\n",
    "            files_list = laz_project.iloc[idx[1]]['file'].unique()\n",
    "            las_list = []\n",
    "            for f in files_list:\n",
    "                bs = f.replace(region+'_'+name + '_', '').replace('.parquet' , '.las')\n",
    "                bs_las_path = LAS_PATH + '/' + region + '/' + name + '/' + bs\n",
    "                las_list.append(bs_las_path)\n",
    "                if not os.path.isfile(bs_las_path):\n",
    "                    bs_laz_path = LAZ_PATH + '/' + region + '/' + name + '/LAZ_ground/' + bs[:-1]+ 'z'\n",
    "                    if os.path.isfile(bs_laz_path):\n",
    "                        print('laz to las...')\n",
    "                        os.system(f'las2las -i {bs_laz_path} -o {bs_las_path}')\n",
    "                    else:\n",
    "                        las_list.remove(bs_las_path)\n",
    "                        print('no such laz file: ', bs_laz_path)\n",
    "                        continue\n",
    "            out_als_list = res_out+ '/alslist_'+ t[:-3] + '_' + b + '.txt'####o\n",
    "            with open(out_als_list, 'w') as file:\n",
    "                for item in las_list:\n",
    "                    file.write(f\"{item}\\n\")\n",
    "            # simulation \n",
    "            out_wave = res_out+ '/wave_'+ t[:-3] + '_' + b + '.h5'\n",
    "            out_sim_log = res_out+ '/sim_log_'+ t[:-3] + '_' + b + '.txt'\n",
    "            if not os.path.exists(out_wave) or overwrite_wave:\n",
    "                print('testing,,,')\n",
    "                cmd = f'gediRat -fSigma 2.75 -readPulse {Pulse_PATH} -inList {out_als_list} -listCoord {out_coor}  -output {out_wave} -hdf  -ground > {out_sim_log}'\n",
    "                print(cmd)\n",
    "                #os.system(cmd)\n",
    "            \n",
    "            if os.path.exists(out_wave):  # no matter exist previously or just after simulation now.\n",
    "                print(\"testing\")\n",
    "                out_pho = res_out+ '/photon_'+ t[:-3] + '_' + b +  '.parquet' # each las file, output photons\n",
    "                if os.path.exists(out_pho) and not overwrite_photon: continue # file exist, and no need to overwrite, return. \n",
    "                print('reading wave file')\n",
    "                f_wave = h5py.File(out_wave, 'r')\n",
    "                byte_strings = f_wave['WAVEID'][()]\n",
    "                f_wave.close() \n",
    "                wave_ids = []\n",
    "                for item in byte_strings:\n",
    "                    result_string = ''.join([byte.decode('utf-8') for byte in item])\n",
    "                    wave_ids.append(result_string)\n",
    "                # Find common strings\n",
    "                df1 = pd.DataFrame(wave_ids)\n",
    "                df1.columns = ['id']\n",
    "                df1['wave_index'] = df1.index\n",
    "                print(df1)\n",
    "            break"
   ]
  },
  {
   "cell_type": "code",
   "execution_count": 226,
   "id": "bc28e1cc-061b-463a-a05b-81f99b3a50c5",
   "metadata": {},
   "outputs": [
    {
     "name": "stdout",
     "output_type": "stream",
     "text": [
      "ATL08_20200229222416_09960602_006_01.h5 gt3l 264\n",
      "testing\n"
     ]
    }
   ],
   "source": [
    "project2track2beam('usa', 'neon_niwo2020')"
   ]
  },
  {
   "cell_type": "markdown",
   "id": "45bccb11-7ebf-4c61-a490-7295f26d1eee",
   "metadata": {},
   "source": [
    "# get laz list "
   ]
  },
  {
   "cell_type": "code",
   "execution_count": 50,
   "id": "13285837-72d1-4c56-8416-2fdd04b90516",
   "metadata": {},
   "outputs": [],
   "source": [
    "from shapely.geometry import Point, box"
   ]
  },
  {
   "cell_type": "code",
   "execution_count": 87,
   "id": "3b645c62-be82-4953-9114-5d4ab0be0186",
   "metadata": {},
   "outputs": [
    {
     "data": {
      "text/plain": [
       "0        POINT (393384.679 7079746.760)\n",
       "1        POINT (393384.778 7079747.453)\n",
       "2        POINT (393384.877 7079748.146)\n",
       "3        POINT (393384.975 7079748.839)\n",
       "4        POINT (393385.074 7079749.532)\n",
       "                      ...              \n",
       "11421    POINT (394988.302 7091017.498)\n",
       "11422    POINT (394988.401 7091018.191)\n",
       "11423    POINT (394988.499 7091018.884)\n",
       "11424    POINT (394988.598 7091019.578)\n",
       "11425    POINT (394988.697 7091020.271)\n",
       "Length: 11426, dtype: geometry"
      ]
     },
     "execution_count": 87,
     "metadata": {},
     "output_type": "execute_result"
    }
   ],
   "source": [
    "foots"
   ]
  },
  {
   "cell_type": "code",
   "execution_count": 61,
   "id": "b7ad73e9-4308-47bf-82d1-578a2abfa8a9",
   "metadata": {},
   "outputs": [
    {
     "name": "stdout",
     "output_type": "stream",
     "text": [
      "/gpfs/data1/vclgp/xiongl/ProjectIS2CalVal/data/bounds_project/usa_neon_heal2018.parquet\n"
     ]
    }
   ],
   "source": [
    "!ls /gpfs/data1/vclgp/xiongl/ProjectIS2CalVal/data/bounds_project/usa_neon_heal2018.parquet"
   ]
  },
  {
   "cell_type": "code",
   "execution_count": 113,
   "id": "723caa74-c38a-491b-9822-18ec588f3e07",
   "metadata": {},
   "outputs": [
    {
     "data": {
      "text/html": [
       "<div>\n",
       "<style scoped>\n",
       "    .dataframe tbody tr th:only-of-type {\n",
       "        vertical-align: middle;\n",
       "    }\n",
       "\n",
       "    .dataframe tbody tr th {\n",
       "        vertical-align: top;\n",
       "    }\n",
       "\n",
       "    .dataframe thead th {\n",
       "        text-align: right;\n",
       "    }\n",
       "</style>\n",
       "<table border=\"1\" class=\"dataframe\">\n",
       "  <thead>\n",
       "    <tr style=\"text-align: right;\">\n",
       "      <th></th>\n",
       "      <th>region</th>\n",
       "      <th>name</th>\n",
       "      <th>area_ha</th>\n",
       "      <th>epsg</th>\n",
       "      <th>geometry</th>\n",
       "      <th>file</th>\n",
       "    </tr>\n",
       "  </thead>\n",
       "  <tbody>\n",
       "    <tr>\n",
       "      <th>0</th>\n",
       "      <td>usa</td>\n",
       "      <td>neon_niwo2020</td>\n",
       "      <td>682.639152</td>\n",
       "      <td>32613</td>\n",
       "      <td>POLYGON ((-105.59290 40.03977, -105.58104 40.0...</td>\n",
       "      <td>usa_neon_niwo2020_NEON_D13_NIWO_DP1_L032-1_202...</td>\n",
       "    </tr>\n",
       "    <tr>\n",
       "      <th>2</th>\n",
       "      <td>usa</td>\n",
       "      <td>neon_niwo2020</td>\n",
       "      <td>509.841902</td>\n",
       "      <td>32613</td>\n",
       "      <td>POLYGON ((-105.55235 40.01322, -105.54076 40.0...</td>\n",
       "      <td>usa_neon_niwo2020_NEON_D13_NIWO_DP1_L020-1_202...</td>\n",
       "    </tr>\n",
       "    <tr>\n",
       "      <th>3</th>\n",
       "      <td>usa</td>\n",
       "      <td>neon_niwo2020</td>\n",
       "      <td>648.269942</td>\n",
       "      <td>32613</td>\n",
       "      <td>POLYGON ((-105.51310 39.98218, -105.50078 39.9...</td>\n",
       "      <td>usa_neon_niwo2020_NEON_D13_NIWO_DP1_L008-1_202...</td>\n",
       "    </tr>\n",
       "    <tr>\n",
       "      <th>4</th>\n",
       "      <td>usa</td>\n",
       "      <td>neon_niwo2020</td>\n",
       "      <td>849.307118</td>\n",
       "      <td>32613</td>\n",
       "      <td>POLYGON ((-105.56474 40.04548, -105.52878 40.0...</td>\n",
       "      <td>usa_neon_niwo2020_NEON_D13_NIWO_DP1_L001-1_202...</td>\n",
       "    </tr>\n",
       "    <tr>\n",
       "      <th>5</th>\n",
       "      <td>usa</td>\n",
       "      <td>neon_niwo2020</td>\n",
       "      <td>738.691973</td>\n",
       "      <td>32613</td>\n",
       "      <td>POLYGON ((-105.58241 40.03959, -105.56973 40.0...</td>\n",
       "      <td>usa_neon_niwo2020_NEON_D13_NIWO_DP1_L029-1_202...</td>\n",
       "    </tr>\n",
       "    <tr>\n",
       "      <th>...</th>\n",
       "      <td>...</td>\n",
       "      <td>...</td>\n",
       "      <td>...</td>\n",
       "      <td>...</td>\n",
       "      <td>...</td>\n",
       "      <td>...</td>\n",
       "    </tr>\n",
       "    <tr>\n",
       "      <th>103</th>\n",
       "      <td>usa</td>\n",
       "      <td>neon_niwo2020</td>\n",
       "      <td>521.589538</td>\n",
       "      <td>32613</td>\n",
       "      <td>POLYGON ((-105.62936 40.02008, -105.61769 40.0...</td>\n",
       "      <td>usa_neon_niwo2020_NEON_D13_NIWO_DP1_L044-1_202...</td>\n",
       "    </tr>\n",
       "    <tr>\n",
       "      <th>104</th>\n",
       "      <td>usa</td>\n",
       "      <td>neon_niwo2020</td>\n",
       "      <td>667.500808</td>\n",
       "      <td>32613</td>\n",
       "      <td>POLYGON ((-105.58512 39.98118, -105.57221 39.9...</td>\n",
       "      <td>usa_neon_niwo2020_NEON_D13_NIWO_DP1_L030-1_202...</td>\n",
       "    </tr>\n",
       "    <tr>\n",
       "      <th>105</th>\n",
       "      <td>usa</td>\n",
       "      <td>neon_niwo2020</td>\n",
       "      <td>534.485127</td>\n",
       "      <td>32613</td>\n",
       "      <td>POLYGON ((-105.54903 40.01015, -105.53837 40.0...</td>\n",
       "      <td>usa_neon_niwo2020_NEON_D13_NIWO_DP1_L019-1_202...</td>\n",
       "    </tr>\n",
       "    <tr>\n",
       "      <th>107</th>\n",
       "      <td>usa</td>\n",
       "      <td>neon_niwo2020</td>\n",
       "      <td>684.664260</td>\n",
       "      <td>32613</td>\n",
       "      <td>POLYGON ((-105.60492 40.01012, -105.59281 40.0...</td>\n",
       "      <td>usa_neon_niwo2020_NEON_D13_NIWO_DP1_L036-1_202...</td>\n",
       "    </tr>\n",
       "    <tr>\n",
       "      <th>108</th>\n",
       "      <td>usa</td>\n",
       "      <td>neon_niwo2020</td>\n",
       "      <td>629.379668</td>\n",
       "      <td>32613</td>\n",
       "      <td>POLYGON ((-105.61036 40.01208, -105.59849 40.0...</td>\n",
       "      <td>usa_neon_niwo2020_NEON_D13_NIWO_DP1_L038-1_202...</td>\n",
       "    </tr>\n",
       "  </tbody>\n",
       "</table>\n",
       "<p>98 rows × 6 columns</p>\n",
       "</div>"
      ],
      "text/plain": [
       "    region           name     area_ha   epsg  \\\n",
       "0      usa  neon_niwo2020  682.639152  32613   \n",
       "2      usa  neon_niwo2020  509.841902  32613   \n",
       "3      usa  neon_niwo2020  648.269942  32613   \n",
       "4      usa  neon_niwo2020  849.307118  32613   \n",
       "5      usa  neon_niwo2020  738.691973  32613   \n",
       "..     ...            ...         ...    ...   \n",
       "103    usa  neon_niwo2020  521.589538  32613   \n",
       "104    usa  neon_niwo2020  667.500808  32613   \n",
       "105    usa  neon_niwo2020  534.485127  32613   \n",
       "107    usa  neon_niwo2020  684.664260  32613   \n",
       "108    usa  neon_niwo2020  629.379668  32613   \n",
       "\n",
       "                                              geometry  \\\n",
       "0    POLYGON ((-105.59290 40.03977, -105.58104 40.0...   \n",
       "2    POLYGON ((-105.55235 40.01322, -105.54076 40.0...   \n",
       "3    POLYGON ((-105.51310 39.98218, -105.50078 39.9...   \n",
       "4    POLYGON ((-105.56474 40.04548, -105.52878 40.0...   \n",
       "5    POLYGON ((-105.58241 40.03959, -105.56973 40.0...   \n",
       "..                                                 ...   \n",
       "103  POLYGON ((-105.62936 40.02008, -105.61769 40.0...   \n",
       "104  POLYGON ((-105.58512 39.98118, -105.57221 39.9...   \n",
       "105  POLYGON ((-105.54903 40.01015, -105.53837 40.0...   \n",
       "107  POLYGON ((-105.60492 40.01012, -105.59281 40.0...   \n",
       "108  POLYGON ((-105.61036 40.01208, -105.59849 40.0...   \n",
       "\n",
       "                                                  file  \n",
       "0    usa_neon_niwo2020_NEON_D13_NIWO_DP1_L032-1_202...  \n",
       "2    usa_neon_niwo2020_NEON_D13_NIWO_DP1_L020-1_202...  \n",
       "3    usa_neon_niwo2020_NEON_D13_NIWO_DP1_L008-1_202...  \n",
       "4    usa_neon_niwo2020_NEON_D13_NIWO_DP1_L001-1_202...  \n",
       "5    usa_neon_niwo2020_NEON_D13_NIWO_DP1_L029-1_202...  \n",
       "..                                                 ...  \n",
       "103  usa_neon_niwo2020_NEON_D13_NIWO_DP1_L044-1_202...  \n",
       "104  usa_neon_niwo2020_NEON_D13_NIWO_DP1_L030-1_202...  \n",
       "105  usa_neon_niwo2020_NEON_D13_NIWO_DP1_L019-1_202...  \n",
       "107  usa_neon_niwo2020_NEON_D13_NIWO_DP1_L036-1_202...  \n",
       "108  usa_neon_niwo2020_NEON_D13_NIWO_DP1_L038-1_202...  \n",
       "\n",
       "[98 rows x 6 columns]"
      ]
     },
     "execution_count": 113,
     "metadata": {},
     "output_type": "execute_result"
    }
   ],
   "source": [
    "laz_project = gpd.read_parquet('/gpfs/data1/vclgp/xiongl/ProjectIS2CalVal/data/bounds_project/usa_neon_niwo2020.parquet')\n",
    "laz_project"
   ]
  },
  {
   "cell_type": "code",
   "execution_count": 114,
   "id": "16a270b8-15c2-4c6d-b550-86eff5dd7b43",
   "metadata": {},
   "outputs": [],
   "source": [
    "laz_project = laz_project.to_crs(32613)"
   ]
  },
  {
   "cell_type": "code",
   "execution_count": 189,
   "id": "de6eb950-cde7-4643-93ec-17b57e81fc3a",
   "metadata": {},
   "outputs": [
    {
     "data": {
      "text/plain": [
       "32613"
      ]
     },
     "execution_count": 189,
     "metadata": {},
     "output_type": "execute_result"
    }
   ],
   "source": [
    "int(laz_project.iloc[0]['epsg'])"
   ]
  },
  {
   "cell_type": "code",
   "execution_count": 115,
   "id": "322c10d0-3541-4c02-9fc3-5cfc7e285795",
   "metadata": {},
   "outputs": [
    {
     "data": {
      "text/plain": [
       "array([[   0,    0,    0, ..., 4668, 4668, 4668],\n",
       "       [  25,   75,   15, ...,   29,   18,   24]])"
      ]
     },
     "execution_count": 115,
     "metadata": {},
     "output_type": "execute_result"
    }
   ],
   "source": [
    "p_tree = Point(395066.465,7091026.359)\n",
    "idx= laz_project.sindex.query(foots)\n",
    "idx\n",
    "#files = gdf_als.iloc[idx]\n",
    "# 11425 --> 66  11425 --> 123"
   ]
  },
  {
   "cell_type": "code",
   "execution_count": 116,
   "id": "668efe9a-7f16-4ad0-883a-5c1609bdb254",
   "metadata": {},
   "outputs": [
    {
     "data": {
      "text/plain": [
       "(2, 12610)"
      ]
     },
     "execution_count": 116,
     "metadata": {},
     "output_type": "execute_result"
    }
   ],
   "source": [
    "idx.shape"
   ]
  },
  {
   "cell_type": "code",
   "execution_count": 117,
   "id": "98940fb7-d353-4df5-91c5-676dbe30f35a",
   "metadata": {},
   "outputs": [
    {
     "data": {
      "text/plain": [
       "array([25, 75, 15, ..., 29, 18, 24])"
      ]
     },
     "execution_count": 117,
     "metadata": {},
     "output_type": "execute_result"
    }
   ],
   "source": [
    "idx[1]"
   ]
  },
  {
   "cell_type": "code",
   "execution_count": 125,
   "id": "65bdb2d5-7625-4ca1-983c-bebd4577754f",
   "metadata": {},
   "outputs": [
    {
     "data": {
      "text/plain": [
       "array(['usa_neon_niwo2020_NEON_D13_NIWO_DP1_L037-1_2020072014_unclassified_point_cloud_0000002.parquet',\n",
       "       'usa_neon_niwo2020_NEON_D13_NIWO_DP1_L038-1_2020072014_unclassified_point_cloud_0000000.parquet',\n",
       "       'usa_neon_niwo2020_NEON_D13_NIWO_DP1_L039-1_2020072014_unclassified_point_cloud_0000001.parquet',\n",
       "       'usa_neon_niwo2020_NEON_D13_NIWO_DP1_L042-1_2020072014_unclassified_point_cloud_0000000.parquet',\n",
       "       'usa_neon_niwo2020_NEON_D13_NIWO_DP1_L040-1_2020072014_unclassified_point_cloud_0000000.parquet',\n",
       "       'usa_neon_niwo2020_NEON_D13_NIWO_DP1_L039-1_2020072014_unclassified_point_cloud_0000000.parquet',\n",
       "       'usa_neon_niwo2020_NEON_D13_NIWO_DP1_L043-1_2020072014_unclassified_point_cloud_0000000.parquet',\n",
       "       'usa_neon_niwo2020_NEON_D13_NIWO_DP1_L042-1_2020072014_unclassified_point_cloud_0000001.parquet',\n",
       "       'usa_neon_niwo2020_NEON_D13_NIWO_DP1_L040-1_2020072014_unclassified_point_cloud_0000001.parquet',\n",
       "       'usa_neon_niwo2020_NEON_D13_NIWO_DP1_L043-1_2020072014_unclassified_point_cloud_0000001.parquet',\n",
       "       'usa_neon_niwo2020_NEON_D13_NIWO_DP1_L044-1_2020072014_unclassified_point_cloud_0000001.parquet'],\n",
       "      dtype=object)"
      ]
     },
     "execution_count": 125,
     "metadata": {},
     "output_type": "execute_result"
    }
   ],
   "source": [
    "files_list = laz_project.iloc[idx[1]]['file'].unique()\n",
    "files_list"
   ]
  },
  {
   "cell_type": "code",
   "execution_count": 119,
   "id": "d9da0225-8e1c-4afd-adab-7006a6a4f484",
   "metadata": {},
   "outputs": [
    {
     "data": {
      "text/plain": [
       "11"
      ]
     },
     "execution_count": 119,
     "metadata": {},
     "output_type": "execute_result"
    }
   ],
   "source": [
    "len(files_list)"
   ]
  },
  {
   "cell_type": "code",
   "execution_count": 155,
   "id": "43033efc-aa3f-48bb-a732-eddc12bb7318",
   "metadata": {},
   "outputs": [],
   "source": [
    "las_list = []\n",
    "laz_list = []\n",
    "las_dir = '/gpfs/data1/vclgp/xiongl/ProjectIS2CalVal/data/las/'\n",
    "laz_dir = '/gpfs/data1/vclgp/data/gedi/imported/'\n",
    "reg = 'usa'\n",
    "name = 'neon_niwo2020'\n",
    "for f in files_list:\n",
    "    bs = f.replace(reg+'_'+name + '_', '').replace('.parquet' , '.las')\n",
    "    las_list.append(las_dir + reg + '/' + name + '/' + bs)\n",
    "    laz_list.append(laz_dir+ reg + '/' + name + '/LAZ_ground/' + bs[:-1]+ 'z')"
   ]
  },
  {
   "cell_type": "code",
   "execution_count": 183,
   "id": "406167ba-2b3f-4c93-977d-606853cc3ddb",
   "metadata": {},
   "outputs": [
    {
     "name": "stdout",
     "output_type": "stream",
     "text": [
      "NEON_D13_NIWO_DP1_L001-1_2020080114_unclassified_point_cloud_0000001.las\n",
      "NEON_D13_NIWO_DP1_L030-1_2020072014_unclassified_point_cloud_0000000.las\n",
      "NEON_D13_NIWO_DP1_L032-1_2020072014_unclassified_point_cloud_0000002.las\n",
      "NEON_D13_NIWO_DP1_L033-1_2020072014_unclassified_point_cloud_0000000.las\n",
      "NEON_D13_NIWO_DP1_L033-2_2020072014_unclassified_point_cloud.las\n",
      "NEON_D13_NIWO_DP1_L037-1_2020072014_unclassified_point_cloud_0000002.las\n",
      "NEON_D13_NIWO_DP1_L038-1_2020072014_unclassified_point_cloud_0000000.las\n",
      "NEON_D13_NIWO_DP1_L039-1_2020072014_unclassified_point_cloud_0000000.las\n",
      "NEON_D13_NIWO_DP1_L039-1_2020072014_unclassified_point_cloud_0000001.las\n",
      "NEON_D13_NIWO_DP1_L040-1_2020072014_unclassified_point_cloud_0000000.las\n",
      "NEON_D13_NIWO_DP1_L040-1_2020072014_unclassified_point_cloud_0000001.las\n",
      "NEON_D13_NIWO_DP1_L042-1_2020072014_unclassified_point_cloud_0000000.las\n",
      "NEON_D13_NIWO_DP1_L042-1_2020072014_unclassified_point_cloud_0000001.las\n",
      "NEON_D13_NIWO_DP1_L043-1_2020072014_unclassified_point_cloud_0000000.las\n",
      "NEON_D13_NIWO_DP1_L043-1_2020072014_unclassified_point_cloud_0000001.las\n",
      "NEON_D13_NIWO_DP1_L044-1_2020072014_unclassified_point_cloud_0000001.las\n"
     ]
    }
   ],
   "source": [
    "# preapre the data\n",
    "!ls /gpfs/data1/vclgp/xiongl/ProjectIS2CalVal/data/las/usa/neon_niwo2020"
   ]
  },
  {
   "cell_type": "code",
   "execution_count": 157,
   "id": "ebdf6a9b-9c18-4a8b-bbf3-858ac5be0cf4",
   "metadata": {},
   "outputs": [
    {
     "data": {
      "text/plain": [
       "['/gpfs/data1/vclgp/data/gedi/imported/usa/neon_niwo2020/LAZ_ground/NEON_D13_NIWO_DP1_L037-1_2020072014_unclassified_point_cloud_0000002.laz',\n",
       " '/gpfs/data1/vclgp/data/gedi/imported/usa/neon_niwo2020/LAZ_ground/NEON_D13_NIWO_DP1_L038-1_2020072014_unclassified_point_cloud_0000000.laz',\n",
       " '/gpfs/data1/vclgp/data/gedi/imported/usa/neon_niwo2020/LAZ_ground/NEON_D13_NIWO_DP1_L039-1_2020072014_unclassified_point_cloud_0000001.laz',\n",
       " '/gpfs/data1/vclgp/data/gedi/imported/usa/neon_niwo2020/LAZ_ground/NEON_D13_NIWO_DP1_L042-1_2020072014_unclassified_point_cloud_0000000.laz',\n",
       " '/gpfs/data1/vclgp/data/gedi/imported/usa/neon_niwo2020/LAZ_ground/NEON_D13_NIWO_DP1_L040-1_2020072014_unclassified_point_cloud_0000000.laz',\n",
       " '/gpfs/data1/vclgp/data/gedi/imported/usa/neon_niwo2020/LAZ_ground/NEON_D13_NIWO_DP1_L039-1_2020072014_unclassified_point_cloud_0000000.laz',\n",
       " '/gpfs/data1/vclgp/data/gedi/imported/usa/neon_niwo2020/LAZ_ground/NEON_D13_NIWO_DP1_L043-1_2020072014_unclassified_point_cloud_0000000.laz',\n",
       " '/gpfs/data1/vclgp/data/gedi/imported/usa/neon_niwo2020/LAZ_ground/NEON_D13_NIWO_DP1_L042-1_2020072014_unclassified_point_cloud_0000001.laz',\n",
       " '/gpfs/data1/vclgp/data/gedi/imported/usa/neon_niwo2020/LAZ_ground/NEON_D13_NIWO_DP1_L040-1_2020072014_unclassified_point_cloud_0000001.laz',\n",
       " '/gpfs/data1/vclgp/data/gedi/imported/usa/neon_niwo2020/LAZ_ground/NEON_D13_NIWO_DP1_L043-1_2020072014_unclassified_point_cloud_0000001.laz',\n",
       " '/gpfs/data1/vclgp/data/gedi/imported/usa/neon_niwo2020/LAZ_ground/NEON_D13_NIWO_DP1_L044-1_2020072014_unclassified_point_cloud_0000001.laz']"
      ]
     },
     "execution_count": 157,
     "metadata": {},
     "output_type": "execute_result"
    }
   ],
   "source": [
    "laz_list"
   ]
  },
  {
   "cell_type": "code",
   "execution_count": 148,
   "id": "bd19c983-dbe2-4e9d-86e2-12aaa09ee61d",
   "metadata": {},
   "outputs": [
    {
     "data": {
      "text/plain": [
       "['/gpfs/data1/vclgp/xiongl/ProjectIS2CalVal/data/las/usa/neon/niwo2020_NEON_D13_NIWO_DP1_L037-1_2020072014_unclassified_point_cloud_0000002.las',\n",
       " '/gpfs/data1/vclgp/xiongl/ProjectIS2CalVal/data/las/usa/neon/niwo2020_NEON_D13_NIWO_DP1_L038-1_2020072014_unclassified_point_cloud_0000000.las',\n",
       " '/gpfs/data1/vclgp/xiongl/ProjectIS2CalVal/data/las/usa/neon/niwo2020_NEON_D13_NIWO_DP1_L039-1_2020072014_unclassified_point_cloud_0000001.las',\n",
       " '/gpfs/data1/vclgp/xiongl/ProjectIS2CalVal/data/las/usa/neon/niwo2020_NEON_D13_NIWO_DP1_L042-1_2020072014_unclassified_point_cloud_0000000.las',\n",
       " '/gpfs/data1/vclgp/xiongl/ProjectIS2CalVal/data/las/usa/neon/niwo2020_NEON_D13_NIWO_DP1_L040-1_2020072014_unclassified_point_cloud_0000000.las',\n",
       " '/gpfs/data1/vclgp/xiongl/ProjectIS2CalVal/data/las/usa/neon/niwo2020_NEON_D13_NIWO_DP1_L039-1_2020072014_unclassified_point_cloud_0000000.las',\n",
       " '/gpfs/data1/vclgp/xiongl/ProjectIS2CalVal/data/las/usa/neon/niwo2020_NEON_D13_NIWO_DP1_L043-1_2020072014_unclassified_point_cloud_0000000.las',\n",
       " '/gpfs/data1/vclgp/xiongl/ProjectIS2CalVal/data/las/usa/neon/niwo2020_NEON_D13_NIWO_DP1_L042-1_2020072014_unclassified_point_cloud_0000001.las',\n",
       " '/gpfs/data1/vclgp/xiongl/ProjectIS2CalVal/data/las/usa/neon/niwo2020_NEON_D13_NIWO_DP1_L040-1_2020072014_unclassified_point_cloud_0000001.las',\n",
       " '/gpfs/data1/vclgp/xiongl/ProjectIS2CalVal/data/las/usa/neon/niwo2020_NEON_D13_NIWO_DP1_L043-1_2020072014_unclassified_point_cloud_0000001.las',\n",
       " '/gpfs/data1/vclgp/xiongl/ProjectIS2CalVal/data/las/usa/neon/niwo2020_NEON_D13_NIWO_DP1_L044-1_2020072014_unclassified_point_cloud_0000001.las']"
      ]
     },
     "execution_count": 148,
     "metadata": {},
     "output_type": "execute_result"
    }
   ],
   "source": [
    "las_list"
   ]
  },
  {
   "cell_type": "code",
   "execution_count": 201,
   "id": "9b76ab8b-3f8f-4711-bc63-0eacee521f27",
   "metadata": {},
   "outputs": [
    {
     "name": "stdout",
     "output_type": "stream",
     "text": [
      "../result_simV2/usa/neon_niwo2020/photon_ATL08_20200229222416_09960602_006_01_gt3l.parquet\n"
     ]
    }
   ],
   "source": [
    "# check result \n",
    "!ls ../result_simV2/usa/neon_niwo2020/pho*"
   ]
  },
  {
   "cell_type": "code",
   "execution_count": 191,
   "id": "f4e1e62d-dffd-4731-b002-072353b36496",
   "metadata": {},
   "outputs": [],
   "source": [
    "df = pd.read_parquet('../result_simV2/usa/neon_niwo2020/rh_ATL08_20200229222416_09960602_006_01_gt3l.parquet')"
   ]
  },
  {
   "cell_type": "code",
   "execution_count": 195,
   "id": "1654083c-2a62-4ecb-8822-46d991f30518",
   "metadata": {},
   "outputs": [
    {
     "data": {
      "text/plain": [
       "<Axes: >"
      ]
     },
     "execution_count": 195,
     "metadata": {},
     "output_type": "execute_result"
    },
    {
     "data": {
      "image/png": "[encoded data removed]",
      "text/plain": [
       "<Figure size 640x480 with 1 Axes>"
      ]
     },
     "metadata": {},
     "output_type": "display_data"
    }
   ],
   "source": [
    "df['h_canopy_98'].hist(bins = 20)"
   ]
  },
  {
   "cell_type": "code",
   "execution_count": 196,
   "id": "765b66a1-925a-498e-b826-e4cd797b6c97",
   "metadata": {},
   "outputs": [
    {
     "data": {
      "text/plain": [
       "256"
      ]
     },
     "execution_count": 196,
     "metadata": {},
     "output_type": "execute_result"
    }
   ],
   "source": [
    "len(df)"
   ]
  },
  {
   "cell_type": "code",
   "execution_count": null,
   "id": "e302a6ea-5a72-4ed8-9ab4-3643c368a566",
   "metadata": {},
   "outputs": [],
   "source": []
  },
  {
   "cell_type": "code",
   "execution_count": null,
   "id": "09b7f507-99cd-47a2-84a2-6255018a0c8c",
   "metadata": {},
   "outputs": [],
   "source": []
  }
 ],
 "metadata": {
  "kernelspec": {
   "display_name": "Python 3 (ipykernel)",
   "language": "python",
   "name": "python3"
  },
  "language_info": {
   "codemirror_mode": {
    "name": "ipython",
    "version": 3
   },
   "file_extension": ".py",
   "mimetype": "text/x-python",
   "name": "python",
   "nbconvert_exporter": "python",
   "pygments_lexer": "ipython3",
   "version": "3.11.4"
  }
 },
 "nbformat": 4,
 "nbformat_minor": 5
}
