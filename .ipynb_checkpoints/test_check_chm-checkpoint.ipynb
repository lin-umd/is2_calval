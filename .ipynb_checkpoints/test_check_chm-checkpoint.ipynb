{
 "cells": [
  {
   "cell_type": "code",
   "execution_count": 1,
   "id": "522b3566-3b9c-4cd1-897b-f02140612f10",
   "metadata": {},
   "outputs": [],
   "source": [
    "# \n",
    "import glob"
   ]
  },
  {
   "cell_type": "code",
   "execution_count": 2,
   "id": "f227e66a-9995-4c87-846f-e32739418dc8",
   "metadata": {},
   "outputs": [],
   "source": [
    "folders = glob.glob('/gpfs/data1/vclgp/data/gedi/imported/*/*/chm/')"
   ]
  },
  {
   "cell_type": "code",
   "execution_count": 3,
   "id": "9d2e0514-8745-4b15-bfd7-3a3202f5ce1b",
   "metadata": {},
   "outputs": [],
   "source": [
    "import rasterio\n",
    "import numpy as np\n",
    "\n",
    "# Function to read a TIFF file and get min and max values\n",
    "def get_tif_min_max(tif_path):\n",
    "    with rasterio.open(tif_path) as src:\n",
    "        data = src.read(1).astype(np.float32)  # Read the first band and convert to np.float32\n",
    "        min_val = np.min(data)\n",
    "        max_val = np.max(data)\n",
    "    return min_val, max_val"
   ]
  },
  {
   "cell_type": "code",
   "execution_count": 29,
   "id": "ca1e6f88-7a06-4936-bf30-d1a47b2e5cdd",
   "metadata": {},
   "outputs": [
    {
     "name": "stdout",
     "output_type": "stream",
     "text": [
      "chm value anomaly /gpfs/data1/vclgp/data/gedi/imported/europe/germany_coburn2/chm/\n",
      "chm value anomaly /gpfs/data1/vclgp/data/gedi/imported/europe/kljun_tharandt/chm/\n",
      "chm value anomaly /gpfs/data1/vclgp/data/gedi/imported/europe/italy_sella/chm/\n",
      "no chm in /gpfs/data1/vclgp/data/gedi/imported/europe/froscham/chm/\n",
      "chm value anomaly /gpfs/data1/vclgp/data/gedi/imported/europe/zofin_180607/chm/\n",
      "chm value anomaly /gpfs/data1/vclgp/data/gedi/imported/europe/silvanet_valsain/chm/\n",
      "chm value anomaly /gpfs/data1/vclgp/data/gedi/imported/europe/demiguel_soriai/chm/\n",
      "chm value anomaly /gpfs/data1/vclgp/data/gedi/imported/europe/zofin_180416/chm/\n",
      "chm value anomaly /gpfs/data1/vclgp/data/gedi/imported/europe/germany_coburn1/chm/\n",
      "chm value anomaly /gpfs/data1/vclgp/data/gedi/imported/australia/nsw_merimbula/chm/\n",
      "chm value anomaly /gpfs/data1/vclgp/data/gedi/imported/australia/nsw_casino/chm/\n",
      "chm value anomaly /gpfs/data1/vclgp/data/gedi/imported/australia/nsw_taree/chm/\n",
      "chm value anomaly /gpfs/data1/vclgp/data/gedi/imported/australia/nsw_armidale/chm/\n",
      "chm value anomaly /gpfs/data1/vclgp/data/gedi/imported/australia/nsw_coffsharbour/chm/\n",
      "chm value anomaly /gpfs/data1/vclgp/data/gedi/imported/seasia/malaysia_davidcoomes/chm/\n",
      "chm value anomaly /gpfs/data1/vclgp/data/gedi/imported/seasia/jpl_borneo_005/chm/\n",
      "chm value anomaly /gpfs/data1/vclgp/data/gedi/imported/seasia/jpl_borneo_138/chm/\n",
      "chm value anomaly /gpfs/data1/vclgp/data/gedi/imported/seasia/jpl_borneo_139/chm/\n",
      "chm value anomaly /gpfs/data1/vclgp/data/gedi/imported/seasia/jpl_borneo_001/chm/\n",
      "chm value anomaly /gpfs/data1/vclgp/data/gedi/imported/seasia/cambridge_sepilok/chm/\n",
      "chm value anomaly /gpfs/data1/vclgp/data/gedi/imported/seasia/boyd_danum/chm/\n",
      "chm value anomaly /gpfs/data1/vclgp/data/gedi/imported/seasia/jpl_borneo_008/chm/\n",
      "chm value anomaly /gpfs/data1/vclgp/data/gedi/imported/africa/amani/chm/\n",
      "chm value anomaly /gpfs/data1/vclgp/data/gedi/imported/africa/jpl_lope/chm/\n",
      "chm value anomaly /gpfs/data1/vclgp/data/gedi/imported/africa/tanzania_wwf_germany/chm/\n",
      "chm value anomaly /gpfs/data1/vclgp/data/gedi/imported/usa/dcef_nfp_2011/chm/\n",
      "chm value anomaly /gpfs/data1/vclgp/data/gedi/imported/usa/usda_or/chm/\n",
      "chm value anomaly /gpfs/data1/vclgp/data/gedi/imported/usa/usda_mn/chm/\n",
      "chm value anomaly /gpfs/data1/vclgp/data/gedi/imported/usa/boschetti_idaho_clearcreek/chm/\n",
      "chm value anomaly /gpfs/data1/vclgp/data/gedi/imported/usa/plumasnf_20180707/chm/\n",
      "chm value anomaly /gpfs/data1/vclgp/data/gedi/imported/usa/slatecreek_2008/chm/\n",
      "chm value anomaly /gpfs/data1/vclgp/data/gedi/imported/usa/moscowmtn_2009/chm/\n",
      "chm value anomaly /gpfs/data1/vclgp/data/gedi/imported/usa/upperlolo/chm/\n",
      "chm value anomaly /gpfs/data1/vclgp/data/gedi/imported/usa/nasa_hubbard/chm/\n",
      "chm value anomaly /gpfs/data1/vclgp/data/gedi/imported/usa/stjoe/chm/\n",
      "chm value anomaly /gpfs/data1/vclgp/data/gedi/imported/usa/pref_fia/chm/\n",
      "chm value anomaly /gpfs/data1/vclgp/data/gedi/imported/usa/fitsum_southforksalmon/chm/\n",
      "chm value anomaly /gpfs/data1/vclgp/data/gedi/imported/usa/nasa_sierra/chm/\n",
      "chm value anomaly /gpfs/data1/vclgp/data/gedi/imported/usa/usda_panj/chm/\n",
      "chm value anomaly /gpfs/data1/vclgp/data/gedi/imported/usa/moscowmtn_2003/chm/\n",
      "chm value anomaly /gpfs/data1/vclgp/data/gedi/imported/usa/pref_pref/chm/\n",
      "chm value anomaly /gpfs/data1/vclgp/data/gedi/imported/usa/aso_sierra_nevada/chm/\n",
      "chm value anomaly /gpfs/data1/vclgp/data/gedi/imported/usa/nasa_ma/chm/\n",
      "chm value anomaly /gpfs/data1/vclgp/data/gedi/imported/usa/moscowmtn_2007/chm/\n",
      "chm value anomaly /gpfs/data1/vclgp/data/gedi/imported/usa/falkowski_damon_2007/chm/\n",
      "chm value anomaly /gpfs/data1/vclgp/data/gedi/imported/usa/dcef_nfp_2009/chm/\n",
      "chm value anomaly /gpfs/data1/vclgp/data/gedi/imported/usa/aso_sierra_nevada_snowoff/chm/\n",
      "chm value anomaly /gpfs/data1/vclgp/data/gedi/imported/usa/dcef_nfp_2010/chm/\n",
      "chm value anomaly /gpfs/data1/vclgp/data/gedi/imported/usa/stanley_stanley/chm/\n",
      "chm value anomaly /gpfs/data1/vclgp/data/gedi/imported/southamerica/embrapa_brazil_keller_2012_tan/chm/\n",
      "chm value anomaly /gpfs/data1/vclgp/data/gedi/imported/southamerica/embrapa_brazil_keller_2013_fst/chm/\n",
      "chm value anomaly /gpfs/data1/vclgp/data/gedi/imported/southamerica/embrapa_brazil_keller_2012_tap/chm/\n",
      "chm value anomaly /gpfs/data1/vclgp/data/gedi/imported/southamerica/embrapa_brazil_keller_2013_fna/chm/\n",
      "chm value anomaly /gpfs/data1/vclgp/data/gedi/imported/southamerica/embrapa_brazil_keller_2012_sdm/chm/\n",
      "chm value anomaly /gpfs/data1/vclgp/data/gedi/imported/southamerica/embrapa_brazil_keller_2013_fn1/chm/\n",
      "chm value anomaly /gpfs/data1/vclgp/data/gedi/imported/southamerica/hill_peru/chm/\n",
      "chm value anomaly /gpfs/data1/vclgp/data/gedi/imported/southamerica/embrapa_brazil_keller_2014_rib/chm/\n",
      "chm value anomaly /gpfs/data1/vclgp/data/gedi/imported/southamerica/embrapa_brazil_keller_2014_fnb/chm/\n",
      "chm value anomaly /gpfs/data1/vclgp/data/gedi/imported/southamerica/embrapa_brazil_keller_2013_st1/chm/\n",
      "chm value anomaly /gpfs/data1/vclgp/data/gedi/imported/southamerica/chave_nourages/chm/\n",
      "chm value anomaly /gpfs/data1/vclgp/data/gedi/imported/southamerica/embrapa_brazil_keller_2012_duc/chm/\n",
      "chm value anomaly /gpfs/data1/vclgp/data/gedi/imported/southamerica/embrapa_brazil_keller_2014_jam/chm/\n",
      "chm value anomaly /gpfs/data1/vclgp/data/gedi/imported/southamerica/embrapa_brazil_keller_2008_tap/chm/\n",
      "chm value anomaly /gpfs/data1/vclgp/data/gedi/imported/southamerica/embrapa_brazil_keller_2011_cot/chm/\n",
      "chm value anomaly /gpfs/data1/vclgp/data/gedi/imported/southamerica/embrapa_brazil_keller_2014_tan/chm/\n",
      "chm value anomaly /gpfs/data1/vclgp/data/gedi/imported/southamerica/embrapa_brazil_keller_2013_cag/chm/\n",
      "chm value anomaly /gpfs/data1/vclgp/data/gedi/imported/southamerica/embrapa_brazil_keller_2014_can/chm/\n",
      "chm value anomaly /gpfs/data1/vclgp/data/gedi/imported/southamerica/embrapa_brazil_keller_2014_cau/chm/\n",
      "chm value anomaly /gpfs/data1/vclgp/data/gedi/imported/southamerica/embrapa_brazil_keller_2012_cau/chm/\n",
      "chm value anomaly /gpfs/data1/vclgp/data/gedi/imported/southamerica/embrapa_brazil_keller_2013_par/chm/\n",
      "chm value anomaly /gpfs/data1/vclgp/data/gedi/imported/southamerica/embrapa_brazil_keller_2013_bon/chm/\n",
      "chm value anomaly /gpfs/data1/vclgp/data/gedi/imported/southamerica/embrapa_brazil_keller_2013_hum/chm/\n",
      "chm value anomaly /gpfs/data1/vclgp/data/gedi/imported/southamerica/embrapa_brazil_keller_2013_jam/chm/\n",
      "chm value anomaly /gpfs/data1/vclgp/data/gedi/imported/southamerica/embrapa_brazil_keller_2014_go1/chm/\n",
      "chm value anomaly /gpfs/data1/vclgp/data/gedi/imported/southamerica/embrapa_brazil_keller_2013_fn2/chm/\n",
      "chm value anomaly /gpfs/data1/vclgp/data/gedi/imported/southamerica/embrapa_brazil_keller_2013_tal/chm/\n",
      "chm value anomaly /gpfs/data1/vclgp/data/gedi/imported/southamerica/embrapa_brazil_keller_2011_ant/chm/\n",
      "chm value anomaly /gpfs/data1/vclgp/data/gedi/imported/southamerica/embrapa_brazil_keller_2013_tap/chm/\n",
      "78\n"
     ]
    }
   ],
   "source": [
    "n=0\n",
    "issue_folders = []\n",
    "for folder in folders:\n",
    "    chm_files = glob.glob(folder+ '*.tif')\n",
    "    if len(chm_files) == 0 :\n",
    "        print('no chm in', folder)\n",
    "        n=n+1\n",
    "        continue\n",
    "    min_val, max_val = get_tif_min_max(chm_files[0])\n",
    "    if min_val < -10 or max_val > 120:\n",
    "        print('chm value anomaly', folder)\n",
    "        issue_folders.append(folder.split('/')[-3])\n",
    "        n=n+1\n",
    "print(n)"
   ]
  },
  {
   "cell_type": "code",
   "execution_count": 17,
   "id": "2b82aab9-e4fc-4d88-a03c-3a17891a4728",
   "metadata": {},
   "outputs": [
    {
     "data": {
      "text/plain": [
       "'kljun_tharandt'"
      ]
     },
     "execution_count": 17,
     "metadata": {},
     "output_type": "execute_result"
    }
   ],
   "source": [
    "issue_folders[1]"
   ]
  },
  {
   "cell_type": "code",
   "execution_count": 11,
   "id": "a200c4cc-02bf-43e7-9229-ddba2f963e10",
   "metadata": {},
   "outputs": [],
   "source": [
    "VALID_SITES = ['amani','csir_agincourt', 'csir_dnyala', 'csir_ireagh', 'csir_justicia', 'csir_venetia', 'csir_welverdient', 'drc_ghent_field_32635', \n",
    "               'drc_ghent_field_32733', 'drc_ghent_field_32734', 'gsfc_mozambique', 'jpl_lope', 'jpl_rabi', 'tanzania_wwf_germany', 'khaoyai_thailand', \n",
    "               'chowilla', 'credo', 'karawatha', 'litchfield', 'rushworth_forests', 'tern_alice_mulga', 'tern_robson_whole', 'costarica_laselva2019', \n",
    "               'skidmore_bayerischer', 'zofin_180607', 'spain_exts1', 'spain_exts2', 'spain_exts3', 'spain_exts4', 'spain_leonposada', 'spain_leon1', \n",
    "               'spain_leon2', 'spain_leon3', 'jpl_borneo_004', 'jpl_borneo_013', 'jpl_borneo_040', 'jpl_borneo_119', 'jpl_borneo_144', 'chave_paracou', \n",
    "               'embrapa_brazil_2020_and_a01', 'embrapa_brazil_2020_bon_a01', 'embrapa_brazil_2020_cau_a01', 'embrapa_brazil_2020_duc_a01', \n",
    "               'embrapa_brazil_2020_hum_a01', 'embrapa_brazil_2020_par_a01', 'embrapa_brazil_2020_rib_a01', 'embrapa_brazil_2020_tal_a01',\n",
    "               'embrapa_brazil_2020_tan_a01', 'embrapa_brazil_2020_tap_a01', 'embrapa_brazil_2020_tap_a04', 'walkerfire_20191007', \n",
    "               'neon_abby2018', 'neon_abby2019', 'neon_abby2021', 'neon_bart2018', 'neon_bart2019', 'neon_blan2019', 'neon_blan2021', \n",
    "               'neon_clbj2018', 'neon_clbj2019', 'neon_clbj2021', 'neon_clbj2021', 'neon_dela2018', 'neon_dela2019', 'neon_dela2021', \n",
    "               'neon_dsny2018', 'neon_dsny2021', 'neon_grsm2018', 'neon_grsm2021', 'neon_guan2018', 'neon_harv2018', 'neon_harv2019', \n",
    "               'neon_jerc2019', 'neon_jerc2021', 'neon_jorn2018', 'neon_jorn2019', 'neon_jorn2021', 'neon_konz2019', 'neon_konz2020', \n",
    "               'neon_leno2018', 'neon_leno2019', 'neon_leno2021', 'neon_mlbs2018', 'neon_mlbs2021', 'neon_moab2018', 'neon_moab2021', \n",
    "               'neon_niwo2019', 'neon_niwo2020', 'neon_nogp2021', 'neon_onaq2019', 'neon_onaq2021', 'neon_osbs2018', 'neon_osbs2019', \n",
    "               'neon_osbs2021', 'neon_puum2020', 'neon_rmnp2018', 'neon_rmnp2020', 'neon_scbi2019', 'neon_scbi2021', 'neon_serc2019', \n",
    "               'neon_serc2021', 'neon_sjer2019', 'neon_soap2018', 'neon_soap2019', 'neon_soap2021', 'neon_srer2019', 'neon_srer2021', \n",
    "               'neon_stei2019', 'neon_stei2020', 'neon_ster2021', 'neon_tall2018', 'neon_tall2019', 'neon_tall2021', 'neon_teak2021', \n",
    "               'neon_ukfs2018', 'neon_ukfs2019', 'neon_ukfs2020', 'neon_unde2019', 'neon_unde2020', 'neon_wood2021', 'neon_wref2019', \n",
    "               'neon_wref2021', 'neon_yell2018', 'neon_yell2019', 'neon_yell2020', \n",
    "               'neon_blan2022', 'neon_clbj2022', 'neon_grsm2022', 'neon_moab2022', 'neon_onaq2022', 'neon_rmnp2022', 'neon_serc2022', \n",
    "               'neon_stei2022', 'neon_steicheq2022', 'neon_ster2022', 'neon_unde2022', 'inpe_brazil31983', 'inpe_brazil31981', \n",
    "               'inpe_brazil31979', 'inpe_brazil31976', 'inpe_brazil31975', 'inpe_brazil31973', 'inpe_brazil31974', 'inpe_brazil31978', \n",
    "               'csir_limpopo','jrsrp_ilcp2015_wholeq6']"
   ]
  },
  {
   "cell_type": "code",
   "execution_count": 30,
   "id": "2e8f9362-effd-4aeb-8191-4401536df299",
   "metadata": {},
   "outputs": [
    {
     "data": {
      "text/plain": [
       "{'amani', 'jpl_lope', 'tanzania_wwf_germany', 'zofin_180607'}"
      ]
     },
     "execution_count": 30,
     "metadata": {},
     "output_type": "execute_result"
    }
   ],
   "source": [
    "set(issue_folders) & set(VALID_SITES)"
   ]
  },
  {
   "cell_type": "code",
   "execution_count": 89,
   "id": "8e663612-a276-4c5b-bce6-bd9517db4e29",
   "metadata": {},
   "outputs": [
    {
     "name": "stdout",
     "output_type": "stream",
     "text": [
      "/bin/bash: line 1: wine: command not found\n"
     ]
    }
   ],
   "source": [
    "# blast2dem \n",
    "!wine $LASTOOLS/blast2dem.exe -i /gpfs/data1/vclgp/xiongl/ProjectIS2CalVal/data/las_norm/africa/amani/0154*laz -merged -otif -o ../tmp_test/testchm.tif"
   ]
  },
  {
   "cell_type": "code",
   "execution_count": 95,
   "id": "39fd1475-a2ba-456a-bc8b-4a8789b30df9",
   "metadata": {},
   "outputs": [
    {
     "data": {
      "text/plain": [
       "'../result_chm/africa/amani/0190_0000004.tif'"
      ]
     },
     "execution_count": 95,
     "metadata": {},
     "output_type": "execute_result"
    }
   ],
   "source": [
    "chms = glob.glob('/gpfs/data1/vclgp/data/gedi/imported/africa/amani/chm/*.tif')\n",
    "chms = glob.glob('../result_chm/africa/amani/*.tif')\n",
    "chms[14]"
   ]
  },
  {
   "cell_type": "code",
   "execution_count": 97,
   "id": "eb005e80-b142-4247-a419-e3663ffe5a41",
   "metadata": {},
   "outputs": [
    {
     "data": {
      "text/plain": [
       "'../result_chm/africa/amani'"
      ]
     },
     "execution_count": 97,
     "metadata": {},
     "output_type": "execute_result"
    }
   ],
   "source": [
    "import os\n",
    "os.path.dirname(chms[14])"
   ]
  },
  {
   "cell_type": "code",
   "execution_count": 67,
   "id": "b05e6d6a-78e3-47b8-b3e5-bf5c99f6932f",
   "metadata": {},
   "outputs": [],
   "source": [
    "!ls -l ../result_chm/africa/amani/*.tif > ../result_chm/tiff_list.txt"
   ]
  },
  {
   "cell_type": "code",
   "execution_count": 129,
   "id": "a2dc586d-a000-4432-82a2-088a5021e77a",
   "metadata": {},
   "outputs": [
    {
     "name": "stdout",
     "output_type": "stream",
     "text": [
      "0...10...20...30...40Warning 1: Can't open ../result_chm/africa/amani/0118_0000002.tif. Skipping it\n",
      "...50...60...70...80...90...100 - done.\n"
     ]
    }
   ],
   "source": [
    "!gdalbuildvrt  -tr 25 25 ../result_chm/africa_amani.vrt ../result_chm/africa/amani/*.tif"
   ]
  },
  {
   "cell_type": "code",
   "execution_count": 130,
   "id": "284ce5ae-d8b1-4308-bcfa-11cdb3082dab",
   "metadata": {},
   "outputs": [
    {
     "name": "stdout",
     "output_type": "stream",
     "text": [
      "Input file size is 523, 1640\n",
      "0...10...20...30...40...50...60...70...80...90...100 - done.\n"
     ]
    }
   ],
   "source": [
    "!gdal_translate -of GTiff ../result_chm/africa_amani.vrt ../result_chm/africa_amani_25m.tif"
   ]
  },
  {
   "cell_type": "code",
   "execution_count": null,
   "id": "51c4982d-3bfa-478b-ad0e-c27e38950a9c",
   "metadata": {},
   "outputs": [],
   "source": []
  },
  {
   "cell_type": "code",
   "execution_count": 125,
   "id": "b0ca4a63-f0d0-4b50-b4ad-7c2458cfd332",
   "metadata": {},
   "outputs": [
    {
     "data": {
      "text/plain": [
       "<matplotlib.collections.QuadMesh at 0x146131c59890>"
      ]
     },
     "execution_count": 125,
     "metadata": {},
     "output_type": "execute_result"
    },
    {
     "data": {
      "image/png": "[encoded data removed]",
      "text/plain": [
       "<Figure size 640x480 with 2 Axes>"
      ]
     },
     "metadata": {},
     "output_type": "display_data"
    }
   ],
   "source": [
    "import rioxarray\n",
    "xds = rioxarray.open_rasterio('../result_chm/africa/amani/0095_0000002.tif')\n",
    "xds[0].plot(vmin=0,vmax=30)"
   ]
  },
  {
   "cell_type": "code",
   "execution_count": null,
   "id": "811aa57f-6158-462e-b03f-1d872baa2833",
   "metadata": {},
   "outputs": [],
   "source": []
  },
  {
   "cell_type": "code",
   "execution_count": null,
   "id": "379ea2f1-6e3f-4a68-b02f-cf03708e1f92",
   "metadata": {},
   "outputs": [],
   "source": []
  },
  {
   "cell_type": "code",
   "execution_count": 81,
   "id": "47e339fa-3cc0-4d9b-98d9-1289d531c38b",
   "metadata": {},
   "outputs": [
    {
     "name": "stdout",
     "output_type": "stream",
     "text": [
      "lasinfo (171231) report for /gpfs/data1/vclgp/data/gedi/imported/africa/amani/LAZ_ground/0233_0000002.laz\n",
      "reporting all LAS header entries:\n",
      "  file signature:             'LASF'\n",
      "  file source ID:             0\n",
      "  global_encoding:            0\n",
      "  project ID GUID data 1-4:   00000000-0000-0000-0000-000000000000\n",
      "  version major.minor:        1.2\n",
      "  system identifier:          'LAStools (c) by rapidlasso GmbH'\n",
      "  generating software:        'las2las (version 210117)'\n",
      "  file creation day/year:     92/2012\n",
      "  header size:                227\n",
      "  offset to point data:       323\n",
      "  number var. length records: 1\n",
      "  point data format:          1\n",
      "  point data record length:   28\n",
      "  number of point records:    6586551\n",
      "  number of points by return: 5337267 1120961 121980 6168 175\n",
      "  scale factor x y z:         0.01 0.01 0.01\n",
      "  offset x y z:               -0 -0 -0\n",
      "  min x y z:                  1123500.00 9423750.00 497.06\n",
      "  max x y z:                  1124249.99 9424499.99 1167.20\n",
      "variable length header record 1 of 1:\n",
      "  reserved             0\n",
      "  user ID              'LASF_Projection'\n",
      "  record ID            34735\n",
      "  length after header  40\n",
      "  description          'by LAStools of rapidlasso GmbH'\n",
      "    GeoKeyDirectoryTag version 1.1.0 number of keys 4\n",
      "      key 1024 tiff_tag_location 0 count 1 value_offset 1 - GTModelTypeGeoKey: ModelTypeProjected\n",
      "      key 3072 tiff_tag_location 0 count 1 value_offset 32736 - ProjectedCSTypeGeoKey: WGS 84 / UTM 36S\n",
      "      key 3076 tiff_tag_location 0 count 1 value_offset 9001 - ProjLinearUnitsGeoKey: Linear_Meter\n",
      "      key 4099 tiff_tag_location 0 count 1 value_offset 9001 - VerticalUnitsGeoKey: Linear_Meter\n",
      "the header is followed by 2 user-defined bytes\n",
      "LASzip compression (version 3.4r3 c2 50000): POINT10 2 GPSTIME11 2\n",
      "reporting minimum and maximum for all LAS point record entries ...\n",
      "  X           112350000  112424999\n",
      "  Y           942375000  942449999\n",
      "  Z               49706     116720\n",
      "  intensity           0        255\n",
      "  return_number       1          5\n",
      "  number_of_returns   1          5\n",
      "  edge_of_flight_line 0          1\n",
      "  scan_direction_flag 0          1\n",
      "  classification      1          2\n",
      "  scan_angle_rank   -23         17\n",
      "  user_data           1          2\n",
      "  point_source_ID    36        109\n",
      "  gps_time 460885.001187 550545.998475\n",
      "number of first returns:        5337267\n",
      "number of intermediate returns: 128564\n",
      "number of last returns:         5333677\n",
      "number of single returns:       4212957\n",
      "overview over number of returns of given pulse: 4212957 2000597 348130 23979 888 0 0\n",
      "histogram of classification of points:\n",
      "         5414471  unclassified (1)\n",
      "         1172080  ground (2)\n"
     ]
    }
   ],
   "source": [
    "!lasinfo /gpfs/data1/vclgp/data/gedi/imported/africa/amani/LAZ_ground/0233_0000002.laz"
   ]
  },
  {
   "cell_type": "markdown",
   "id": "a9f8f4ca-abc7-4ad1-977f-234e77c75e4b",
   "metadata": {},
   "source": [
    "\n",
    "- min x y z:                  1121250.00 9418238.66 280.77\n",
    "- max x y z:                  1121999.99 9418499.99 954.47\n",
    "\n",
    "- min x y z:                  1122000.00 9418273.08 331.20\r",
    "-  max x y z:                  1122284.86 9418499.99 1013.52"
   ]
  },
  {
   "cell_type": "code",
   "execution_count": 98,
   "id": "5419fc04-a8b2-4f98-93a5-6372b6daff19",
   "metadata": {},
   "outputs": [
    {
     "data": {
      "text/plain": [
       "'0157'"
      ]
     },
     "execution_count": 98,
     "metadata": {},
     "output_type": "execute_result"
    }
   ],
   "source": [
    "'0157_0000002.laz'[:4]"
   ]
  },
  {
   "cell_type": "code",
   "execution_count": 4,
   "id": "556004ae-0267-4248-8354-bf8788fc89e5",
   "metadata": {},
   "outputs": [],
   "source": [
    "import os\n",
    "os.environ['USE_PYGEOS'] = '0'\n",
    "import geopandas as gpd\n",
    "import matplotlib.pyplot as plt"
   ]
  },
  {
   "cell_type": "code",
   "execution_count": null,
   "id": "2a75f4af-7056-4762-a70e-d9e682c78a77",
   "metadata": {},
   "outputs": [],
   "source": []
  },
  {
   "cell_type": "code",
   "execution_count": 15,
   "id": "e161bf3c-9397-4223-a7eb-0530b8f9adaa",
   "metadata": {},
   "outputs": [
    {
     "data": {
      "image/png": "[encoded data removed]",
      "text/plain": [
       "<Figure size 640x480 with 1 Axes>"
      ]
     },
     "metadata": {},
     "output_type": "display_data"
    }
   ],
   "source": [
    "# Replace 'your_shapefile.shp' with the path to your shapefile\n",
    "shapefile_path = '../tmp_test/test_neon_1.shp'\n",
    "# Read the shapefile\n",
    "gdf1 = gpd.read_file('../tmp_test/test_neon_1.shp')\n",
    "gdf2 = gpd.read_file('../tmp_test/test_neon_2.shp')\n",
    "gdf3 = gpd.read_file('../tmp_test/test_neon_3.shp')\n",
    "# Create a plot\n",
    "fig, ax = plt.subplots()\n",
    "\n",
    "# Plot the first GeoDataFrame\n",
    "gdf1.plot(ax=ax, facecolor='none',  edgecolor='blue')\n",
    "\n",
    "# Plot the second GeoDataFrame\n",
    "gdf2.plot(ax=ax, facecolor='none', edgecolor='red')\n",
    "\n",
    "gdf3.plot(ax=ax, facecolor='none', edgecolor='yellow')\n",
    "\n",
    "# Display the plot\n",
    "plt.show()"
   ]
  },
  {
   "cell_type": "code",
   "execution_count": null,
   "id": "9854a805-4f90-4dbe-9738-f671ac6bb954",
   "metadata": {},
   "outputs": [],
   "source": [
    "# List of shapefile paths to merge\n",
    "shapefile_paths = glob.glob('/gpfs/data1/vclgp/xiongl/ProjectIS2CalVal/result/lasboundary/usa/neon_stei2022/*.shp')\n",
    "\n",
    "# Read the shapefiles into GeoDataFrames\n",
    "gdfs = [gpd.read_file(shp) for shp in shapefile_paths]\n",
    "\n",
    "# Merge the GeoDataFrames\n",
    "merged_gdf = gpd.GeoDataFrame(pd.concat(gdfs, ignore_index=True))"
   ]
  }
 ],
 "metadata": {
  "kernelspec": {
   "display_name": "Python 3 (ipykernel)",
   "language": "python",
   "name": "python3"
  },
  "language_info": {
   "codemirror_mode": {
    "name": "ipython",
    "version": 3
   },
   "file_extension": ".py",
   "mimetype": "text/x-python",
   "name": "python",
   "nbconvert_exporter": "python",
   "pygments_lexer": "ipython3",
   "version": "3.11.4"
  }
 },
 "nbformat": 4,
 "nbformat_minor": 5
}
