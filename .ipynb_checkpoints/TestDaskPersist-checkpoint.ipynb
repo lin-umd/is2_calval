{
 "cells": [
  {
   "cell_type": "code",
   "execution_count": 1,
   "id": "de2668d9-daf0-463b-89dc-091ed8ce3625",
   "metadata": {},
   "outputs": [],
   "source": [
    "# Test dask pesist \n",
    "import argparse, os, sys, re\n",
    "from dask.distributed import Client, progress\n",
    "import dask.dataframe as dd\n",
    "import dask\n",
    "import geopandas as gpd \n",
    "import numpy as np\n",
    "import time\n",
    "import multiprocessing\n",
    "from tqdm import tqdm\n",
    "import h5py\n",
    "import math\n",
    "import matplotlib.pyplot as plt\n",
    "from scipy.stats import poisson\n",
    "from shapely.geometry import Point\n",
    "from shapely.geometry import Polygon\n",
    "import utm\n",
    "import subprocess\n",
    "import glob\n",
    "import pandas as pd\n",
    "from shapely.geometry import Polygon\n",
    "import geopandas as gpd\n",
    "from pyproj import Transformer\n",
    "import dask.dataframe as dd\n",
    "import dask_geopandas as ddg"
   ]
  },
  {
   "cell_type": "code",
   "execution_count": 2,
   "id": "007440ce-8a76-4217-8b46-a23049ea7d9b",
   "metadata": {},
   "outputs": [],
   "source": [
    "def get_project_bound(project):\n",
    "        print('## processing:', project)\n",
    "        region = project.split('/')[0]\n",
    "        name  =  project.split('/')[1]\n",
    "        file_paths = glob.glob(f'../result/out_bounds/{region}_{name}_*.parquet')\n",
    "        print('number of laz bounds in this project', len(file_paths))\n",
    "        if len(file_paths) < 1: return\n",
    "        ########################################################### for loop version \n",
    "        # get laz boundary\n",
    "        res = []\n",
    "        for f in file_paths: # if files are two many -----\n",
    "            res.append(gpd.read_parquet(f)) # add delay \n",
    "        # #ddf = dask_geopandas.read_parquet(file_paths)\n",
    "        if len(res) == 0: return\n",
    "        gdf_combined = gpd.GeoDataFrame( pd.concat(res, ignore_index=True) )\n",
    "        result_gdf = gdf_combined.dissolve()\n",
    "    \n",
    "        ###########~~~~~~~~~~~~~~~~~~~~~~~~~~~~~~~~~~~~~~~~~~~~~~~~~dask version \n",
    "        # ddf = ddg.read_parquet(file_paths)\n",
    "        # result_gdf = ddf.dissolve()#.compute()\n",
    "        ###############################################################################\n",
    "        result_gdf['area_ha'] = result_gdf.to_crs(\"EPSG:3395\").area/ 10000 \n",
    "        # ['region', 'name', 'area_ha', 'geometry']\n",
    "        result_gdf = result_gdf[['region', 'name', 'area_ha','epsg', 'geometry']]\n",
    "        #result_gdf.plot()\n",
    "        return result_gdf"
   ]
  },
  {
   "cell_type": "code",
   "execution_count": 3,
   "id": "dcb283ed-9dc3-4237-b523-8785c74d7e45",
   "metadata": {},
   "outputs": [],
   "source": [
    "client = Client()"
   ]
  },
  {
   "cell_type": "code",
   "execution_count": 4,
   "id": "456864ec-80a8-4fb4-a0b6-13bdf6fd4079",
   "metadata": {},
   "outputs": [
    {
     "data": {
      "text/html": [
       "<div>\n",
       "    <div style=\"width: 24px; height: 24px; background-color: #e1e1e1; border: 3px solid #9D9D9D; border-radius: 5px; position: absolute;\"> </div>\n",
       "    <div style=\"margin-left: 48px;\">\n",
       "        <h3 style=\"margin-bottom: 0px;\">Client</h3>\n",
       "        <p style=\"color: #9D9D9D; margin-bottom: 0px;\">Client-52584a1c-8ef6-11ee-aa23-f8f21e663990</p>\n",
       "        <table style=\"width: 100%; text-align: left;\">\n",
       "\n",
       "        <tr>\n",
       "        \n",
       "            <td style=\"text-align: left;\"><strong>Connection method:</strong> Cluster object</td>\n",
       "            <td style=\"text-align: left;\"><strong>Cluster type:</strong> distributed.LocalCluster</td>\n",
       "        \n",
       "        </tr>\n",
       "\n",
       "        \n",
       "            <tr>\n",
       "                <td style=\"text-align: left;\">\n",
       "                    <strong>Dashboard: </strong> <a href=\"http://127.0.0.1:8787/status\" target=\"_blank\">http://127.0.0.1:8787/status</a>\n",
       "                </td>\n",
       "                <td style=\"text-align: left;\"></td>\n",
       "            </tr>\n",
       "        \n",
       "\n",
       "        </table>\n",
       "\n",
       "        \n",
       "\n",
       "        \n",
       "            <details>\n",
       "            <summary style=\"margin-bottom: 20px;\"><h3 style=\"display: inline;\">Cluster Info</h3></summary>\n",
       "            <div class=\"jp-RenderedHTMLCommon jp-RenderedHTML jp-mod-trusted jp-OutputArea-output\">\n",
       "    <div style=\"width: 24px; height: 24px; background-color: #e1e1e1; border: 3px solid #9D9D9D; border-radius: 5px; position: absolute;\">\n",
       "    </div>\n",
       "    <div style=\"margin-left: 48px;\">\n",
       "        <h3 style=\"margin-bottom: 0px; margin-top: 0px;\">LocalCluster</h3>\n",
       "        <p style=\"color: #9D9D9D; margin-bottom: 0px;\">dcd4b8cb</p>\n",
       "        <table style=\"width: 100%; text-align: left;\">\n",
       "            <tr>\n",
       "                <td style=\"text-align: left;\">\n",
       "                    <strong>Dashboard:</strong> <a href=\"http://127.0.0.1:8787/status\" target=\"_blank\">http://127.0.0.1:8787/status</a>\n",
       "                </td>\n",
       "                <td style=\"text-align: left;\">\n",
       "                    <strong>Workers:</strong> 8\n",
       "                </td>\n",
       "            </tr>\n",
       "            <tr>\n",
       "                <td style=\"text-align: left;\">\n",
       "                    <strong>Total threads:</strong> 40\n",
       "                </td>\n",
       "                <td style=\"text-align: left;\">\n",
       "                    <strong>Total memory:</strong> 376.52 GiB\n",
       "                </td>\n",
       "            </tr>\n",
       "            \n",
       "            <tr>\n",
       "    <td style=\"text-align: left;\"><strong>Status:</strong> running</td>\n",
       "    <td style=\"text-align: left;\"><strong>Using processes:</strong> True</td>\n",
       "</tr>\n",
       "\n",
       "            \n",
       "        </table>\n",
       "\n",
       "        <details>\n",
       "            <summary style=\"margin-bottom: 20px;\">\n",
       "                <h3 style=\"display: inline;\">Scheduler Info</h3>\n",
       "            </summary>\n",
       "\n",
       "            <div style=\"\">\n",
       "    <div>\n",
       "        <div style=\"width: 24px; height: 24px; background-color: #FFF7E5; border: 3px solid #FF6132; border-radius: 5px; position: absolute;\"> </div>\n",
       "        <div style=\"margin-left: 48px;\">\n",
       "            <h3 style=\"margin-bottom: 0px;\">Scheduler</h3>\n",
       "            <p style=\"color: #9D9D9D; margin-bottom: 0px;\">Scheduler-a0651907-ffd3-4e06-b7e9-2f356661a0e0</p>\n",
       "            <table style=\"width: 100%; text-align: left;\">\n",
       "                <tr>\n",
       "                    <td style=\"text-align: left;\">\n",
       "                        <strong>Comm:</strong> tcp://127.0.0.1:41365\n",
       "                    </td>\n",
       "                    <td style=\"text-align: left;\">\n",
       "                        <strong>Workers:</strong> 8\n",
       "                    </td>\n",
       "                </tr>\n",
       "                <tr>\n",
       "                    <td style=\"text-align: left;\">\n",
       "                        <strong>Dashboard:</strong> <a href=\"http://127.0.0.1:8787/status\" target=\"_blank\">http://127.0.0.1:8787/status</a>\n",
       "                    </td>\n",
       "                    <td style=\"text-align: left;\">\n",
       "                        <strong>Total threads:</strong> 40\n",
       "                    </td>\n",
       "                </tr>\n",
       "                <tr>\n",
       "                    <td style=\"text-align: left;\">\n",
       "                        <strong>Started:</strong> Just now\n",
       "                    </td>\n",
       "                    <td style=\"text-align: left;\">\n",
       "                        <strong>Total memory:</strong> 376.52 GiB\n",
       "                    </td>\n",
       "                </tr>\n",
       "            </table>\n",
       "        </div>\n",
       "    </div>\n",
       "\n",
       "    <details style=\"margin-left: 48px;\">\n",
       "        <summary style=\"margin-bottom: 20px;\">\n",
       "            <h3 style=\"display: inline;\">Workers</h3>\n",
       "        </summary>\n",
       "\n",
       "        \n",
       "        <div style=\"margin-bottom: 20px;\">\n",
       "            <div style=\"width: 24px; height: 24px; background-color: #DBF5FF; border: 3px solid #4CC9FF; border-radius: 5px; position: absolute;\"> </div>\n",
       "            <div style=\"margin-left: 48px;\">\n",
       "            <details>\n",
       "                <summary>\n",
       "                    <h4 style=\"margin-bottom: 0px; display: inline;\">Worker: 0</h4>\n",
       "                </summary>\n",
       "                <table style=\"width: 100%; text-align: left;\">\n",
       "                    <tr>\n",
       "                        <td style=\"text-align: left;\">\n",
       "                            <strong>Comm: </strong> tcp://127.0.0.1:40329\n",
       "                        </td>\n",
       "                        <td style=\"text-align: left;\">\n",
       "                            <strong>Total threads: </strong> 5\n",
       "                        </td>\n",
       "                    </tr>\n",
       "                    <tr>\n",
       "                        <td style=\"text-align: left;\">\n",
       "                            <strong>Dashboard: </strong> <a href=\"http://127.0.0.1:43290/status\" target=\"_blank\">http://127.0.0.1:43290/status</a>\n",
       "                        </td>\n",
       "                        <td style=\"text-align: left;\">\n",
       "                            <strong>Memory: </strong> 47.06 GiB\n",
       "                        </td>\n",
       "                    </tr>\n",
       "                    <tr>\n",
       "                        <td style=\"text-align: left;\">\n",
       "                            <strong>Nanny: </strong> tcp://127.0.0.1:32876\n",
       "                        </td>\n",
       "                        <td style=\"text-align: left;\"></td>\n",
       "                    </tr>\n",
       "                    <tr>\n",
       "                        <td colspan=\"2\" style=\"text-align: left;\">\n",
       "                            <strong>Local directory: </strong> /tmp/dask-scratch-space/worker-xit6kd2r\n",
       "                        </td>\n",
       "                    </tr>\n",
       "\n",
       "                    \n",
       "\n",
       "                    \n",
       "\n",
       "                </table>\n",
       "            </details>\n",
       "            </div>\n",
       "        </div>\n",
       "        \n",
       "        <div style=\"margin-bottom: 20px;\">\n",
       "            <div style=\"width: 24px; height: 24px; background-color: #DBF5FF; border: 3px solid #4CC9FF; border-radius: 5px; position: absolute;\"> </div>\n",
       "            <div style=\"margin-left: 48px;\">\n",
       "            <details>\n",
       "                <summary>\n",
       "                    <h4 style=\"margin-bottom: 0px; display: inline;\">Worker: 1</h4>\n",
       "                </summary>\n",
       "                <table style=\"width: 100%; text-align: left;\">\n",
       "                    <tr>\n",
       "                        <td style=\"text-align: left;\">\n",
       "                            <strong>Comm: </strong> tcp://127.0.0.1:46254\n",
       "                        </td>\n",
       "                        <td style=\"text-align: left;\">\n",
       "                            <strong>Total threads: </strong> 5\n",
       "                        </td>\n",
       "                    </tr>\n",
       "                    <tr>\n",
       "                        <td style=\"text-align: left;\">\n",
       "                            <strong>Dashboard: </strong> <a href=\"http://127.0.0.1:44539/status\" target=\"_blank\">http://127.0.0.1:44539/status</a>\n",
       "                        </td>\n",
       "                        <td style=\"text-align: left;\">\n",
       "                            <strong>Memory: </strong> 47.06 GiB\n",
       "                        </td>\n",
       "                    </tr>\n",
       "                    <tr>\n",
       "                        <td style=\"text-align: left;\">\n",
       "                            <strong>Nanny: </strong> tcp://127.0.0.1:33572\n",
       "                        </td>\n",
       "                        <td style=\"text-align: left;\"></td>\n",
       "                    </tr>\n",
       "                    <tr>\n",
       "                        <td colspan=\"2\" style=\"text-align: left;\">\n",
       "                            <strong>Local directory: </strong> /tmp/dask-scratch-space/worker-knzm_tfm\n",
       "                        </td>\n",
       "                    </tr>\n",
       "\n",
       "                    \n",
       "\n",
       "                    \n",
       "\n",
       "                </table>\n",
       "            </details>\n",
       "            </div>\n",
       "        </div>\n",
       "        \n",
       "        <div style=\"margin-bottom: 20px;\">\n",
       "            <div style=\"width: 24px; height: 24px; background-color: #DBF5FF; border: 3px solid #4CC9FF; border-radius: 5px; position: absolute;\"> </div>\n",
       "            <div style=\"margin-left: 48px;\">\n",
       "            <details>\n",
       "                <summary>\n",
       "                    <h4 style=\"margin-bottom: 0px; display: inline;\">Worker: 2</h4>\n",
       "                </summary>\n",
       "                <table style=\"width: 100%; text-align: left;\">\n",
       "                    <tr>\n",
       "                        <td style=\"text-align: left;\">\n",
       "                            <strong>Comm: </strong> tcp://127.0.0.1:34058\n",
       "                        </td>\n",
       "                        <td style=\"text-align: left;\">\n",
       "                            <strong>Total threads: </strong> 5\n",
       "                        </td>\n",
       "                    </tr>\n",
       "                    <tr>\n",
       "                        <td style=\"text-align: left;\">\n",
       "                            <strong>Dashboard: </strong> <a href=\"http://127.0.0.1:42539/status\" target=\"_blank\">http://127.0.0.1:42539/status</a>\n",
       "                        </td>\n",
       "                        <td style=\"text-align: left;\">\n",
       "                            <strong>Memory: </strong> 47.06 GiB\n",
       "                        </td>\n",
       "                    </tr>\n",
       "                    <tr>\n",
       "                        <td style=\"text-align: left;\">\n",
       "                            <strong>Nanny: </strong> tcp://127.0.0.1:46855\n",
       "                        </td>\n",
       "                        <td style=\"text-align: left;\"></td>\n",
       "                    </tr>\n",
       "                    <tr>\n",
       "                        <td colspan=\"2\" style=\"text-align: left;\">\n",
       "                            <strong>Local directory: </strong> /tmp/dask-scratch-space/worker-luszfbi6\n",
       "                        </td>\n",
       "                    </tr>\n",
       "\n",
       "                    \n",
       "\n",
       "                    \n",
       "\n",
       "                </table>\n",
       "            </details>\n",
       "            </div>\n",
       "        </div>\n",
       "        \n",
       "        <div style=\"margin-bottom: 20px;\">\n",
       "            <div style=\"width: 24px; height: 24px; background-color: #DBF5FF; border: 3px solid #4CC9FF; border-radius: 5px; position: absolute;\"> </div>\n",
       "            <div style=\"margin-left: 48px;\">\n",
       "            <details>\n",
       "                <summary>\n",
       "                    <h4 style=\"margin-bottom: 0px; display: inline;\">Worker: 3</h4>\n",
       "                </summary>\n",
       "                <table style=\"width: 100%; text-align: left;\">\n",
       "                    <tr>\n",
       "                        <td style=\"text-align: left;\">\n",
       "                            <strong>Comm: </strong> tcp://127.0.0.1:40426\n",
       "                        </td>\n",
       "                        <td style=\"text-align: left;\">\n",
       "                            <strong>Total threads: </strong> 5\n",
       "                        </td>\n",
       "                    </tr>\n",
       "                    <tr>\n",
       "                        <td style=\"text-align: left;\">\n",
       "                            <strong>Dashboard: </strong> <a href=\"http://127.0.0.1:46753/status\" target=\"_blank\">http://127.0.0.1:46753/status</a>\n",
       "                        </td>\n",
       "                        <td style=\"text-align: left;\">\n",
       "                            <strong>Memory: </strong> 47.06 GiB\n",
       "                        </td>\n",
       "                    </tr>\n",
       "                    <tr>\n",
       "                        <td style=\"text-align: left;\">\n",
       "                            <strong>Nanny: </strong> tcp://127.0.0.1:45693\n",
       "                        </td>\n",
       "                        <td style=\"text-align: left;\"></td>\n",
       "                    </tr>\n",
       "                    <tr>\n",
       "                        <td colspan=\"2\" style=\"text-align: left;\">\n",
       "                            <strong>Local directory: </strong> /tmp/dask-scratch-space/worker-_jfkw7ac\n",
       "                        </td>\n",
       "                    </tr>\n",
       "\n",
       "                    \n",
       "\n",
       "                    \n",
       "\n",
       "                </table>\n",
       "            </details>\n",
       "            </div>\n",
       "        </div>\n",
       "        \n",
       "        <div style=\"margin-bottom: 20px;\">\n",
       "            <div style=\"width: 24px; height: 24px; background-color: #DBF5FF; border: 3px solid #4CC9FF; border-radius: 5px; position: absolute;\"> </div>\n",
       "            <div style=\"margin-left: 48px;\">\n",
       "            <details>\n",
       "                <summary>\n",
       "                    <h4 style=\"margin-bottom: 0px; display: inline;\">Worker: 4</h4>\n",
       "                </summary>\n",
       "                <table style=\"width: 100%; text-align: left;\">\n",
       "                    <tr>\n",
       "                        <td style=\"text-align: left;\">\n",
       "                            <strong>Comm: </strong> tcp://127.0.0.1:35261\n",
       "                        </td>\n",
       "                        <td style=\"text-align: left;\">\n",
       "                            <strong>Total threads: </strong> 5\n",
       "                        </td>\n",
       "                    </tr>\n",
       "                    <tr>\n",
       "                        <td style=\"text-align: left;\">\n",
       "                            <strong>Dashboard: </strong> <a href=\"http://127.0.0.1:38737/status\" target=\"_blank\">http://127.0.0.1:38737/status</a>\n",
       "                        </td>\n",
       "                        <td style=\"text-align: left;\">\n",
       "                            <strong>Memory: </strong> 47.06 GiB\n",
       "                        </td>\n",
       "                    </tr>\n",
       "                    <tr>\n",
       "                        <td style=\"text-align: left;\">\n",
       "                            <strong>Nanny: </strong> tcp://127.0.0.1:43467\n",
       "                        </td>\n",
       "                        <td style=\"text-align: left;\"></td>\n",
       "                    </tr>\n",
       "                    <tr>\n",
       "                        <td colspan=\"2\" style=\"text-align: left;\">\n",
       "                            <strong>Local directory: </strong> /tmp/dask-scratch-space/worker-_hm6au0o\n",
       "                        </td>\n",
       "                    </tr>\n",
       "\n",
       "                    \n",
       "\n",
       "                    \n",
       "\n",
       "                </table>\n",
       "            </details>\n",
       "            </div>\n",
       "        </div>\n",
       "        \n",
       "        <div style=\"margin-bottom: 20px;\">\n",
       "            <div style=\"width: 24px; height: 24px; background-color: #DBF5FF; border: 3px solid #4CC9FF; border-radius: 5px; position: absolute;\"> </div>\n",
       "            <div style=\"margin-left: 48px;\">\n",
       "            <details>\n",
       "                <summary>\n",
       "                    <h4 style=\"margin-bottom: 0px; display: inline;\">Worker: 5</h4>\n",
       "                </summary>\n",
       "                <table style=\"width: 100%; text-align: left;\">\n",
       "                    <tr>\n",
       "                        <td style=\"text-align: left;\">\n",
       "                            <strong>Comm: </strong> tcp://127.0.0.1:36507\n",
       "                        </td>\n",
       "                        <td style=\"text-align: left;\">\n",
       "                            <strong>Total threads: </strong> 5\n",
       "                        </td>\n",
       "                    </tr>\n",
       "                    <tr>\n",
       "                        <td style=\"text-align: left;\">\n",
       "                            <strong>Dashboard: </strong> <a href=\"http://127.0.0.1:35945/status\" target=\"_blank\">http://127.0.0.1:35945/status</a>\n",
       "                        </td>\n",
       "                        <td style=\"text-align: left;\">\n",
       "                            <strong>Memory: </strong> 47.06 GiB\n",
       "                        </td>\n",
       "                    </tr>\n",
       "                    <tr>\n",
       "                        <td style=\"text-align: left;\">\n",
       "                            <strong>Nanny: </strong> tcp://127.0.0.1:41940\n",
       "                        </td>\n",
       "                        <td style=\"text-align: left;\"></td>\n",
       "                    </tr>\n",
       "                    <tr>\n",
       "                        <td colspan=\"2\" style=\"text-align: left;\">\n",
       "                            <strong>Local directory: </strong> /tmp/dask-scratch-space/worker-fg7lqh_b\n",
       "                        </td>\n",
       "                    </tr>\n",
       "\n",
       "                    \n",
       "\n",
       "                    \n",
       "\n",
       "                </table>\n",
       "            </details>\n",
       "            </div>\n",
       "        </div>\n",
       "        \n",
       "        <div style=\"margin-bottom: 20px;\">\n",
       "            <div style=\"width: 24px; height: 24px; background-color: #DBF5FF; border: 3px solid #4CC9FF; border-radius: 5px; position: absolute;\"> </div>\n",
       "            <div style=\"margin-left: 48px;\">\n",
       "            <details>\n",
       "                <summary>\n",
       "                    <h4 style=\"margin-bottom: 0px; display: inline;\">Worker: 6</h4>\n",
       "                </summary>\n",
       "                <table style=\"width: 100%; text-align: left;\">\n",
       "                    <tr>\n",
       "                        <td style=\"text-align: left;\">\n",
       "                            <strong>Comm: </strong> tcp://127.0.0.1:33062\n",
       "                        </td>\n",
       "                        <td style=\"text-align: left;\">\n",
       "                            <strong>Total threads: </strong> 5\n",
       "                        </td>\n",
       "                    </tr>\n",
       "                    <tr>\n",
       "                        <td style=\"text-align: left;\">\n",
       "                            <strong>Dashboard: </strong> <a href=\"http://127.0.0.1:37332/status\" target=\"_blank\">http://127.0.0.1:37332/status</a>\n",
       "                        </td>\n",
       "                        <td style=\"text-align: left;\">\n",
       "                            <strong>Memory: </strong> 47.06 GiB\n",
       "                        </td>\n",
       "                    </tr>\n",
       "                    <tr>\n",
       "                        <td style=\"text-align: left;\">\n",
       "                            <strong>Nanny: </strong> tcp://127.0.0.1:38441\n",
       "                        </td>\n",
       "                        <td style=\"text-align: left;\"></td>\n",
       "                    </tr>\n",
       "                    <tr>\n",
       "                        <td colspan=\"2\" style=\"text-align: left;\">\n",
       "                            <strong>Local directory: </strong> /tmp/dask-scratch-space/worker-8wb8o4ll\n",
       "                        </td>\n",
       "                    </tr>\n",
       "\n",
       "                    \n",
       "\n",
       "                    \n",
       "\n",
       "                </table>\n",
       "            </details>\n",
       "            </div>\n",
       "        </div>\n",
       "        \n",
       "        <div style=\"margin-bottom: 20px;\">\n",
       "            <div style=\"width: 24px; height: 24px; background-color: #DBF5FF; border: 3px solid #4CC9FF; border-radius: 5px; position: absolute;\"> </div>\n",
       "            <div style=\"margin-left: 48px;\">\n",
       "            <details>\n",
       "                <summary>\n",
       "                    <h4 style=\"margin-bottom: 0px; display: inline;\">Worker: 7</h4>\n",
       "                </summary>\n",
       "                <table style=\"width: 100%; text-align: left;\">\n",
       "                    <tr>\n",
       "                        <td style=\"text-align: left;\">\n",
       "                            <strong>Comm: </strong> tcp://127.0.0.1:45484\n",
       "                        </td>\n",
       "                        <td style=\"text-align: left;\">\n",
       "                            <strong>Total threads: </strong> 5\n",
       "                        </td>\n",
       "                    </tr>\n",
       "                    <tr>\n",
       "                        <td style=\"text-align: left;\">\n",
       "                            <strong>Dashboard: </strong> <a href=\"http://127.0.0.1:38785/status\" target=\"_blank\">http://127.0.0.1:38785/status</a>\n",
       "                        </td>\n",
       "                        <td style=\"text-align: left;\">\n",
       "                            <strong>Memory: </strong> 47.06 GiB\n",
       "                        </td>\n",
       "                    </tr>\n",
       "                    <tr>\n",
       "                        <td style=\"text-align: left;\">\n",
       "                            <strong>Nanny: </strong> tcp://127.0.0.1:42898\n",
       "                        </td>\n",
       "                        <td style=\"text-align: left;\"></td>\n",
       "                    </tr>\n",
       "                    <tr>\n",
       "                        <td colspan=\"2\" style=\"text-align: left;\">\n",
       "                            <strong>Local directory: </strong> /tmp/dask-scratch-space/worker-3mmrd7ay\n",
       "                        </td>\n",
       "                    </tr>\n",
       "\n",
       "                    \n",
       "\n",
       "                    \n",
       "\n",
       "                </table>\n",
       "            </details>\n",
       "            </div>\n",
       "        </div>\n",
       "        \n",
       "\n",
       "    </details>\n",
       "</div>\n",
       "\n",
       "        </details>\n",
       "    </div>\n",
       "</div>\n",
       "            </details>\n",
       "        \n",
       "\n",
       "    </div>\n",
       "</div>"
      ],
      "text/plain": [
       "<Client: 'tcp://127.0.0.1:41365' processes=8 threads=40, memory=376.52 GiB>"
      ]
     },
     "execution_count": 4,
     "metadata": {},
     "output_type": "execute_result"
    }
   ],
   "source": [
    "client"
   ]
  },
  {
   "cell_type": "code",
   "execution_count": 29,
   "id": "b16386aa-bb5c-4e0c-b4ab-3b349451010c",
   "metadata": {},
   "outputs": [],
   "source": []
  },
  {
   "cell_type": "code",
   "execution_count": 30,
   "id": "424e8ff5-d17f-45ed-b931-70387e41681d",
   "metadata": {},
   "outputs": [
    {
     "data": {
      "text/html": [
       "<div>\n",
       "<style scoped>\n",
       "    .dataframe tbody tr th:only-of-type {\n",
       "        vertical-align: middle;\n",
       "    }\n",
       "\n",
       "    .dataframe tbody tr th {\n",
       "        vertical-align: top;\n",
       "    }\n",
       "\n",
       "    .dataframe thead th {\n",
       "        text-align: right;\n",
       "    }\n",
       "</style>\n",
       "<table border=\"1\" class=\"dataframe\">\n",
       "  <thead>\n",
       "    <tr style=\"text-align: right;\">\n",
       "      <th></th>\n",
       "      <th>region</th>\n",
       "      <th>name</th>\n",
       "      <th>area_ha</th>\n",
       "      <th>epsg</th>\n",
       "      <th>geometry</th>\n",
       "    </tr>\n",
       "  </thead>\n",
       "  <tbody>\n",
       "    <tr>\n",
       "      <th>0</th>\n",
       "      <td>europe</td>\n",
       "      <td>spain_extremadura</td>\n",
       "      <td>311.894663</td>\n",
       "      <td>25830</td>\n",
       "      <td>MULTIPOLYGON (((-6.78657 38.17732, -6.78602 38...</td>\n",
       "    </tr>\n",
       "  </tbody>\n",
       "</table>\n",
       "</div>"
      ],
      "text/plain": [
       "   region               name     area_ha   epsg  \\\n",
       "0  europe  spain_extremadura  311.894663  25830   \n",
       "\n",
       "                                            geometry  \n",
       "0  MULTIPOLYGON (((-6.78657 38.17732, -6.78602 38...  "
      ]
     },
     "execution_count": 30,
     "metadata": {},
     "output_type": "execute_result"
    }
   ],
   "source": []
  },
  {
   "cell_type": "code",
   "execution_count": 10,
   "id": "0b84ebd0-af75-4d09-b136-18e4c6fc72b7",
   "metadata": {},
   "outputs": [
    {
     "name": "stdout",
     "output_type": "stream",
     "text": [
      "## processing: asia/cuilai_china\n",
      "number of laz bounds in this project 1\n",
      "## processing: asia/nagano_japan_full\n",
      "number of laz bounds in this project 1\n",
      "\n"
     ]
    }
   ],
   "source": [
    "projects = ['asia/cuilai_china', 'asia/nagano_japan_full']\n",
    "cmds = [get_project_bound(project) for project in projects]  \n",
    "_ = dask.persist(*cmds) # return gdf\n",
    "progress(_)\n",
    "print('') "
   ]
  },
  {
   "cell_type": "code",
   "execution_count": null,
   "id": "059cc053-d864-400f-945a-eed199cc48c3",
   "metadata": {},
   "outputs": [],
   "source": []
  },
  {
   "cell_type": "code",
   "execution_count": 11,
   "id": "306f24bd-20e4-4095-abe9-5af2cdb7736a",
   "metadata": {},
   "outputs": [
    {
     "data": {
      "text/plain": [
       "(  region          name     area_ha   epsg  \\\n",
       " 0   asia  cuilai_china  167.478019  32650   \n",
       " \n",
       "                                             geometry  \n",
       " 0  POLYGON ((117.30227 36.03057, 117.31426 36.030...  ,\n",
       "   region               name    area_ha  epsg  \\\n",
       " 0   asia  nagano_japan_full  26.699807  2450   \n",
       " \n",
       "                                             geometry  \n",
       " 0  POLYGON ((138.33449 35.53640, 138.34042 35.536...  )"
      ]
     },
     "execution_count": 11,
     "metadata": {},
     "output_type": "execute_result"
    }
   ],
   "source": [
    "final = dask.compute(*_)\n",
    "final"
   ]
  },
  {
   "cell_type": "code",
   "execution_count": 95,
   "id": "a83a88ef-473c-47c8-b4ab-1017862ec201",
   "metadata": {},
   "outputs": [],
   "source": [
    "# Convert tuple of tuples to list of lists"
   ]
  },
  {
   "cell_type": "code",
   "execution_count": 12,
   "id": "263e2ccb-7605-4a17-b91e-f2c27c29face",
   "metadata": {},
   "outputs": [],
   "source": [
    "final_bounds = gpd.GeoDataFrame( pd.concat(final, ignore_index=True) )"
   ]
  },
  {
   "cell_type": "code",
   "execution_count": 13,
   "id": "f53e9c31-ea36-423e-a482-38001a4eb9f6",
   "metadata": {},
   "outputs": [
    {
     "data": {
      "text/html": [
       "<div>\n",
       "<style scoped>\n",
       "    .dataframe tbody tr th:only-of-type {\n",
       "        vertical-align: middle;\n",
       "    }\n",
       "\n",
       "    .dataframe tbody tr th {\n",
       "        vertical-align: top;\n",
       "    }\n",
       "\n",
       "    .dataframe thead th {\n",
       "        text-align: right;\n",
       "    }\n",
       "</style>\n",
       "<table border=\"1\" class=\"dataframe\">\n",
       "  <thead>\n",
       "    <tr style=\"text-align: right;\">\n",
       "      <th></th>\n",
       "      <th>region</th>\n",
       "      <th>name</th>\n",
       "      <th>area_ha</th>\n",
       "      <th>epsg</th>\n",
       "      <th>geometry</th>\n",
       "    </tr>\n",
       "  </thead>\n",
       "  <tbody>\n",
       "    <tr>\n",
       "      <th>0</th>\n",
       "      <td>asia</td>\n",
       "      <td>cuilai_china</td>\n",
       "      <td>167.478019</td>\n",
       "      <td>32650</td>\n",
       "      <td>POLYGON ((117.30227 36.03057, 117.31426 36.030...</td>\n",
       "    </tr>\n",
       "    <tr>\n",
       "      <th>1</th>\n",
       "      <td>asia</td>\n",
       "      <td>nagano_japan_full</td>\n",
       "      <td>26.699807</td>\n",
       "      <td>2450</td>\n",
       "      <td>POLYGON ((138.33449 35.53640, 138.34042 35.536...</td>\n",
       "    </tr>\n",
       "  </tbody>\n",
       "</table>\n",
       "</div>"
      ],
      "text/plain": [
       "  region               name     area_ha   epsg  \\\n",
       "0   asia       cuilai_china  167.478019  32650   \n",
       "1   asia  nagano_japan_full   26.699807   2450   \n",
       "\n",
       "                                            geometry  \n",
       "0  POLYGON ((117.30227 36.03057, 117.31426 36.030...  \n",
       "1  POLYGON ((138.33449 35.53640, 138.34042 35.536...  "
      ]
     },
     "execution_count": 13,
     "metadata": {},
     "output_type": "execute_result"
    }
   ],
   "source": [
    "final_bounds"
   ]
  },
  {
   "cell_type": "code",
   "execution_count": 28,
   "id": "5596409d-3ee4-4548-ab42-bb783cd285e4",
   "metadata": {},
   "outputs": [],
   "source": [
    "client.close()"
   ]
  },
  {
   "cell_type": "code",
   "execution_count": 16,
   "id": "343981b1-2319-4f3b-b3f0-3cf0ddc9855e",
   "metadata": {},
   "outputs": [
    {
     "name": "stdout",
     "output_type": "stream",
     "text": [
      "## processing asia/cuilai_china, 1 bounds from laz files.\n"
     ]
    }
   ],
   "source": [
    "project = 'asia/cuilai_china'\n",
    "#print('## processing:', project)\n",
    "region = project.split('/')[0]\n",
    "name  =  project.split('/')[1]\n",
    "file_paths = glob.glob(f'../result/out_bounds/{region}_{name}_*.parquet')\n",
    "print(f'## processing {project}, {len(file_paths)} bounds from laz files.')"
   ]
  },
  {
   "cell_type": "code",
   "execution_count": 17,
   "id": "8ced475a-4b96-4f5d-8d80-0ba8846ffb66",
   "metadata": {},
   "outputs": [
    {
     "name": "stdout",
     "output_type": "stream",
     "text": [
      "## processing project asia_cuilai_china, 1 bounds from laz files.\n"
     ]
    }
   ],
   "source": [
    "print(f'## processing project {region}_{name}, {len(file_paths)} bounds from laz files.')"
   ]
  },
  {
   "cell_type": "code",
   "execution_count": 19,
   "id": "91748cdf-52c8-451e-a124-078c09b32664",
   "metadata": {},
   "outputs": [],
   "source": [
    "# check processing \n",
    "# Waveforms written to /gpfs/data1/vclgp/xiongl/ProjectIS2CalVal/result/africa/csir_welverdient/wave_tile_33920_-2723680_utm.h5"
   ]
  },
  {
   "cell_type": "code",
   "execution_count": 32,
   "id": "5e5e20af-fada-483b-a841-aa395056ebec",
   "metadata": {},
   "outputs": [
    {
     "data": {
      "text/plain": [
       "276"
      ]
     },
     "execution_count": 32,
     "metadata": {},
     "output_type": "execute_result"
    }
   ],
   "source": [
    "files = glob.glob('/gpfs/data1/vclgp/xiongl/ProjectIS2CalVal/data/las/africa/csir_welverdient/*.las')\n",
    "len(files)"
   ]
  },
  {
   "cell_type": "code",
   "execution_count": 22,
   "id": "53177ade-28ef-43f1-b41f-37f812858034",
   "metadata": {},
   "outputs": [
    {
     "name": "stdout",
     "output_type": "stream",
     "text": [
      "75\n"
     ]
    }
   ],
   "source": []
  },
  {
   "cell_type": "code",
   "execution_count": 31,
   "id": "e15374c3-3262-4833-b176-f76d4ae7ec3c",
   "metadata": {},
   "outputs": [
    {
     "data": {
      "text/plain": [
       "274"
      ]
     },
     "execution_count": 31,
     "metadata": {},
     "output_type": "execute_result"
    }
   ],
   "source": [
    "waves = glob.glob('/gpfs/data1/vclgp/xiongl/ProjectIS2CalVal/result/africa/csir_welverdient/wave*.h5')\n",
    "len(waves)"
   ]
  },
  {
   "cell_type": "code",
   "execution_count": 38,
   "id": "51cac35d-9377-4887-97ec-97bdbd04f30e",
   "metadata": {},
   "outputs": [
    {
     "data": {
      "text/plain": [
       "'tile_33920_-2723680_utm'"
      ]
     },
     "execution_count": 38,
     "metadata": {},
     "output_type": "execute_result"
    }
   ],
   "source": [
    "import os\n",
    "os.path.basename(waves[1])[5:-3]"
   ]
  },
  {
   "cell_type": "code",
   "execution_count": 40,
   "id": "f18f20d7-6e89-4862-bfb1-193d8d730ccf",
   "metadata": {},
   "outputs": [
    {
     "name": "stdout",
     "output_type": "stream",
     "text": [
      "/gpfs/data1/vclgp/xiongl/ProjectIS2CalVal/data/las/africa/csir_welverdient/tile_26920_-2718680_utm_0000002.las\n",
      "/gpfs/data1/vclgp/xiongl/ProjectIS2CalVal/data/las/africa/csir_welverdient/tile_32920_-2722680_utm.las\n"
     ]
    }
   ],
   "source": [
    "for f in files:\n",
    "    has_wave = 0\n",
    "    for wave in waves:\n",
    "        pattern = os.path.basename(wave)[5:-3]\n",
    "        if pattern in f:\n",
    "            has_wave = 1\n",
    "            break\n",
    "    if has_wave == 0:\n",
    "        print(f)"
   ]
  },
  {
   "cell_type": "code",
   "execution_count": 43,
   "id": "0b61ac83-a300-4522-9aa8-174208c47adf",
   "metadata": {},
   "outputs": [
    {
     "name": "stdout",
     "output_type": "stream",
     "text": [
      "File 1 of 1 nPoints 0\n"
     ]
    },
    {
     "data": {
      "text/plain": [
       "0"
      ]
     },
     "execution_count": 43,
     "metadata": {},
     "output_type": "execute_result"
    }
   ],
   "source": [
    "TMP_FILE = '/gpfs/data1/vclgp/xiongl/ProjectIS2CalVal/result/is2_in_als_projected.parquet'\n",
    "# processing file track \n",
    "LOG = '/gpfs/data1/vclgp/xiongl/ProjectIS2CalVal/is2_calval/processing_test.txt'\n",
    "SIM_LOG = '/gpfs/data1/vclgp/xiongl/ProjectIS2CalVal/is2_calval/running.log'\n",
    "# variables \n",
    "LAS_PATH = '/gpfs/data1/vclgp/xiongl/ProjectIS2CalVal/data/las'\n",
    "RES_PATH = '/gpfs/data1/vclgp/xiongl/ProjectIS2CalVal/result'\n",
    "Pulse_PATH = '/gpfs/data1/vclgp/xiongl/ProjectIS2CalVal/data/20190821.gt1l.pulse' # from Amy\n",
    "bs_las_path = '/gpfs/data1/vclgp/xiongl/ProjectIS2CalVal/data/las/africa/csir_welverdient/tile_32920_-2722680_utm.las'\n",
    "out_coor='/gpfs/data1/vclgp/xiongl/ProjectIS2CalVal/result/africa/csir_welverdient/coordinates_tile_32920_-2722680_utm.txt'\n",
    "out_wave='/gpfs/data1/vclgp/xiongl/ProjectIS2CalVal/result/africa/csir_welverdient/wave_tile_32920_-2722680_utm.h5'\n",
    "os.system(f'gediRat -fSigma 2.75 -readPulse {Pulse_PATH} -input {bs_las_path} -listCoord {out_coor}  -output {out_wave} -hdf  -ground')"
   ]
  },
  {
   "cell_type": "code",
   "execution_count": 44,
   "id": "8ba998fa-6a87-4af5-99b2-8740e77870a5",
   "metadata": {},
   "outputs": [],
   "source": [
    "bounds_file = '/gpfs/data1/vclgp/data/gedi/imported/lists/ground_bounds/boundGround.' + 'csir_welverdient'+ '.txt'"
   ]
  },
  {
   "cell_type": "code",
   "execution_count": 46,
   "id": "d24fbd4d-29ee-4da2-b2ea-53f7c51c1cf5",
   "metadata": {},
   "outputs": [],
   "source": [
    "column_names = ['file', 'xmin', 'ymin', 'zmin', 'xmax', 'ymax', 'zmax']\n",
    "df = pd.read_csv(bounds_file, header = None, sep = \" \",  names=column_names , encoding='latin1')"
   ]
  },
  {
   "cell_type": "code",
   "execution_count": 49,
   "id": "bbdc01b0-10a4-4b0d-bb5c-77003e9e8e83",
   "metadata": {},
   "outputs": [],
   "source": [
    "d_file = df[df['file'].str.contains('tile_32920_-2722680_utm')]"
   ]
  },
  {
   "cell_type": "code",
   "execution_count": 5,
   "id": "5774d231-493e-4312-be42-893b7fc8767a",
   "metadata": {},
   "outputs": [],
   "source": [
    "### read a txt file \n",
    "import glob\n",
    "path = \"/gpfs/data1/vclgp/xiongl/ProjectIS2CalVal/result/atl03_list/*.txt\"\n",
    "files=glob.glob(path)\n",
    "res_list = []\n",
    "for f in files:\n",
    "    with open(f, 'r') as file:\n",
    "        # Read all lines from the file and append them to a list\n",
    "        for line in file.readlines():\n",
    "            res_list.append(line.strip())\n",
    "# Convert the list to a set\n",
    "res_set = set(res_list)"
   ]
  },
  {
   "cell_type": "code",
   "execution_count": 6,
   "id": "ee943523-4ad3-435f-8048-167eddeb3c01",
   "metadata": {},
   "outputs": [
    {
     "name": "stdout",
     "output_type": "stream",
     "text": [
      "done\n"
     ]
    }
   ],
   "source": [
    "print('done')"
   ]
  },
  {
   "cell_type": "code",
   "execution_count": 7,
   "id": "16748595-320f-47d0-a810-cee96737e345",
   "metadata": {},
   "outputs": [
    {
     "name": "stdout",
     "output_type": "stream",
     "text": [
      "27899\n"
     ]
    }
   ],
   "source": [
    "print(len(res_set))"
   ]
  },
  {
   "cell_type": "code",
   "execution_count": 8,
   "id": "c9b9ae9c-adae-47ee-a83d-f7840353a1ba",
   "metadata": {},
   "outputs": [
    {
     "name": "stdout",
     "output_type": "stream",
     "text": [
      "1185265\n"
     ]
    }
   ],
   "source": [
    "print(len(res_list))"
   ]
  },
  {
   "cell_type": "code",
   "execution_count": 10,
   "id": "64c5218f-fc22-4b57-8a9e-6087ffffbee4",
   "metadata": {},
   "outputs": [],
   "source": [
    "# Output file path\n",
    "file_path = \"../result/atl03_calval.txt\"\n",
    "# Open the file in write mode\n",
    "with open(file_path, 'w') as file:\n",
    "    # Write each element of the set to a new line\n",
    "    for element in res_set:\n",
    "        file.write(str(element) + '\\n')"
   ]
  },
  {
   "cell_type": "code",
   "execution_count": 13,
   "id": "73496bec-bfc2-4aaf-a213-85c4992f783f",
   "metadata": {},
   "outputs": [
    {
     "data": {
      "text/plain": [
       "54.490234375"
      ]
     },
     "execution_count": 13,
     "metadata": {},
     "output_type": "execute_result"
    }
   ],
   "source": [
    "2 *  27899 /1024\n",
    "# about 55T ....."
   ]
  },
  {
   "cell_type": "code",
   "execution_count": 17,
   "id": "6d886ebe-8585-499f-a8ff-c39a4061018d",
   "metadata": {},
   "outputs": [],
   "source": [
    "import geopandas as gpd\n",
    "gdf = gpd.read_parquet('../data/all_sites_20231130.parquet')"
   ]
  },
  {
   "cell_type": "code",
   "execution_count": 18,
   "id": "3806e988-10f4-4528-b79f-9a492468fd75",
   "metadata": {},
   "outputs": [],
   "source": [
    "gdf_1_polygon = gdf.explode(index_parts=False)\n",
    "gdf_1_polygon = gdf_1_polygon.reset_index(drop=True)"
   ]
  },
  {
   "cell_type": "code",
   "execution_count": 20,
   "id": "a86cf9ff-be9d-4e3f-9d70-7f6a8e9a7838",
   "metadata": {},
   "outputs": [
    {
     "data": {
      "text/plain": [
       "41745"
      ]
     },
     "execution_count": 20,
     "metadata": {},
     "output_type": "execute_result"
    }
   ],
   "source": [
    "len(gdf_1_polygon)"
   ]
  },
  {
   "cell_type": "code",
   "execution_count": null,
   "id": "32720518-7acd-4dcd-a23c-b89c7fc3556c",
   "metadata": {},
   "outputs": [],
   "source": []
  }
 ],
 "metadata": {
  "kernelspec": {
   "display_name": "Python 3 (ipykernel)",
   "language": "python",
   "name": "python3"
  },
  "language_info": {
   "codemirror_mode": {
    "name": "ipython",
    "version": 3
   },
   "file_extension": ".py",
   "mimetype": "text/x-python",
   "name": "python",
   "nbconvert_exporter": "python",
   "pygments_lexer": "ipython3",
   "version": "3.11.4"
  }
 },
 "nbformat": 4,
 "nbformat_minor": 5
}
