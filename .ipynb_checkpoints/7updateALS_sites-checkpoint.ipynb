{
 "cells": [
  {
   "cell_type": "code",
   "execution_count": 1,
   "id": "c7312d96-172f-468c-a50d-ce0948acdec8",
   "metadata": {},
   "outputs": [],
   "source": [
    "# refer to py script for most recent version. \n",
    "# import library \n",
    "import utm\n",
    "import subprocess\n",
    "import glob\n",
    "import re\n",
    "import pandas as pd\n",
    "import os\n",
    "from shapely.geometry import Polygon\n",
    "import geopandas as gpd\n",
    "from pyproj import Transformer"
   ]
  },
  {
   "cell_type": "code",
   "execution_count": 40,
   "id": "7bed496a-fc46-4ed0-a078-1cbd7c815d33",
   "metadata": {},
   "outputs": [],
   "source": [
    "# update boundary files \n",
    "SF = gpd.read_file('../data/SA_ALS.gpkg')\n",
    "AUS = gpd.read_file('../data/AUS_ALS.gpkg')\n",
    "AllSites = gpd.read_file('../data/sites_20221006.gpkg') \n",
    "# all in WGS84\n",
    "# how to merge????\n",
    "# ['region', 'name', 'area_ha', 'geometry']\n",
    "# ['FID_1', 'LAS_NM', 'NUM_PNTS', 'Z_MIN', 'Z_MAX', 'Shape_Leng', 'Shape_Area', 'Site', 'geometry']"
   ]
  },
  {
   "cell_type": "code",
   "execution_count": 198,
   "id": "4099eb6b-81f8-4749-8f77-2867e3c96e11",
   "metadata": {},
   "outputs": [
    {
     "data": {
      "text/plain": [
       "False"
      ]
     },
     "execution_count": 198,
     "metadata": {},
     "output_type": "execute_result"
    }
   ],
   "source": [
    "'usda_or' in AllSites['name'] # "
   ]
  },
  {
   "cell_type": "code",
   "execution_count": null,
   "id": "ae99f1d4-08df-4c93-a12d-02d837ff15f9",
   "metadata": {},
   "outputs": [],
   "source": []
  },
  {
   "cell_type": "code",
   "execution_count": 43,
   "id": "3fc32118-6ae5-4104-9719-35156bbcacfd",
   "metadata": {},
   "outputs": [
    {
     "data": {
      "text/plain": [
       "{'jrsrp_ilcp2015_wholeq6'}"
      ]
     },
     "execution_count": 43,
     "metadata": {},
     "output_type": "execute_result"
    }
   ],
   "source": [
    "# set(AUS['name'])"
   ]
  },
  {
   "cell_type": "code",
   "execution_count": 255,
   "id": "327603e3-8b8e-4d89-8ee3-350d96876931",
   "metadata": {},
   "outputs": [],
   "source": [
    "als_list = ['africa/csir_agincourt', # 1  epsg ---------- 32736\n",
    "'africa/csir_dnyala', # 2                                 32735\n",
    "'africa/csir_ireagh', #3                                  32736\n",
    "'africa/csir_justicia', # 4                               32736\n",
    "'africa/csir_limpopo', #5 6 7, not in sites               32736\n",
    "'africa/csir_venetia', # 8, not in sites                  32735\n",
    "'africa/csir_welverdient', # 9                            32736\n",
    "'australia/jrsrp_ilcp2015_wholeq5', # add 1 not in sties  28355\n",
    "'australia/jrsrp_ilcp2015_wholeq6', # add 2 not in sties  28355 \n",
    "'australia/litchfield'] # add 3                           28352 # GDA94 / MGA zone 52"
   ]
  },
  {
   "cell_type": "raw",
   "id": "6f46007a-e757-4b28-921b-f1abb3d07e01",
   "metadata": {},
   "source": [
    "in file: africa/csir_agincourt\n",
    "in file: africa/csir_dnyala\n",
    "in file: africa/csir_ireagh\n",
    "in file: africa/csir_justicia\n",
    "not in file: africa/csir_limpopo\n",
    "not in file: africa/csir_venetia\n",
    "in file: africa/csir_welverdient\n",
    "not in file: australia/jrsrp_ilcp2015_wholeq5\n",
    "not in file: australia/jrsrp_ilcp2015_wholeq6\n",
    "in file: australia/litchfield"
   ]
  },
  {
   "cell_type": "code",
   "execution_count": 154,
   "id": "9bb4c535-89ad-4252-a1ee-fed97be69976",
   "metadata": {},
   "outputs": [],
   "source": [
    "als_list_update = ['africa/csir_limpopo', #5 6 7, not in sites \n",
    "'africa/csir_venetia', # 8, not in sites\n",
    "'australia/jrsrp_ilcp2015_wholeq5', # add 1 not in sties\n",
    "'australia/jrsrp_ilcp2015_wholeq6'] # add 2 not in sties ---------] # add 3"
   ]
  },
  {
   "cell_type": "code",
   "execution_count": 57,
   "id": "1eb5ae0d-231f-4491-b273-a9e8eb487c8c",
   "metadata": {},
   "outputs": [
    {
     "data": {
      "text/plain": [
       "'/gpfs/data1/vclgp/data/gedi/imported/lists/ground_bounds/boundGround.csir_agincourt.txt'"
      ]
     },
     "execution_count": 57,
     "metadata": {},
     "output_type": "execute_result"
    }
   ],
   "source": [
    "als_name = 'csir_agincourt'\n",
    "bounds_file = '/gpfs/data1/vclgp/data/gedi/imported/lists/ground_bounds/boundGround.' + als_name+ '.txt'\n",
    "# no utm zone information here. \n",
    "bounds_file"
   ]
  },
  {
   "cell_type": "code",
   "execution_count": 336,
   "id": "6bea065a-1254-4cca-abe0-fcf6bf67b68a",
   "metadata": {},
   "outputs": [],
   "source": [
    "def get_project_bounds(project ): # = 'africa/csir_agincourt'\n",
    "        print('## processing:', project)\n",
    "        laz_file_folder =\"/gpfs/data1/vclgp/data/gedi/imported/\" + project  + \"/LAZ_ground\"\n",
    "        region = project.split('/')[0]\n",
    "        name  =  project.split('/')[1]\n",
    "        file_paths = glob.glob(laz_file_folder + '/*.laz')   \n",
    "        print('number of laz files: ', len(file_paths))\n",
    "        if (len(file_paths) < 1): \n",
    "                return None \n",
    "        # get laz boundary\n",
    "        res = []\n",
    "        for f in file_paths[:1]:\n",
    "                #print('## processing: ', f)\n",
    "                out_txt = f'../data/bounds_test/{region}_{name}_{os.path.basename(f)[:-4]}.txt'  # Replace with the path to your text file\n",
    "                #print(out_txt)\n",
    "                command = f\"lasinfo -i {f}  -o  {out_txt}\"  # Replace this with your Bash command\n",
    "                # Run the command in the terminal\n",
    "                result = subprocess.run(command, shell=True, check=True, stdout=subprocess.PIPE, stderr=subprocess.PIPE, text=True)\n",
    "                # extract bound, utm zone informatin \n",
    "                # Open the file in read mode\n",
    "                epsg_number = None\n",
    "                with open(out_txt, 'r') as file:\n",
    "                    # Read and print each line\n",
    "                    for line in file:\n",
    "                        if 'min x y z: ' in line:\n",
    "                                #print(line.strip())  # The 'strip' method removes leading and trailing whitespaces, including the newline character\n",
    "                                words = line.split()\n",
    "                                xmin = words[4]\n",
    "                                ymin = words[5]\n",
    "                        if 'max x y z: ' in line:\n",
    "                                #print(line.strip())\n",
    "                                words = line.split()\n",
    "                                xmax = words[4]\n",
    "                                ymax = words[5]\n",
    "#key 3072 tiff_tag_location 0 count 1 value_offset 2450 - ProjectedCSTypeGeoKey: look-up for 2450 not implemented\n",
    "                        if 'key 3072 tiff_tag_location 0 count 1 value_offset' in line and epsg_number is None:\n",
    "                                pattern = re.compile(r'key 3072 tiff_tag_location 0 count 1 value_offset (.*?) - ProjectedCSTypeGeoKey')\n",
    "                                epsg_number = pattern.findall(line)[0]\n",
    "                                            # edge case \n",
    "                        # case 1 europe zofin\n",
    "                        if name in ['zofin_180416', 'zofin_180607']:\n",
    "                            epsg_number = '5514'\n",
    "                        # edge case  GDA2020 / MGA zone 59 - EPSG:7859 in austalia\n",
    "                        if 'NORTH],AUTHORITY[' in line:\n",
    "                                        #print('Edge case, EPSG code is directly in line!')\n",
    "                                        pattern = re.compile(r'NORTH],AUTHORITY\\[\"EPSG\",\"(.*?)\"\\]\\]')\n",
    "                                        epsg_number = pattern.findall(line)[0]\n",
    "                                        \n",
    "                        # special case \n",
    "                        #\"EPSG\",32736\n",
    "                        # if 'EPSG' in line:\n",
    "                        #         print('EPSG directly in line')\n",
    "                        #         pattern = re.compile(r'\"EPSG\",(.*?)]]')\n",
    "                        #         epsg_number = pattern.findall(line)[0]\n",
    "                        # if 'UTM' in line:\n",
    "                        #         words = line.split('UTM ')\n",
    "                        #         zone_number = words[1][:2]\n",
    "                        #         letter = words[1][2:3]\n",
    "                        # if 'UTM zone ' in line:\n",
    "                        #         #print(line.strip())\n",
    "                        #         words = line.split('UTM zone ')\n",
    "                        #         #print(words[1][:3])\n",
    "                        #         zone_number = words[1][:2]\n",
    "                        #         letter = words[1][2:3]         \n",
    "                file.close()\n",
    "                \n",
    "                # if letter == 'S':\n",
    "                #                 flag = False\n",
    "                # if (zone_number == 0):\n",
    "                #                 print('this file can not find zone number!!!', out_txt)\n",
    "                #                 return None\n",
    "                if epsg_number is None:\n",
    "                    print('## I can not find epsg number in the file!!!', out_txt)\n",
    "                    return None    \n",
    "                if epsg_number  == '32767':\n",
    "                    print('## 32767 is user defined coords!!!', out_txt)\n",
    "                    return None\n",
    "                print('region name and epsg number', region, name, epsg_number)\n",
    "            \n",
    "                transformer = Transformer.from_crs(\"EPSG:\" + epsg_number, \"EPSG:4326\",  always_xy=True)\n",
    "                lon_min, lat_min = transformer.transform(float(xmin),float(ymin))\n",
    "                lon_max, lat_max = transformer.transform(float(xmax),float(ymax))\n",
    "                #print(lat_min, lon_min)\n",
    "                #print('## processing:  ' , f)\n",
    "                # The syntax is utm.to_latlon(EASTING, NORTHING, ZONE_NUMBER, ZONE_LETTER).\n",
    "                #The return has the form (LATITUDE, LONGITUDE).\n",
    "                # lat_min, lon_min = utm.to_latlon(float(xmin),float( ymin ), int(zone_number), northern = flag) # north or south \n",
    "                # lat_max, lon_max = utm.to_latlon(float(xmax),float( ymax ), int(zone_number), northern = flag) # north or south \n",
    "                # geometry \n",
    "                # Create a Polygon geometry from the coordinates\n",
    "                geometry = Polygon([(lon_min, lat_min), (lon_max, lat_min), (lon_max, lat_max), (lon_min, lat_max)])\n",
    "                # Create a DataFrame\n",
    "                data = pd.DataFrame({'region': [region],\n",
    "                        'name': [name],\n",
    "                        'f': [f],\n",
    "                        'xmin': [xmin],\n",
    "                        'ymin': [ymin],\n",
    "                        'xmax': [xmax],\n",
    "                        'ymax': [ymax],\n",
    "                        'EPSG': [epsg_number],\n",
    "                        'lon_min': [lon_min],\n",
    "                        'lat_min': [lat_min],\n",
    "                        'lon_max': [lon_max],\n",
    "                        'lat_max': [lat_max],\n",
    "                        'geometry': [geometry]})\n",
    "                gdf = gpd.GeoDataFrame(data, geometry = 'geometry', crs = \"EPSG:4326\" )\n",
    "                res.append(gdf)\n",
    "        if len(res) == 0: return None\n",
    "        gdf_combined = gpd.GeoDataFrame( pd.concat(res, ignore_index=True) )\n",
    "        #gdf_combined.plot()\n",
    "        # Merge all polygons into a single polygon\n",
    "        merged_geometry = gdf_combined['geometry'].unary_union\n",
    "        # Create a DataFrame\n",
    "        data = pd.DataFrame({'region': [region], 'name': [name]})\n",
    "        result_gdf = gpd.GeoDataFrame(data, geometry=[merged_geometry], crs=gdf_combined.crs)\n",
    "        result_gdf['area_ha'] = result_gdf.to_crs(\"EPSG:3395\").area/ 10000 \n",
    "        # ['region', 'name', 'area_ha', 'geometry']\n",
    "        result_gdf = result_gdf[['region', 'name', 'area_ha', 'geometry']]\n",
    "        #result_gdf.plot()\n",
    "        return result_gdf"
   ]
  },
  {
   "cell_type": "code",
   "execution_count": 302,
   "id": "dac23ba4-556d-4f36-ba53-adf09f699ad3",
   "metadata": {},
   "outputs": [
    {
     "name": "stdout",
     "output_type": "stream",
     "text": [
      "## processing: africa/csir_agincourt\n",
      "number of laz files:  76\n",
      "## processing: africa/csir_dnyala\n",
      "number of laz files:  197\n",
      "## processing: africa/csir_ireagh\n",
      "number of laz files:  166\n",
      "EPSG directly in line\n",
      "## processing: africa/csir_justicia\n",
      "number of laz files:  208\n",
      "## processing: africa/csir_limpopo\n",
      "number of laz files:  420\n",
      "## processing: africa/csir_venetia\n",
      "number of laz files:  145\n",
      "## processing: africa/csir_welverdient\n",
      "number of laz files:  405\n",
      "## processing: australia/jrsrp_ilcp2015_wholeq5\n",
      "number of laz files:  595\n",
      "## processing: australia/jrsrp_ilcp2015_wholeq6\n",
      "number of laz files:  874\n",
      "## processing: australia/litchfield\n",
      "number of laz files:  63\n"
     ]
    }
   ],
   "source": [
    "update = []\n",
    "for als in als_list:\n",
    "    #if 'australia' in als:\n",
    "        project_res = get_project_bounds(project = als)\n",
    "        update.append(project_res)\n",
    "# # Concatenate gdf1 and gdf2\n",
    "#result_gdf = gpd.GeoDataFrame(pd.concat([gdf1, gdf2], ignore_index=True), geometry='geometry', crs=\"EPSG:4326\")"
   ]
  },
  {
   "cell_type": "code",
   "execution_count": 303,
   "id": "5cce63a3-a9f4-437f-85e0-27cb6c97adc3",
   "metadata": {},
   "outputs": [
    {
     "name": "stdout",
     "output_type": "stream",
     "text": [
      "finish processing!!!!!!\n"
     ]
    }
   ],
   "source": [
    "update_gdf = gpd.GeoDataFrame(pd.concat(update, ignore_index=True), geometry='geometry', crs=\"EPSG:4326\")\n",
    "#update_gdf = update_gdf[['region', 'name', 'area_ha', 'geometry']]\n",
    "update_gdf.to_file('../data/misha_bounds_20231128.gpkg', driver='GPKG')\n",
    "print('finish processing!!!!!!')"
   ]
  },
  {
   "cell_type": "code",
   "execution_count": null,
   "id": "3345b60d-5d69-4fea-9849-7013a7dd309b",
   "metadata": {},
   "outputs": [],
   "source": []
  },
  {
   "cell_type": "code",
   "execution_count": null,
   "id": "f7a41ec6-f1bd-4ffd-98d5-e4fec1d501ca",
   "metadata": {},
   "outputs": [],
   "source": []
  },
  {
   "cell_type": "code",
   "execution_count": 167,
   "id": "b1ff5e4c-cf4d-452e-904b-f8ebbc7973be",
   "metadata": {},
   "outputs": [],
   "source": [
    "all_update = gpd.GeoDataFrame(pd.concat([AllSites, update_gdf ], ignore_index=True), geometry='geometry', crs=\"EPSG:4326\")\n",
    "# Now, export to GeoPackage\n",
    "all_update.to_file('../data/als_bounds_20231122.gpkg', driver='GPKG')"
   ]
  },
  {
   "cell_type": "code",
   "execution_count": null,
   "id": "da1098f5-c1d0-4962-bbe2-696d9d343356",
   "metadata": {},
   "outputs": [],
   "source": []
  },
  {
   "cell_type": "raw",
   "id": "a21fb06e-26b7-47b3-b190-0e4cb308ae8d",
   "metadata": {},
   "source": [
    "# column_names = ['file', 'xmin', 'ymin', 'zmin', 'xmax', 'ymax', 'zmax']\n",
    "# df = pd.read_csv(bounds_file, header = None, sep = \" \",  names=column_names , encoding='latin1')"
   ]
  },
  {
   "cell_type": "code",
   "execution_count": 304,
   "id": "afaebcc3-086b-4ceb-8c31-fd27b8ca618b",
   "metadata": {},
   "outputs": [
    {
     "name": "stdout",
     "output_type": "stream",
     "text": [
      "466\n"
     ]
    }
   ],
   "source": [
    "#### get all sites \n",
    "# Test get all als list \n",
    "\n",
    "laz_file_folder =\"/gpfs/data1/vclgp/data/gedi/imported/*/*/LAZ_ground\"\n",
    "folders = glob.glob(laz_file_folder)\n",
    "# Define a regular expression pattern to extract the desired string\n",
    "regex_pattern = r'/imported/(.*?)/LAZ_ground'\n",
    "# Extract the string from each folder path\n",
    "matches = [re.search(regex_pattern, folder).group(1) for folder in folders]\n",
    "print(len(matches))"
   ]
  },
  {
   "cell_type": "markdown",
   "id": "19489aa5-e47b-40d8-801f-d4c8d41191c9",
   "metadata": {},
   "source": [
    "###### "
   ]
  },
  {
   "cell_type": "code",
   "execution_count": 337,
   "id": "a0cfbba0-c66b-48e2-bda1-7e8145cd3910",
   "metadata": {},
   "outputs": [
    {
     "name": "stdout",
     "output_type": "stream",
     "text": [
      "## processing: australia/nsw_portmacquarie4\n",
      "number of laz files:  26\n",
      "region name and epsg number australia nsw_portmacquarie4 7856\n",
      "## processing: australia/tern_alice_mulga\n",
      "number of laz files:  119\n",
      "region name and epsg number australia tern_alice_mulga 28353\n",
      "## processing: australia/litchfield\n",
      "number of laz files:  63\n",
      "region name and epsg number australia litchfield 28352\n",
      "## processing: australia/jrsrp_ilcp2015_wholeq6\n",
      "number of laz files:  874\n",
      "region name and epsg number australia jrsrp_ilcp2015_wholeq6 28355\n",
      "## processing: australia/newzealand_forestservice\n",
      "number of laz files:  196\n",
      "region name and epsg number australia newzealand_forestservice 2193\n",
      "## processing: australia/tumbarumba\n",
      "number of laz files:  0\n",
      "## processing: australia/zigzag_creek\n",
      "number of laz files:  65\n",
      "region name and epsg number australia zigzag_creek 28355\n",
      "## processing: australia/g_aguilarNP\n",
      "number of laz files:  29\n",
      "region name and epsg number australia g_aguilarNP 28356\n",
      "## processing: australia/ara_smapex\n",
      "number of laz files:  152\n",
      "region name and epsg number australia ara_smapex 28355\n",
      "## processing: australia/nsw_merimbula\n",
      "number of laz files:  5170\n",
      "region name and epsg number australia nsw_merimbula 7855\n",
      "## processing: australia/rushworth_forests\n",
      "number of laz files:  63\n",
      "region name and epsg number australia rushworth_forests 28355\n",
      "## processing: australia/nsw_casino\n",
      "number of laz files:  10385\n",
      "region name and epsg number australia nsw_casino 7856\n",
      "## processing: australia/whroo\n",
      "number of laz files:  3\n",
      "region name and epsg number australia whroo 28355\n",
      "## processing: australia/nsw_portmacquarie3\n",
      "number of laz files:  8550\n",
      "region name and epsg number australia nsw_portmacquarie3 7856\n",
      "## processing: australia/warra\n",
      "number of laz files:  169\n",
      "region name and epsg number australia warra 28355\n",
      "## processing: australia/chowilla\n",
      "number of laz files:  86\n",
      "region name and epsg number australia chowilla 28354\n",
      "## processing: australia/nsw_portmacquarie1\n",
      "number of laz files:  1506\n",
      "region name and epsg number australia nsw_portmacquarie1 7856\n",
      "## processing: australia/nsw_taree\n",
      "number of laz files:  2963\n",
      "region name and epsg number australia nsw_taree 7856\n",
      "## processing: australia/nsw_armidale\n",
      "number of laz files:  5062\n",
      "region name and epsg number australia nsw_armidale 7856\n",
      "## processing: australia/credo\n",
      "number of laz files:  65\n",
      "region name and epsg number australia credo 28351\n",
      "## processing: australia/nsw_portmacquarie2\n",
      "number of laz files:  2134\n",
      "region name and epsg number australia nsw_portmacquarie2 7856\n",
      "## processing: australia/oeh_ausplotsforests\n",
      "number of laz files:  4\n",
      "region name and epsg number australia oeh_ausplotsforests 28356\n",
      "## processing: australia/tern_robson_whole\n",
      "number of laz files:  106\n",
      "region name and epsg number australia tern_robson_whole 28355\n",
      "## processing: australia/karawatha\n",
      "number of laz files:  37\n",
      "region name and epsg number australia karawatha 28356\n",
      "## processing: australia/jrsrp_ilcp2015\n",
      "number of laz files:  42\n",
      "region name and epsg number australia jrsrp_ilcp2015 28355\n",
      "## processing: australia/gold01\n",
      "number of laz files:  4\n",
      "region name and epsg number australia gold01 28356\n",
      "## processing: australia/watts_creek\n",
      "number of laz files:  65\n",
      "region name and epsg number australia watts_creek 28355\n",
      "## processing: australia/nsw_coffsharbour\n",
      "number of laz files:  4597\n",
      "region name and epsg number australia nsw_coffsharbour 7856\n",
      "## processing: australia/tern_robson\n",
      "number of laz files:  18\n",
      "region name and epsg number australia tern_robson 28355\n",
      "## processing: australia/jrsrp_ilcp2015_wholeq5\n",
      "number of laz files:  595\n",
      "region name and epsg number australia jrsrp_ilcp2015_wholeq5 28355\n"
     ]
    }
   ],
   "source": [
    "all_sites = []\n",
    "# quick check all sites. \n",
    "for als in matches:\n",
    "    if 'australia' in als:\n",
    "        project_res = get_project_bounds(als)\n",
    "        all_sites.append(project_res)\n",
    "#all_sites_gdf = gpd.GeoDataFrame(pd.concat(all_sites, ignore_index=True), geometry='geometry', crs=\"EPSG:4326\")"
   ]
  },
  {
   "cell_type": "code",
   "execution_count": null,
   "id": "14a1986a-c50a-4555-86fa-758b13ccea89",
   "metadata": {},
   "outputs": [],
   "source": []
  },
  {
   "cell_type": "code",
   "execution_count": null,
   "id": "9facbc50-e75f-467e-ac29-6dd2abd90b1d",
   "metadata": {},
   "outputs": [],
   "source": []
  },
  {
   "cell_type": "code",
   "execution_count": 217,
   "id": "ac3bf1d7-02e7-4bc4-84d9-7138d31b1a85",
   "metadata": {},
   "outputs": [],
   "source": [
    "# Now, export to GeoPackage\n",
    "all_sites_gdf.to_file('../data/als_bounds_all_updates_20231122.gpkg', driver='GPKG')"
   ]
  },
  {
   "cell_type": "code",
   "execution_count": 240,
   "id": "f067f942-fc8e-4f08-89b9-08d07508b8fe",
   "metadata": {},
   "outputs": [
    {
     "data": {
      "text/plain": [
       "'\\n# problem: 1 different UTM zone to WGS84 ???\\n# Later: build my own boundary files in WGS84.\\ngeneral case \\nkey 3072 tiff_tag_location 0 count 1 value_offset 32736 - ProjectedCSTypeGeoKey: WGS 84 / UTM 36S\\n# edge case:\\n1 18N or 8N\\n2  \\nkey 3072 tiff_tag_location 0 count 1 value_offset 2450 - ProjectedCSTypeGeoKey: look-up for 2450 not im\\nplemented\\nkey 3072 tiff_tag_location 0 count 1 value_offset 2450 - ProjectedCSTypeGeoKey: look-up for 2450 not im\\nplemented\\n\\n'"
      ]
     },
     "execution_count": 240,
     "metadata": {},
     "output_type": "execute_result"
    }
   ],
   "source": [
    "\"\"\"\n",
    "# problem: 1 different UTM zone to WGS84 ???\n",
    "\n",
    "# Solve: convert EPSG code to EPSG 4326; \n",
    "\n",
    "# Later: build my own boundary files in WGS84.\n",
    "general case \n",
    "key 3072 tiff_tag_location 0 count 1 value_offset 32736 - ProjectedCSTypeGeoKey: WGS 84 / UTM 36S\n",
    "\n",
    "# edge case:\n",
    "1 18N or 8N\n",
    "2  \n",
    "key 3072 tiff_tag_location 0 count 1 value_offset 2450 - ProjectedCSTypeGeoKey: look-up for 2450 not im\n",
    "plemented\n",
    "key 3072 tiff_tag_location 0 count 1 value_offset 2450 - ProjectedCSTypeGeoKey: look-up for 2450 not im\n",
    "plemented\n",
    "key 3072 tiff_tag_location 0 count 1 value_offset 27700 - ProjectedCSTypeGeoKey: look-up for 27700 not \n",
    "implemented\n",
    "\n",
    "PROJCS[\"WGS_1984_UTM_Zone_36S\",GEOGCS[\"GCS_WGS_1984\",DATUM[\"D_WGS_1984\",SPHEROID[\"WGS_1984\",6378137.0,298.257223563]],PRIMEM[\"Greenwich\",0.0],UNIT[\"Degree\",0.01\n",
    "74532925199433]],PROJECTION[\"Transverse_Mercator\"],PARAMETER[\"False_Easting\",500000.0],PARAMETER[\"False_Northing\",10000000.0],PARAMETER[\"Central_Meridian\",33.0],PAR\n",
    "AMETER[\"Scale_Factor\",0.9996],PARAMETER[\"Latitude_Of_Origin\",0.0],UNIT[\"Meter\",1.0],AUTHORITY[\"EPSG\",32736]]\n",
    "\"\"\""
   ]
  },
  {
   "cell_type": "code",
   "execution_count": 231,
   "id": "b113a4f4-ccf2-448e-af3f-1b4b5e99c9c5",
   "metadata": {},
   "outputs": [],
   "source": [
    "IS2_20M_FILE = '/gpfs/data1/vclgp/xiongl/ProjectIS2CalVal/result/is2_20m_cal_val_strong_beam_20231123.parquet'\n",
    "import pandas as pd\n",
    "df = pd.read_parquet(IS2_20M_FILE)"
   ]
  },
  {
   "cell_type": "markdown",
   "id": "d6e4c1bb-c498-481a-961e-6a9599df57d3",
   "metadata": {},
   "source": [
    "IS2_20M_FILE = '/gpfs/data1/vclgp/xiongl/ProjectIS2CalVal/result/is2_20m_calval_09252023.parquet'\n",
    "df2 = pd.read_parquet(IS2_20M_FILE)"
   ]
  },
  {
   "cell_type": "code",
   "execution_count": 230,
   "id": "1b26e6fe-f1ec-4116-9802-c3f0bd651578",
   "metadata": {},
   "outputs": [
    {
     "data": {
      "text/plain": [
       "<Axes: >"
      ]
     },
     "execution_count": 230,
     "metadata": {},
     "output_type": "execute_result"
    },
    {
     "data": {
      "image/png": "[encoded data removed]",
      "text/plain": [
       "<Figure size 640x480 with 1 Axes>"
      ]
     },
     "metadata": {},
     "output_type": "display_data"
    }
   ],
   "source": []
  },
  {
   "cell_type": "code",
   "execution_count": null,
   "id": "9e39cbcd-0986-49a0-aa5c-e7103384a127",
   "metadata": {},
   "outputs": [],
   "source": []
  },
  {
   "cell_type": "markdown",
   "id": "b07d8e60-5155-48de-82db-bbf58b961c91",
   "metadata": {},
   "source": [
    "## "
   ]
  },
  {
   "cell_type": "code",
   "execution_count": null,
   "id": "ef46385e-b767-4a1e-9d8b-1f60f0f76eba",
   "metadata": {},
   "outputs": [],
   "source": []
  },
  {
   "cell_type": "code",
   "execution_count": 238,
   "id": "5bb8296c-ddd7-4b54-aa27-8cb08bfa1dec",
   "metadata": {},
   "outputs": [
    {
     "data": {
      "text/plain": [
       "array(['land_segments/canopy/h_canopy_20m', 'land_segments/latitude',\n",
       "       'land_segments/longitude', 'land_segments/latitude_20m',\n",
       "       'land_segments/longitude_20m', 'orbit_info/sc_orient', 'root_beam',\n",
       "       'geometry'], dtype=object)"
      ]
     },
     "execution_count": 238,
     "metadata": {},
     "output_type": "execute_result"
    }
   ],
   "source": [
    "df.columns.values"
   ]
  },
  {
   "cell_type": "code",
   "execution_count": 265,
   "id": "754ce363-04ea-497e-8c47-24e97205deb9",
   "metadata": {},
   "outputs": [
    {
     "name": "stdout",
     "output_type": "stream",
     "text": [
      "check coordinates for  australia/litchfield\n",
      "check coordinates for  australia/jrsrp_ilcp2015_wholeq6\n",
      "check coordinates for  australia/jrsrp_ilcp2015_wholeq5\n",
      "check coordinates for  africa/csir_justicia\n",
      "check coordinates for  africa/csir_limpopo\n",
      "check coordinates for  africa/csir_venetia\n",
      "check coordinates for  africa/csir_ireagh\n",
      "check coordinates for  africa/csir_welverdient\n",
      "check coordinates for  africa/csir_agincourt\n",
      "check coordinates for  africa/csir_dnyala\n"
     ]
    }
   ],
   "source": [
    "# check coordinates for misha  sites\n",
    "\n",
    "# als_list\n",
    "for als in matches:\n",
    "        if als in als_list:\n",
    "            print('check coordinates for ', als)\n",
    "            laz_file_folder =\"/gpfs/data1/vclgp/data/gedi/imported/\" + als  + \"/LAZ_ground\"\n",
    "            region = als.split('/')[0]\n",
    "            name  =  als.split('/')[1]\n",
    "            file_paths = glob.glob(laz_file_folder + '/*.laz')    \n",
    "            for f in file_paths[:1]: # first 2 files \n",
    "                    #print('## processing: ', f)\n",
    "                    out_txt = f'../data/misha_bounds/{region}_{name}_{os.path.basename(f)[:-4]}.txt'  # Replace with the path to your text file\n",
    "                    #print(out_txt)\n",
    "                    command = f\"lasinfo -i {f}  -o  {out_txt}\"  # Replace this with your Bash command\n",
    "                    # Run the command in the terminal\n",
    "                    result = subprocess.run(command, shell=True, check=True, stdout=subprocess.PIPE, stderr=subprocess.PIPE, text=True)"
   ]
  },
  {
   "cell_type": "code",
   "execution_count": 266,
   "id": "f61bb8b9-90b9-487f-93b4-f808bfe1c971",
   "metadata": {},
   "outputs": [
    {
     "name": "stdout",
     "output_type": "stream",
     "text": [
      "1 /gpfs/data1/vclgp/xiongl/ProjectIS2CalVal/data/misha_bounds/australia_jrsrp_ilcp2015_wholeq6_0819Q6_L11__552750_7161000_0000002.txt\n",
      "      key 3072 tiff_tag_location 0 count 1 value_offset 28355 - ProjectedCSTypeGeoKey: GDA94 / MGA 55S\n",
      "2 /gpfs/data1/vclgp/xiongl/ProjectIS2CalVal/data/misha_bounds/africa_csir_justicia_tile_51920_-2753680_utm_0000000.txt\n",
      "      key 3072 tiff_tag_location 0 count 1 value_offset 32736 - ProjectedCSTypeGeoKey: WGS 84 / UTM 36S\n",
      "3 /gpfs/data1/vclgp/xiongl/ProjectIS2CalVal/data/misha_bounds/africa_csir_limpopo_tile_-7000_-2624000_0000001.txt\n",
      "      key 3072 tiff_tag_location 0 count 1 value_offset 32736 - ProjectedCSTypeGeoKey: WGS 84 / UTM 36S\n",
      "4 /gpfs/data1/vclgp/xiongl/ProjectIS2CalVal/data/misha_bounds/africa_csir_ireagh_tile_35920_-2749680_utm_0000002.txt\n",
      "      key 3072 tiff_tag_location 0 count 1 value_offset 32736 - ProjectedCSTypeGeoKey: WGS 84 / UTM 36S\n",
      "5 /gpfs/data1/vclgp/xiongl/ProjectIS2CalVal/data/misha_bounds/africa_csir_agincourt_tile_16000_-2746000_utm_0000002.txt\n",
      "      key 3072 tiff_tag_location 0 count 1 value_offset 32736 - ProjectedCSTypeGeoKey: WGS 84 / UTM 36S\n",
      "6 /gpfs/data1/vclgp/xiongl/ProjectIS2CalVal/data/misha_bounds/australia_jrsrp_ilcp2015_wholeq5_0819Q5_L01__560150_7201700_0000002.txt\n",
      "      key 3072 tiff_tag_location 0 count 1 value_offset 28355 - ProjectedCSTypeGeoKey: GDA94 / MGA 55S\n",
      "7 /gpfs/data1/vclgp/xiongl/ProjectIS2CalVal/data/misha_bounds/australia_litchfield_tile_695439_8540732_0000000.txt\n",
      "      key 3072 tiff_tag_location 0 count 1 value_offset 28352 - ProjectedCSTypeGeoKey: GDA94 / MGA 52S\n",
      "8 /gpfs/data1/vclgp/xiongl/ProjectIS2CalVal/data/misha_bounds/africa_csir_welverdient_tile_19920_-2719680_utm_0000001.txt\n",
      "      key 3072 tiff_tag_location 0 count 1 value_offset 32736 - ProjectedCSTypeGeoKey: WGS 84 / UTM 36S\n",
      "9 /gpfs/data1/vclgp/xiongl/ProjectIS2CalVal/data/misha_bounds/africa_csir_venetia_tile_34000_-2463000_utm_0000000.txt\n",
      "      key 3072 tiff_tag_location 0 count 1 value_offset 32735 - ProjectedCSTypeGeoKey: WGS 84 / UTM 35S\n",
      "10 /gpfs/data1/vclgp/xiongl/ProjectIS2CalVal/data/misha_bounds/africa_csir_dnyala_tile_80000_-2625000_utm_0000001.txt\n",
      "      key 3072 tiff_tag_location 0 count 1 value_offset 32735 - ProjectedCSTypeGeoKey: WGS 84 / UTM 35S\n"
     ]
    }
   ],
   "source": [
    "# Open the file in read mode ('r')\n",
    "bound_files = glob.glob(\"/gpfs/data1/vclgp/xiongl/ProjectIS2CalVal/data/misha_bounds/*.txt\")\n",
    "n = 0\n",
    "for f in bound_files:\n",
    "        n = n + 1\n",
    "        with open(f, 'r') as file:\n",
    "            # Read and print each line\n",
    "            for line in file:\n",
    "                if 'key 3072 tiff_tag_location' in line:\n",
    "                            print(n, f)\n",
    "                            print(line, end='')  # 'end='' is used to avoid adding extra newline characters"
   ]
  },
  {
   "cell_type": "code",
   "execution_count": 272,
   "id": "6b282e28-0c9a-4e66-ab48-62dff7cc6ce2",
   "metadata": {},
   "outputs": [
    {
     "data": {
      "text/plain": [
       "(-37.8188459086164, 144.97150254683314)"
      ]
     },
     "execution_count": 272,
     "metadata": {},
     "output_type": "execute_result"
    }
   ],
   "source": [
    "# Example coordinates in EPSG 28355\n",
    "x, y = 321456.789, 5812345.678\n",
    "transformer = Transformer.from_crs(\"EPSG:28355\", \"EPSG:4326\")\n",
    "transformer.transform(x, y)"
   ]
  },
  {
   "cell_type": "code",
   "execution_count": 274,
   "id": "8db9e9ad-a05a-4a6a-bde4-9b6c6535713f",
   "metadata": {},
   "outputs": [
    {
     "data": {
      "text/plain": [
       "'32735'"
      ]
     },
     "execution_count": 274,
     "metadata": {},
     "output_type": "execute_result"
    }
   ],
   "source": [
    "line = 'key 3072 tiff_tag_location 0 count 1 value_offset 32735 - ProjectedCSTypeGeoKey: WGS 84 / UTM 35S'\n",
    "pattern = re.compile(r'key 3072 tiff_tag_location 0 count 1 value_offset (.*?) - ProjectedCSTypeGeoKey')\n",
    "epsg_number = pattern.findall(line)[0]\n",
    "epsg_number"
   ]
  },
  {
   "cell_type": "code",
   "execution_count": 332,
   "id": "dec9f637-adf4-4cd9-ade1-079d2cc6daf9",
   "metadata": {},
   "outputs": [
    {
     "data": {
      "text/plain": [
       "'7856'"
      ]
     },
     "execution_count": 332,
     "metadata": {},
     "output_type": "execute_result"
    }
   ],
   "source": [
    "line =''',AXIS[\"Northing\",NORTH],AUTHORITY[\"EPSG\",\"7856\"]],'''\n",
    "\n",
    "if 'NORTH],AUTHORITY[' in line:\n",
    "    #print('Edge case, EPSG code is directly in line!')\n",
    "    pattern = re.compile(r'NORTH],AUTHORITY\\[\"EPSG\",\"(.*?)\"\\]\\]')\n",
    "    epsg_number = pattern.findall(line)[0]\n",
    "epsg_number"
   ]
  },
  {
   "cell_type": "code",
   "execution_count": 275,
   "id": "cfb7b95b-58fe-481e-86ea-21b30115fa50",
   "metadata": {},
   "outputs": [
    {
     "data": {
      "text/plain": [
       "(-37.818845907620044, 24.97150254684794)"
      ]
     },
     "execution_count": 275,
     "metadata": {},
     "output_type": "execute_result"
    }
   ],
   "source": [
    "\n",
    "\n",
    "transformer = Transformer.from_crs(\"EPSG:\" + epsg_number, \"EPSG:4326\")\n",
    "transformer.transform(x, y)"
   ]
  },
  {
   "cell_type": "code",
   "execution_count": 310,
   "id": "88e18bc5-a79b-44fd-85ce-99b8e100edec",
   "metadata": {},
   "outputs": [
    {
     "name": "stdout",
     "output_type": "stream",
     "text": [
      "Transformed coordinates: x=289601.0000000001, y=7376027.0\n"
     ]
    },
    {
     "data": {
      "text/plain": [
       "(-23.7129681741277, 30.93626135307411)"
      ]
     },
     "execution_count": 310,
     "metadata": {},
     "output_type": "execute_result"
    }
   ],
   "source": [
    "from pyproj import Transformer\n",
    "\n",
    "# Define the source and target CRS codes\n",
    "src_crs = 4326\n",
    "tgt_crs = 32736\n",
    "\n",
    "# Create a transformer object\n",
    "transformer = Transformer.from_crs(src_crs, tgt_crs)\n",
    "\n",
    "# Now you can use this transformer to transform coordinates\n",
    "# For example:\n",
    "lat, lon = -23.7129681741277, 30.93626135307411\n",
    "\n",
    "x, y = transformer.transform(lat, lon)\n",
    "# 289601 7376027\n",
    "# \n",
    "print(f'Transformed coordinates: x={x}, y={y}')\n",
    "\n",
    "# africa_csir_limpopo_tile_-7000_-2624000_0000001.txt\n",
    "\n",
    "# Create a transformer object\n",
    "transformer_32736 = Transformer.from_crs(tgt_crs, src_crs)\n",
    "\n",
    "# Now you can use this transformer to transform coordinates\n",
    "# For example:\n",
    "transformer_32736.transform(289601,7376027) # output lat and lon.\n",
    "# 23°42'46.7\"S 30°56'10.5\"E South Africa."
   ]
  },
  {
   "cell_type": "code",
   "execution_count": 330,
   "id": "fb9ab715-9d2f-4699-9bad-c66bab3fe660",
   "metadata": {},
   "outputs": [],
   "source": [
    "df = pd.read_parquet('/gpfs/data1/vclgp/xiongl/ProjectIS2CalVal/result/africa/csir_limpopo/rh_tile_-7000_-2624000_0000001.parquet')"
   ]
  },
  {
   "cell_type": "code",
   "execution_count": 331,
   "id": "8c081ad5-ac9d-41d6-b573-0feb9f103cdc",
   "metadata": {},
   "outputs": [
    {
     "data": {
      "text/plain": [
       "array(['rh0', 'rh1', 'rh2', 'rh3', 'rh4', 'rh5', 'rh6', 'rh7', 'rh8',\n",
       "       'rh9', 'rh10', 'rh11', 'rh12', 'rh13', 'rh14', 'rh15', 'rh16',\n",
       "       'rh17', 'rh18', 'rh19', 'rh20', 'rh21', 'rh22', 'rh23', 'rh24',\n",
       "       'rh25', 'rh26', 'rh27', 'rh28', 'rh29', 'rh30', 'rh31', 'rh32',\n",
       "       'rh33', 'rh34', 'rh35', 'rh36', 'rh37', 'rh38', 'rh39', 'rh40',\n",
       "       'rh41', 'rh42', 'rh43', 'rh44', 'rh45', 'rh46', 'rh47', 'rh48',\n",
       "       'rh49', 'rh50', 'rh51', 'rh52', 'rh53', 'rh54', 'rh55', 'rh56',\n",
       "       'rh57', 'rh58', 'rh59', 'rh60', 'rh61', 'rh62', 'rh63', 'rh64',\n",
       "       'rh65', 'rh66', 'rh67', 'rh68', 'rh69', 'rh70', 'rh71', 'rh72',\n",
       "       'rh73', 'rh74', 'rh75', 'rh76', 'rh77', 'rh78', 'rh79', 'rh80',\n",
       "       'rh81', 'rh82', 'rh83', 'rh84', 'rh85', 'rh86', 'rh87', 'rh88',\n",
       "       'rh89', 'rh90', 'rh91', 'rh92', 'rh93', 'rh94', 'rh95', 'rh96',\n",
       "       'rh97', 'rh98', 'rh99', 'rh100', 'h_canopy_98',\n",
       "       'land_segments/longitude_20m', 'land_segments/latitude_20m',\n",
       "       'land_segments/delta_time'], dtype=object)"
      ]
     },
     "execution_count": 331,
     "metadata": {},
     "output_type": "execute_result"
    }
   ],
   "source": [
    "df.columns.values"
   ]
  },
  {
   "cell_type": "code",
   "execution_count": 328,
   "id": "1d3dde0c-4591-4949-be8e-fce45754e75f",
   "metadata": {},
   "outputs": [
    {
     "data": {
      "text/plain": [
       "array(['orbit_info/sc_orient', 'root_file', 'root_beam',\n",
       "       'land_segments/delta_time', 'land_segments/terrain/h_te_best_fit',\n",
       "       'land_segments/canopy/n_ca_photons', 'land_segments/night_flag',\n",
       "       'land_segments/canopy/h_canopy_20m', 'land_segments/latitude',\n",
       "       'land_segments/longitude', 'land_segments/latitude_20m',\n",
       "       'land_segments/longitude_20m', 'geometry'], dtype=object)"
      ]
     },
     "execution_count": 328,
     "metadata": {},
     "output_type": "execute_result"
    }
   ],
   "source": [
    "df = gpd.read_parquet('/gpfs/data1/vclgp/xiongl/ProjectIS2CalVal/result/is2_20m_misha_11282023.parquet')\n",
    "df.columns.values"
   ]
  },
  {
   "cell_type": "code",
   "execution_count": null,
   "id": "f4c6f42f-2657-4326-aa34-171ce00eec10",
   "metadata": {},
   "outputs": [],
   "source": []
  },
  {
   "cell_type": "code",
   "execution_count": 338,
   "id": "cc41b7ec-7c84-4ebc-ab34-2334d19b8ca5",
   "metadata": {},
   "outputs": [],
   "source": [
    "import argparse"
   ]
  },
  {
   "cell_type": "code",
   "execution_count": 339,
   "id": "887ff955-d7cd-4465-855f-94c05918c3cf",
   "metadata": {},
   "outputs": [
    {
     "data": {
      "text/plain": [
       "358796"
      ]
     },
     "execution_count": 339,
     "metadata": {},
     "output_type": "execute_result"
    }
   ],
   "source": [
    "laz_files = glob.glob(\"/gpfs/data1/vclgp/data/gedi/imported/*/*/LAZ_ground/*.laz\")"
   ]
  },
  {
   "cell_type": "code",
   "execution_count": 342,
   "id": "def95038-b10a-4704-9f52-6b319bd1cc4c",
   "metadata": {},
   "outputs": [
    {
     "data": {
      "text/plain": [
       "357240"
      ]
     },
     "execution_count": 342,
     "metadata": {},
     "output_type": "execute_result"
    }
   ],
   "source": [
    "# remove files in africa_jpl_wwf_germany_drc_Plot178_000017\n",
    "# Pattern to exclude from the list\n",
    "exclude_pattern = \"africa/jpl_wwf_germany_drc/LAZ_ground/\"\n",
    "# Filter out files that match the exclude pattern\n",
    "filtered_laz_files = [file for file in laz_files if exclude_pattern not in file]\n",
    "len(filtered_laz_files)"
   ]
  },
  {
   "cell_type": "code",
   "execution_count": 343,
   "id": "b620d9de-e531-4dae-8b21-12501c819001",
   "metadata": {},
   "outputs": [
    {
     "data": {
      "text/plain": [
       "358796"
      ]
     },
     "execution_count": 343,
     "metadata": {},
     "output_type": "execute_result"
    }
   ],
   "source": [
    "len(laz_files)"
   ]
  },
  {
   "cell_type": "code",
   "execution_count": 341,
   "id": "38be1016-2166-4cc2-924f-e662443382b0",
   "metadata": {},
   "outputs": [
    {
     "data": {
      "text/plain": [
       "'/gpfs/data1/vclgp/data/gedi/imported/asia/zhangye_china/LAZ_ground/yd01_shift.laz'"
      ]
     },
     "execution_count": 341,
     "metadata": {},
     "output_type": "execute_result"
    }
   ],
   "source": [
    "laz_files[1]"
   ]
  },
  {
   "cell_type": "code",
   "execution_count": 347,
   "id": "eb2de161-af1d-4dec-b65d-9d947f7f0269",
   "metadata": {},
   "outputs": [],
   "source": [
    "# Test dask geo pandas \n",
    "file_paths = glob.glob(f'../result/out_bounds/asia_khaoyai_thailand_*.parquet')"
   ]
  },
  {
   "cell_type": "code",
   "execution_count": 349,
   "id": "eee40f64-215b-4d6f-a41a-ab33e12ad4d2",
   "metadata": {},
   "outputs": [
    {
     "data": {
      "text/plain": [
       "364"
      ]
     },
     "execution_count": 349,
     "metadata": {},
     "output_type": "execute_result"
    }
   ],
   "source": [
    "len(file_paths)"
   ]
  },
  {
   "cell_type": "code",
   "execution_count": 350,
   "id": "33f7d70a-ea52-4a6d-bf6d-30b9dd4a83a5",
   "metadata": {},
   "outputs": [],
   "source": [
    "import dask_geopandas as ddg\n",
    "ddf = ddg.read_parquet(file_paths)"
   ]
  },
  {
   "cell_type": "code",
   "execution_count": 356,
   "id": "51a27020-91ca-401b-a7eb-692931cb198d",
   "metadata": {},
   "outputs": [],
   "source": [
    "ddf_dis = ddf.dissolve()"
   ]
  },
  {
   "cell_type": "code",
   "execution_count": 361,
   "id": "ccd59ccf-6cdd-45f7-89a3-d630c64df2e2",
   "metadata": {},
   "outputs": [],
   "source": [
    "result_gdf = ddf_dis.compute()"
   ]
  },
  {
   "cell_type": "code",
   "execution_count": 362,
   "id": "ccff9457-ad55-4f3e-9386-fe72b7139246",
   "metadata": {},
   "outputs": [],
   "source": [
    "result_gdf['area_ha'] = result_gdf.to_crs(\"EPSG:3395\").area/ 10000 "
   ]
  },
  {
   "cell_type": "code",
   "execution_count": 363,
   "id": "4f355e4c-42fb-498c-bcac-9a6a26a37dc2",
   "metadata": {},
   "outputs": [
    {
     "data": {
      "text/html": [
       "<div>\n",
       "<style scoped>\n",
       "    .dataframe tbody tr th:only-of-type {\n",
       "        vertical-align: middle;\n",
       "    }\n",
       "\n",
       "    .dataframe tbody tr th {\n",
       "        vertical-align: top;\n",
       "    }\n",
       "\n",
       "    .dataframe thead th {\n",
       "        text-align: right;\n",
       "    }\n",
       "</style>\n",
       "<table border=\"1\" class=\"dataframe\">\n",
       "  <thead>\n",
       "    <tr style=\"text-align: right;\">\n",
       "      <th></th>\n",
       "      <th>region</th>\n",
       "      <th>name</th>\n",
       "      <th>area_ha</th>\n",
       "      <th>epsg</th>\n",
       "      <th>geometry</th>\n",
       "    </tr>\n",
       "  </thead>\n",
       "  <tbody>\n",
       "    <tr>\n",
       "      <th>0</th>\n",
       "      <td>asia</td>\n",
       "      <td>khaoyai_thailand</td>\n",
       "      <td>3325.546969</td>\n",
       "      <td>32647</td>\n",
       "      <td>MULTIPOLYGON (((101.34621 14.38867, 101.34621 ...</td>\n",
       "    </tr>\n",
       "  </tbody>\n",
       "</table>\n",
       "</div>"
      ],
      "text/plain": [
       "  region              name      area_ha   epsg  \\\n",
       "0   asia  khaoyai_thailand  3325.546969  32647   \n",
       "\n",
       "                                            geometry  \n",
       "0  MULTIPOLYGON (((101.34621 14.38867, 101.34621 ...  "
      ]
     },
     "execution_count": 363,
     "metadata": {},
     "output_type": "execute_result"
    }
   ],
   "source": [
    "result_gdf"
   ]
  },
  {
   "cell_type": "code",
   "execution_count": 360,
   "id": "5444e9c3-f15e-4112-b289-2b29c90e5da5",
   "metadata": {},
   "outputs": [
    {
     "data": {
      "text/html": [
       "<div>\n",
       "<style scoped>\n",
       "    .dataframe tbody tr th:only-of-type {\n",
       "        vertical-align: middle;\n",
       "    }\n",
       "\n",
       "    .dataframe tbody tr th {\n",
       "        vertical-align: top;\n",
       "    }\n",
       "\n",
       "    .dataframe thead th {\n",
       "        text-align: right;\n",
       "    }\n",
       "</style>\n",
       "<table border=\"1\" class=\"dataframe\">\n",
       "  <thead>\n",
       "    <tr style=\"text-align: right;\">\n",
       "      <th></th>\n",
       "      <th>region</th>\n",
       "      <th>name</th>\n",
       "      <th>area_ha</th>\n",
       "      <th>epsg</th>\n",
       "      <th>geometry</th>\n",
       "    </tr>\n",
       "  </thead>\n",
       "  <tbody>\n",
       "    <tr>\n",
       "      <th>0</th>\n",
       "      <td>asia</td>\n",
       "      <td>khaoyai_thailand</td>\n",
       "      <td>9.096604</td>\n",
       "      <td>32647</td>\n",
       "      <td>POLYGON ((101.34008 14.39325, 101.34167 14.393...</td>\n",
       "    </tr>\n",
       "    <tr>\n",
       "      <th>0</th>\n",
       "      <td>asia</td>\n",
       "      <td>khaoyai_thailand</td>\n",
       "      <td>9.242933</td>\n",
       "      <td>32647</td>\n",
       "      <td>POLYGON ((101.34010 14.39777, 101.34172 14.397...</td>\n",
       "    </tr>\n",
       "    <tr>\n",
       "      <th>0</th>\n",
       "      <td>asia</td>\n",
       "      <td>khaoyai_thailand</td>\n",
       "      <td>9.389786</td>\n",
       "      <td>32647</td>\n",
       "      <td>POLYGON ((101.34013 14.40229, 101.34177 14.402...</td>\n",
       "    </tr>\n",
       "    <tr>\n",
       "      <th>0</th>\n",
       "      <td>asia</td>\n",
       "      <td>khaoyai_thailand</td>\n",
       "      <td>9.536104</td>\n",
       "      <td>32647</td>\n",
       "      <td>POLYGON ((101.34015 14.40680, 101.34181 14.406...</td>\n",
       "    </tr>\n",
       "    <tr>\n",
       "      <th>0</th>\n",
       "      <td>asia</td>\n",
       "      <td>khaoyai_thailand</td>\n",
       "      <td>9.681889</td>\n",
       "      <td>32647</td>\n",
       "      <td>POLYGON ((101.34017 14.41132, 101.34186 14.411...</td>\n",
       "    </tr>\n",
       "    <tr>\n",
       "      <th>...</th>\n",
       "      <td>...</td>\n",
       "      <td>...</td>\n",
       "      <td>...</td>\n",
       "      <td>...</td>\n",
       "      <td>...</td>\n",
       "    </tr>\n",
       "    <tr>\n",
       "      <th>0</th>\n",
       "      <td>asia</td>\n",
       "      <td>khaoyai_thailand</td>\n",
       "      <td>8.413471</td>\n",
       "      <td>32647</td>\n",
       "      <td>POLYGON ((101.40225 14.42877, 101.40372 14.428...</td>\n",
       "    </tr>\n",
       "    <tr>\n",
       "      <th>0</th>\n",
       "      <td>asia</td>\n",
       "      <td>khaoyai_thailand</td>\n",
       "      <td>8.749706</td>\n",
       "      <td>32647</td>\n",
       "      <td>POLYGON ((101.40230 14.43328, 101.40383 14.433...</td>\n",
       "    </tr>\n",
       "    <tr>\n",
       "      <th>0</th>\n",
       "      <td>asia</td>\n",
       "      <td>khaoyai_thailand</td>\n",
       "      <td>9.085877</td>\n",
       "      <td>32647</td>\n",
       "      <td>POLYGON ((101.40235 14.43780, 101.40394 14.437...</td>\n",
       "    </tr>\n",
       "    <tr>\n",
       "      <th>0</th>\n",
       "      <td>asia</td>\n",
       "      <td>khaoyai_thailand</td>\n",
       "      <td>9.421984</td>\n",
       "      <td>32647</td>\n",
       "      <td>POLYGON ((101.40240 14.44232, 101.40405 14.442...</td>\n",
       "    </tr>\n",
       "    <tr>\n",
       "      <th>0</th>\n",
       "      <td>asia</td>\n",
       "      <td>khaoyai_thailand</td>\n",
       "      <td>4.352555</td>\n",
       "      <td>32647</td>\n",
       "      <td>POLYGON ((101.40245 14.44683, 101.40410 14.446...</td>\n",
       "    </tr>\n",
       "  </tbody>\n",
       "</table>\n",
       "<p>364 rows × 5 columns</p>\n",
       "</div>"
      ],
      "text/plain": [
       "   region              name   area_ha   epsg  \\\n",
       "0    asia  khaoyai_thailand  9.096604  32647   \n",
       "0    asia  khaoyai_thailand  9.242933  32647   \n",
       "0    asia  khaoyai_thailand  9.389786  32647   \n",
       "0    asia  khaoyai_thailand  9.536104  32647   \n",
       "0    asia  khaoyai_thailand  9.681889  32647   \n",
       "..    ...               ...       ...    ...   \n",
       "0    asia  khaoyai_thailand  8.413471  32647   \n",
       "0    asia  khaoyai_thailand  8.749706  32647   \n",
       "0    asia  khaoyai_thailand  9.085877  32647   \n",
       "0    asia  khaoyai_thailand  9.421984  32647   \n",
       "0    asia  khaoyai_thailand  4.352555  32647   \n",
       "\n",
       "                                             geometry  \n",
       "0   POLYGON ((101.34008 14.39325, 101.34167 14.393...  \n",
       "0   POLYGON ((101.34010 14.39777, 101.34172 14.397...  \n",
       "0   POLYGON ((101.34013 14.40229, 101.34177 14.402...  \n",
       "0   POLYGON ((101.34015 14.40680, 101.34181 14.406...  \n",
       "0   POLYGON ((101.34017 14.41132, 101.34186 14.411...  \n",
       "..                                                ...  \n",
       "0   POLYGON ((101.40225 14.42877, 101.40372 14.428...  \n",
       "0   POLYGON ((101.40230 14.43328, 101.40383 14.433...  \n",
       "0   POLYGON ((101.40235 14.43780, 101.40394 14.437...  \n",
       "0   POLYGON ((101.40240 14.44232, 101.40405 14.442...  \n",
       "0   POLYGON ((101.40245 14.44683, 101.40410 14.446...  \n",
       "\n",
       "[364 rows x 5 columns]"
      ]
     },
     "execution_count": 360,
     "metadata": {},
     "output_type": "execute_result"
    }
   ],
   "source": [
    "ddf.compute()"
   ]
  },
  {
   "cell_type": "code",
   "execution_count": 5,
   "id": "db89e6c2-e6fe-4958-ac19-1d90a8fa467f",
   "metadata": {},
   "outputs": [],
   "source": [
    "### get all bound\n",
    "path =\"/gpfs/data1/vclgp/xiongl/ProjectIS2CalVal/data/bounds/africa_drc_ghent_field_32634*\"\n",
    "files = glob.glob(path)"
   ]
  },
  {
   "cell_type": "code",
   "execution_count": 6,
   "id": "81daafa4-8341-473f-87a7-8f2a3a3607fd",
   "metadata": {},
   "outputs": [
    {
     "data": {
      "text/plain": [
       "339"
      ]
     },
     "execution_count": 6,
     "metadata": {},
     "output_type": "execute_result"
    }
   ],
   "source": [
    "len(files)"
   ]
  },
  {
   "cell_type": "code",
   "execution_count": 7,
   "id": "ee47757a-11f0-4603-b5ba-57c06c228746",
   "metadata": {},
   "outputs": [
    {
     "data": {
      "text/plain": [
       "'/gpfs/data1/vclgp/xiongl/ProjectIS2CalVal/data/bounds/africa_drc_ghent_field_32634_Plot171_000029.txt'"
      ]
     },
     "execution_count": 7,
     "metadata": {},
     "output_type": "execute_result"
    }
   ],
   "source": [
    "files[1]"
   ]
  },
  {
   "cell_type": "code",
   "execution_count": 68,
   "id": "ae02d5fd-7a5b-4c55-acd9-deb755b0e09c",
   "metadata": {},
   "outputs": [
    {
     "data": {
      "text/plain": [
       "9"
      ]
     },
     "execution_count": 68,
     "metadata": {},
     "output_type": "execute_result"
    }
   ],
   "source": [
    "files = glob.glob(f'../result/out_bounds/africa_drc_ghent_field_32734_*.parquet')\n",
    "files = glob.glob(f'/gpfs/data1/vclgp/data/gedi/imported/europe/froscham/LAZ_ground/*.laz')\n",
    "len(files)"
   ]
  },
  {
   "cell_type": "code",
   "execution_count": 69,
   "id": "8752ee22-41ed-4cce-b46e-765f874884d4",
   "metadata": {},
   "outputs": [
    {
     "name": "stdout",
     "output_type": "stream",
     "text": [
      "/gpfs/data1/vclgp/data/gedi/imported/europe/froscham/LAZ_ground/33324000_5311000.laz\n",
      "/gpfs/data1/vclgp/data/gedi/imported/europe/froscham/LAZ_ground/33324000_5312000.laz\n",
      "/gpfs/data1/vclgp/data/gedi/imported/europe/froscham/LAZ_ground/33326000_5313000.laz\n",
      "/gpfs/data1/vclgp/data/gedi/imported/europe/froscham/LAZ_ground/33326000_5312000.laz\n",
      "/gpfs/data1/vclgp/data/gedi/imported/europe/froscham/LAZ_ground/33325000_5311000.laz\n",
      "/gpfs/data1/vclgp/data/gedi/imported/europe/froscham/LAZ_ground/33326000_5311000.laz\n",
      "/gpfs/data1/vclgp/data/gedi/imported/europe/froscham/LAZ_ground/33325000_5312000.laz\n",
      "/gpfs/data1/vclgp/data/gedi/imported/europe/froscham/LAZ_ground/33324000_5313000.laz\n",
      "/gpfs/data1/vclgp/data/gedi/imported/europe/froscham/LAZ_ground/33325000_5313000.laz\n"
     ]
    }
   ],
   "source": [
    "las_out = '/gpfs/data1/vclgp/xiongl/ProjectIS2CalVal/data/las/europe/froscham'\n",
    "for f in files:\n",
    "     print(f)\n",
    "     os.system(f'las2las -i {f} -odir {las_out} -olas')"
   ]
  },
  {
   "cell_type": "code",
   "execution_count": 53,
   "id": "4434a504-9ced-4335-bcaa-1e611baed401",
   "metadata": {},
   "outputs": [],
   "source": [
    "res = []\n",
    "for f in files[:100]:\n",
    "    df = gpd.read_parquet(f)\n",
    "    df['filename'] = os.path.basename(f)\n",
    "    res.append(df)"
   ]
  },
  {
   "cell_type": "code",
   "execution_count": 55,
   "id": "5e534ce7-72b1-4483-b6ce-40c3d3951d1c",
   "metadata": {},
   "outputs": [],
   "source": [
    "res_gdf = gpd.GeoDataFrame( pd.concat(res, ignore_index=True) )"
   ]
  },
  {
   "cell_type": "code",
   "execution_count": 67,
   "id": "10b94d91-40ec-4f10-9120-bd1e1ab4fcce",
   "metadata": {},
   "outputs": [
    {
     "data": {
      "text/plain": [
       "(inf, inf)"
      ]
     },
     "execution_count": 67,
     "metadata": {},
     "output_type": "execute_result"
    }
   ],
   "source": [
    "# europe_sweden_skog2019_19A009_62125_4000_25_0000000.parquet\n",
    "transformer = Transformer.from_crs(\"EPSG:32633\", \"EPSG:4326\",  always_xy=True)\n",
    "lon_min, lat_min = transformer.transform(29852516.352, 5313000)\n",
    "lat_min ,lon_min"
   ]
  },
  {
   "cell_type": "code",
   "execution_count": null,
   "id": "8169b410-c55f-4a96-9e3b-2e8c6f8edf93",
   "metadata": {},
   "outputs": [],
   "source": [
    "# list of bad laz files. \n",
    "# africa_amani_0118_0000002.parquet\n",
    "# africa_amani_0104_0000000.parquet\n",
    "# africa_amani_0140_0000000.parquet\n",
    "# africa_amani_0134_0000000.parquet\n",
    "# africa_amani_0154_0000000.parquet\n",
    "# africa_drc_ghent_field_32734_Plot136_000012.parquet\n",
    "# urope_sweden_skog2019 should be fixed. by always xy\n",
    "# europe_froscham null geomegry  seems point cloud is like a profile. \n",
    "# not include it first. "
   ]
  },
  {
   "cell_type": "code",
   "execution_count": 56,
   "id": "5d9fd8a4-ec66-478c-a1ef-8e9d3e147c85",
   "metadata": {},
   "outputs": [],
   "source": [
    "res_gdf.to_parquet('test_data/europe_sweden_skog2019_test.parquet')"
   ]
  },
  {
   "cell_type": "code",
   "execution_count": 47,
   "id": "e4e1f743-bf58-4f24-bc78-5b93a9b80e39",
   "metadata": {},
   "outputs": [
    {
     "data": {
      "text/plain": [
       "21474.83492"
      ]
     },
     "execution_count": 47,
     "metadata": {},
     "output_type": "execute_result"
    }
   ],
   "source": [
    "xmin, ymin = -12296482.57 ,-13387001.13\n",
    "xmax, ymax = 9178352.35, 9430499.53\n",
    "(xmax-xmin)*(ymax-ymin)/10000\n",
    "(xmax-xmin)/1000"
   ]
  },
  {
   "cell_type": "code",
   "execution_count": null,
   "id": "9e74a41d-e9f9-4181-ae1b-f30e0c633e4e",
   "metadata": {},
   "outputs": [],
   "source": [
    "df_bad = gpd.read_parquet('../result/out_bounds/africa_drc_ghent_field_32734_Plot136_000012.parquet')"
   ]
  },
  {
   "cell_type": "code",
   "execution_count": 84,
   "id": "30d19827-7e30-4b43-aff5-2c9ea22cd0fb",
   "metadata": {},
   "outputs": [],
   "source": [
    "# not include it first.\n",
    "BAD_LAZ_bounds=['africa_amani_0118_0000002','africa_amani_0104_0000000','africa_amani_0140_0000000','africa_amani_0134_0000000','africa_amani_0154_0000000', 'africa_drc_ghent_field_32734_Plot136_000012','europe_froscham', 'africa_jpl_wwf_germany_drc']\n",
    "def remove_bad_bounds(files): # files list \n",
    "    # Pattern to exclude from the list\n",
    "    # exclude_pattern = \"africa/jpl_wwf_germany_drc/LAZ_ground/\" # data in this site is duplicated.\n",
    "    # # Filter out files that match the exclude pattern\n",
    "    # filtered_laz_files = [file for file in laz_files if exclude_pattern not in file]\n",
    "    res = []\n",
    "    for f in files:\n",
    "        flag = 0\n",
    "        for b in BAD_LAZ_bounds:\n",
    "            if b in f: # contain bad las file. \n",
    "                flag = 1\n",
    "                break\n",
    "        if flag == 0: res.append(f)\n",
    "    return res"
   ]
  },
  {
   "cell_type": "code",
   "execution_count": 91,
   "id": "17110b5e-4844-4349-a63b-d1c9a5e5f91e",
   "metadata": {},
   "outputs": [
    {
     "name": "stdout",
     "output_type": "stream",
     "text": [
      "## processing project africa_jpl_wwf_germany_drc, 0 bounds from laz files.\n",
      "## processing project africa_jpl_wwf_germany_drc, 0 bounds from laz files.\n"
     ]
    }
   ],
   "source": [
    "region='africa'\n",
    "name = 'jpl_wwf_germany_drc'\n",
    "file_paths = glob.glob(f'../result/out_bounds/{region}_{name}_*.parquet')\n",
    "print(f'## processing project {region}_{name}, {len(file_paths)} bounds from laz files.')\n",
    "######## filter bad bounds.\n",
    "file_paths = remove_bad_bounds(file_paths) # files list\n",
    "print(f'## processing project {region}_{name}, {len(file_paths)} bounds from laz files.')"
   ]
  },
  {
   "cell_type": "code",
   "execution_count": 93,
   "id": "98faf727-1e9c-4c08-8711-5554f73d0722",
   "metadata": {},
   "outputs": [
    {
     "name": "stdout",
     "output_type": "stream",
     "text": [
      "##############resul############## \n",
      "\n"
     ]
    }
   ],
   "source": [
    " print('##############resul############## \\n')"
   ]
  },
  {
   "cell_type": "code",
   "execution_count": 101,
   "id": "b92e99e2-3119-420e-936a-99decffc0c0b",
   "metadata": {},
   "outputs": [
    {
     "data": {
      "text/plain": [
       "(608446.3441021095, 8562651.374399262)"
      ]
     },
     "execution_count": 101,
     "metadata": {},
     "output_type": "execute_result"
    }
   ],
   "source": [
    "transformer = Transformer.from_crs(4326, 28352, always_xy = True) # projected coordinates. \n",
    "# Now you can use this transformer to transform coordinates\n",
    "# For example:\n",
    "lat, lon = -13, 130\n",
    "e, n = transformer.transform(lon, lat)\n",
    "e, n"
   ]
  },
  {
   "cell_type": "code",
   "execution_count": 104,
   "id": "1d5783f1-2f64-4b05-bb8f-f3fe997b9072",
   "metadata": {},
   "outputs": [
    {
     "data": {
      "text/plain": [
       "range(0, 10)"
      ]
     },
     "execution_count": 104,
     "metadata": {},
     "output_type": "execute_result"
    }
   ],
   "source": [
    "range(10)"
   ]
  },
  {
   "cell_type": "code",
   "execution_count": 1,
   "id": "d8efca0a-9995-4555-a480-c96b8269320c",
   "metadata": {},
   "outputs": [],
   "source": [
    "##########newzealand_forestservice\n",
    "import geopandas as gpd\n",
    "ALS_SITES = \"/gpfs/data1/vclgp/xiongl/ProjectIS2CalVal/data/all_sites_20231218.parquet\"\n",
    "sites = gpd.read_parquet(ALS_SITES)"
   ]
  },
  {
   "cell_type": "code",
   "execution_count": 12,
   "id": "2349c554-c7d9-4762-bf8c-ef63fbe3e7ac",
   "metadata": {},
   "outputs": [
    {
     "name": "stderr",
     "output_type": "stream",
     "text": [
      "/tmp/ipykernel_165002/3330820878.py:3: FutureWarning: Currently, index_parts defaults to True, but in the future, it will default to False to be consistent with Pandas. Use `index_parts=True` to keep the current behavior and True/False to silence the warning.\n",
      "  nf.explode().to_parquet('test_data/newzealand.parquet')\n"
     ]
    }
   ],
   "source": [
    "# filter\n",
    "nf = sites[sites['name'] == 'newzealand_forestservice']\n",
    "nf.explode(index_parts=True).to_parquet('test_data/newzealand.parquet')"
   ]
  },
  {
   "cell_type": "code",
   "execution_count": 15,
   "id": "2bd59d62-96bd-44c3-9eb7-5b9a182ffb33",
   "metadata": {},
   "outputs": [],
   "source": [
    "jr = sites[sites['name'] == 'jrsrp_ilcp2015_wholeq5']\n",
    "jr.explode(index_parts=True).to_parquet('test_data/jrsrp.parquet')"
   ]
  },
  {
   "cell_type": "code",
   "execution_count": 32,
   "id": "804e9833-33ad-4469-af0f-9bd4029b0141",
   "metadata": {},
   "outputs": [
    {
     "data": {
      "text/plain": [
       "<Axes: >"
      ]
     },
     "execution_count": 32,
     "metadata": {},
     "output_type": "execute_result"
    },
    {
     "data": {
      "image/png": "[encoded data removed]",
      "text/plain": [
       "<Figure size 640x480 with 1 Axes>"
      ]
     },
     "metadata": {},
     "output_type": "display_data"
    }
   ],
   "source": [
    "# usa_gliht_32606ak2014\n",
    "gliht = sites[sites['name'] == 'gliht_32606ak2014']\n",
    "gliht.plot()"
   ]
  },
  {
   "cell_type": "code",
   "execution_count": 69,
   "id": "224de529-176d-4470-8332-cdefd658f1cf",
   "metadata": {},
   "outputs": [
    {
     "name": "stdout",
     "output_type": "stream",
     "text": [
      "          minx       miny       maxx       maxy\n",
      "379  12.640819  55.478157  24.203402  66.429044\n"
     ]
    },
    {
     "data": {
      "image/png": "[encoded data removed]",
      "text/plain": [
       "<Figure size 640x480 with 1 Axes>"
      ]
     },
     "metadata": {},
     "output_type": "display_data"
    }
   ],
   "source": [
    "# europe_sweden_skog2018\n",
    "skog= sites[sites['name'] == 'sweden_skog2018']\n",
    "print(skog.bounds)\n",
    "skog.plot()\n",
    "skog.to_parquet('/gpfs/data1/vclgp/xiongl/ProjectIS2CalVal/result/test_skog/skog.parquet')"
   ]
  },
  {
   "cell_type": "code",
   "execution_count": 35,
   "id": "cd1edbec-a567-4e11-a295-7dfeed22c136",
   "metadata": {},
   "outputs": [
    {
     "name": "stdout",
     "output_type": "stream",
     "text": [
      "           region              name       area_ha   epsg  \\\n",
      "396  southamerica  inpe_brazil31978  24637.458627  31978   \n",
      "\n",
      "                                              geometry  \n",
      "396  MULTIPOLYGON (((-72.89868 -8.27697, -72.89868 ...  \n"
     ]
    },
    {
     "data": {
      "image/png": "[encoded data removed]",
      "text/plain": [
       "<Figure size 640x480 with 1 Axes>"
      ]
     },
     "metadata": {},
     "output_type": "display_data"
    }
   ],
   "source": [
    "# inpe_brazil31978\n",
    "inpe = sites[sites['name'] == 'inpe_brazil31978']\n",
    "print(inpe)\n",
    "inpe.plot()\n",
    "inpe.to_parquet('test_data/inpe.parquet')"
   ]
  },
  {
   "cell_type": "code",
   "execution_count": 36,
   "id": "eae01a1c-2652-4fbe-b9a2-3d49a1550afe",
   "metadata": {},
   "outputs": [],
   "source": [
    "# check is2 points in inpe project \n",
    "IS2_20M_FILE = '/gpfs/data1/vclgp/xiongl/ProjectIS2CalVal/result/is2_20m_11272023.parquet'\n",
    "gdf_is2 = gpd.read_parquet(IS2_20M_FILE) # 18550387 IS2 20 m segment points\n"
   ]
  },
  {
   "cell_type": "code",
   "execution_count": 41,
   "id": "a1545854-0b30-4184-b454-5f76241a20bf",
   "metadata": {},
   "outputs": [
    {
     "data": {
      "text/html": [
       "<div>\n",
       "<style scoped>\n",
       "    .dataframe tbody tr th:only-of-type {\n",
       "        vertical-align: middle;\n",
       "    }\n",
       "\n",
       "    .dataframe tbody tr th {\n",
       "        vertical-align: top;\n",
       "    }\n",
       "\n",
       "    .dataframe thead th {\n",
       "        text-align: right;\n",
       "    }\n",
       "</style>\n",
       "<table border=\"1\" class=\"dataframe\">\n",
       "  <thead>\n",
       "    <tr style=\"text-align: right;\">\n",
       "      <th></th>\n",
       "      <th>region</th>\n",
       "      <th>name</th>\n",
       "      <th>area_ha</th>\n",
       "      <th>epsg</th>\n",
       "      <th>geometry</th>\n",
       "    </tr>\n",
       "  </thead>\n",
       "  <tbody>\n",
       "    <tr>\n",
       "      <th>396</th>\n",
       "      <td>southamerica</td>\n",
       "      <td>inpe_brazil31978</td>\n",
       "      <td>24637.458627</td>\n",
       "      <td>31978</td>\n",
       "      <td>MULTIPOLYGON (((-72.89868 -8.27697, -72.89868 ...</td>\n",
       "    </tr>\n",
       "  </tbody>\n",
       "</table>\n",
       "</div>"
      ],
      "text/plain": [
       "           region              name       area_ha   epsg  \\\n",
       "396  southamerica  inpe_brazil31978  24637.458627  31978   \n",
       "\n",
       "                                              geometry  \n",
       "396  MULTIPOLYGON (((-72.89868 -8.27697, -72.89868 ...  "
      ]
     },
     "execution_count": 41,
     "metadata": {},
     "output_type": "execute_result"
    }
   ],
   "source": [
    "# test inpe project in is2.\n",
    "# data/inpe.gpkg\n",
    "#ih3_extract_shots -o inpe -r /gpfs/data1/vclgp/xiongl/ProjectIS2CalVal/data/inpe.gpkg --atl08 land_segments/canopy/h_canopy_20m --geo -q_20m 'land_segments/canopy/h_canopy_20m >= 0.5 and land_segments/canopy/h_canopy_20m < 200' -t0 2019-04-01 -t1 2023-04-07   --merge"
   ]
  },
  {
   "cell_type": "code",
   "execution_count": 37,
   "id": "552d4e3a-9f8e-43d4-a5ee-579ace727a11",
   "metadata": {},
   "outputs": [],
   "source": [
    "# query \n",
    "als_index = gdf_is2.sindex.query(inpe.iloc[0]['geometry']) # super fast!!!!! # but only boundary box. \n",
    "is2_in_als = gdf_is2.loc[als_index]"
   ]
  },
  {
   "cell_type": "code",
   "execution_count": 48,
   "id": "e1b89164-548d-42f4-8b2d-9392e236d04f",
   "metadata": {},
   "outputs": [
    {
     "data": {
      "text/plain": [
       "[-73.23272289610806,\n",
       " -8.948713593140173,\n",
       " -71.98557605685697,\n",
       " -5.716993994437047]"
      ]
     },
     "execution_count": 48,
     "metadata": {},
     "output_type": "execute_result"
    }
   ],
   "source": [
    "list(inpe.bounds.iloc[0])"
   ]
  },
  {
   "cell_type": "code",
   "execution_count": 49,
   "id": "9a1378ca-3c14-4ace-9f75-4b2d2a78841e",
   "metadata": {},
   "outputs": [],
   "source": [
    "# Clip gdf_is2 by the bounds of another_gdf\n",
    "clipped_gdf = gpd.clip(gdf_is2, list(inpe.bounds.iloc[0]))"
   ]
  },
  {
   "cell_type": "code",
   "execution_count": 51,
   "id": "75d243ee-3dc0-4511-9ec8-b9579b9d5c63",
   "metadata": {},
   "outputs": [
    {
     "data": {
      "text/plain": [
       "0"
      ]
     },
     "execution_count": 51,
     "metadata": {},
     "output_type": "execute_result"
    }
   ],
   "source": [
    "len(clipped_gdf)"
   ]
  },
  {
   "cell_type": "code",
   "execution_count": 21,
   "id": "2843feb9-efa5-4503-ae05-492c54aa834d",
   "metadata": {},
   "outputs": [
    {
     "data": {
      "text/html": [
       "<div>\n",
       "<style scoped>\n",
       "    .dataframe tbody tr th:only-of-type {\n",
       "        vertical-align: middle;\n",
       "    }\n",
       "\n",
       "    .dataframe tbody tr th {\n",
       "        vertical-align: top;\n",
       "    }\n",
       "\n",
       "    .dataframe thead th {\n",
       "        text-align: right;\n",
       "    }\n",
       "</style>\n",
       "<table border=\"1\" class=\"dataframe\">\n",
       "  <thead>\n",
       "    <tr style=\"text-align: right;\">\n",
       "      <th></th>\n",
       "      <th></th>\n",
       "      <th>minx</th>\n",
       "      <th>miny</th>\n",
       "      <th>maxx</th>\n",
       "      <th>maxy</th>\n",
       "    </tr>\n",
       "  </thead>\n",
       "  <tbody>\n",
       "    <tr>\n",
       "      <th>389</th>\n",
       "      <th>0</th>\n",
       "      <td>146.252899</td>\n",
       "      <td>-26.418385</td>\n",
       "      <td>146.267209</td>\n",
       "      <td>-26.404891</td>\n",
       "    </tr>\n",
       "  </tbody>\n",
       "</table>\n",
       "</div>"
      ],
      "text/plain": [
       "             minx       miny        maxx       maxy\n",
       "389 0  146.252899 -26.418385  146.267209 -26.404891"
      ]
     },
     "execution_count": 21,
     "metadata": {},
     "output_type": "execute_result"
    }
   ],
   "source": [
    "df = jr.explode(index_parts=True)\n",
    "df.bounds[df.bounds['minx'] < 146.3 ]"
   ]
  },
  {
   "cell_type": "code",
   "execution_count": 56,
   "id": "0490c916-3b14-4a48-9018-ef584adb4864",
   "metadata": {},
   "outputs": [],
   "source": [
    "import glob\n",
    "files = glob.glob('../result/out_bounds/australia_jrsrp_ilcp2015_wholeq5*.parquet')"
   ]
  },
  {
   "cell_type": "code",
   "execution_count": 55,
   "id": "27c1cf71-809d-4e49-a9bc-6ac146f26231",
   "metadata": {},
   "outputs": [
    {
     "data": {
      "text/plain": [
       "'/gpfs/data1/vclgp/xiongl/ProjectIS2CalVal/is2_calval'"
      ]
     },
     "execution_count": 55,
     "metadata": {},
     "output_type": "execute_result"
    }
   ],
   "source": [
    "import os\n",
    "os.getcwd()"
   ]
  },
  {
   "cell_type": "code",
   "execution_count": 57,
   "id": "08dd0dd6-1920-42e7-9a1b-cc762c09ea39",
   "metadata": {},
   "outputs": [
    {
     "data": {
      "text/plain": [
       "'../result/out_bounds/australia_jrsrp_ilcp2015_wholeq5_0819Q5_L11__560150_7161000_0000000.parquet'"
      ]
     },
     "execution_count": 57,
     "metadata": {},
     "output_type": "execute_result"
    }
   ],
   "source": [
    "files[1]"
   ]
  },
  {
   "cell_type": "code",
   "execution_count": 2,
   "id": "4116a420-7dc4-41f1-8dc1-240d51654f01",
   "metadata": {},
   "outputs": [
    {
     "data": {
      "text/html": [
       "<div>\n",
       "<style scoped>\n",
       "    .dataframe tbody tr th:only-of-type {\n",
       "        vertical-align: middle;\n",
       "    }\n",
       "\n",
       "    .dataframe tbody tr th {\n",
       "        vertical-align: top;\n",
       "    }\n",
       "\n",
       "    .dataframe thead th {\n",
       "        text-align: right;\n",
       "    }\n",
       "</style>\n",
       "<table border=\"1\" class=\"dataframe\">\n",
       "  <thead>\n",
       "    <tr style=\"text-align: right;\">\n",
       "      <th></th>\n",
       "      <th>region</th>\n",
       "      <th>name</th>\n",
       "      <th>area_ha</th>\n",
       "      <th>epsg</th>\n",
       "      <th>geometry</th>\n",
       "    </tr>\n",
       "  </thead>\n",
       "  <tbody>\n",
       "    <tr>\n",
       "      <th>0</th>\n",
       "      <td>usa</td>\n",
       "      <td>usda_me</td>\n",
       "      <td>562710.549007</td>\n",
       "      <td>26919</td>\n",
       "      <td>MULTIPOLYGON (((-70.48145 45.36351, -70.48145 ...</td>\n",
       "    </tr>\n",
       "    <tr>\n",
       "      <th>1</th>\n",
       "      <td>usa</td>\n",
       "      <td>plumasnf_20180707</td>\n",
       "      <td>861751.014503</td>\n",
       "      <td>3310</td>\n",
       "      <td>MULTIPOLYGON (((-121.56314 39.67990, -121.5631...</td>\n",
       "    </tr>\n",
       "    <tr>\n",
       "      <th>2</th>\n",
       "      <td>australia</td>\n",
       "      <td>tern_robson_whole</td>\n",
       "      <td>3428.721642</td>\n",
       "      <td>28355</td>\n",
       "      <td>POLYGON ((145.62333 -17.12994, 145.61720 -17.1...</td>\n",
       "    </tr>\n",
       "    <tr>\n",
       "      <th>3</th>\n",
       "      <td>seasia</td>\n",
       "      <td>jpl_borneo_013</td>\n",
       "      <td>3829.727945</td>\n",
       "      <td>32750</td>\n",
       "      <td>POLYGON ((114.46872 -2.15843, 114.46872 -2.158...</td>\n",
       "    </tr>\n",
       "    <tr>\n",
       "      <th>4</th>\n",
       "      <td>usa</td>\n",
       "      <td>stri_serc_Oct2011</td>\n",
       "      <td>1263.062788</td>\n",
       "      <td>32618</td>\n",
       "      <td>MULTIPOLYGON (((-76.56098 38.87436, -76.56098 ...</td>\n",
       "    </tr>\n",
       "  </tbody>\n",
       "</table>\n",
       "</div>"
      ],
      "text/plain": [
       "      region               name        area_ha   epsg  \\\n",
       "0        usa            usda_me  562710.549007  26919   \n",
       "1        usa  plumasnf_20180707  861751.014503   3310   \n",
       "2  australia  tern_robson_whole    3428.721642  28355   \n",
       "3     seasia     jpl_borneo_013    3829.727945  32750   \n",
       "4        usa  stri_serc_Oct2011    1263.062788  32618   \n",
       "\n",
       "                                            geometry  \n",
       "0  MULTIPOLYGON (((-70.48145 45.36351, -70.48145 ...  \n",
       "1  MULTIPOLYGON (((-121.56314 39.67990, -121.5631...  \n",
       "2  POLYGON ((145.62333 -17.12994, 145.61720 -17.1...  \n",
       "3  POLYGON ((114.46872 -2.15843, 114.46872 -2.158...  \n",
       "4  MULTIPOLYGON (((-76.56098 38.87436, -76.56098 ...  "
      ]
     },
     "execution_count": 2,
     "metadata": {},
     "output_type": "execute_result"
    }
   ],
   "source": [
    "# read als site\n",
    "als = gpd.read_parquet('/gpfs/data1/vclgp/xiongl/ProjectIS2CalVal/data/all_sites_20231218.parquet')\n",
    "als.head()"
   ]
  },
  {
   "cell_type": "code",
   "execution_count": 3,
   "id": "405a2aa6-99e5-4999-8a93-caf908fd70a5",
   "metadata": {},
   "outputs": [],
   "source": [
    "validsites = ['amani','csir_agincourt', 'csir_dnyala', 'csir_ireagh', 'csir_justicia', 'csir_venetia', 'csir_welverdient', 'drc_ghent_field_32635', \n",
    "               'drc_ghent_field_32733', 'drc_ghent_field_32734', 'gsfc_mozambique', 'jpl_lope', 'jpl_rabi', 'tanzania_wwf_germany', 'khaoyai_thailand', \n",
    "               'chowilla', 'credo', 'karawatha', 'litchfield', 'rushworth_forests', 'tern_alice_mulga', 'tern_robson_whole', 'costarica_laselva2019', \n",
    "               'skidmore_bayerischer', 'zofin_180607', 'spain_exts1', 'spain_exts2', 'spain_exts3', 'spain_exts4', 'spain_leonposada', 'spain_leon1', \n",
    "               'spain_leon2', 'spain_leon3', 'jpl_borneo_004', 'jpl_borneo_013', 'jpl_borneo_040', 'jpl_borneo_119', 'jpl_borneo_144', 'chave_paracou', \n",
    "               'embrapa_brazil_2020_and_a01', 'embrapa_brazil_2020_bon_a01', 'embrapa_brazil_2020_cau_a01', 'embrapa_brazil_2020_duc_a01', \n",
    "               'embrapa_brazil_2020_hum_a01', 'embrapa_brazil_2020_par_a01', 'embrapa_brazil_2020_rib_a01', 'embrapa_brazil_2020_tal_a01',\n",
    "               'embrapa_brazil_2020_tan_a01', 'embrapa_brazil_2020_tap_a01', 'embrapa_brazil_2020_tap_a04', 'walkerfire_20191007', \n",
    "               'neon_abby2018', 'neon_abby2019', 'neon_abby2021', 'neon_bart2018', 'neon_bart2019', 'neon_blan2019', 'neon_blan2021', \n",
    "               'neon_clbj2018', 'neon_clbj2019', 'neon_clbj2021', 'neon_clbj2021', 'neon_dela2018', 'neon_dela2019', 'neon_dela2021', \n",
    "               'neon_dsny2018', 'neon_dsny2021', 'neon_grsm2018', 'neon_grsm2021', 'neon_guan2018', 'neon_harv2018', 'neon_harv2019', \n",
    "               'neon_jerc2019', 'neon_jerc2021', 'neon_jorn2018', 'neon_jorn2019', 'neon_jorn2021', 'neon_konz2019', 'neon_konz2020', \n",
    "               'neon_leno2018', 'neon_leno2019', 'neon_leno2021', 'neon_mlbs2018', 'neon_mlbs2021', 'neon_moab2018', 'neon_moab2021', \n",
    "               'neon_niwo2019', 'neon_niwo2020', 'neon_nogp2021', 'neon_onaq2019', 'neon_onaq2021', 'neon_osbs2018', 'neon_osbs2019', \n",
    "               'neon_osbs2021', 'neon_puum2020', 'neon_rmnp2018', 'neon_rmnp2020', 'neon_scbi2019', 'neon_scbi2021', 'neon_serc2019', \n",
    "               'neon_serc2021', 'neon_sjer2019', 'neon_soap2018', 'neon_soap2019', 'neon_soap2021', 'neon_srer2019', 'neon_srer2021', \n",
    "               'neon_stei2019', 'neon_stei2020', 'neon_ster2021', 'neon_tall2018', 'neon_tall2019', 'neon_tall2021', 'neon_teak2021', \n",
    "               'neon_ukfs2018', 'neon_ukfs2019', 'neon_ukfs2020', 'neon_unde2019', 'neon_unde2020', 'neon_wood2021', 'neon_wref2019', \n",
    "               'neon_wref2021', 'neon_yell2018', 'neon_yell2019', 'neon_yell2020', \n",
    "               'neon_blan2022', 'neon_clbj2022', 'neon_grsm2022', 'neon_moab2022', 'neon_onaq2022', 'neon_rmnp2022', 'neon_serc2022', \n",
    "               'neon_stei2022', 'neon_steicheq2022', 'neon_ster2022', 'neon_unde2022', 'inpe_brazil31983', 'inpe_brazil31981', \n",
    "               'inpe_brazil31979', 'inpe_brazil31976', 'inpe_brazil31975', 'inpe_brazil31973', 'inpe_brazil31974', 'inpe_brazil31978']"
   ]
  },
  {
   "cell_type": "code",
   "execution_count": null,
   "id": "d8ace8bb-1aba-4b06-83f4-70646f11e599",
   "metadata": {},
   "outputs": [],
   "source": [
    "# Iterate through rows\n",
    "for index, row in als.iterrows():\n",
    "    "
   ]
  }
 ],
 "metadata": {
  "kernelspec": {
   "display_name": "Python 3 (ipykernel)",
   "language": "python",
   "name": "python3"
  },
  "language_info": {
   "codemirror_mode": {
    "name": "ipython",
    "version": 3
   },
   "file_extension": ".py",
   "mimetype": "text/x-python",
   "name": "python",
   "nbconvert_exporter": "python",
   "pygments_lexer": "ipython3",
   "version": "3.11.4"
  }
 },
 "nbformat": 4,
 "nbformat_minor": 5
}
