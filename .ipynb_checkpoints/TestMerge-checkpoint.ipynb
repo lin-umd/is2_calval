{
 "cells": [
  {
   "cell_type": "code",
   "execution_count": 1,
   "id": "dd6a201e-b7e2-4d9b-8218-cc429e97207d",
   "metadata": {},
   "outputs": [],
   "source": [
    "import glob\n",
    "import geopandas as gpd\n",
    "import pandas as pd"
   ]
  },
  {
   "cell_type": "code",
   "execution_count": null,
   "id": "b9986f65-e8a6-437d-b2f2-75e578869fcd",
   "metadata": {},
   "outputs": [
    {
     "name": "stdout",
     "output_type": "stream",
     "text": [
      "## -- output to a single file\n"
     ]
    }
   ],
   "source": [
    "print('## -- output to a single file')\n",
    "#opath = re.sub('/*$', '', opath) ## remove last '/'\n",
    "# dd, dkg\n",
    "opath = '/gpfs/data1/vclgp/xiongl/ProjectIS2CalVal/result/is2_20m_cal_val_12262023'\n",
    "files_list = glob.glob(opath + \"/*.parquet\")\n",
    "# simple loop version to merge\n",
    "res_df = []\n",
    "for f in files_list:\n",
    "  df = gpd.read_parquet(f)\n",
    "  res_df.append(df)\n",
    "res_df = pd.concat(res_df, ignore_index=False) # keep original index\n",
    "res_df = gpd.GeoDataFrame(res_df, geometry=res_df['geometry'])\n",
    "#out_f = opath + '.parquet'\n",
    "arg='parquet'\n",
    "out_f = f'{opath}.{arg}'\n",
    "# out path \n",
    "res_df.to_parquet(out_f)"
   ]
  },
  {
   "cell_type": "code",
   "execution_count": null,
   "id": "6dfac5ad-8438-4525-90da-a249051e1d2e",
   "metadata": {},
   "outputs": [],
   "source": []
  }
 ],
 "metadata": {
  "kernelspec": {
   "display_name": "Python 3 (ipykernel)",
   "language": "python",
   "name": "python3"
  },
  "language_info": {
   "codemirror_mode": {
    "name": "ipython",
    "version": 3
   },
   "file_extension": ".py",
   "mimetype": "text/x-python",
   "name": "python",
   "nbconvert_exporter": "python",
   "pygments_lexer": "ipython3",
   "version": "3.11.4"
  }
 },
 "nbformat": 4,
 "nbformat_minor": 5
}
