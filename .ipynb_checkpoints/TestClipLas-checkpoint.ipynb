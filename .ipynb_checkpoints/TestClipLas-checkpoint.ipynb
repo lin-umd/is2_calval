{
 "cells": [
  {
   "cell_type": "code",
   "execution_count": 1,
   "id": "119ebf89-2486-4d97-8781-27985e4b7383",
   "metadata": {},
   "outputs": [
    {
     "name": "stderr",
     "output_type": "stream",
     "text": [
      "The legacy packages maptools, rgdal, and rgeos, underpinning the sp package,\n",
      "which was just loaded, will retire in October 2023.\n",
      "Please refer to R-spatial evolution reports for details, especially\n",
      "https://r-spatial.org/r/2023/05/15/evolution4.html.\n",
      "It may be desirable to make the sf package available;\n",
      "package maintainers should consider adding sf to Suggests:.\n",
      "The sp package is now running under evolution status 2\n",
      "     (status 2 uses the sf package in place of rgdal)\n",
      "\n"
     ]
    }
   ],
   "source": [
    "library(\"lidR\")"
   ]
  },
  {
   "cell_type": "code",
   "execution_count": 4,
   "id": "bd38f330-feb2-4a74-b753-5c5a3b62c5b4",
   "metadata": {},
   "outputs": [],
   "source": [
    "las <- readLAS('/gpfs/data1/vclgp/xiongl/ProjectIS2CalVal/data/las/usa/neon_wref2021/NEON_D16_WREF_DP1_L076-1_2021072415_unclassified_point_cloud_0000004.las')"
   ]
  },
  {
   "cell_type": "code",
   "execution_count": 5,
   "id": "ac3d52a5-4478-4202-a98f-34f64982928d",
   "metadata": {},
   "outputs": [
    {
     "name": "stdout",
     "output_type": "stream",
     "text": [
      "class        : LAS (v1.3 format 1)\n",
      "memory       : 391.8 Mb \n",
      "extent       : 570656.4, 571584.3, 5075616, 5076948 (xmin, xmax, ymin, ymax)\n",
      "coord. ref.  : WGS 84 / UTM zone 10N \n",
      "area         : 0.99 km²\n",
      "points       : 6.85 million points\n",
      "density      : 6.92 points/m²\n",
      "density      : 3.87 pulses/m²\n"
     ]
    }
   ],
   "source": [
    "print(las)"
   ]
  },
  {
   "cell_type": "code",
   "execution_count": 10,
   "id": "ae7e174c-0441-4d8a-aeed-790aa2adebe1",
   "metadata": {},
   "outputs": [
    {
     "ename": "ERROR",
     "evalue": "Error: `dsn` must point to a source, not an empty string.\n",
     "output_type": "error",
     "traceback": [
      "Error: `dsn` must point to a source, not an empty string.\nTraceback:\n",
      "1. sf::st_read(f, quiet = TRUE)",
      "2. st_read.character(f, quiet = TRUE)",
      "3. stop(\"`dsn` must point to a source, not an empty string.\", call. = FALSE)"
     ]
    }
   ],
   "source": [
    "# Extract all the polygons from a shapefile\n",
    "f <- system.file(\"test_data/roi/\", \"roi.shp\", package = \"lidR\")\n",
    "polys <- sf::st_read(f, quiet = TRUE)\n",
    "#subset3 <- clip_roi(las, lakes)"
   ]
  },
  {
   "cell_type": "code",
   "execution_count": null,
   "id": "a04ba955-d82c-4a32-81be-54fc557c8101",
   "metadata": {},
   "outputs": [],
   "source": []
  }
 ],
 "metadata": {
  "kernelspec": {
   "display_name": "R",
   "language": "R",
   "name": "ir"
  },
  "language_info": {
   "codemirror_mode": "r",
   "file_extension": ".r",
   "mimetype": "text/x-r-source",
   "name": "R",
   "pygments_lexer": "r",
   "version": "4.3.1"
  }
 },
 "nbformat": 4,
 "nbformat_minor": 5
}
